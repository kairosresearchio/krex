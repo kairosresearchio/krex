{
 "cells": [
  {
   "cell_type": "code",
   "execution_count": null,
   "id": "6b22ad57",
   "metadata": {},
   "outputs": [],
   "source": [
    "import krex"
   ]
  },
  {
   "cell_type": "code",
   "execution_count": null,
   "id": "6a86709f",
   "metadata": {},
   "outputs": [],
   "source": [
    "GATEIO_APIKEY = \"911b143c2d3465b4d9e37db412c0885e\"\n",
    "GATEIO_APISECRET = \"090fd3ec840f2a05f2a5e07c3fad19008e5c4b99f9c951baf1fa9689e6f7d0d6\"\n",
    "\n",
    "client = krex.gateio(\n",
    "    api_key=GATEIO_APIKEY,\n",
    "    api_secret=GATEIO_APISECRET,\n",
    ")"
   ]
  },
  {
   "cell_type": "markdown",
   "id": "82dcd340",
   "metadata": {},
   "source": [
    "## trade\n"
   ]
  },
  {
   "cell_type": "code",
   "execution_count": null,
   "id": "58611afd",
   "metadata": {},
   "outputs": [],
   "source": [
    "client.get_futures_auto_deleveraging_history(\n",
    "    product_symbol=\"BTC-USDT-SWAP\",\n",
    ")"
   ]
  }
 ],
 "metadata": {
  "language_info": {
   "name": "python"
  }
 },
 "nbformat": 4,
 "nbformat_minor": 5
}
