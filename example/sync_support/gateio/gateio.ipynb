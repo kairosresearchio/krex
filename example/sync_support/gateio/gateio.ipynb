{
 "cells": [
  {
   "cell_type": "code",
   "execution_count": null,
   "id": "6b22ad57",
   "metadata": {},
   "outputs": [],
   "source": [
    "import nest_asyncio\n",
    "from krex.gateio.client import Client\n",
    "\n",
    "nest_asyncio.apply()"
   ]
  },
  {
   "cell_type": "code",
   "execution_count": null,
   "id": "6a86709f",
   "metadata": {},
   "outputs": [],
   "source": [
    "# GATEIO_APIKEY = \"911b143c2d3465b4d9e37db412c0885e\"\n",
    "# GATEIO_APISECRET = \"090fd3ec840f2a05f2a5e07c3fad19008e5c4b99f9c951baf1fa9689e6f7d0d6\"\n",
    "GATEIO_APIKEY = \"9dd106cff3c7837e3cbe02d4a2cf3cc7\"\n",
    "GATEIO_APISECRET = \"89a8d148a683f055ca027b97b7f8688072eaab98a122b0b981f15abdac6ccb77\"\n",
    "\n",
    "client = Client(\n",
    "    api_key=GATEIO_APIKEY,\n",
    "    api_secret=GATEIO_APISECRET,\n",
    ")"
   ]
  },
  {
   "cell_type": "markdown",
   "id": "82dcd340",
   "metadata": {},
   "source": [
    "## trade\n"
   ]
  },
  {
   "cell_type": "code",
   "execution_count": null,
   "id": "c3ded5cb",
   "metadata": {},
   "outputs": [],
   "source": [
    "client.close_position_when_crossccy_disabled(\n",
    "    product_symbol=\"BTC-USDT-SPOT\",\n",
    "    amount=\"0.00005\",\n",
    "    price=\"91000\",\n",
    ")"
   ]
  },
  {
   "cell_type": "code",
   "execution_count": null,
   "id": "58611afd",
   "metadata": {},
   "outputs": [],
   "source": [
    "client.get_futures_auto_deleveraging_history(\n",
    "    product_symbol=\"BTC-USDT-SWAP\",\n",
    ")"
   ]
  }
 ],
 "metadata": {
  "language_info": {
   "name": "python"
  }
 },
 "nbformat": 4,
 "nbformat_minor": 5
}
