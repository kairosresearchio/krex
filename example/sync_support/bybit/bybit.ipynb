{
 "cells": [
  {
   "cell_type": "code",
   "execution_count": 1,
   "metadata": {},
   "outputs": [],
   "source": [
    "import nest_asyncio\n",
    "from krex.bybit.client import Client\n",
    "\n",
    "nest_asyncio.apply()"
   ]
  },
  {
   "cell_type": "code",
   "execution_count": 2,
   "metadata": {},
   "outputs": [],
   "source": [
    "BYBIT_API_KEY = \"VLOpq0qMKPNWhMbKVH\"\n",
    "BYBIT_API_SECRET = \"Q3OKhzHiVSOYE2tF8ns2My4mQU7B8d5MnbOt\"\n",
    "\n",
    "client = Client(\n",
    "    api_key=BYBIT_API_KEY,\n",
    "    api_secret=BYBIT_API_SECRET,\n",
    ")"
   ]
  },
  {
   "cell_type": "markdown",
   "metadata": {},
   "source": [
    "## account http\n"
   ]
  },
  {
   "cell_type": "code",
   "execution_count": 7,
   "metadata": {},
   "outputs": [
    {
     "data": {
      "text/plain": [
       "{'retCode': 110073,\n",
       " 'retMsg': 'Set margin mode failed',\n",
       " 'result': {'reasons': [{'reasonCode': '3400100',\n",
       "    'reasonMsg': 'Asset requirements not met.'}]}}"
      ]
     },
     "execution_count": 7,
     "metadata": {},
     "output_type": "execute_result"
    }
   ],
   "source": [
    "client.set_margin_mode(\"PORTFOLIO_MARGIN\")"
   ]
  },
  {
   "cell_type": "code",
   "execution_count": null,
   "metadata": {},
   "outputs": [],
   "source": [
    "# need test\n",
    "client.repay_liability()"
   ]
  },
  {
   "cell_type": "markdown",
   "metadata": {},
   "source": [
    "## asset http\n"
   ]
  },
  {
   "cell_type": "code",
   "execution_count": 29,
   "metadata": {},
   "outputs": [
    {
     "data": {
      "text/plain": [
       "{'retCode': 131212,\n",
       " 'retMsg': 'user insufficient balance: ',\n",
       " 'result': {},\n",
       " 'retExtInfo': {},\n",
       " 'time': 1745226385484}"
      ]
     },
     "execution_count": 29,
     "metadata": {},
     "output_type": "execute_result"
    }
   ],
   "source": [
    "client.create_internal_transfer(\"USDT\", \"1\", \"UNIFIED\", \"FUND\")"
   ]
  },
  {
   "cell_type": "code",
   "execution_count": null,
   "metadata": {},
   "outputs": [],
   "source": [
    "client.withdraw()"
   ]
  },
  {
   "cell_type": "code",
   "execution_count": null,
   "metadata": {},
   "outputs": [],
   "source": [
    "client.cancel_withdrawal()"
   ]
  },
  {
   "cell_type": "code",
   "execution_count": null,
   "metadata": {},
   "outputs": [],
   "source": [
    "client.create_universal_transfer()"
   ]
  },
  {
   "cell_type": "code",
   "execution_count": null,
   "metadata": {},
   "outputs": [],
   "source": [
    "client.get_sub_deposit_records()"
   ]
  },
  {
   "cell_type": "code",
   "execution_count": null,
   "metadata": {},
   "outputs": [],
   "source": [
    "client.set_deposit_account(accountType=\"UNIFIED\")"
   ]
  },
  {
   "cell_type": "code",
   "execution_count": null,
   "metadata": {},
   "outputs": [],
   "source": [
    "client.get_sub_deposit_address()"
   ]
  },
  {
   "cell_type": "markdown",
   "metadata": {},
   "source": [
    "## position\n"
   ]
  },
  {
   "cell_type": "code",
   "execution_count": 40,
   "metadata": {},
   "outputs": [
    {
     "data": {
      "text/plain": [
       "{'retCode': 110025,\n",
       " 'retMsg': 'Position mode is not modified',\n",
       " 'result': {},\n",
       " 'retExtInfo': {},\n",
       " 'time': 1745226459372}"
      ]
     },
     "execution_count": 40,
     "metadata": {},
     "output_type": "execute_result"
    }
   ],
   "source": [
    "client.switch_position_mode(0, \"BTCUSDT\")"
   ]
  },
  {
   "cell_type": "code",
   "execution_count": null,
   "metadata": {},
   "outputs": [],
   "source": [
    "client.set_trading_stop()"
   ]
  },
  {
   "cell_type": "code",
   "execution_count": null,
   "metadata": {},
   "outputs": [],
   "source": [
    "client.set_auto_add_margin()"
   ]
  },
  {
   "cell_type": "code",
   "execution_count": null,
   "metadata": {},
   "outputs": [],
   "source": [
    "client.add_or_reduce_margin()"
   ]
  },
  {
   "cell_type": "markdown",
   "metadata": {},
   "source": [
    "## trade\n"
   ]
  },
  {
   "cell_type": "code",
   "execution_count": null,
   "metadata": {},
   "outputs": [],
   "source": [
    "client.place_market_buy_order(\n",
    "    product_symbol=\"BTC-USDT-SPOT\",\n",
    "    qty=0.01,\n",
    "    reduceOnly=False,\n",
    ")"
   ]
  },
  {
   "cell_type": "code",
   "execution_count": null,
   "metadata": {},
   "outputs": [],
   "source": [
    "client.place_market_sell_order(\n",
    "    product_symbol=\"BTC-USDT-SPOT\",\n",
    "    qty=0.01,\n",
    "    reduceOnly=False,\n",
    ")"
   ]
  },
  {
   "cell_type": "code",
   "execution_count": null,
   "metadata": {},
   "outputs": [],
   "source": [
    "client.place_limit_buy_order(\n",
    "    product_symbol=\"BTC-USDT-SPOT\",\n",
    "    qty=0.01,\n",
    "    price=\"80000\",\n",
    "    reduceOnly=False,\n",
    ")"
   ]
  },
  {
   "cell_type": "code",
   "execution_count": null,
   "metadata": {},
   "outputs": [],
   "source": [
    "client.place_limit_sell_order(\n",
    "    product_symbol=\"BTC-USDT-SPOT\",\n",
    "    qty=0.01,\n",
    "    price=\"80000\",\n",
    "    reduceOnly=False,\n",
    ")"
   ]
  },
  {
   "cell_type": "code",
   "execution_count": null,
   "metadata": {},
   "outputs": [],
   "source": [
    "client.place_post_only_limit_buy_order(\n",
    "    product_symbol=\"BTC-USDT-SPOT\",\n",
    "    qty=0.01,\n",
    "    price=\"80000\",\n",
    "    reduceOnly=False,\n",
    ")"
   ]
  },
  {
   "cell_type": "code",
   "execution_count": null,
   "metadata": {},
   "outputs": [],
   "source": [
    "client.place_post_only_limit_sell_order(\n",
    "    product_symbol=\"BTC-USDT-SPOT\",\n",
    "    qty=0.01,\n",
    "    price=\"80000\",\n",
    "    reduceOnly=False,\n",
    ")"
   ]
  },
  {
   "cell_type": "code",
   "execution_count": null,
   "metadata": {},
   "outputs": [],
   "source": [
    "client.amend_order(\n",
    "    product_symbol=\"BTC-USDT-SPOT\",\n",
    ")"
   ]
  },
  {
   "cell_type": "code",
   "execution_count": null,
   "metadata": {},
   "outputs": [],
   "source": [
    "client.cancel_order(\n",
    "    product_symbol=\"BTC-USDT-SPOT\",\n",
    ")"
   ]
  },
  {
   "cell_type": "code",
   "execution_count": null,
   "metadata": {},
   "outputs": [],
   "source": [
    "client.cancel_all_orders(\n",
    "    product_symbol=\"BTC-USDT-SPOT\",\n",
    ")"
   ]
  },
  {
   "cell_type": "code",
   "execution_count": null,
   "metadata": {},
   "outputs": [],
   "source": [
    "client.place_batch_order(\n",
    "    category=\"spot\",\n",
    "    request=[\n",
    "        {\n",
    "            \"symbol\": \"BTCUSDT\",\n",
    "            \"side\": \"Buy\",\n",
    "            \"orderType\": \"Limit\",\n",
    "            \"isLeverage\": 0,\n",
    "            \"qty\": \"0.05\",\n",
    "            \"price\": \"30000\",\n",
    "            \"timeInForce\": \"GTC\",\n",
    "            \"orderLinkId\": \"spot-btc-03\",\n",
    "        },\n",
    "        {\n",
    "            \"symbol\": \"ATOMUSDT\",\n",
    "            \"side\": \"Sell\",\n",
    "            \"orderType\": \"Limit\",\n",
    "            \"isLeverage\": 0,\n",
    "            \"qty\": \"2\",\n",
    "            \"price\": \"12\",\n",
    "            \"timeInForce\": \"GTC\",\n",
    "            \"orderLinkId\": \"spot-atom-03\",\n",
    "        },\n",
    "    ],\n",
    ")"
   ]
  },
  {
   "cell_type": "code",
   "execution_count": null,
   "metadata": {},
   "outputs": [],
   "source": [
    "client.amend_batch_order(\n",
    "    category=\"option\",\n",
    "    request=[\n",
    "        {\n",
    "            \"category\": \"option\",\n",
    "            \"symbol\": \"ETH-30DEC22-500-C\",\n",
    "            \"orderIv\": \"6.8\",\n",
    "            \"orderId\": \"b551f227-7059-4fb5-a6a6-699c04dbd2f2\",\n",
    "        },\n",
    "        {\n",
    "            \"category\": \"option\",\n",
    "            \"symbol\": \"ETH-30DEC22-700-C\",\n",
    "            \"price\": \"650\",\n",
    "            \"orderId\": \"fa6a595f-1a57-483f-b9d3-30e9c8235a52\",\n",
    "        },\n",
    "    ],\n",
    ")"
   ]
  },
  {
   "cell_type": "code",
   "execution_count": null,
   "metadata": {},
   "outputs": [],
   "source": [
    "client.cancel_batch_order(\n",
    "    category=\"spot\",\n",
    "    request=[\n",
    "        {\"symbol\": \"BTCUSDT\", \"orderId\": \"1666800494330512128\"},\n",
    "        {\"symbol\": \"ATOMUSDT\", \"orderLinkId\": \"1666800494330512129\"},\n",
    "    ],\n",
    ")"
   ]
  },
  {
   "cell_type": "code",
   "execution_count": null,
   "metadata": {},
   "outputs": [],
   "source": [
    "client.set_dcp(\n",
    "    timeWindow=40,\n",
    ")"
   ]
  },
  {
   "cell_type": "code",
   "execution_count": null,
   "metadata": {},
   "outputs": [],
   "source": [
    "client.spot_margin_trade_toggle_margin_trade(\n",
    "    spotMarginMode=\"0\",\n",
    ")"
   ]
  },
  {
   "cell_type": "code",
   "execution_count": null,
   "metadata": {},
   "outputs": [],
   "source": [
    "client.spot_margin_trade_set_leverage(\n",
    "    leverage=\"3\",\n",
    ")"
   ]
  }
 ],
 "metadata": {
  "kernelspec": {
   "display_name": ".venv",
   "language": "python",
   "name": "python3"
  },
  "language_info": {
   "codemirror_mode": {
    "name": "ipython",
    "version": 3
   },
   "file_extension": ".py",
   "mimetype": "text/x-python",
   "name": "python",
   "nbconvert_exporter": "python",
   "pygments_lexer": "ipython3",
   "version": "3.11.10"
  }
 },
 "nbformat": 4,
 "nbformat_minor": 2
}
