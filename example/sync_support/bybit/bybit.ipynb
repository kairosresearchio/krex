{
 "cells": [
  {
   "cell_type": "code",
   "execution_count": 2,
   "metadata": {},
   "outputs": [],
   "source": [
    "import sys\n",
    "from datetime import datetime, timedelta\n",
    "\n",
    "sys.path.append(\"../../..\")\n",
    "import nest_asyncio\n",
    "from krex.bybit.client import Client\n",
    "\n",
    "nest_asyncio.apply()"
   ]
  },
  {
   "cell_type": "code",
   "execution_count": 4,
   "metadata": {},
   "outputs": [],
   "source": [
    "BYBIT_API_KEY_dev = \"VLOpq0qMKPNWhMbKVH\"\n",
    "BYBIT_API_SECRET_dev = \"Q3OKhzHiVSOYE2tF8ns2My4mQU7B8d5MnbOt\"\n",
    "\n",
    "BYBIT_API_KEY = \"EyKzSNGuaq9xzbRd9T\"\n",
    "BYBIT_API_SECRET = \"VlEscqPTOPQHNAfrgo5AasgkwDDIFEYYzCSh\"\n",
    "\n",
    "client = Client(\n",
    "    api_key=BYBIT_API_KEY,\n",
    "    api_secret=BYBIT_API_SECRET,\n",
    ")"
   ]
  },
  {
   "cell_type": "markdown",
   "metadata": {},
   "source": [
    "## account http\n"
   ]
  },
  {
   "cell_type": "code",
   "execution_count": 3,
   "metadata": {},
   "outputs": [
    {
     "data": {
      "text/plain": [
       "{'retCode': 110073,\n",
       " 'retMsg': 'Set margin mode failed',\n",
       " 'result': {'reasons': [{'reasonCode': '3400100',\n",
       "    'reasonMsg': 'Asset requirements not met.'}]}}"
      ]
     },
     "execution_count": 3,
     "metadata": {},
     "output_type": "execute_result"
    }
   ],
   "source": [
    "client.set_margin_mode(\"PORTFOLIO_MARGIN\")"
   ]
  },
  {
   "cell_type": "code",
   "execution_count": 4,
   "metadata": {},
   "outputs": [
    {
     "data": {
      "text/plain": [
       "{'retCode': 182102,\n",
       " 'retMsg': 'Failed repayment, there are no liabilities in the current currency.',\n",
       " 'result': {},\n",
       " 'retExtInfo': {},\n",
       " 'time': 1745439725394}"
      ]
     },
     "execution_count": 4,
     "metadata": {},
     "output_type": "execute_result"
    }
   ],
   "source": [
    "# need test\n",
    "client.repay_liability()"
   ]
  },
  {
   "cell_type": "markdown",
   "metadata": {},
   "source": [
    "## asset http\n"
   ]
  },
  {
   "cell_type": "code",
   "execution_count": 6,
   "metadata": {},
   "outputs": [
    {
     "data": {
      "text/plain": [
       "{'retCode': 0,\n",
       " 'retMsg': 'success',\n",
       " 'result': {'transferId': '237c8074-41f5-4737-a3ea-d30e6aea7e7a',\n",
       "  'status': 'SUCCESS'},\n",
       " 'retExtInfo': {},\n",
       " 'time': 1745439805824}"
      ]
     },
     "execution_count": 6,
     "metadata": {},
     "output_type": "execute_result"
    }
   ],
   "source": [
    "client.create_internal_transfer(\"USDT\", \"1\", \"FUND\", \"UNIFIED\")"
   ]
  },
  {
   "cell_type": "code",
   "execution_count": 7,
   "metadata": {},
   "outputs": [
    {
     "data": {
      "text/plain": [
       "{'retCode': 0,\n",
       " 'retMsg': 'success',\n",
       " 'result': {'id': '139715944'},\n",
       " 'retExtInfo': {},\n",
       " 'time': 1745626640308}"
      ]
     },
     "execution_count": 7,
     "metadata": {},
     "output_type": "execute_result"
    }
   ],
   "source": [
    "client.withdraw(\n",
    "    coin=\"USDT\",\n",
    "    chain=\"APTOS\",\n",
    "    address=\"0xcbe94f25d0d5753b4a58030d9fc84c980848f1a37244015d89b3f953aca878ab\",\n",
    "    amount=\"1\",\n",
    ")"
   ]
  },
  {
   "cell_type": "code",
   "execution_count": 8,
   "metadata": {},
   "outputs": [
    {
     "data": {
      "text/plain": [
       "{'retCode': 0,\n",
       " 'retMsg': 'success',\n",
       " 'result': {'status': 1},\n",
       " 'retExtInfo': {},\n",
       " 'time': 1745626650171}"
      ]
     },
     "execution_count": 8,
     "metadata": {},
     "output_type": "execute_result"
    }
   ],
   "source": [
    "client.cancel_withdrawal(\"139715944\")"
   ]
  },
  {
   "cell_type": "code",
   "execution_count": null,
   "metadata": {},
   "outputs": [],
   "source": [
    "client.create_universal_transfer()"
   ]
  },
  {
   "cell_type": "code",
   "execution_count": 8,
   "metadata": {},
   "outputs": [
    {
     "data": {
      "text/plain": [
       "{'retCode': 131001,\n",
       " 'retMsg': 'openapi svc error',\n",
       " 'result': {},\n",
       " 'retExtInfo': {},\n",
       " 'time': 1745439830776}"
      ]
     },
     "execution_count": 8,
     "metadata": {},
     "output_type": "execute_result"
    }
   ],
   "source": [
    "client.get_sub_deposit_records(\"1\")"
   ]
  },
  {
   "cell_type": "code",
   "execution_count": 9,
   "metadata": {},
   "outputs": [
    {
     "data": {
      "text/plain": [
       "{'retCode': 0,\n",
       " 'retMsg': 'success',\n",
       " 'result': {'status': 1},\n",
       " 'retExtInfo': {},\n",
       " 'time': 1745626686636}"
      ]
     },
     "execution_count": 9,
     "metadata": {},
     "output_type": "execute_result"
    }
   ],
   "source": [
    "client.set_deposit_account(accountType=\"FUND\")"
   ]
  },
  {
   "cell_type": "code",
   "execution_count": 10,
   "metadata": {},
   "outputs": [
    {
     "ename": "TypeError",
     "evalue": "AssetHTTP.get_sub_deposit_address() missing 3 required positional arguments: 'coin', 'chainType', and 'subMemberId'",
     "output_type": "error",
     "traceback": [
      "\u001b[31m---------------------------------------------------------------------------\u001b[39m",
      "\u001b[31mTypeError\u001b[39m                                 Traceback (most recent call last)",
      "\u001b[36mCell\u001b[39m\u001b[36m \u001b[39m\u001b[32mIn[10]\u001b[39m\u001b[32m, line 1\u001b[39m\n\u001b[32m----> \u001b[39m\u001b[32m1\u001b[39m \u001b[43mclient\u001b[49m\u001b[43m.\u001b[49m\u001b[43mget_sub_deposit_address\u001b[49m\u001b[43m(\u001b[49m\u001b[43m)\u001b[49m\n",
      "\u001b[31mTypeError\u001b[39m: AssetHTTP.get_sub_deposit_address() missing 3 required positional arguments: 'coin', 'chainType', and 'subMemberId'"
     ]
    }
   ],
   "source": [
    "client.get_sub_deposit_address()"
   ]
  },
  {
   "cell_type": "markdown",
   "metadata": {},
   "source": [
    "## position\n"
   ]
  },
  {
   "cell_type": "code",
   "execution_count": 13,
   "metadata": {},
   "outputs": [
    {
     "data": {
      "text/plain": [
       "{'retCode': 0,\n",
       " 'retMsg': 'OK',\n",
       " 'result': {},\n",
       " 'retExtInfo': {},\n",
       " 'time': 1745439886143}"
      ]
     },
     "execution_count": 13,
     "metadata": {},
     "output_type": "execute_result"
    }
   ],
   "source": [
    "client.switch_position_mode(\"3\", \"BTCUSDT\")"
   ]
  },
  {
   "cell_type": "markdown",
   "metadata": {},
   "source": [
    "## trade\n"
   ]
  },
  {
   "cell_type": "code",
   "execution_count": null,
   "metadata": {},
   "outputs": [],
   "source": [
    "client.place_market_buy_order(\n",
    "    product_symbol=\"BTC-USDT-SPOT\",\n",
    "    qty=0.01,\n",
    "    reduceOnly=False,\n",
    ")"
   ]
  },
  {
   "cell_type": "code",
   "execution_count": null,
   "metadata": {},
   "outputs": [],
   "source": [
    "client.place_market_sell_order(\n",
    "    product_symbol=\"BTC-USDT-SPOT\",\n",
    "    qty=0.01,\n",
    "    reduceOnly=False,\n",
    ")"
   ]
  },
  {
   "cell_type": "code",
   "execution_count": null,
   "metadata": {},
   "outputs": [],
   "source": [
    "client.place_limit_buy_order(\n",
    "    product_symbol=\"BTC-USDT-SPOT\",\n",
    "    qty=0.01,\n",
    "    price=\"80000\",\n",
    "    reduceOnly=False,\n",
    ")"
   ]
  },
  {
   "cell_type": "code",
   "execution_count": null,
   "metadata": {},
   "outputs": [],
   "source": [
    "client.place_limit_sell_order(\n",
    "    product_symbol=\"BTC-USDT-SPOT\",\n",
    "    qty=0.01,\n",
    "    price=\"80000\",\n",
    "    reduceOnly=False,\n",
    ")"
   ]
  },
  {
   "cell_type": "code",
   "execution_count": null,
   "metadata": {},
   "outputs": [],
   "source": [
    "client.place_post_only_limit_buy_order(\n",
    "    product_symbol=\"BTC-USDT-SPOT\",\n",
    "    qty=0.01,\n",
    "    price=\"80000\",\n",
    "    reduceOnly=False,\n",
    ")"
   ]
  },
  {
   "cell_type": "code",
   "execution_count": null,
   "metadata": {},
   "outputs": [],
   "source": [
    "client.place_post_only_limit_sell_order(\n",
    "    product_symbol=\"BTC-USDT-SPOT\",\n",
    "    qty=0.01,\n",
    "    price=\"80000\",\n",
    "    reduceOnly=False,\n",
    ")"
   ]
  },
  {
   "cell_type": "code",
   "execution_count": null,
   "metadata": {},
   "outputs": [],
   "source": [
    "client.amend_order(\n",
    "    product_symbol=\"BTC-USDT-SPOT\",\n",
    ")"
   ]
  },
  {
   "cell_type": "code",
   "execution_count": null,
   "metadata": {},
   "outputs": [],
   "source": [
    "client.cancel_order(\n",
    "    product_symbol=\"BTC-USDT-SPOT\",\n",
    ")"
   ]
  },
  {
   "cell_type": "code",
   "execution_count": null,
   "metadata": {},
   "outputs": [],
   "source": [
    "client.cancel_all_orders(\n",
    "    product_symbol=\"BTC-USDT-SPOT\",\n",
    ")"
   ]
  },
  {
   "cell_type": "code",
   "execution_count": null,
   "metadata": {},
   "outputs": [],
   "source": [
    "client.cancel_batch_order(\n",
    "    category=\"spot\",\n",
    "    request=[\n",
    "        {\"symbol\": \"BTCUSDT\", \"orderId\": \"1666800494330512128\"},\n",
    "        {\"symbol\": \"ATOMUSDT\", \"orderLinkId\": \"1666800494330512129\"},\n",
    "    ],\n",
    ")"
   ]
  },
  {
   "cell_type": "code",
   "execution_count": 26,
   "metadata": {},
   "outputs": [
    {
     "data": {
      "text/plain": [
       "{'retCode': 0,\n",
       " 'retMsg': 'OK',\n",
       " 'result': {'nextPageCursor': '', 'category': 'linear', 'list': []},\n",
       " 'retExtInfo': {},\n",
       " 'time': 1745440158042}"
      ]
     },
     "execution_count": 26,
     "metadata": {},
     "output_type": "execute_result"
    }
   ],
   "source": [
    "client.get_order_history(product_symbol=\"ETH-USDT-SWAP\", cursor=\"\")"
   ]
  },
  {
   "cell_type": "code",
   "execution_count": 24,
   "metadata": {},
   "outputs": [
    {
     "data": {
      "text/plain": [
       "{'retCode': 0,\n",
       " 'retMsg': 'SUCCESS',\n",
       " 'result': {'spotMarginMode': '1'},\n",
       " 'retExtInfo': {},\n",
       " 'time': 1745440135633}"
      ]
     },
     "execution_count": 24,
     "metadata": {},
     "output_type": "execute_result"
    }
   ],
   "source": [
    "client.spot_margin_trade_toggle_margin_trade(\n",
    "    spotMarginMode=\"1\",\n",
    ")"
   ]
  },
  {
   "cell_type": "code",
   "execution_count": 25,
   "metadata": {},
   "outputs": [
    {
     "data": {
      "text/plain": [
       "{'retCode': 0,\n",
       " 'retMsg': '',\n",
       " 'result': {},\n",
       " 'retExtInfo': {},\n",
       " 'time': 1745440141768}"
      ]
     },
     "execution_count": 25,
     "metadata": {},
     "output_type": "execute_result"
    }
   ],
   "source": [
    "client.spot_margin_trade_set_leverage(\n",
    "    leverage=\"10\",\n",
    ")"
   ]
  }
 ],
 "metadata": {
  "kernelspec": {
   "display_name": ".venv",
   "language": "python",
   "name": "python3"
  },
  "language_info": {
   "codemirror_mode": {
    "name": "ipython",
    "version": 3
   },
   "file_extension": ".py",
   "mimetype": "text/x-python",
   "name": "python",
   "nbconvert_exporter": "python",
   "pygments_lexer": "ipython3",
   "version": "3.11.11"
  }
 },
 "nbformat": 4,
 "nbformat_minor": 2
}
