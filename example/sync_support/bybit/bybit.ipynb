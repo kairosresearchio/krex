{
 "cells": [
  {
   "cell_type": "code",
   "execution_count": 12,
   "metadata": {},
   "outputs": [],
   "source": [
    "import sys\n",
    "\n",
    "sys.path.append(\"../../..\")\n",
    "import nest_asyncio\n",
    "from krex.bybit.client import Client\n",
    "\n",
    "nest_asyncio.apply()"
   ]
  },
  {
   "cell_type": "code",
   "execution_count": null,
   "metadata": {},
   "outputs": [],
   "source": [
    "BYBIT_API_KEY_dev = \"VLOpq0qMKPNWhMbKVH\"\n",
    "BYBIT_API_SECRET_dev = \"Q3OKhzHiVSOYE2tF8ns2My4mQU7B8d5MnbOt\"\n",
    "\n",
    "client = Client(\n",
    "    api_key=BYBIT_API_KEY_dev,\n",
    "    api_secret=BYBIT_API_SECRET_dev,\n",
    ")"
   ]
  },
  {
   "cell_type": "markdown",
   "metadata": {},
   "source": [
    "## account http\n"
   ]
  },
  {
   "cell_type": "code",
   "execution_count": 3,
   "metadata": {},
   "outputs": [
    {
     "data": {
      "text/plain": [
       "{'retCode': 110073,\n",
       " 'retMsg': 'Set margin mode failed',\n",
       " 'result': {'reasons': [{'reasonCode': '3400100',\n",
       "    'reasonMsg': 'Asset requirements not met.'}]}}"
      ]
     },
     "execution_count": 3,
     "metadata": {},
     "output_type": "execute_result"
    }
   ],
   "source": [
    "client.set_margin_mode(\"PORTFOLIO_MARGIN\")"
   ]
  },
  {
   "cell_type": "code",
   "execution_count": null,
   "metadata": {},
   "outputs": [
    {
     "data": {
      "text/plain": [
       "{'retCode': 182102,\n",
       " 'retMsg': 'Failed repayment, there are no liabilities in the current currency.',\n",
       " 'result': {},\n",
       " 'retExtInfo': {},\n",
       " 'time': 1745439725394}"
      ]
     },
     "execution_count": 4,
     "metadata": {},
     "output_type": "execute_result"
    }
   ],
   "source": [
    "client.repay_liability()"
   ]
  },
  {
   "cell_type": "markdown",
   "metadata": {},
   "source": [
    "## asset http\n"
   ]
  },
  {
   "cell_type": "code",
   "execution_count": 6,
   "metadata": {},
   "outputs": [
    {
     "data": {
      "text/plain": [
       "{'retCode': 0,\n",
       " 'retMsg': 'success',\n",
       " 'result': {'transferId': '237c8074-41f5-4737-a3ea-d30e6aea7e7a',\n",
       "  'status': 'SUCCESS'},\n",
       " 'retExtInfo': {},\n",
       " 'time': 1745439805824}"
      ]
     },
     "execution_count": 6,
     "metadata": {},
     "output_type": "execute_result"
    }
   ],
   "source": [
    "client.create_internal_transfer(\"USDT\", \"1\", \"FUND\", \"UNIFIED\")"
   ]
  },
  {
   "cell_type": "code",
   "execution_count": 7,
   "metadata": {},
   "outputs": [
    {
     "data": {
      "text/plain": [
       "{'retCode': 0,\n",
       " 'retMsg': 'success',\n",
       " 'result': {'id': '139715944'},\n",
       " 'retExtInfo': {},\n",
       " 'time': 1745626640308}"
      ]
     },
     "execution_count": 7,
     "metadata": {},
     "output_type": "execute_result"
    }
   ],
   "source": [
    "client.withdraw(\n",
    "    coin=\"USDT\",\n",
    "    chain=\"APTOS\",\n",
    "    address=\"0xcbe94f25d0d5753b4a58030d9fc84c980848f1a37244015d89b3f953aca878ab\",\n",
    "    amount=\"1\",\n",
    ")"
   ]
  },
  {
   "cell_type": "code",
   "execution_count": 8,
   "metadata": {},
   "outputs": [
    {
     "data": {
      "text/plain": [
       "{'retCode': 0,\n",
       " 'retMsg': 'success',\n",
       " 'result': {'status': 1},\n",
       " 'retExtInfo': {},\n",
       " 'time': 1745626650171}"
      ]
     },
     "execution_count": 8,
     "metadata": {},
     "output_type": "execute_result"
    }
   ],
   "source": [
    "client.cancel_withdrawal(\"139715944\")"
   ]
  },
  {
   "cell_type": "code",
   "execution_count": 15,
   "metadata": {},
   "outputs": [
    {
     "data": {
      "text/plain": [
       "{'retCode': 0,\n",
       " 'retMsg': 'success',\n",
       " 'result': {'transferId': 'dbc481e9-1b9b-451f-83ec-6020a373ee76',\n",
       "  'status': 'SUCCESS'},\n",
       " 'retExtInfo': {},\n",
       " 'time': 1745720777107}"
      ]
     },
     "execution_count": 15,
     "metadata": {},
     "output_type": "execute_result"
    }
   ],
   "source": [
    "client.create_universal_transfer(\n",
    "    coin=\"USDT\",\n",
    "    amount=\"4\",\n",
    "    fromMemberId=\"32881242\",\n",
    "    toMemberId=\"439606179\",\n",
    "    fromAccountType=\"FUND\",\n",
    "    toAccountType=\"FUND\",\n",
    ")"
   ]
  },
  {
   "cell_type": "code",
   "execution_count": 8,
   "metadata": {},
   "outputs": [
    {
     "data": {
      "text/plain": [
       "{'retCode': 131001,\n",
       " 'retMsg': 'openapi svc error',\n",
       " 'result': {},\n",
       " 'retExtInfo': {},\n",
       " 'time': 1745439830776}"
      ]
     },
     "execution_count": 8,
     "metadata": {},
     "output_type": "execute_result"
    }
   ],
   "source": [
    "client.get_sub_deposit_records(\"1\")"
   ]
  },
  {
   "cell_type": "code",
   "execution_count": 9,
   "metadata": {},
   "outputs": [
    {
     "data": {
      "text/plain": [
       "{'retCode': 0,\n",
       " 'retMsg': 'success',\n",
       " 'result': {'status': 1},\n",
       " 'retExtInfo': {},\n",
       " 'time': 1745626686636}"
      ]
     },
     "execution_count": 9,
     "metadata": {},
     "output_type": "execute_result"
    }
   ],
   "source": [
    "client.set_deposit_account(accountType=\"FUND\")"
   ]
  },
  {
   "cell_type": "markdown",
   "metadata": {},
   "source": [
    "## position\n"
   ]
  },
  {
   "cell_type": "code",
   "execution_count": 26,
   "metadata": {},
   "outputs": [
    {
     "data": {
      "text/plain": [
       "{'retCode': 0,\n",
       " 'retMsg': 'OK',\n",
       " 'result': {},\n",
       " 'retExtInfo': {},\n",
       " 'time': 1745743349777}"
      ]
     },
     "execution_count": 26,
     "metadata": {},
     "output_type": "execute_result"
    }
   ],
   "source": [
    "client.switch_position_mode(\"0\", \"BTCUSDT\")"
   ]
  },
  {
   "cell_type": "markdown",
   "metadata": {},
   "source": [
    "## trade\n"
   ]
  },
  {
   "cell_type": "code",
   "execution_count": 27,
   "metadata": {},
   "outputs": [
    {
     "data": {
      "text/plain": [
       "{'retCode': 0,\n",
       " 'retMsg': 'OK',\n",
       " 'result': {'orderId': '4bc279da-1c17-4683-bdae-1c07b6c7626d',\n",
       "  'orderLinkId': ''},\n",
       " 'retExtInfo': {},\n",
       " 'time': 1745743352625}"
      ]
     },
     "execution_count": 27,
     "metadata": {},
     "output_type": "execute_result"
    }
   ],
   "source": [
    "client.place_market_buy_order(\n",
    "    product_symbol=\"BTC-USDT-SWAP\",\n",
    "    qty=\"0.001\",\n",
    ")"
   ]
  },
  {
   "cell_type": "code",
   "execution_count": 28,
   "metadata": {},
   "outputs": [
    {
     "data": {
      "text/plain": [
       "{'retCode': 0,\n",
       " 'retMsg': 'OK',\n",
       " 'result': {'orderId': '2ec39c23-d8d6-43b1-b4d7-a9cfdc358901',\n",
       "  'orderLinkId': ''},\n",
       " 'retExtInfo': {},\n",
       " 'time': 1745743377467}"
      ]
     },
     "execution_count": 28,
     "metadata": {},
     "output_type": "execute_result"
    }
   ],
   "source": [
    "client.place_market_sell_order(\n",
    "    product_symbol=\"BTC-USDT-SWAP\",\n",
    "    qty=\"0.001\",\n",
    ")"
   ]
  },
  {
   "cell_type": "code",
   "execution_count": 29,
   "metadata": {},
   "outputs": [
    {
     "data": {
      "text/plain": [
       "{'retCode': 0,\n",
       " 'retMsg': 'OK',\n",
       " 'result': {'orderId': '02ea4379-d1b6-45ba-b188-0ab55844ac04',\n",
       "  'orderLinkId': ''},\n",
       " 'retExtInfo': {},\n",
       " 'time': 1745743392022}"
      ]
     },
     "execution_count": 29,
     "metadata": {},
     "output_type": "execute_result"
    }
   ],
   "source": [
    "client.place_limit_buy_order(\n",
    "    product_symbol=\"BTC-USDT-SWAP\",\n",
    "    qty=\"0.001\",\n",
    "    price=\"80000\",\n",
    ")"
   ]
  },
  {
   "cell_type": "code",
   "execution_count": 30,
   "metadata": {},
   "outputs": [
    {
     "data": {
      "text/plain": [
       "{'retCode': 0,\n",
       " 'retMsg': 'OK',\n",
       " 'result': {'orderId': '66b5b429-cc91-4328-8d4e-f5c5647a8d42',\n",
       "  'orderLinkId': ''},\n",
       " 'retExtInfo': {},\n",
       " 'time': 1745743410471}"
      ]
     },
     "execution_count": 30,
     "metadata": {},
     "output_type": "execute_result"
    }
   ],
   "source": [
    "client.place_limit_sell_order(\n",
    "    product_symbol=\"BTC-USDT-SWAP\",\n",
    "    qty=\"0.001\",\n",
    "    price=\"100000\",\n",
    ")"
   ]
  },
  {
   "cell_type": "code",
   "execution_count": 32,
   "metadata": {},
   "outputs": [
    {
     "data": {
      "text/plain": [
       "{'retCode': 0,\n",
       " 'retMsg': 'OK',\n",
       " 'result': {'orderId': 'c9fc900f-75c1-440b-ac59-38b5d1b269d8',\n",
       "  'orderLinkId': ''},\n",
       " 'retExtInfo': {},\n",
       " 'time': 1745743438023}"
      ]
     },
     "execution_count": 32,
     "metadata": {},
     "output_type": "execute_result"
    }
   ],
   "source": [
    "client.place_post_only_limit_buy_order(\n",
    "    product_symbol=\"BTC-USDT-SWAP\",\n",
    "    qty=\"0.001\",\n",
    "    price=\"80000\",\n",
    ")"
   ]
  },
  {
   "cell_type": "code",
   "execution_count": 33,
   "metadata": {},
   "outputs": [
    {
     "data": {
      "text/plain": [
       "{'retCode': 0,\n",
       " 'retMsg': 'OK',\n",
       " 'result': {'orderId': '1cf406c6-4242-4714-a952-8b5c271429ca',\n",
       "  'orderLinkId': ''},\n",
       " 'retExtInfo': {},\n",
       " 'time': 1745743452088}"
      ]
     },
     "execution_count": 33,
     "metadata": {},
     "output_type": "execute_result"
    }
   ],
   "source": [
    "client.place_post_only_limit_sell_order(\n",
    "    product_symbol=\"BTC-USDT-SWAP\",\n",
    "    qty=\"0.001\",\n",
    "    price=\"100000\",\n",
    ")"
   ]
  },
  {
   "cell_type": "code",
   "execution_count": 35,
   "metadata": {},
   "outputs": [
    {
     "data": {
      "text/plain": [
       "{'retCode': 0,\n",
       " 'retMsg': 'OK',\n",
       " 'result': {'orderId': '1cf406c6-4242-4714-a952-8b5c271429ca',\n",
       "  'orderLinkId': ''},\n",
       " 'retExtInfo': {},\n",
       " 'time': 1745743514950}"
      ]
     },
     "execution_count": 35,
     "metadata": {},
     "output_type": "execute_result"
    }
   ],
   "source": [
    "client.amend_order(\n",
    "    product_symbol=\"BTC-USDT-SWAP\",\n",
    "    orderId=\"1cf406c6-4242-4714-a952-8b5c271429ca\",\n",
    "    price=\"110000\",\n",
    ")"
   ]
  },
  {
   "cell_type": "code",
   "execution_count": 38,
   "metadata": {},
   "outputs": [
    {
     "data": {
      "text/plain": [
       "{'retCode': 0,\n",
       " 'retMsg': 'OK',\n",
       " 'result': {'orderId': '1cf406c6-4242-4714-a952-8b5c271429ca',\n",
       "  'orderLinkId': ''},\n",
       " 'retExtInfo': {},\n",
       " 'time': 1745743591822}"
      ]
     },
     "execution_count": 38,
     "metadata": {},
     "output_type": "execute_result"
    }
   ],
   "source": [
    "client.cancel_order(product_symbol=\"BTC-USDT-SWAP\", orderId=\"1cf406c6-4242-4714-a952-8b5c271429ca\")"
   ]
  },
  {
   "cell_type": "code",
   "execution_count": 39,
   "metadata": {},
   "outputs": [
    {
     "data": {
      "text/plain": [
       "{'retCode': 0,\n",
       " 'retMsg': 'OK',\n",
       " 'result': {'list': [{'orderId': 'c9fc900f-75c1-440b-ac59-38b5d1b269d8',\n",
       "    'orderLinkId': ''}],\n",
       "  'success': '1'},\n",
       " 'retExtInfo': {},\n",
       " 'time': 1745743598608}"
      ]
     },
     "execution_count": 39,
     "metadata": {},
     "output_type": "execute_result"
    }
   ],
   "source": [
    "client.cancel_all_orders(\n",
    "    product_symbol=\"BTC-USDT-SWAP\",\n",
    ")"
   ]
  },
  {
   "cell_type": "code",
   "execution_count": 40,
   "metadata": {},
   "outputs": [
    {
     "data": {
      "text/plain": [
       "{'retCode': 0,\n",
       " 'retMsg': 'OK',\n",
       " 'result': {'nextPageCursor': '1cf406c6-4242-4714-a952-8b5c271429ca%3A1745743452088%2C4bc279da-1c17-4683-bdae-1c07b6c7626d%3A1745743352624',\n",
       "  'category': 'linear',\n",
       "  'list': [{'symbol': 'BTCUSDT',\n",
       "    'orderType': 'Limit',\n",
       "    'orderLinkId': '',\n",
       "    'slLimitPrice': '0',\n",
       "    'orderId': '1cf406c6-4242-4714-a952-8b5c271429ca',\n",
       "    'cancelType': 'CancelByUser',\n",
       "    'avgPrice': '',\n",
       "    'stopOrderType': '',\n",
       "    'lastPriceOnCreated': '94218',\n",
       "    'orderStatus': 'Cancelled',\n",
       "    'createType': 'CreateByUser',\n",
       "    'takeProfit': '',\n",
       "    'cumExecValue': '0',\n",
       "    'tpslMode': '',\n",
       "    'smpType': 'None',\n",
       "    'triggerDirection': 0,\n",
       "    'blockTradeId': '',\n",
       "    'rejectReason': 'EC_PerCancelRequest',\n",
       "    'isLeverage': '',\n",
       "    'price': '110000',\n",
       "    'orderIv': '',\n",
       "    'createdTime': '1745743452088',\n",
       "    'tpTriggerBy': '',\n",
       "    'positionIdx': 0,\n",
       "    'timeInForce': 'PostOnly',\n",
       "    'leavesValue': '0',\n",
       "    'updatedTime': '1745743591824',\n",
       "    'side': 'Sell',\n",
       "    'smpGroup': 0,\n",
       "    'triggerPrice': '',\n",
       "    'tpLimitPrice': '0',\n",
       "    'cumExecFee': '0',\n",
       "    'slTriggerBy': '',\n",
       "    'leavesQty': '0',\n",
       "    'closeOnTrigger': False,\n",
       "    'slippageToleranceType': 'UNKNOWN',\n",
       "    'placeType': '',\n",
       "    'cumExecQty': '0',\n",
       "    'reduceOnly': False,\n",
       "    'qty': '0.001',\n",
       "    'stopLoss': '',\n",
       "    'smpOrderId': '',\n",
       "    'slippageTolerance': '0',\n",
       "    'triggerBy': ''},\n",
       "   {'symbol': 'BTCUSDT',\n",
       "    'orderType': 'Limit',\n",
       "    'orderLinkId': '',\n",
       "    'slLimitPrice': '0',\n",
       "    'orderId': 'c9fc900f-75c1-440b-ac59-38b5d1b269d8',\n",
       "    'cancelType': 'CancelByUser',\n",
       "    'avgPrice': '',\n",
       "    'stopOrderType': '',\n",
       "    'lastPriceOnCreated': '94193.6',\n",
       "    'orderStatus': 'Cancelled',\n",
       "    'createType': 'CreateByUser',\n",
       "    'takeProfit': '',\n",
       "    'cumExecValue': '0',\n",
       "    'tpslMode': '',\n",
       "    'smpType': 'None',\n",
       "    'triggerDirection': 0,\n",
       "    'blockTradeId': '',\n",
       "    'rejectReason': 'EC_PerCancelRequest',\n",
       "    'isLeverage': '',\n",
       "    'price': '80000',\n",
       "    'orderIv': '',\n",
       "    'createdTime': '1745743438023',\n",
       "    'tpTriggerBy': '',\n",
       "    'positionIdx': 0,\n",
       "    'timeInForce': 'PostOnly',\n",
       "    'leavesValue': '0',\n",
       "    'updatedTime': '1745743598610',\n",
       "    'side': 'Buy',\n",
       "    'smpGroup': 0,\n",
       "    'triggerPrice': '',\n",
       "    'tpLimitPrice': '0',\n",
       "    'cumExecFee': '0',\n",
       "    'slTriggerBy': '',\n",
       "    'leavesQty': '0',\n",
       "    'closeOnTrigger': False,\n",
       "    'slippageToleranceType': 'UNKNOWN',\n",
       "    'placeType': '',\n",
       "    'cumExecQty': '0',\n",
       "    'reduceOnly': False,\n",
       "    'qty': '0.001',\n",
       "    'stopLoss': '',\n",
       "    'smpOrderId': '',\n",
       "    'slippageTolerance': '0',\n",
       "    'triggerBy': ''},\n",
       "   {'symbol': 'BTCUSDT',\n",
       "    'orderType': 'Limit',\n",
       "    'orderLinkId': '',\n",
       "    'slLimitPrice': '0',\n",
       "    'orderId': '66b5b429-cc91-4328-8d4e-f5c5647a8d42',\n",
       "    'cancelType': 'CancelByUser',\n",
       "    'avgPrice': '',\n",
       "    'stopOrderType': '',\n",
       "    'lastPriceOnCreated': '94150',\n",
       "    'orderStatus': 'Cancelled',\n",
       "    'createType': 'CreateByUser',\n",
       "    'takeProfit': '',\n",
       "    'cumExecValue': '0',\n",
       "    'tpslMode': '',\n",
       "    'smpType': 'None',\n",
       "    'triggerDirection': 0,\n",
       "    'blockTradeId': '',\n",
       "    'rejectReason': 'EC_PerCancelRequest',\n",
       "    'isLeverage': '',\n",
       "    'price': '100000',\n",
       "    'orderIv': '',\n",
       "    'createdTime': '1745743410471',\n",
       "    'tpTriggerBy': '',\n",
       "    'positionIdx': 0,\n",
       "    'timeInForce': 'GTC',\n",
       "    'leavesValue': '0',\n",
       "    'updatedTime': '1745743435303',\n",
       "    'side': 'Sell',\n",
       "    'smpGroup': 0,\n",
       "    'triggerPrice': '',\n",
       "    'tpLimitPrice': '0',\n",
       "    'cumExecFee': '0',\n",
       "    'slTriggerBy': '',\n",
       "    'leavesQty': '0',\n",
       "    'closeOnTrigger': False,\n",
       "    'slippageToleranceType': 'UNKNOWN',\n",
       "    'placeType': '',\n",
       "    'cumExecQty': '0',\n",
       "    'reduceOnly': False,\n",
       "    'qty': '0.001',\n",
       "    'stopLoss': '',\n",
       "    'smpOrderId': '',\n",
       "    'slippageTolerance': '0',\n",
       "    'triggerBy': ''},\n",
       "   {'symbol': 'BTCUSDT',\n",
       "    'orderType': 'Limit',\n",
       "    'orderLinkId': '',\n",
       "    'slLimitPrice': '0',\n",
       "    'orderId': '02ea4379-d1b6-45ba-b188-0ab55844ac04',\n",
       "    'cancelType': 'CancelByUser',\n",
       "    'avgPrice': '',\n",
       "    'stopOrderType': '',\n",
       "    'lastPriceOnCreated': '94150.1',\n",
       "    'orderStatus': 'Cancelled',\n",
       "    'createType': 'CreateByUser',\n",
       "    'takeProfit': '',\n",
       "    'cumExecValue': '0',\n",
       "    'tpslMode': '',\n",
       "    'smpType': 'None',\n",
       "    'triggerDirection': 0,\n",
       "    'blockTradeId': '',\n",
       "    'rejectReason': 'EC_PerCancelRequest',\n",
       "    'isLeverage': '',\n",
       "    'price': '80000',\n",
       "    'orderIv': '',\n",
       "    'createdTime': '1745743392022',\n",
       "    'tpTriggerBy': '',\n",
       "    'positionIdx': 0,\n",
       "    'timeInForce': 'GTC',\n",
       "    'leavesValue': '0',\n",
       "    'updatedTime': '1745743435303',\n",
       "    'side': 'Buy',\n",
       "    'smpGroup': 0,\n",
       "    'triggerPrice': '',\n",
       "    'tpLimitPrice': '0',\n",
       "    'cumExecFee': '0',\n",
       "    'slTriggerBy': '',\n",
       "    'leavesQty': '0',\n",
       "    'closeOnTrigger': False,\n",
       "    'slippageToleranceType': 'UNKNOWN',\n",
       "    'placeType': '',\n",
       "    'cumExecQty': '0',\n",
       "    'reduceOnly': False,\n",
       "    'qty': '0.001',\n",
       "    'stopLoss': '',\n",
       "    'smpOrderId': '',\n",
       "    'slippageTolerance': '0',\n",
       "    'triggerBy': ''},\n",
       "   {'symbol': 'BTCUSDT',\n",
       "    'orderType': 'Market',\n",
       "    'orderLinkId': '',\n",
       "    'slLimitPrice': '0',\n",
       "    'orderId': '2ec39c23-d8d6-43b1-b4d7-a9cfdc358901',\n",
       "    'cancelType': 'UNKNOWN',\n",
       "    'avgPrice': '94150',\n",
       "    'stopOrderType': '',\n",
       "    'lastPriceOnCreated': '94150.1',\n",
       "    'orderStatus': 'Filled',\n",
       "    'createType': 'CreateByUser',\n",
       "    'takeProfit': '',\n",
       "    'cumExecValue': '94.15',\n",
       "    'tpslMode': '',\n",
       "    'smpType': 'None',\n",
       "    'triggerDirection': 0,\n",
       "    'blockTradeId': '',\n",
       "    'rejectReason': 'EC_NoError',\n",
       "    'isLeverage': '',\n",
       "    'price': '93210.7',\n",
       "    'orderIv': '',\n",
       "    'createdTime': '1745743377466',\n",
       "    'tpTriggerBy': '',\n",
       "    'positionIdx': 0,\n",
       "    'timeInForce': 'IOC',\n",
       "    'leavesValue': '0',\n",
       "    'updatedTime': '1745743377468',\n",
       "    'side': 'Sell',\n",
       "    'smpGroup': 0,\n",
       "    'triggerPrice': '',\n",
       "    'tpLimitPrice': '0',\n",
       "    'cumExecFee': '0.0517825',\n",
       "    'slTriggerBy': '',\n",
       "    'leavesQty': '0',\n",
       "    'closeOnTrigger': False,\n",
       "    'slippageToleranceType': 'UNKNOWN',\n",
       "    'placeType': '',\n",
       "    'cumExecQty': '0.001',\n",
       "    'reduceOnly': False,\n",
       "    'qty': '0.001',\n",
       "    'stopLoss': '',\n",
       "    'smpOrderId': '',\n",
       "    'slippageTolerance': '0',\n",
       "    'triggerBy': ''},\n",
       "   {'symbol': 'BTCUSDT',\n",
       "    'orderType': 'Market',\n",
       "    'orderLinkId': '',\n",
       "    'slLimitPrice': '0',\n",
       "    'orderId': '4bc279da-1c17-4683-bdae-1c07b6c7626d',\n",
       "    'cancelType': 'UNKNOWN',\n",
       "    'avgPrice': '94157.3',\n",
       "    'stopOrderType': '',\n",
       "    'lastPriceOnCreated': '94157.3',\n",
       "    'orderStatus': 'Filled',\n",
       "    'createType': 'CreateByUser',\n",
       "    'takeProfit': '',\n",
       "    'cumExecValue': '94.1573',\n",
       "    'tpslMode': '',\n",
       "    'smpType': 'None',\n",
       "    'triggerDirection': 0,\n",
       "    'blockTradeId': '',\n",
       "    'rejectReason': 'EC_NoError',\n",
       "    'isLeverage': '',\n",
       "    'price': '95102',\n",
       "    'orderIv': '',\n",
       "    'createdTime': '1745743352624',\n",
       "    'tpTriggerBy': '',\n",
       "    'positionIdx': 0,\n",
       "    'timeInForce': 'IOC',\n",
       "    'leavesValue': '0',\n",
       "    'updatedTime': '1745743352626',\n",
       "    'side': 'Buy',\n",
       "    'smpGroup': 0,\n",
       "    'triggerPrice': '',\n",
       "    'tpLimitPrice': '0',\n",
       "    'cumExecFee': '0.05178652',\n",
       "    'slTriggerBy': '',\n",
       "    'leavesQty': '0',\n",
       "    'closeOnTrigger': False,\n",
       "    'slippageToleranceType': 'UNKNOWN',\n",
       "    'placeType': '',\n",
       "    'cumExecQty': '0.001',\n",
       "    'reduceOnly': False,\n",
       "    'qty': '0.001',\n",
       "    'stopLoss': '',\n",
       "    'smpOrderId': '',\n",
       "    'slippageTolerance': '0',\n",
       "    'triggerBy': ''}]},\n",
       " 'retExtInfo': {},\n",
       " 'time': 1745743609600}"
      ]
     },
     "execution_count": 40,
     "metadata": {},
     "output_type": "execute_result"
    }
   ],
   "source": [
    "client.get_order_history(product_symbol=\"BTC-USDT-SWAP\", cursor=\"\")"
   ]
  },
  {
   "cell_type": "code",
   "execution_count": 24,
   "metadata": {},
   "outputs": [
    {
     "data": {
      "text/plain": [
       "{'retCode': 0,\n",
       " 'retMsg': 'SUCCESS',\n",
       " 'result': {'spotMarginMode': '1'},\n",
       " 'retExtInfo': {},\n",
       " 'time': 1745440135633}"
      ]
     },
     "execution_count": 24,
     "metadata": {},
     "output_type": "execute_result"
    }
   ],
   "source": [
    "client.spot_margin_trade_toggle_margin_trade(\n",
    "    spotMarginMode=\"1\",\n",
    ")"
   ]
  },
  {
   "cell_type": "code",
   "execution_count": 25,
   "metadata": {},
   "outputs": [
    {
     "data": {
      "text/plain": [
       "{'retCode': 0,\n",
       " 'retMsg': '',\n",
       " 'result': {},\n",
       " 'retExtInfo': {},\n",
       " 'time': 1745440141768}"
      ]
     },
     "execution_count": 25,
     "metadata": {},
     "output_type": "execute_result"
    }
   ],
   "source": [
    "client.spot_margin_trade_set_leverage(\n",
    "    leverage=\"10\",\n",
    ")"
   ]
  }
 ],
 "metadata": {
  "kernelspec": {
   "display_name": ".venv",
   "language": "python",
   "name": "python3"
  },
  "language_info": {
   "codemirror_mode": {
    "name": "ipython",
    "version": 3
   },
   "file_extension": ".py",
   "mimetype": "text/x-python",
   "name": "python",
   "nbconvert_exporter": "python",
   "pygments_lexer": "ipython3",
   "version": "3.11.10"
  }
 },
 "nbformat": 4,
 "nbformat_minor": 2
}
