{
 "cells": [
  {
   "cell_type": "code",
   "execution_count": 1,
   "metadata": {},
   "outputs": [],
   "source": [
    "import sys\n",
    "\n",
    "sys.path.append(\"../../..\")\n",
    "import nest_asyncio\n",
    "from krex.bybit.client import Client\n",
    "\n",
    "nest_asyncio.apply()"
   ]
  },
  {
   "cell_type": "code",
   "execution_count": 2,
   "metadata": {},
   "outputs": [],
   "source": [
    "BYBIT_API_KEY = \"VLOpq0qMKPNWhMbKVH\"\n",
    "BYBIT_API_SECRET = \"Q3OKhzHiVSOYE2tF8ns2My4mQU7B8d5MnbOt\"\n",
    "\n",
    "client = Client(\n",
    "    api_key=BYBIT_API_KEY,\n",
    "    api_secret=BYBIT_API_SECRET,\n",
    ")"
   ]
  },
  {
   "cell_type": "markdown",
   "metadata": {},
   "source": [
    "## account http\n"
   ]
  },
  {
   "cell_type": "code",
   "execution_count": 3,
   "metadata": {},
   "outputs": [
    {
     "data": {
      "text/plain": [
       "{'retCode': 110073,\n",
       " 'retMsg': 'Set margin mode failed',\n",
       " 'result': {'reasons': [{'reasonCode': '3400100',\n",
       "    'reasonMsg': 'Asset requirements not met.'}]}}"
      ]
     },
     "execution_count": 3,
     "metadata": {},
     "output_type": "execute_result"
    }
   ],
   "source": [
    "client.set_margin_mode(\"PORTFOLIO_MARGIN\")"
   ]
  },
  {
   "cell_type": "code",
   "execution_count": null,
   "metadata": {},
   "outputs": [
    {
     "data": {
      "text/plain": [
       "{'retCode': 182102,\n",
       " 'retMsg': 'Failed repayment, there are no liabilities in the current currency.',\n",
       " 'result': {},\n",
       " 'retExtInfo': {},\n",
       " 'time': 1745439725394}"
      ]
     },
     "execution_count": 4,
     "metadata": {},
     "output_type": "execute_result"
    }
   ],
   "source": [
    "client.repay_liability()"
   ]
  },
  {
   "cell_type": "markdown",
   "metadata": {},
   "source": [
    "## asset http\n"
   ]
  },
  {
   "cell_type": "code",
   "execution_count": 6,
   "metadata": {},
   "outputs": [
    {
     "data": {
      "text/plain": [
       "{'retCode': 0,\n",
       " 'retMsg': 'success',\n",
       " 'result': {'transferId': '237c8074-41f5-4737-a3ea-d30e6aea7e7a',\n",
       "  'status': 'SUCCESS'},\n",
       " 'retExtInfo': {},\n",
       " 'time': 1745439805824}"
      ]
     },
     "execution_count": 6,
     "metadata": {},
     "output_type": "execute_result"
    }
   ],
   "source": [
    "client.create_internal_transfer(\"USDT\", \"1\", \"FUND\", \"UNIFIED\")"
   ]
  },
  {
   "cell_type": "code",
   "execution_count": null,
   "metadata": {},
   "outputs": [],
   "source": [
    "client.withdraw()"
   ]
  },
  {
   "cell_type": "code",
   "execution_count": null,
   "metadata": {},
   "outputs": [],
   "source": [
    "client.cancel_withdrawal()"
   ]
  },
  {
   "cell_type": "code",
   "execution_count": null,
   "metadata": {},
   "outputs": [],
   "source": [
    "client.create_universal_transfer()"
   ]
  },
  {
   "cell_type": "code",
   "execution_count": 8,
   "metadata": {},
   "outputs": [
    {
     "data": {
      "text/plain": [
       "{'retCode': 131001,\n",
       " 'retMsg': 'openapi svc error',\n",
       " 'result': {},\n",
       " 'retExtInfo': {},\n",
       " 'time': 1745439830776}"
      ]
     },
     "execution_count": 8,
     "metadata": {},
     "output_type": "execute_result"
    }
   ],
   "source": [
    "client.get_sub_deposit_records(\"1\")"
   ]
  },
  {
   "cell_type": "code",
   "execution_count": 9,
   "metadata": {},
   "outputs": [
    {
     "data": {
      "text/plain": [
       "{'retCode': 131003,\n",
       " 'retMsg': 'Not Support Sub Account',\n",
       " 'result': {},\n",
       " 'retExtInfo': {},\n",
       " 'time': 1745439847130}"
      ]
     },
     "execution_count": 9,
     "metadata": {},
     "output_type": "execute_result"
    }
   ],
   "source": [
    "client.set_deposit_account(accountType=\"UNIFIED\")"
   ]
  },
  {
   "cell_type": "code",
   "execution_count": 10,
   "metadata": {},
   "outputs": [
    {
     "ename": "TypeError",
     "evalue": "AssetHTTP.get_sub_deposit_address() missing 3 required positional arguments: 'coin', 'chainType', and 'subMemberId'",
     "output_type": "error",
     "traceback": [
      "\u001b[31m---------------------------------------------------------------------------\u001b[39m",
      "\u001b[31mTypeError\u001b[39m                                 Traceback (most recent call last)",
      "\u001b[36mCell\u001b[39m\u001b[36m \u001b[39m\u001b[32mIn[10]\u001b[39m\u001b[32m, line 1\u001b[39m\n\u001b[32m----> \u001b[39m\u001b[32m1\u001b[39m \u001b[43mclient\u001b[49m\u001b[43m.\u001b[49m\u001b[43mget_sub_deposit_address\u001b[49m\u001b[43m(\u001b[49m\u001b[43m)\u001b[49m\n",
      "\u001b[31mTypeError\u001b[39m: AssetHTTP.get_sub_deposit_address() missing 3 required positional arguments: 'coin', 'chainType', and 'subMemberId'"
     ]
    }
   ],
   "source": [
    "client.get_sub_deposit_address()"
   ]
  },
  {
   "cell_type": "markdown",
   "metadata": {},
   "source": [
    "## position\n"
   ]
  },
  {
   "cell_type": "code",
   "execution_count": 13,
   "metadata": {},
   "outputs": [
    {
     "data": {
      "text/plain": [
       "{'retCode': 0,\n",
       " 'retMsg': 'OK',\n",
       " 'result': {},\n",
       " 'retExtInfo': {},\n",
       " 'time': 1745439886143}"
      ]
     },
     "execution_count": 13,
     "metadata": {},
     "output_type": "execute_result"
    }
   ],
   "source": [
    "client.switch_position_mode(\"3\", \"BTCUSDT\")"
   ]
  },
  {
   "cell_type": "markdown",
   "metadata": {},
   "source": [
    "## trade\n"
   ]
  },
  {
   "cell_type": "code",
   "execution_count": null,
   "metadata": {},
   "outputs": [],
   "source": [
    "client.place_market_buy_order(\n",
    "    product_symbol=\"BTC-USDT-SPOT\",\n",
    "    qty=0.01,\n",
    "    reduceOnly=False,\n",
    ")"
   ]
  },
  {
   "cell_type": "code",
   "execution_count": null,
   "metadata": {},
   "outputs": [],
   "source": [
    "client.place_market_sell_order(\n",
    "    product_symbol=\"BTC-USDT-SPOT\",\n",
    "    qty=0.01,\n",
    "    reduceOnly=False,\n",
    ")"
   ]
  },
  {
   "cell_type": "code",
   "execution_count": null,
   "metadata": {},
   "outputs": [],
   "source": [
    "client.place_limit_buy_order(\n",
    "    product_symbol=\"BTC-USDT-SPOT\",\n",
    "    qty=0.01,\n",
    "    price=\"80000\",\n",
    "    reduceOnly=False,\n",
    ")"
   ]
  },
  {
   "cell_type": "code",
   "execution_count": null,
   "metadata": {},
   "outputs": [],
   "source": [
    "client.place_limit_sell_order(\n",
    "    product_symbol=\"BTC-USDT-SPOT\",\n",
    "    qty=0.01,\n",
    "    price=\"80000\",\n",
    "    reduceOnly=False,\n",
    ")"
   ]
  },
  {
   "cell_type": "code",
   "execution_count": null,
   "metadata": {},
   "outputs": [],
   "source": [
    "client.place_post_only_limit_buy_order(\n",
    "    product_symbol=\"BTC-USDT-SPOT\",\n",
    "    qty=0.01,\n",
    "    price=\"80000\",\n",
    "    reduceOnly=False,\n",
    ")"
   ]
  },
  {
   "cell_type": "code",
   "execution_count": null,
   "metadata": {},
   "outputs": [],
   "source": [
    "client.place_post_only_limit_sell_order(\n",
    "    product_symbol=\"BTC-USDT-SPOT\",\n",
    "    qty=0.01,\n",
    "    price=\"80000\",\n",
    "    reduceOnly=False,\n",
    ")"
   ]
  },
  {
   "cell_type": "code",
   "execution_count": null,
   "metadata": {},
   "outputs": [],
   "source": [
    "client.amend_order(\n",
    "    product_symbol=\"BTC-USDT-SPOT\",\n",
    ")"
   ]
  },
  {
   "cell_type": "code",
   "execution_count": null,
   "metadata": {},
   "outputs": [],
   "source": [
    "client.cancel_order(\n",
    "    product_symbol=\"BTC-USDT-SPOT\",\n",
    ")"
   ]
  },
  {
   "cell_type": "code",
   "execution_count": null,
   "metadata": {},
   "outputs": [],
   "source": [
    "client.cancel_all_orders(\n",
    "    product_symbol=\"BTC-USDT-SPOT\",\n",
    ")"
   ]
  },
  {
   "cell_type": "code",
   "execution_count": null,
   "metadata": {},
   "outputs": [],
   "source": [
    "client.place_batch_order(\n",
    "    category=\"spot\",\n",
    "    request=[\n",
    "        {\n",
    "            \"symbol\": \"BTCUSDT\",\n",
    "            \"side\": \"Buy\",\n",
    "            \"orderType\": \"Limit\",\n",
    "            \"isLeverage\": 0,\n",
    "            \"qty\": \"0.05\",\n",
    "            \"price\": \"30000\",\n",
    "            \"timeInForce\": \"GTC\",\n",
    "            \"orderLinkId\": \"spot-btc-03\",\n",
    "        },\n",
    "        {\n",
    "            \"symbol\": \"ATOMUSDT\",\n",
    "            \"side\": \"Sell\",\n",
    "            \"orderType\": \"Limit\",\n",
    "            \"isLeverage\": 0,\n",
    "            \"qty\": \"2\",\n",
    "            \"price\": \"12\",\n",
    "            \"timeInForce\": \"GTC\",\n",
    "            \"orderLinkId\": \"spot-atom-03\",\n",
    "        },\n",
    "    ],\n",
    ")"
   ]
  },
  {
   "cell_type": "code",
   "execution_count": null,
   "metadata": {},
   "outputs": [],
   "source": [
    "client.amend_batch_order(\n",
    "    category=\"option\",\n",
    "    request=[\n",
    "        {\n",
    "            \"category\": \"option\",\n",
    "            \"symbol\": \"ETH-30DEC22-500-C\",\n",
    "            \"orderIv\": \"6.8\",\n",
    "            \"orderId\": \"b551f227-7059-4fb5-a6a6-699c04dbd2f2\",\n",
    "        },\n",
    "        {\n",
    "            \"category\": \"option\",\n",
    "            \"symbol\": \"ETH-30DEC22-700-C\",\n",
    "            \"price\": \"650\",\n",
    "            \"orderId\": \"fa6a595f-1a57-483f-b9d3-30e9c8235a52\",\n",
    "        },\n",
    "    ],\n",
    ")"
   ]
  },
  {
   "cell_type": "code",
   "execution_count": null,
   "metadata": {},
   "outputs": [],
   "source": [
    "client.cancel_batch_order(\n",
    "    category=\"spot\",\n",
    "    request=[\n",
    "        {\"symbol\": \"BTCUSDT\", \"orderId\": \"1666800494330512128\"},\n",
    "        {\"symbol\": \"ATOMUSDT\", \"orderLinkId\": \"1666800494330512129\"},\n",
    "    ],\n",
    ")"
   ]
  },
  {
   "cell_type": "code",
   "execution_count": 26,
   "metadata": {},
   "outputs": [
    {
     "data": {
      "text/plain": [
       "{'retCode': 0,\n",
       " 'retMsg': 'OK',\n",
       " 'result': {'nextPageCursor': '', 'category': 'linear', 'list': []},\n",
       " 'retExtInfo': {},\n",
       " 'time': 1745440158042}"
      ]
     },
     "execution_count": 26,
     "metadata": {},
     "output_type": "execute_result"
    }
   ],
   "source": [
    "client.get_order_history(product_symbol=\"ETH-USDT-SWAP\", cursor=\"\")"
   ]
  },
  {
   "cell_type": "code",
   "execution_count": 24,
   "metadata": {},
   "outputs": [
    {
     "data": {
      "text/plain": [
       "{'retCode': 0,\n",
       " 'retMsg': 'SUCCESS',\n",
       " 'result': {'spotMarginMode': '1'},\n",
       " 'retExtInfo': {},\n",
       " 'time': 1745440135633}"
      ]
     },
     "execution_count": 24,
     "metadata": {},
     "output_type": "execute_result"
    }
   ],
   "source": [
    "client.spot_margin_trade_toggle_margin_trade(\n",
    "    spotMarginMode=\"1\",\n",
    ")"
   ]
  },
  {
   "cell_type": "code",
   "execution_count": 25,
   "metadata": {},
   "outputs": [
    {
     "data": {
      "text/plain": [
       "{'retCode': 0,\n",
       " 'retMsg': '',\n",
       " 'result': {},\n",
       " 'retExtInfo': {},\n",
       " 'time': 1745440141768}"
      ]
     },
     "execution_count": 25,
     "metadata": {},
     "output_type": "execute_result"
    }
   ],
   "source": [
    "client.spot_margin_trade_set_leverage(\n",
    "    leverage=\"10\",\n",
    ")"
   ]
  }
 ],
 "metadata": {
  "kernelspec": {
   "display_name": ".venv",
   "language": "python",
   "name": "python3"
  },
  "language_info": {
   "codemirror_mode": {
    "name": "ipython",
    "version": 3
   },
   "file_extension": ".py",
   "mimetype": "text/x-python",
   "name": "python",
   "nbconvert_exporter": "python",
   "pygments_lexer": "ipython3",
   "version": "3.11.10"
  }
 },
 "nbformat": 4,
 "nbformat_minor": 2
}
