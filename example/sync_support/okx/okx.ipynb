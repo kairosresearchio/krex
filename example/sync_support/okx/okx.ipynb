{
 "cells": [
  {
   "cell_type": "code",
   "execution_count": 1,
   "metadata": {},
   "outputs": [],
   "source": [
    "import sys\n",
    "\n",
    "sys.path.append(\"../../..\")\n",
    "import nest_asyncio\n",
    "from krex.okx.client import Client\n",
    "\n",
    "nest_asyncio.apply()"
   ]
  },
  {
   "cell_type": "code",
   "execution_count": 2,
   "metadata": {},
   "outputs": [],
   "source": [
    "client = Client(\n",
    "    api_key=\"afef1997-a90a-4dd2-bc2e-c74b500bbb03\",\n",
    "    api_secret=\"186529BB2AAD75A6B88E63A7EC1D3179\",\n",
    "    passphrase=\"Aras1234@\",\n",
    ")"
   ]
  },
  {
   "cell_type": "markdown",
   "metadata": {},
   "source": [
    "## account http\n"
   ]
  },
  {
   "cell_type": "code",
   "execution_count": 3,
   "metadata": {},
   "outputs": [
    {
     "data": {
      "text/html": [
       "<div><style>\n",
       ".dataframe > thead > tr,\n",
       ".dataframe > tbody > tr {\n",
       "  text-align: right;\n",
       "  white-space: pre-wrap;\n",
       "}\n",
       "</style>\n",
       "<small>shape: (227, 2)</small><table border=\"1\" class=\"dataframe\"><thead><tr><th>ccy</th><th>interestRate</th></tr><tr><td>str</td><td>str</td></tr></thead><tbody><tr><td>&quot;BTC&quot;</td><td>&quot;0.00000115&quot;</td></tr><tr><td>&quot;ETH&quot;</td><td>&quot;0.00000115&quot;</td></tr><tr><td>&quot;OKB&quot;</td><td>&quot;0.00000115&quot;</td></tr><tr><td>&quot;SOL&quot;</td><td>&quot;0.00000229&quot;</td></tr><tr><td>&quot;TON&quot;</td><td>&quot;0.00000115&quot;</td></tr><tr><td>&hellip;</td><td>&hellip;</td></tr><tr><td>&quot;ZIL&quot;</td><td>&quot;0.00005366&quot;</td></tr><tr><td>&quot;ZK&quot;</td><td>&quot;0.00000115&quot;</td></tr><tr><td>&quot;ZKJ&quot;</td><td>&quot;0.00000115&quot;</td></tr><tr><td>&quot;ZRO&quot;</td><td>&quot;0.00000115&quot;</td></tr><tr><td>&quot;ZRX&quot;</td><td>&quot;0.00000571&quot;</td></tr></tbody></table></div>"
      ],
      "text/plain": [
       "shape: (227, 2)\n",
       "┌─────┬──────────────┐\n",
       "│ ccy ┆ interestRate │\n",
       "│ --- ┆ ---          │\n",
       "│ str ┆ str          │\n",
       "╞═════╪══════════════╡\n",
       "│ BTC ┆ 0.00000115   │\n",
       "│ ETH ┆ 0.00000115   │\n",
       "│ OKB ┆ 0.00000115   │\n",
       "│ SOL ┆ 0.00000229   │\n",
       "│ TON ┆ 0.00000115   │\n",
       "│ …   ┆ …            │\n",
       "│ ZIL ┆ 0.00005366   │\n",
       "│ ZK  ┆ 0.00000115   │\n",
       "│ ZKJ ┆ 0.00000115   │\n",
       "│ ZRO ┆ 0.00000115   │\n",
       "│ ZRX ┆ 0.00000571   │\n",
       "└─────┴──────────────┘"
      ]
     },
     "execution_count": 3,
     "metadata": {},
     "output_type": "execute_result"
    }
   ],
   "source": [
    "client.get_interest_rate()"
   ]
  },
  {
   "cell_type": "code",
   "execution_count": 9,
   "metadata": {},
   "outputs": [
    {
     "data": {
      "text/html": [
       "<div><style>\n",
       ".dataframe > thead > tr,\n",
       ".dataframe > tbody > tr {\n",
       "  text-align: right;\n",
       "  white-space: pre-wrap;\n",
       "}\n",
       "</style>\n",
       "<small>shape: (2, 63)</small><table border=\"1\" class=\"dataframe\"><thead><tr><th>adl</th><th>availPos</th><th>avgPx</th><th>baseBal</th><th>baseBorrowed</th><th>baseInterest</th><th>bePx</th><th>bizRefId</th><th>bizRefType</th><th>cTime</th><th>ccy</th><th>clSpotInUseAmt</th><th>closeOrderAlgo</th><th>deltaBS</th><th>deltaPA</th><th>fee</th><th>fundingFee</th><th>gammaBS</th><th>gammaPA</th><th>idxPx</th><th>imr</th><th>instId</th><th>instType</th><th>interest</th><th>last</th><th>lever</th><th>liab</th><th>liabCcy</th><th>liqPenalty</th><th>liqPx</th><th>margin</th><th>markPx</th><th>maxSpotInUseAmt</th><th>mgnMode</th><th>mgnRatio</th><th>mmr</th><th>nonSettleAvgPx</th><th>notionalUsd</th><th>optVal</th><th>pendingCloseOrdLiabVal</th><th>pnl</th><th>pos</th><th>posCcy</th><th>posId</th><th>posSide</th><th>quoteBal</th><th>quoteBorrowed</th><th>quoteInterest</th><th>realizedPnl</th><th>settledPnl</th><th>spotInUseAmt</th><th>spotInUseCcy</th><th>thetaBS</th><th>thetaPA</th><th>tradeId</th><th>uTime</th><th>upl</th><th>uplLastPx</th><th>uplRatio</th><th>uplRatioLastPx</th><th>usdPx</th><th>vegaBS</th><th>vegaPA</th></tr><tr><td>str</td><td>str</td><td>str</td><td>str</td><td>str</td><td>str</td><td>str</td><td>str</td><td>str</td><td>str</td><td>str</td><td>str</td><td>list[null]</td><td>str</td><td>str</td><td>str</td><td>str</td><td>str</td><td>str</td><td>str</td><td>str</td><td>str</td><td>str</td><td>str</td><td>str</td><td>str</td><td>str</td><td>str</td><td>str</td><td>str</td><td>str</td><td>str</td><td>str</td><td>str</td><td>str</td><td>str</td><td>str</td><td>str</td><td>str</td><td>str</td><td>str</td><td>str</td><td>str</td><td>str</td><td>str</td><td>str</td><td>str</td><td>str</td><td>str</td><td>str</td><td>str</td><td>str</td><td>str</td><td>str</td><td>str</td><td>str</td><td>str</td><td>str</td><td>str</td><td>str</td><td>str</td><td>str</td><td>str</td></tr></thead><tbody><tr><td>&quot;1&quot;</td><td>&quot;0.16&quot;</td><td>&quot;87490.1&quot;</td><td>&quot;&quot;</td><td>&quot;&quot;</td><td>&quot;&quot;</td><td>&quot;87577.63386693347&quot;</td><td>&quot;&quot;</td><td>&quot;&quot;</td><td>&quot;1745242858591&quot;</td><td>&quot;USDT&quot;</td><td>&quot;&quot;</td><td>[]</td><td>&quot;&quot;</td><td>&quot;&quot;</td><td>&quot;-0.06999208&quot;</td><td>&quot;0&quot;</td><td>&quot;&quot;</td><td>&quot;&quot;</td><td>&quot;87483.0000000000000000&quot;</td><td>&quot;&quot;</td><td>&quot;BTC-USDT-SWAP&quot;</td><td>&quot;SWAP&quot;</td><td>&quot;&quot;</td><td>&quot;87470&quot;</td><td>&quot;30&quot;</td><td>&quot;&quot;</td><td>&quot;&quot;</td><td>&quot;0&quot;</td><td>&quot;84956.16562866232&quot;</td><td>&quot;4.6661386666666667&quot;</td><td>&quot;87471.9&quot;</td><td>&quot;&quot;</td><td>&quot;isolated&quot;</td><td>&quot;7.362711572177669&quot;</td><td>&quot;0.55982016&quot;</td><td>&quot;&quot;</td><td>&quot;139.9676359536&quot;</td><td>&quot;&quot;</td><td>&quot;&quot;</td><td>&quot;0&quot;</td><td>&quot;0.16&quot;</td><td>&quot;&quot;</td><td>&quot;2440764771466534912&quot;</td><td>&quot;long&quot;</td><td>&quot;&quot;</td><td>&quot;&quot;</td><td>&quot;&quot;</td><td>&quot;-0.06999208&quot;</td><td>&quot;&quot;</td><td>&quot;&quot;</td><td>&quot;&quot;</td><td>&quot;&quot;</td><td>&quot;&quot;</td><td>&quot;1477301273&quot;</td><td>&quot;1745242858591&quot;</td><td>&quot;-0.0291200000000186&quot;</td><td>&quot;-0.0321600000000093&quot;</td><td>&quot;-0.0062407060913217&quot;</td><td>&quot;-0.0068922083755796&quot;</td><td>&quot;1.00009&quot;</td><td>&quot;&quot;</td><td>&quot;&quot;</td></tr><tr><td>&quot;&quot;</td><td>&quot;&quot;</td><td>&quot;&quot;</td><td>&quot;&quot;</td><td>&quot;&quot;</td><td>&quot;&quot;</td><td>&quot;&quot;</td><td>&quot;&quot;</td><td>&quot;&quot;</td><td>&quot;1745242727320&quot;</td><td>&quot;USDT&quot;</td><td>&quot;&quot;</td><td>[]</td><td>&quot;&quot;</td><td>&quot;&quot;</td><td>&quot;&quot;</td><td>&quot;&quot;</td><td>&quot;&quot;</td><td>&quot;&quot;</td><td>&quot;&quot;</td><td>&quot;&quot;</td><td>&quot;BTC-USDT-SWAP&quot;</td><td>&quot;SWAP&quot;</td><td>&quot;&quot;</td><td>&quot;&quot;</td><td>&quot;&quot;</td><td>&quot;&quot;</td><td>&quot;&quot;</td><td>&quot;&quot;</td><td>&quot;&quot;</td><td>&quot;&quot;</td><td>&quot;&quot;</td><td>&quot;&quot;</td><td>&quot;cross&quot;</td><td>&quot;&quot;</td><td>&quot;0&quot;</td><td>&quot;&quot;</td><td>&quot;&quot;</td><td>&quot;&quot;</td><td>&quot;&quot;</td><td>&quot;&quot;</td><td>&quot;0&quot;</td><td>&quot;&quot;</td><td>&quot;2440760366742691840&quot;</td><td>&quot;long&quot;</td><td>&quot;&quot;</td><td>&quot;&quot;</td><td>&quot;&quot;</td><td>&quot;&quot;</td><td>&quot;&quot;</td><td>&quot;&quot;</td><td>&quot;&quot;</td><td>&quot;&quot;</td><td>&quot;&quot;</td><td>&quot;1477300711&quot;</td><td>&quot;1745242849474&quot;</td><td>&quot;&quot;</td><td>&quot;&quot;</td><td>&quot;&quot;</td><td>&quot;&quot;</td><td>&quot;&quot;</td><td>&quot;&quot;</td><td>&quot;&quot;</td></tr></tbody></table></div>"
      ],
      "text/plain": [
       "shape: (2, 63)\n",
       "┌─────┬──────────┬─────────┬─────────┬───┬─────────────────────┬─────────┬────────┬────────┐\n",
       "│ adl ┆ availPos ┆ avgPx   ┆ baseBal ┆ … ┆ uplRatioLastPx      ┆ usdPx   ┆ vegaBS ┆ vegaPA │\n",
       "│ --- ┆ ---      ┆ ---     ┆ ---     ┆   ┆ ---                 ┆ ---     ┆ ---    ┆ ---    │\n",
       "│ str ┆ str      ┆ str     ┆ str     ┆   ┆ str                 ┆ str     ┆ str    ┆ str    │\n",
       "╞═════╪══════════╪═════════╪═════════╪═══╪═════════════════════╪═════════╪════════╪════════╡\n",
       "│ 1   ┆ 0.16     ┆ 87490.1 ┆         ┆ … ┆ -0.0068922083755796 ┆ 1.00009 ┆        ┆        │\n",
       "│     ┆          ┆         ┆         ┆ … ┆                     ┆         ┆        ┆        │\n",
       "└─────┴──────────┴─────────┴─────────┴───┴─────────────────────┴─────────┴────────┴────────┘"
      ]
     },
     "execution_count": 9,
     "metadata": {},
     "output_type": "execute_result"
    }
   ],
   "source": [
    "client.get_positions(product_symbol=\"BTC-USDT-SWAP\")"
   ]
  },
  {
   "cell_type": "code",
   "execution_count": 13,
   "metadata": {},
   "outputs": [
    {
     "data": {
      "text/plain": [
       "{'code': '0',\n",
       " 'data': [{'amt': '5',\n",
       "   'ccy': '',\n",
       "   'instId': 'BTC-USDT-SWAP',\n",
       "   'leverage': '30',\n",
       "   'posSide': 'long',\n",
       "   'type': 'add'}],\n",
       " 'msg': ''}"
      ]
     },
     "execution_count": 13,
     "metadata": {},
     "output_type": "execute_result"
    }
   ],
   "source": [
    "client.adjustment_margin(\n",
    "    product_symbol=\"BTC-USDT-SWAP\",\n",
    "    posSide=\"long\",\n",
    "    type=\"add\",\n",
    "    amt=\"5\",\n",
    ")"
   ]
  },
  {
   "cell_type": "code",
   "execution_count": 16,
   "metadata": {},
   "outputs": [
    {
     "data": {
      "text/plain": [
       "{'code': '0', 'data': [{'autoLoan': True}], 'msg': ''}"
      ]
     },
     "execution_count": 16,
     "metadata": {},
     "output_type": "execute_result"
    }
   ],
   "source": [
    "client.set_auto_loan(autoLoan=\"true\")"
   ]
  },
  {
   "cell_type": "markdown",
   "metadata": {},
   "source": [
    "## asset http\n"
   ]
  },
  {
   "cell_type": "code",
   "execution_count": 17,
   "metadata": {},
   "outputs": [
    {
     "data": {
      "text/html": [
       "<div><style>\n",
       ".dataframe > thead > tr,\n",
       ".dataframe > tbody > tr {\n",
       "  text-align: right;\n",
       "  white-space: pre-wrap;\n",
       "}\n",
       "</style>\n",
       "<small>shape: (1, 7)</small><table border=\"1\" class=\"dataframe\"><thead><tr><th>baseCcy</th><th>baseCcyMax</th><th>baseCcyMin</th><th>instId</th><th>quoteCcy</th><th>quoteCcyMax</th><th>quoteCcyMin</th></tr><tr><td>str</td><td>str</td><td>str</td><td>str</td><td>str</td><td>str</td><td>str</td></tr></thead><tbody><tr><td>&quot;BTC&quot;</td><td>&quot;0.59&quot;</td><td>&quot;0.00001&quot;</td><td>&quot;BTC-USDT&quot;</td><td>&quot;USDT&quot;</td><td>&quot;50000&quot;</td><td>&quot;0.84406&quot;</td></tr></tbody></table></div>"
      ],
      "text/plain": [
       "shape: (1, 7)\n",
       "┌─────────┬────────────┬────────────┬──────────┬──────────┬─────────────┬─────────────┐\n",
       "│ baseCcy ┆ baseCcyMax ┆ baseCcyMin ┆ instId   ┆ quoteCcy ┆ quoteCcyMax ┆ quoteCcyMin │\n",
       "│ ---     ┆ ---        ┆ ---        ┆ ---      ┆ ---      ┆ ---         ┆ ---         │\n",
       "│ str     ┆ str        ┆ str        ┆ str      ┆ str      ┆ str         ┆ str         │\n",
       "╞═════════╪════════════╪════════════╪══════════╪══════════╪═════════════╪═════════════╡\n",
       "│ BTC     ┆ 0.59       ┆ 0.00001    ┆ BTC-USDT ┆ USDT     ┆ 50000       ┆ 0.84406     │\n",
       "└─────────┴────────────┴────────────┴──────────┴──────────┴─────────────┴─────────────┘"
      ]
     },
     "execution_count": 17,
     "metadata": {},
     "output_type": "execute_result"
    }
   ],
   "source": [
    "client.get_convert_currencies_pair(fromCcy=\"USDT\", toCcy=\"BTC\")"
   ]
  },
  {
   "cell_type": "code",
   "execution_count": null,
   "metadata": {},
   "outputs": [],
   "source": [
    "client.get_transfer_state(transId=\"1\", clientId=\"1\")"
   ]
  },
  {
   "cell_type": "code",
   "execution_count": null,
   "metadata": {},
   "outputs": [],
   "source": [
    "client.get_deposit_withdraw_status(txId=\"1\")"
   ]
  },
  {
   "cell_type": "code",
   "execution_count": null,
   "metadata": {},
   "outputs": [],
   "source": [
    "client.funds_transfer(\n",
    "    ccy=\"USDT\",\n",
    "    amt=\"1\",\n",
    "    from_account=\"6\",\n",
    "    to_account=\"6\",\n",
    ")"
   ]
  },
  {
   "cell_type": "code",
   "execution_count": null,
   "metadata": {},
   "outputs": [],
   "source": [
    "client.withdrawal(\n",
    "    ccy=\"USDT\",\n",
    "    amt=\"1\",\n",
    "    dest=\"4\",\n",
    "    to_addr=\"ooxx\",\n",
    ")"
   ]
  },
  {
   "cell_type": "code",
   "execution_count": null,
   "metadata": {},
   "outputs": [],
   "source": [
    "client.cancel_withdrawal(wdId=\"123456789\")"
   ]
  },
  {
   "cell_type": "code",
   "execution_count": null,
   "metadata": {},
   "outputs": [],
   "source": [
    "client.post_estimate_quote(\n",
    "    baseCcy=\"USDT\",\n",
    "    quoteCcy=\"BTC\",\n",
    "    side=\"1\",\n",
    "    rfqSz=\"\",\n",
    "    rfqSzCcy=\"\",\n",
    ")"
   ]
  },
  {
   "cell_type": "code",
   "execution_count": null,
   "metadata": {},
   "outputs": [],
   "source": [
    "client.post_convert_trade(\n",
    "    quoteId=\"\",\n",
    "    baseCcy=\"USDT\",\n",
    "    quoteCcy=\"BTC\",\n",
    "    side=\"1\",\n",
    "    sz=\"\",\n",
    "    szCcy=\"\",\n",
    ")"
   ]
  },
  {
   "cell_type": "markdown",
   "metadata": {},
   "source": [
    "## trade http\n"
   ]
  },
  {
   "cell_type": "code",
   "execution_count": null,
   "metadata": {},
   "outputs": [],
   "source": [
    "client.place_market_buy_order(\n",
    "    product_symbol=\"BTC-USDT-SPOT\",\n",
    "    tdMode=\"cash\",\n",
    "    sz=\"0.0001\",\n",
    ")"
   ]
  },
  {
   "cell_type": "code",
   "execution_count": null,
   "metadata": {},
   "outputs": [],
   "source": [
    "client.place_market_sell_order(\n",
    "    product_symbol=\"BTC-USDT-SPOT\",\n",
    "    tdMode=\"cash\",\n",
    "    sz=\"0.0001\",\n",
    ")"
   ]
  },
  {
   "cell_type": "code",
   "execution_count": null,
   "metadata": {},
   "outputs": [],
   "source": [
    "client.place_limit_buy_order(\n",
    "    product_symbol=\"BTC-USDT-SPOT\",\n",
    "    tdMode=\"cash\",\n",
    "    sz=\"0.0001\",\n",
    "    px=\"80000\",\n",
    ")"
   ]
  },
  {
   "cell_type": "code",
   "execution_count": null,
   "metadata": {},
   "outputs": [],
   "source": [
    "client.place_limit_sell_order(\n",
    "    product_symbol=\"BTC-USDT-SPOT\",\n",
    "    tdMode=\"cash\",\n",
    "    sz=\"0.0001\",\n",
    "    px=\"80000\",\n",
    ")"
   ]
  },
  {
   "cell_type": "code",
   "execution_count": null,
   "metadata": {},
   "outputs": [],
   "source": [
    "client.place_post_only_limit_buy_order(\n",
    "    product_symbol=\"BTC-USDT-SPOT\",\n",
    "    tdMode=\"cash\",\n",
    "    sz=\"0.0001\",\n",
    "    px=\"80000\",\n",
    ")"
   ]
  },
  {
   "cell_type": "code",
   "execution_count": null,
   "metadata": {},
   "outputs": [],
   "source": [
    "client.place_post_only_limit_sell_order(\n",
    "    product_symbol=\"BTC-USDT-SPOT\",\n",
    "    tdMode=\"cash\",\n",
    "    sz=\"0.0001\",\n",
    "    px=\"80000\",\n",
    ")"
   ]
  },
  {
   "cell_type": "code",
   "execution_count": null,
   "metadata": {},
   "outputs": [],
   "source": [
    "orders = [\n",
    "    {\n",
    "        \"instId\": \"BTC-USDT\",\n",
    "        \"tdMode\": \"cash\",\n",
    "        \"clOrdId\": \"b15\",\n",
    "        \"side\": \"buy\",\n",
    "        \"ordType\": \"limit\",\n",
    "        \"px\": \"2.15\",\n",
    "        \"sz\": \"2\",\n",
    "    },\n",
    "    {\n",
    "        \"instId\": \"BTC-USDT\",\n",
    "        \"tdMode\": \"cash\",\n",
    "        \"clOrdId\": \"b16\",\n",
    "        \"side\": \"buy\",\n",
    "        \"ordType\": \"limit\",\n",
    "        \"px\": \"2.15\",\n",
    "        \"sz\": \"2\",\n",
    "    },\n",
    "]\n",
    "\n",
    "client.place_multiple_orders(orders)"
   ]
  },
  {
   "cell_type": "code",
   "execution_count": null,
   "metadata": {},
   "outputs": [],
   "source": [
    "client.cancel_order(\n",
    "    product_symbol=\"BTC-USDT-SPOT\",\n",
    ")"
   ]
  },
  {
   "cell_type": "code",
   "execution_count": null,
   "metadata": {},
   "outputs": [],
   "source": [
    "client.cancel_multiple_orders(\n",
    "    product_symbol=\"BTC-USDT-SPOT\",\n",
    ")"
   ]
  },
  {
   "cell_type": "code",
   "execution_count": null,
   "metadata": {},
   "outputs": [],
   "source": [
    "client.amend_order(\n",
    "    product_symbol=\"BTC-USDT-SPOT\",\n",
    ")"
   ]
  },
  {
   "cell_type": "code",
   "execution_count": null,
   "metadata": {},
   "outputs": [],
   "source": [
    "orders = [\n",
    "    {\n",
    "        \"product_symbol\": \"BTC-USDT\",\n",
    "        \"ordId\": \"cash\",\n",
    "        \"newSz\": \"b15\",\n",
    "    },\n",
    "    {\n",
    "        \"product_symbol\": \"BTC-USDT\",\n",
    "        \"ordId\": \"cash\",\n",
    "        \"newSz\": \"b16\",\n",
    "    },\n",
    "]\n",
    "\n",
    "client.amend_multiple_orders(orders)"
   ]
  },
  {
   "cell_type": "code",
   "execution_count": null,
   "metadata": {},
   "outputs": [],
   "source": [
    "client.close_positions(\n",
    "    product_symbol=\"BTC-USDT-SPOT\",\n",
    "    mgnMode=\"cross\",\n",
    ")"
   ]
  },
  {
   "cell_type": "code",
   "execution_count": null,
   "metadata": {},
   "outputs": [],
   "source": [
    "client.mass_cancel(\n",
    "    instFamily=\"BTC-USD\",\n",
    ")"
   ]
  },
  {
   "cell_type": "code",
   "execution_count": null,
   "metadata": {},
   "outputs": [],
   "source": [
    "client.mass_all_cancel(\n",
    "    timeOut=\"60\",\n",
    ")"
   ]
  }
 ],
 "metadata": {
  "kernelspec": {
   "display_name": ".venv",
   "language": "python",
   "name": "python3"
  },
  "language_info": {
   "codemirror_mode": {
    "name": "ipython",
    "version": 3
   },
   "file_extension": ".py",
   "mimetype": "text/x-python",
   "name": "python",
   "nbconvert_exporter": "python",
   "pygments_lexer": "ipython3",
   "version": "3.11.11"
  }
 },
 "nbformat": 4,
 "nbformat_minor": 2
}
