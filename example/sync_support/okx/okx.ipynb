{
 "cells": [
  {
   "cell_type": "code",
   "execution_count": 3,
   "metadata": {},
   "outputs": [],
   "source": [
    "import nest_asyncio\n",
    "from krex.okx.client import Client\n",
    "\n",
    "nest_asyncio.apply()"
   ]
  },
  {
   "cell_type": "code",
   "execution_count": 4,
   "metadata": {},
   "outputs": [],
   "source": [
    "client = Client(\n",
    "    api_key=\"afef1997-a90a-4dd2-bc2e-c74b500bbb03\",\n",
    "    api_secret=\"186529BB2AAD75A6B88E63A7EC1D3179\",\n",
    "    passphrase=\"Aras1234@\",\n",
    ")"
   ]
  },
  {
   "cell_type": "markdown",
   "metadata": {},
   "source": [
    "## account http\n"
   ]
  },
  {
   "cell_type": "code",
   "execution_count": 5,
   "metadata": {},
   "outputs": [
    {
     "data": {
      "text/html": [
       "<div><style>\n",
       ".dataframe > thead > tr,\n",
       ".dataframe > tbody > tr {\n",
       "  text-align: right;\n",
       "  white-space: pre-wrap;\n",
       "}\n",
       "</style>\n",
       "<small>shape: (227, 2)</small><table border=\"1\" class=\"dataframe\"><thead><tr><th>ccy</th><th>interestRate</th></tr><tr><td>str</td><td>str</td></tr></thead><tbody><tr><td>&quot;BTC&quot;</td><td>&quot;0.00000115&quot;</td></tr><tr><td>&quot;ETH&quot;</td><td>&quot;0.00000115&quot;</td></tr><tr><td>&quot;OKB&quot;</td><td>&quot;0.00000115&quot;</td></tr><tr><td>&quot;SOL&quot;</td><td>&quot;0.00000229&quot;</td></tr><tr><td>&quot;TON&quot;</td><td>&quot;0.00000115&quot;</td></tr><tr><td>&hellip;</td><td>&hellip;</td></tr><tr><td>&quot;ZIL&quot;</td><td>&quot;0.00000571&quot;</td></tr><tr><td>&quot;ZK&quot;</td><td>&quot;0.00000115&quot;</td></tr><tr><td>&quot;ZKJ&quot;</td><td>&quot;0.00000115&quot;</td></tr><tr><td>&quot;ZRO&quot;</td><td>&quot;0.00000115&quot;</td></tr><tr><td>&quot;ZRX&quot;</td><td>&quot;0.00000571&quot;</td></tr></tbody></table></div>"
      ],
      "text/plain": [
       "shape: (227, 2)\n",
       "┌─────┬──────────────┐\n",
       "│ ccy ┆ interestRate │\n",
       "│ --- ┆ ---          │\n",
       "│ str ┆ str          │\n",
       "╞═════╪══════════════╡\n",
       "│ BTC ┆ 0.00000115   │\n",
       "│ ETH ┆ 0.00000115   │\n",
       "│ OKB ┆ 0.00000115   │\n",
       "│ SOL ┆ 0.00000229   │\n",
       "│ TON ┆ 0.00000115   │\n",
       "│ …   ┆ …            │\n",
       "│ ZIL ┆ 0.00000571   │\n",
       "│ ZK  ┆ 0.00000115   │\n",
       "│ ZKJ ┆ 0.00000115   │\n",
       "│ ZRO ┆ 0.00000115   │\n",
       "│ ZRX ┆ 0.00000571   │\n",
       "└─────┴──────────────┘"
      ]
     },
     "execution_count": 5,
     "metadata": {},
     "output_type": "execute_result"
    }
   ],
   "source": [
    "client.get_interest_rate()"
   ]
  },
  {
   "cell_type": "code",
   "execution_count": null,
   "metadata": {},
   "outputs": [],
   "source": [
    "client.adjustment_margin(\n",
    "    product_symbol=\"BTC-USDT-SWAP\",\n",
    "    posSide=\"short\",\n",
    "    type=\"add\",\n",
    "    amt=\"0.001\",\n",
    ")"
   ]
  },
  {
   "cell_type": "code",
   "execution_count": null,
   "metadata": {},
   "outputs": [],
   "source": [
    "client.quick_borrow_repay(\n",
    "    product_symbol=\"BTC-USDT-SPOT\",\n",
    "    ccy=\"USDT\",\n",
    "    side=\"borrow\",\n",
    "    amt=\"0.01\",\n",
    ")"
   ]
  },
  {
   "cell_type": "code",
   "execution_count": null,
   "metadata": {},
   "outputs": [],
   "source": [
    "client.spot_manual_borrow_repay(\n",
    "    ccy=\"USDT\",\n",
    "    side=\"borrow\",\n",
    "    amt=\"0.01\",\n",
    ")"
   ]
  },
  {
   "cell_type": "code",
   "execution_count": null,
   "metadata": {},
   "outputs": [],
   "source": [
    "client.set_risk_offset_amt(\n",
    "    ccy=\"USDT\",\n",
    "    clSpotInUseAmt=\"0.01\",\n",
    ")"
   ]
  },
  {
   "cell_type": "code",
   "execution_count": null,
   "metadata": {},
   "outputs": [],
   "source": [
    "client.set_auto_loan(autoLoan=\"true\")"
   ]
  },
  {
   "cell_type": "markdown",
   "metadata": {},
   "source": [
    "## asset http\n"
   ]
  },
  {
   "cell_type": "code",
   "execution_count": 7,
   "metadata": {},
   "outputs": [
    {
     "data": {
      "text/html": [
       "<div><style>\n",
       ".dataframe > thead > tr,\n",
       ".dataframe > tbody > tr {\n",
       "  text-align: right;\n",
       "  white-space: pre-wrap;\n",
       "}\n",
       "</style>\n",
       "<small>shape: (1, 7)</small><table border=\"1\" class=\"dataframe\"><thead><tr><th>baseCcy</th><th>baseCcyMax</th><th>baseCcyMin</th><th>instId</th><th>quoteCcy</th><th>quoteCcyMax</th><th>quoteCcyMin</th></tr><tr><td>str</td><td>str</td><td>str</td><td>str</td><td>str</td><td>str</td><td>str</td></tr></thead><tbody><tr><td>&quot;BTC&quot;</td><td>&quot;0.59&quot;</td><td>&quot;0.00001&quot;</td><td>&quot;BTC-USDT&quot;</td><td>&quot;USDT&quot;</td><td>&quot;50000&quot;</td><td>&quot;0.84406&quot;</td></tr></tbody></table></div>"
      ],
      "text/plain": [
       "shape: (1, 7)\n",
       "┌─────────┬────────────┬────────────┬──────────┬──────────┬─────────────┬─────────────┐\n",
       "│ baseCcy ┆ baseCcyMax ┆ baseCcyMin ┆ instId   ┆ quoteCcy ┆ quoteCcyMax ┆ quoteCcyMin │\n",
       "│ ---     ┆ ---        ┆ ---        ┆ ---      ┆ ---      ┆ ---         ┆ ---         │\n",
       "│ str     ┆ str        ┆ str        ┆ str      ┆ str      ┆ str         ┆ str         │\n",
       "╞═════════╪════════════╪════════════╪══════════╪══════════╪═════════════╪═════════════╡\n",
       "│ BTC     ┆ 0.59       ┆ 0.00001    ┆ BTC-USDT ┆ USDT     ┆ 50000       ┆ 0.84406     │\n",
       "└─────────┴────────────┴────────────┴──────────┴──────────┴─────────────┴─────────────┘"
      ]
     },
     "execution_count": 7,
     "metadata": {},
     "output_type": "execute_result"
    }
   ],
   "source": [
    "client.get_convert_currencies_pair(fromCcy=\"USDT\", toCcy=\"BTC\")"
   ]
  },
  {
   "cell_type": "code",
   "execution_count": null,
   "metadata": {},
   "outputs": [],
   "source": [
    "client.get_transfer_state(transId=\"1\", clientId=\"1\")"
   ]
  },
  {
   "cell_type": "code",
   "execution_count": null,
   "metadata": {},
   "outputs": [],
   "source": [
    "client.get_deposit_withdraw_status(txId=\"1\")"
   ]
  },
  {
   "cell_type": "code",
   "execution_count": null,
   "metadata": {},
   "outputs": [],
   "source": [
    "client.funds_transfer(\n",
    "    ccy=\"USDT\",\n",
    "    amt=\"1\",\n",
    "    from_account=\"6\",\n",
    "    to_account=\"6\",\n",
    ")"
   ]
  },
  {
   "cell_type": "code",
   "execution_count": null,
   "metadata": {},
   "outputs": [],
   "source": [
    "client.withdrawal(\n",
    "    ccy=\"USDT\",\n",
    "    amt=\"1\",\n",
    "    dest=\"4\",\n",
    "    to_addr=\"ooxx\",\n",
    ")"
   ]
  },
  {
   "cell_type": "code",
   "execution_count": null,
   "metadata": {},
   "outputs": [],
   "source": [
    "client.cancel_withdrawal(wdId=\"123456789\")"
   ]
  },
  {
   "cell_type": "code",
   "execution_count": null,
   "metadata": {},
   "outputs": [],
   "source": [
    "client.post_estimate_quote(\n",
    "    baseCcy=\"USDT\",\n",
    "    quoteCcy=\"BTC\",\n",
    "    side=\"1\",\n",
    "    rfqSz=\"\",\n",
    "    rfqSzCcy=\"\",\n",
    ")"
   ]
  },
  {
   "cell_type": "code",
   "execution_count": null,
   "metadata": {},
   "outputs": [],
   "source": [
    "client.post_convert_trade(\n",
    "    quoteId=\"\",\n",
    "    baseCcy=\"USDT\",\n",
    "    quoteCcy=\"BTC\",\n",
    "    side=\"1\",\n",
    "    sz=\"\",\n",
    "    szCcy=\"\",\n",
    ")"
   ]
  },
  {
   "cell_type": "markdown",
   "metadata": {},
   "source": [
    "## trade http\n"
   ]
  },
  {
   "cell_type": "code",
   "execution_count": null,
   "metadata": {},
   "outputs": [],
   "source": [
    "client.place_market_buy_order(\n",
    "    product_symbol=\"BTC-USDT-SPOT\",\n",
    "    tdMode=\"cash\",\n",
    "    sz=\"0.0001\",\n",
    ")"
   ]
  },
  {
   "cell_type": "code",
   "execution_count": null,
   "metadata": {},
   "outputs": [],
   "source": [
    "client.place_market_sell_order(\n",
    "    product_symbol=\"BTC-USDT-SPOT\",\n",
    "    tdMode=\"cash\",\n",
    "    sz=\"0.0001\",\n",
    ")"
   ]
  },
  {
   "cell_type": "code",
   "execution_count": null,
   "metadata": {},
   "outputs": [],
   "source": [
    "client.place_limit_buy_order(\n",
    "    product_symbol=\"BTC-USDT-SPOT\",\n",
    "    tdMode=\"cash\",\n",
    "    sz=\"0.0001\",\n",
    "    px=\"80000\",\n",
    ")"
   ]
  },
  {
   "cell_type": "code",
   "execution_count": null,
   "metadata": {},
   "outputs": [],
   "source": [
    "client.place_limit_sell_order(\n",
    "    product_symbol=\"BTC-USDT-SPOT\",\n",
    "    tdMode=\"cash\",\n",
    "    sz=\"0.0001\",\n",
    "    px=\"80000\",\n",
    ")"
   ]
  },
  {
   "cell_type": "code",
   "execution_count": null,
   "metadata": {},
   "outputs": [],
   "source": [
    "client.place_post_only_limit_buy_order(\n",
    "    product_symbol=\"BTC-USDT-SPOT\",\n",
    "    tdMode=\"cash\",\n",
    "    sz=\"0.0001\",\n",
    "    px=\"80000\",\n",
    ")"
   ]
  },
  {
   "cell_type": "code",
   "execution_count": null,
   "metadata": {},
   "outputs": [],
   "source": [
    "client.place_post_only_limit_sell_order(\n",
    "    product_symbol=\"BTC-USDT-SPOT\",\n",
    "    tdMode=\"cash\",\n",
    "    sz=\"0.0001\",\n",
    "    px=\"80000\",\n",
    ")"
   ]
  },
  {
   "cell_type": "code",
   "execution_count": null,
   "metadata": {},
   "outputs": [],
   "source": [
    "orders = [\n",
    "    {\n",
    "        \"instId\": \"BTC-USDT\",\n",
    "        \"tdMode\": \"cash\",\n",
    "        \"clOrdId\": \"b15\",\n",
    "        \"side\": \"buy\",\n",
    "        \"ordType\": \"limit\",\n",
    "        \"px\": \"2.15\",\n",
    "        \"sz\": \"2\",\n",
    "    },\n",
    "    {\n",
    "        \"instId\": \"BTC-USDT\",\n",
    "        \"tdMode\": \"cash\",\n",
    "        \"clOrdId\": \"b16\",\n",
    "        \"side\": \"buy\",\n",
    "        \"ordType\": \"limit\",\n",
    "        \"px\": \"2.15\",\n",
    "        \"sz\": \"2\",\n",
    "    },\n",
    "]\n",
    "\n",
    "client.place_multiple_orders(orders)"
   ]
  },
  {
   "cell_type": "code",
   "execution_count": null,
   "metadata": {},
   "outputs": [],
   "source": [
    "client.cancel_order(\n",
    "    product_symbol=\"BTC-USDT-SPOT\",\n",
    ")"
   ]
  },
  {
   "cell_type": "code",
   "execution_count": null,
   "metadata": {},
   "outputs": [],
   "source": [
    "client.cancel_multiple_orders(\n",
    "    product_symbol=\"BTC-USDT-SPOT\",\n",
    ")"
   ]
  },
  {
   "cell_type": "code",
   "execution_count": null,
   "metadata": {},
   "outputs": [],
   "source": [
    "client.amend_order(\n",
    "    product_symbol=\"BTC-USDT-SPOT\",\n",
    ")"
   ]
  },
  {
   "cell_type": "code",
   "execution_count": null,
   "metadata": {},
   "outputs": [],
   "source": [
    "orders = [\n",
    "    {\n",
    "        \"product_symbol\": \"BTC-USDT\",\n",
    "        \"ordId\": \"cash\",\n",
    "        \"newSz\": \"b15\",\n",
    "    },\n",
    "    {\n",
    "        \"product_symbol\": \"BTC-USDT\",\n",
    "        \"ordId\": \"cash\",\n",
    "        \"newSz\": \"b16\",\n",
    "    },\n",
    "]\n",
    "\n",
    "client.amend_multiple_orders(orders)"
   ]
  },
  {
   "cell_type": "code",
   "execution_count": null,
   "metadata": {},
   "outputs": [],
   "source": [
    "client.close_positions(\n",
    "    product_symbol=\"BTC-USDT-SPOT\",\n",
    "    mgnMode=\"cross\",\n",
    ")"
   ]
  },
  {
   "cell_type": "code",
   "execution_count": null,
   "metadata": {},
   "outputs": [],
   "source": [
    "client.mass_cancel(\n",
    "    instFamily=\"BTC-USD\",\n",
    ")"
   ]
  },
  {
   "cell_type": "code",
   "execution_count": null,
   "metadata": {},
   "outputs": [],
   "source": [
    "client.mass_all_cancel(\n",
    "    timeOut=\"60\",\n",
    ")"
   ]
  }
 ],
 "metadata": {
  "kernelspec": {
   "display_name": ".venv",
   "language": "python",
   "name": "python3"
  },
  "language_info": {
   "codemirror_mode": {
    "name": "ipython",
    "version": 3
   },
   "file_extension": ".py",
   "mimetype": "text/x-python",
   "name": "python",
   "nbconvert_exporter": "python",
   "pygments_lexer": "ipython3",
   "version": "3.11.10"
  }
 },
 "nbformat": 4,
 "nbformat_minor": 2
}
