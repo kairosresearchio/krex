{
 "cells": [
  {
   "cell_type": "code",
   "execution_count": 1,
   "metadata": {},
   "outputs": [],
   "source": [
    "import sys\n",
    "from datetime import datetime, timedelta\n",
    "\n",
    "sys.path.append(\"../../..\")\n",
    "import nest_asyncio\n",
    "from krex.bitmart.client import Client\n",
    "\n",
    "nest_asyncio.apply()"
   ]
  },
  {
   "cell_type": "code",
   "execution_count": 2,
   "metadata": {},
   "outputs": [],
   "source": [
    "BITMART_API_KEY = \"613c8332848ff6b83aa915ae6270f2e842901036\"\n",
    "BITMART_API_SECRET = \"66b82353bfee263185b36bdcaa244ee805c68aa87fd593addcd5124ff334ea3f\"\n",
    "MEMO = \"trade\"\n",
    "\n",
    "client = Client(\n",
    "    api_key=BITMART_API_KEY,\n",
    "    api_secret=BITMART_API_SECRET,\n",
    "    memo=MEMO,\n",
    ")"
   ]
  },
  {
   "cell_type": "markdown",
   "metadata": {},
   "source": [
    "# Market\n"
   ]
  },
  {
   "cell_type": "code",
   "execution_count": 3,
   "metadata": {},
   "outputs": [
    {
     "name": "stdout",
     "output_type": "stream",
     "text": [
      "shape: (3_547, 4)\n",
      "┌──────┬──────────────────┬──────────────────┬─────────────────┐\n",
      "│ id   ┆ name             ┆ withdraw_enabled ┆ deposit_enabled │\n",
      "│ ---  ┆ ---              ┆ ---              ┆ ---             │\n",
      "│ str  ┆ str              ┆ bool             ┆ bool            │\n",
      "╞══════╪══════════════════╪══════════════════╪═════════════════╡\n",
      "│ BTC  ┆ Bitcoin          ┆ true             ┆ true            │\n",
      "│ ETH  ┆ Ethereum         ┆ true             ┆ true            │\n",
      "│ USDT ┆ Tether USD       ┆ true             ┆ true            │\n",
      "│ BMX  ┆ BitMart Token    ┆ true             ┆ true            │\n",
      "│ XLM  ┆ Stellar          ┆ true             ┆ true            │\n",
      "│ …    ┆ …                ┆ …                ┆ …               │\n",
      "│ TIME ┆ Manipulated Time ┆ true             ┆ true            │\n",
      "│ PAWS ┆ PAWS             ┆ true             ┆ true            │\n",
      "│ GM   ┆ GOMBLE           ┆ true             ┆ true            │\n",
      "│ BIG  ┆ Bigcoin          ┆ true             ┆ true            │\n",
      "│ BANK ┆ Lorenzo Protocol ┆ false            ┆ true            │\n",
      "└──────┴──────────────────┴──────────────────┴─────────────────┘\n"
     ]
    }
   ],
   "source": [
    "client.get_spot_currencies()"
   ]
  },
  {
   "cell_type": "code",
   "execution_count": 4,
   "metadata": {},
   "outputs": [
    {
     "data": {
      "text/html": [
       "<div><style>\n",
       ".dataframe > thead > tr,\n",
       ".dataframe > tbody > tr {\n",
       "  text-align: right;\n",
       "  white-space: pre-wrap;\n",
       "}\n",
       "</style>\n",
       "<small>shape: (1, 1)</small><table border=\"1\" class=\"dataframe\"><thead><tr><th>symbols</th></tr><tr><td>list[str]</td></tr></thead><tbody><tr><td>[&quot;$NUT_USDT&quot;, &quot;ORNJ_USDT&quot;, … &quot;ET_USDT&quot;]</td></tr></tbody></table></div>"
      ],
      "text/plain": [
       "shape: (1, 1)\n",
       "┌─────────────────────────────────┐\n",
       "│ symbols                         │\n",
       "│ ---                             │\n",
       "│ list[str]                       │\n",
       "╞═════════════════════════════════╡\n",
       "│ [\"$NUT_USDT\", \"ORNJ_USDT\", … \"… │\n",
       "└─────────────────────────────────┘"
      ]
     },
     "execution_count": 4,
     "metadata": {},
     "output_type": "execute_result"
    }
   ],
   "source": [
    "client.get_trading_pairs()"
   ]
  },
  {
   "cell_type": "code",
   "execution_count": 5,
   "metadata": {},
   "outputs": [
    {
     "data": {
      "text/html": [
       "<div><style>\n",
       ".dataframe > thead > tr,\n",
       ".dataframe > tbody > tr {\n",
       "  text-align: right;\n",
       "  white-space: pre-wrap;\n",
       "}\n",
       "</style>\n",
       "<small>shape: (1_659, 12)</small><table border=\"1\" class=\"dataframe\"><thead><tr><th>symbol</th><th>symbol_id</th><th>base_currency</th><th>quote_currency</th><th>quote_increment</th><th>base_min_size</th><th>price_min_precision</th><th>price_max_precision</th><th>expiration</th><th>min_buy_amount</th><th>min_sell_amount</th><th>trade_status</th></tr><tr><td>str</td><td>i64</td><td>str</td><td>str</td><td>str</td><td>str</td><td>i64</td><td>i64</td><td>str</td><td>str</td><td>str</td><td>str</td></tr></thead><tbody><tr><td>&quot;$NUT_USDT&quot;</td><td>5443</td><td>&quot;$NUT&quot;</td><td>&quot;USDT&quot;</td><td>&quot;1&quot;</td><td>&quot;1&quot;</td><td>1</td><td>4</td><td>&quot;NA&quot;</td><td>&quot;5.0000000000000000000000000000…</td><td>&quot;5.0000000000000000000000000000…</td><td>&quot;trading&quot;</td></tr><tr><td>&quot;ORNJ_USDT&quot;</td><td>3967</td><td>&quot;ORNJ&quot;</td><td>&quot;USDT&quot;</td><td>&quot;0.01&quot;</td><td>&quot;0.01&quot;</td><td>2</td><td>5</td><td>&quot;NA&quot;</td><td>&quot;5.0000000000000000000000000000…</td><td>&quot;5.0000000000000000000000000000…</td><td>&quot;trading&quot;</td></tr><tr><td>&quot;TUBEUSD_USDT&quot;</td><td>4889</td><td>&quot;TUBEUSD&quot;</td><td>&quot;USDT&quot;</td><td>&quot;0.01&quot;</td><td>&quot;0.01&quot;</td><td>2</td><td>5</td><td>&quot;NA&quot;</td><td>&quot;5.0000000000000000000000000000…</td><td>&quot;5.0000000000000000000000000000…</td><td>&quot;trading&quot;</td></tr><tr><td>&quot;OGN_USDT&quot;</td><td>3229</td><td>&quot;OGN&quot;</td><td>&quot;USDT&quot;</td><td>&quot;0.1&quot;</td><td>&quot;0.1&quot;</td><td>1</td><td>4</td><td>&quot;NA&quot;</td><td>&quot;5.0000000000000000000000000000…</td><td>&quot;5.0000000000000000000000000000…</td><td>&quot;trading&quot;</td></tr><tr><td>&quot;HAM_USDT&quot;</td><td>3103</td><td>&quot;HAM&quot;</td><td>&quot;USDT&quot;</td><td>&quot;1&quot;</td><td>&quot;1&quot;</td><td>9</td><td>12</td><td>&quot;NA&quot;</td><td>&quot;5.0000000000000000000000000000…</td><td>&quot;5.0000000000000000000000000000…</td><td>&quot;trading&quot;</td></tr><tr><td>&hellip;</td><td>&hellip;</td><td>&hellip;</td><td>&hellip;</td><td>&hellip;</td><td>&hellip;</td><td>&hellip;</td><td>&hellip;</td><td>&hellip;</td><td>&hellip;</td><td>&hellip;</td><td>&hellip;</td></tr><tr><td>&quot;AIXBT_USDT&quot;</td><td>5067</td><td>&quot;AIXBT&quot;</td><td>&quot;USDT&quot;</td><td>&quot;0.1&quot;</td><td>&quot;0.1&quot;</td><td>1</td><td>4</td><td>&quot;NA&quot;</td><td>&quot;5.0000000000000000000000000000…</td><td>&quot;5.0000000000000000000000000000…</td><td>&quot;trading&quot;</td></tr><tr><td>&quot;HYPER_USDT&quot;</td><td>2900</td><td>&quot;HYPER&quot;</td><td>&quot;USDT&quot;</td><td>&quot;0.01&quot;</td><td>&quot;0.01&quot;</td><td>4</td><td>7</td><td>&quot;NA&quot;</td><td>&quot;5.0000000000000000000000000000…</td><td>&quot;5.0000000000000000000000000000…</td><td>&quot;trading&quot;</td></tr><tr><td>&quot;WAFFLES_USDT&quot;</td><td>4659</td><td>&quot;WAFFLES&quot;</td><td>&quot;USDT&quot;</td><td>&quot;0.01&quot;</td><td>&quot;0.01&quot;</td><td>2</td><td>5</td><td>&quot;NA&quot;</td><td>&quot;5.0000000000000000000000000000…</td><td>&quot;5.0000000000000000000000000000…</td><td>&quot;trading&quot;</td></tr><tr><td>&quot;WIN_USDT&quot;</td><td>2768</td><td>&quot;WIN&quot;</td><td>&quot;USDT&quot;</td><td>&quot;1&quot;</td><td>&quot;1&quot;</td><td>5</td><td>8</td><td>&quot;NA&quot;</td><td>&quot;5.0000000000000000000000000000…</td><td>&quot;5.0000000000000000000000000000…</td><td>&quot;trading&quot;</td></tr><tr><td>&quot;ET_USDT&quot;</td><td>5497</td><td>&quot;ET&quot;</td><td>&quot;USDT&quot;</td><td>&quot;0.001&quot;</td><td>&quot;0.001&quot;</td><td>3</td><td>6</td><td>&quot;NA&quot;</td><td>&quot;5.0000000000000000000000000000…</td><td>&quot;5.0000000000000000000000000000…</td><td>&quot;trading&quot;</td></tr></tbody></table></div>"
      ],
      "text/plain": [
       "shape: (1_659, 12)\n",
       "┌───────────┬───────────┬───────────┬───────────┬───┬───────────┬───────────┬───────────┬──────────┐\n",
       "│ symbol    ┆ symbol_id ┆ base_curr ┆ quote_cur ┆ … ┆ expiratio ┆ min_buy_a ┆ min_sell_ ┆ trade_st │\n",
       "│ ---       ┆ ---       ┆ ency      ┆ rency     ┆   ┆ n         ┆ mount     ┆ amount    ┆ atus     │\n",
       "│ str       ┆ i64       ┆ ---       ┆ ---       ┆   ┆ ---       ┆ ---       ┆ ---       ┆ ---      │\n",
       "│           ┆           ┆ str       ┆ str       ┆   ┆ str       ┆ str       ┆ str       ┆ str      │\n",
       "╞═══════════╪═══════════╪═══════════╪═══════════╪═══╪═══════════╪═══════════╪═══════════╪══════════╡\n",
       "│ $NUT_USDT ┆ 5443      ┆ $NUT      ┆ USDT      ┆ … ┆ NA        ┆ 5.0000000 ┆ 5.0000000 ┆ trading  │\n",
       "│           ┆           ┆           ┆           ┆   ┆           ┆ 000000000 ┆ 000000000 ┆          │\n",
       "│           ┆           ┆           ┆           ┆   ┆           ┆ 000000000 ┆ 000000000 ┆          │\n",
       "│           ┆           ┆           ┆           ┆   ┆           ┆ 000…      ┆ 000…      ┆          │\n",
       "│ ORNJ_USDT ┆ 3967      ┆ ORNJ      ┆ USDT      ┆ … ┆ NA        ┆ 5.0000000 ┆ 5.0000000 ┆ trading  │\n",
       "│           ┆           ┆           ┆           ┆   ┆           ┆ 000000000 ┆ 000000000 ┆          │\n",
       "│           ┆           ┆           ┆           ┆   ┆           ┆ 000000000 ┆ 000000000 ┆          │\n",
       "│           ┆           ┆           ┆           ┆   ┆           ┆ 000…      ┆ 000…      ┆          │\n",
       "│ TUBEUSD_U ┆ 4889      ┆ TUBEUSD   ┆ USDT      ┆ … ┆ NA        ┆ 5.0000000 ┆ 5.0000000 ┆ trading  │\n",
       "│ SDT       ┆           ┆           ┆           ┆   ┆           ┆ 000000000 ┆ 000000000 ┆          │\n",
       "│           ┆           ┆           ┆           ┆   ┆           ┆ 000000000 ┆ 000000000 ┆          │\n",
       "│           ┆           ┆           ┆           ┆   ┆           ┆ 000…      ┆ 000…      ┆          │\n",
       "│ OGN_USDT  ┆ 3229      ┆ OGN       ┆ USDT      ┆ … ┆ NA        ┆ 5.0000000 ┆ 5.0000000 ┆ trading  │\n",
       "│           ┆           ┆           ┆           ┆   ┆           ┆ 000000000 ┆ 000000000 ┆          │\n",
       "│           ┆           ┆           ┆           ┆   ┆           ┆ 000000000 ┆ 000000000 ┆          │\n",
       "│           ┆           ┆           ┆           ┆   ┆           ┆ 000…      ┆ 000…      ┆          │\n",
       "│ HAM_USDT  ┆ 3103      ┆ HAM       ┆ USDT      ┆ … ┆ NA        ┆ 5.0000000 ┆ 5.0000000 ┆ trading  │\n",
       "│           ┆           ┆           ┆           ┆   ┆           ┆ 000000000 ┆ 000000000 ┆          │\n",
       "│           ┆           ┆           ┆           ┆   ┆           ┆ 000000000 ┆ 000000000 ┆          │\n",
       "│           ┆           ┆           ┆           ┆   ┆           ┆ 000…      ┆ 000…      ┆          │\n",
       "│ …         ┆ …         ┆ …         ┆ …         ┆ … ┆ …         ┆ …         ┆ …         ┆ …        │\n",
       "│ AIXBT_USD ┆ 5067      ┆ AIXBT     ┆ USDT      ┆ … ┆ NA        ┆ 5.0000000 ┆ 5.0000000 ┆ trading  │\n",
       "│ T         ┆           ┆           ┆           ┆   ┆           ┆ 000000000 ┆ 000000000 ┆          │\n",
       "│           ┆           ┆           ┆           ┆   ┆           ┆ 000000000 ┆ 000000000 ┆          │\n",
       "│           ┆           ┆           ┆           ┆   ┆           ┆ 000…      ┆ 000…      ┆          │\n",
       "│ HYPER_USD ┆ 2900      ┆ HYPER     ┆ USDT      ┆ … ┆ NA        ┆ 5.0000000 ┆ 5.0000000 ┆ trading  │\n",
       "│ T         ┆           ┆           ┆           ┆   ┆           ┆ 000000000 ┆ 000000000 ┆          │\n",
       "│           ┆           ┆           ┆           ┆   ┆           ┆ 000000000 ┆ 000000000 ┆          │\n",
       "│           ┆           ┆           ┆           ┆   ┆           ┆ 000…      ┆ 000…      ┆          │\n",
       "│ WAFFLES_U ┆ 4659      ┆ WAFFLES   ┆ USDT      ┆ … ┆ NA        ┆ 5.0000000 ┆ 5.0000000 ┆ trading  │\n",
       "│ SDT       ┆           ┆           ┆           ┆   ┆           ┆ 000000000 ┆ 000000000 ┆          │\n",
       "│           ┆           ┆           ┆           ┆   ┆           ┆ 000000000 ┆ 000000000 ┆          │\n",
       "│           ┆           ┆           ┆           ┆   ┆           ┆ 000…      ┆ 000…      ┆          │\n",
       "│ WIN_USDT  ┆ 2768      ┆ WIN       ┆ USDT      ┆ … ┆ NA        ┆ 5.0000000 ┆ 5.0000000 ┆ trading  │\n",
       "│           ┆           ┆           ┆           ┆   ┆           ┆ 000000000 ┆ 000000000 ┆          │\n",
       "│           ┆           ┆           ┆           ┆   ┆           ┆ 000000000 ┆ 000000000 ┆          │\n",
       "│           ┆           ┆           ┆           ┆   ┆           ┆ 000…      ┆ 000…      ┆          │\n",
       "│ ET_USDT   ┆ 5497      ┆ ET        ┆ USDT      ┆ … ┆ NA        ┆ 5.0000000 ┆ 5.0000000 ┆ trading  │\n",
       "│           ┆           ┆           ┆           ┆   ┆           ┆ 000000000 ┆ 000000000 ┆          │\n",
       "│           ┆           ┆           ┆           ┆   ┆           ┆ 000000000 ┆ 000000000 ┆          │\n",
       "│           ┆           ┆           ┆           ┆   ┆           ┆ 000…      ┆ 000…      ┆          │\n",
       "└───────────┴───────────┴───────────┴───────────┴───┴───────────┴───────────┴───────────┴──────────┘"
      ]
     },
     "execution_count": 5,
     "metadata": {},
     "output_type": "execute_result"
    }
   ],
   "source": [
    "client.get_trading_pairs_details()"
   ]
  },
  {
   "cell_type": "code",
   "execution_count": 10,
   "metadata": {},
   "outputs": [
    {
     "data": {
      "text/html": [
       "<div><style>\n",
       ".dataframe > thead > tr,\n",
       ".dataframe > tbody > tr {\n",
       "  text-align: right;\n",
       "  white-space: pre-wrap;\n",
       "}\n",
       "</style>\n",
       "<small>shape: (1_253, 13)</small><table border=\"1\" class=\"dataframe\"><thead><tr><th>symbol</th><th>last_price</th><th>volume</th><th>quote_volume</th><th>open_price</th><th>high_price</th><th>low_price</th><th>price_change_percent</th><th>bid_price</th><th>bid_size</th><th>ask_price</th><th>ask_size</th><th>timestamp</th></tr><tr><td>str</td><td>str</td><td>str</td><td>str</td><td>str</td><td>str</td><td>str</td><td>str</td><td>str</td><td>str</td><td>str</td><td>str</td><td>str</td></tr></thead><tbody><tr><td>&quot;AGC_USDT&quot;</td><td>&quot;0.004&quot;</td><td>&quot;81035398.0&quot;</td><td>&quot;324141.686&quot;</td><td>&quot;0.004&quot;</td><td>&quot;0.004&quot;</td><td>&quot;0.004&quot;</td><td>&quot;0.00000&quot;</td><td>&quot;0.003&quot;</td><td>&quot;23327.5&quot;</td><td>&quot;0.005&quot;</td><td>&quot;3491.5&quot;</td><td>&quot;1744979828543&quot;</td></tr><tr><td>&quot;AEVO_USDT&quot;</td><td>&quot;0.089&quot;</td><td>&quot;56650.2&quot;</td><td>&quot;4919.176&quot;</td><td>&quot;0.085&quot;</td><td>&quot;0.089&quot;</td><td>&quot;0.085&quot;</td><td>&quot;0.04706&quot;</td><td>&quot;0.089&quot;</td><td>&quot;32977.5&quot;</td><td>&quot;0.09&quot;</td><td>&quot;37500.1&quot;</td><td>&quot;1744979828502&quot;</td></tr><tr><td>&quot;SEIYAN_USDT&quot;</td><td>&quot;0.00198&quot;</td><td>&quot;2606355.54&quot;</td><td>&quot;4916.17782&quot;</td><td>&quot;0.00191&quot;</td><td>&quot;0.00198&quot;</td><td>&quot;0.00183&quot;</td><td>&quot;0.03665&quot;</td><td>&quot;0.00197&quot;</td><td>&quot;12430.71&quot;</td><td>&quot;0.00199&quot;</td><td>&quot;24653.35&quot;</td><td>&quot;1744979804823&quot;</td></tr><tr><td>&quot;WREC_USDT&quot;</td><td>&quot;0.720830&quot;</td><td>&quot;50218.2&quot;</td><td>&quot;35862.075819&quot;</td><td>&quot;0.714012&quot;</td><td>&quot;0.723472&quot;</td><td>&quot;0.711798&quot;</td><td>&quot;0.00955&quot;</td><td>&quot;0.715996&quot;</td><td>&quot;29.9&quot;</td><td>&quot;0.723631&quot;</td><td>&quot;12.1&quot;</td><td>&quot;1744979828502&quot;</td></tr><tr><td>&quot;CTXC_USDT&quot;</td><td>&quot;0.0555&quot;</td><td>&quot;10880813.6&quot;</td><td>&quot;615819.5942&quot;</td><td>&quot;0.0582&quot;</td><td>&quot;0.0590&quot;</td><td>&quot;0.0524&quot;</td><td>&quot;-0.04639&quot;</td><td>&quot;0.0546&quot;</td><td>&quot;4516.7&quot;</td><td>&quot;0.0564&quot;</td><td>&quot;9062.9&quot;</td><td>&quot;1744979828432&quot;</td></tr><tr><td>&hellip;</td><td>&hellip;</td><td>&hellip;</td><td>&hellip;</td><td>&hellip;</td><td>&hellip;</td><td>&hellip;</td><td>&hellip;</td><td>&hellip;</td><td>&hellip;</td><td>&hellip;</td><td>&hellip;</td><td>&hellip;</td></tr><tr><td>&quot;WELT_USDT&quot;</td><td>&quot;0.000760&quot;</td><td>&quot;26992856&quot;</td><td>&quot;20528.698730&quot;</td><td>&quot;0.000777&quot;</td><td>&quot;0.000779&quot;</td><td>&quot;0.000715&quot;</td><td>&quot;-0.02188&quot;</td><td>&quot;0.000733&quot;</td><td>&quot;113048&quot;</td><td>&quot;0.000764&quot;</td><td>&quot;19576&quot;</td><td>&quot;1744979827376&quot;</td></tr><tr><td>&quot;NFT_USDT&quot;</td><td>&quot;0.00000042&quot;</td><td>&quot;32352128286&quot;</td><td>&quot;13749.44954516&quot;</td><td>&quot;0.00000042&quot;</td><td>&quot;0.00000043&quot;</td><td>&quot;0.00000042&quot;</td><td>&quot;0.00000&quot;</td><td>&quot;0.00000042&quot;</td><td>&quot;10713292620&quot;</td><td>&quot;0.00000043&quot;</td><td>&quot;3821378448&quot;</td><td>&quot;1744979811503&quot;</td></tr><tr><td>&quot;BTCF_USDT&quot;</td><td>&quot;0.0998&quot;</td><td>&quot;122054.94&quot;</td><td>&quot;12129.3623&quot;</td><td>&quot;0.0985&quot;</td><td>&quot;0.1002&quot;</td><td>&quot;0.0985&quot;</td><td>&quot;0.01320&quot;</td><td>&quot;0.0948&quot;</td><td>&quot;263.71&quot;</td><td>&quot;0.1025&quot;</td><td>&quot;187.35&quot;</td><td>&quot;1744979828354&quot;</td></tr><tr><td>&quot;DBD_USDT&quot;</td><td>&quot;0.000950&quot;</td><td>&quot;18153764&quot;</td><td>&quot;17280.486040&quot;</td><td>&quot;0.000950&quot;</td><td>&quot;0.000960&quot;</td><td>&quot;0.000939&quot;</td><td>&quot;0.00000&quot;</td><td>&quot;0.000947&quot;</td><td>&quot;5281&quot;</td><td>&quot;0.000956&quot;</td><td>&quot;5239&quot;</td><td>&quot;1744979827832&quot;</td></tr><tr><td>&quot;BRETT_USDT&quot;</td><td>&quot;0.03462&quot;</td><td>&quot;7013093.0&quot;</td><td>&quot;240024.46999&quot;</td><td>&quot;0.03380&quot;</td><td>&quot;0.03519&quot;</td><td>&quot;0.03229&quot;</td><td>&quot;0.02426&quot;</td><td>&quot;0.03447&quot;</td><td>&quot;13639.8&quot;</td><td>&quot;0.03482&quot;</td><td>&quot;12813.8&quot;</td><td>&quot;1744979828531&quot;</td></tr></tbody></table></div>"
      ],
      "text/plain": [
       "shape: (1_253, 13)\n",
       "┌───────────┬───────────┬───────────┬───────────┬───┬───────────┬───────────┬───────────┬──────────┐\n",
       "│ symbol    ┆ last_pric ┆ volume    ┆ quote_vol ┆ … ┆ bid_size  ┆ ask_price ┆ ask_size  ┆ timestam │\n",
       "│ ---       ┆ e         ┆ ---       ┆ ume       ┆   ┆ ---       ┆ ---       ┆ ---       ┆ p        │\n",
       "│ str       ┆ ---       ┆ str       ┆ ---       ┆   ┆ str       ┆ str       ┆ str       ┆ ---      │\n",
       "│           ┆ str       ┆           ┆ str       ┆   ┆           ┆           ┆           ┆ str      │\n",
       "╞═══════════╪═══════════╪═══════════╪═══════════╪═══╪═══════════╪═══════════╪═══════════╪══════════╡\n",
       "│ AGC_USDT  ┆ 0.004     ┆ 81035398. ┆ 324141.68 ┆ … ┆ 23327.5   ┆ 0.005     ┆ 3491.5    ┆ 17449798 │\n",
       "│           ┆           ┆ 0         ┆ 6         ┆   ┆           ┆           ┆           ┆ 28543    │\n",
       "│ AEVO_USDT ┆ 0.089     ┆ 56650.2   ┆ 4919.176  ┆ … ┆ 32977.5   ┆ 0.09      ┆ 37500.1   ┆ 17449798 │\n",
       "│           ┆           ┆           ┆           ┆   ┆           ┆           ┆           ┆ 28502    │\n",
       "│ SEIYAN_US ┆ 0.00198   ┆ 2606355.5 ┆ 4916.1778 ┆ … ┆ 12430.71  ┆ 0.00199   ┆ 24653.35  ┆ 17449798 │\n",
       "│ DT        ┆           ┆ 4         ┆ 2         ┆   ┆           ┆           ┆           ┆ 04823    │\n",
       "│ WREC_USDT ┆ 0.720830  ┆ 50218.2   ┆ 35862.075 ┆ … ┆ 29.9      ┆ 0.723631  ┆ 12.1      ┆ 17449798 │\n",
       "│           ┆           ┆           ┆ 819       ┆   ┆           ┆           ┆           ┆ 28502    │\n",
       "│ CTXC_USDT ┆ 0.0555    ┆ 10880813. ┆ 615819.59 ┆ … ┆ 4516.7    ┆ 0.0564    ┆ 9062.9    ┆ 17449798 │\n",
       "│           ┆           ┆ 6         ┆ 42        ┆   ┆           ┆           ┆           ┆ 28432    │\n",
       "│ …         ┆ …         ┆ …         ┆ …         ┆ … ┆ …         ┆ …         ┆ …         ┆ …        │\n",
       "│ WELT_USDT ┆ 0.000760  ┆ 26992856  ┆ 20528.698 ┆ … ┆ 113048    ┆ 0.000764  ┆ 19576     ┆ 17449798 │\n",
       "│           ┆           ┆           ┆ 730       ┆   ┆           ┆           ┆           ┆ 27376    │\n",
       "│ NFT_USDT  ┆ 0.0000004 ┆ 323521282 ┆ 13749.449 ┆ … ┆ 107132926 ┆ 0.0000004 ┆ 382137844 ┆ 17449798 │\n",
       "│           ┆ 2         ┆ 86        ┆ 54516     ┆   ┆ 20        ┆ 3         ┆ 8         ┆ 11503    │\n",
       "│ BTCF_USDT ┆ 0.0998    ┆ 122054.94 ┆ 12129.362 ┆ … ┆ 263.71    ┆ 0.1025    ┆ 187.35    ┆ 17449798 │\n",
       "│           ┆           ┆           ┆ 3         ┆   ┆           ┆           ┆           ┆ 28354    │\n",
       "│ DBD_USDT  ┆ 0.000950  ┆ 18153764  ┆ 17280.486 ┆ … ┆ 5281      ┆ 0.000956  ┆ 5239      ┆ 17449798 │\n",
       "│           ┆           ┆           ┆ 040       ┆   ┆           ┆           ┆           ┆ 27832    │\n",
       "│ BRETT_USD ┆ 0.03462   ┆ 7013093.0 ┆ 240024.46 ┆ … ┆ 13639.8   ┆ 0.03482   ┆ 12813.8   ┆ 17449798 │\n",
       "│ T         ┆           ┆           ┆ 999       ┆   ┆           ┆           ┆           ┆ 28531    │\n",
       "└───────────┴───────────┴───────────┴───────────┴───┴───────────┴───────────┴───────────┴──────────┘"
      ]
     },
     "execution_count": 10,
     "metadata": {},
     "output_type": "execute_result"
    }
   ],
   "source": [
    "client.get_ticker_of_all_pairs()"
   ]
  },
  {
   "cell_type": "code",
   "execution_count": 11,
   "metadata": {},
   "outputs": [
    {
     "data": {
      "text/html": [
       "<div><style>\n",
       ".dataframe > thead > tr,\n",
       ".dataframe > tbody > tr {\n",
       "  text-align: right;\n",
       "  white-space: pre-wrap;\n",
       "}\n",
       "</style>\n",
       "<small>shape: (1, 13)</small><table border=\"1\" class=\"dataframe\"><thead><tr><th>symbol</th><th>last</th><th>v_24h</th><th>qv_24h</th><th>open_24h</th><th>high_24h</th><th>low_24h</th><th>fluctuation</th><th>bid_px</th><th>bid_sz</th><th>ask_px</th><th>ask_sz</th><th>ts</th></tr><tr><td>str</td><td>str</td><td>str</td><td>str</td><td>str</td><td>str</td><td>str</td><td>str</td><td>str</td><td>str</td><td>str</td><td>str</td><td>str</td></tr></thead><tbody><tr><td>&quot;BTC_USDT&quot;</td><td>&quot;84739.34&quot;</td><td>&quot;3452.83572&quot;</td><td>&quot;292529085.28&quot;</td><td>&quot;84771.60&quot;</td><td>&quot;85466.06&quot;</td><td>&quot;83744.15&quot;</td><td>&quot;-0.00038&quot;</td><td>&quot;84739.33&quot;</td><td>&quot;0.00237&quot;</td><td>&quot;84739.34&quot;</td><td>&quot;0.02001&quot;</td><td>&quot;1744979840221&quot;</td></tr></tbody></table></div>"
      ],
      "text/plain": [
       "shape: (1, 13)\n",
       "┌──────────┬──────────┬────────────┬──────────────┬───┬─────────┬──────────┬─────────┬─────────────┐\n",
       "│ symbol   ┆ last     ┆ v_24h      ┆ qv_24h       ┆ … ┆ bid_sz  ┆ ask_px   ┆ ask_sz  ┆ ts          │\n",
       "│ ---      ┆ ---      ┆ ---        ┆ ---          ┆   ┆ ---     ┆ ---      ┆ ---     ┆ ---         │\n",
       "│ str      ┆ str      ┆ str        ┆ str          ┆   ┆ str     ┆ str      ┆ str     ┆ str         │\n",
       "╞══════════╪══════════╪════════════╪══════════════╪═══╪═════════╪══════════╪═════════╪═════════════╡\n",
       "│ BTC_USDT ┆ 84739.34 ┆ 3452.83572 ┆ 292529085.28 ┆ … ┆ 0.00237 ┆ 84739.34 ┆ 0.02001 ┆ 17449798402 │\n",
       "│          ┆          ┆            ┆              ┆   ┆         ┆          ┆         ┆ 21          │\n",
       "└──────────┴──────────┴────────────┴──────────────┴───┴─────────┴──────────┴─────────┴─────────────┘"
      ]
     },
     "execution_count": 11,
     "metadata": {},
     "output_type": "execute_result"
    }
   ],
   "source": [
    "client.get_ticker_of_a_pair(product_symbol=\"BTC-USDT-SPOT\")"
   ]
  },
  {
   "cell_type": "code",
   "execution_count": 12,
   "metadata": {},
   "outputs": [
    {
     "data": {
      "text/html": [
       "<div><style>\n",
       ".dataframe > thead > tr,\n",
       ".dataframe > tbody > tr {\n",
       "  text-align: right;\n",
       "  white-space: pre-wrap;\n",
       "}\n",
       "</style>\n",
       "<small>shape: (100, 4)</small><table border=\"1\" class=\"dataframe\"><thead><tr><th>side</th><th>price</th><th>amount</th><th>cum_amount</th></tr><tr><td>str</td><td>f64</td><td>f64</td><td>f64</td></tr></thead><tbody><tr><td>&quot;ask&quot;</td><td>84701.4</td><td>1174.0</td><td>1174.0</td></tr><tr><td>&quot;ask&quot;</td><td>84701.5</td><td>368.0</td><td>1542.0</td></tr><tr><td>&quot;ask&quot;</td><td>84701.6</td><td>321.0</td><td>1863.0</td></tr><tr><td>&quot;ask&quot;</td><td>84701.7</td><td>317.0</td><td>2180.0</td></tr><tr><td>&quot;ask&quot;</td><td>84701.8</td><td>338.0</td><td>2518.0</td></tr><tr><td>&hellip;</td><td>&hellip;</td><td>&hellip;</td><td>&hellip;</td></tr><tr><td>&quot;bid&quot;</td><td>84445.8</td><td>5915.0</td><td>70187.0</td></tr><tr><td>&quot;bid&quot;</td><td>84441.6</td><td>5919.0</td><td>76106.0</td></tr><tr><td>&quot;bid&quot;</td><td>84436.2</td><td>4286.0</td><td>80392.0</td></tr><tr><td>&quot;bid&quot;</td><td>84432.2</td><td>3310.0</td><td>83702.0</td></tr><tr><td>&quot;bid&quot;</td><td>84412.0</td><td>5919.0</td><td>89621.0</td></tr></tbody></table></div>"
      ],
      "text/plain": [
       "shape: (100, 4)\n",
       "┌──────┬─────────┬────────┬────────────┐\n",
       "│ side ┆ price   ┆ amount ┆ cum_amount │\n",
       "│ ---  ┆ ---     ┆ ---    ┆ ---        │\n",
       "│ str  ┆ f64     ┆ f64    ┆ f64        │\n",
       "╞══════╪═════════╪════════╪════════════╡\n",
       "│ ask  ┆ 84701.4 ┆ 1174.0 ┆ 1174.0     │\n",
       "│ ask  ┆ 84701.5 ┆ 368.0  ┆ 1542.0     │\n",
       "│ ask  ┆ 84701.6 ┆ 321.0  ┆ 1863.0     │\n",
       "│ ask  ┆ 84701.7 ┆ 317.0  ┆ 2180.0     │\n",
       "│ ask  ┆ 84701.8 ┆ 338.0  ┆ 2518.0     │\n",
       "│ …    ┆ …       ┆ …      ┆ …          │\n",
       "│ bid  ┆ 84445.8 ┆ 5915.0 ┆ 70187.0    │\n",
       "│ bid  ┆ 84441.6 ┆ 5919.0 ┆ 76106.0    │\n",
       "│ bid  ┆ 84436.2 ┆ 4286.0 ┆ 80392.0    │\n",
       "│ bid  ┆ 84432.2 ┆ 3310.0 ┆ 83702.0    │\n",
       "│ bid  ┆ 84412.0 ┆ 5919.0 ┆ 89621.0    │\n",
       "└──────┴─────────┴────────┴────────────┘"
      ]
     },
     "execution_count": 12,
     "metadata": {},
     "output_type": "execute_result"
    }
   ],
   "source": [
    "client.get_depth(product_symbol=\"BTC-USDT-SWAP\")"
   ]
  },
  {
   "cell_type": "code",
   "execution_count": 13,
   "metadata": {},
   "outputs": [
    {
     "data": {
      "text/html": [
       "<div><style>\n",
       ".dataframe > thead > tr,\n",
       ".dataframe > tbody > tr {\n",
       "  text-align: right;\n",
       "  white-space: pre-wrap;\n",
       "}\n",
       "</style>\n",
       "<small>shape: (100, 7)</small><table border=\"1\" class=\"dataframe\"><thead><tr><th>datetime</th><th>open</th><th>high</th><th>low</th><th>close</th><th>volume</th><th>quote_volume</th></tr><tr><td>datetime[ms]</td><td>str</td><td>str</td><td>str</td><td>str</td><td>str</td><td>str</td></tr></thead><tbody><tr><td>1970-01-21 04:42:30</td><td>&quot;84627.27&quot;</td><td>&quot;84630.19&quot;</td><td>&quot;84602.62&quot;</td><td>&quot;84608.72&quot;</td><td>&quot;11.23916&quot;</td><td>&quot;950943.00&quot;</td></tr><tr><td>1970-01-21 04:42:30.300</td><td>&quot;84608.72&quot;</td><td>&quot;84692.60&quot;</td><td>&quot;84604.99&quot;</td><td>&quot;84692.59&quot;</td><td>&quot;3.44112&quot;</td><td>&quot;291292.30&quot;</td></tr><tr><td>1970-01-21 04:42:30.600</td><td>&quot;84715.48&quot;</td><td>&quot;84715.50&quot;</td><td>&quot;84684.77&quot;</td><td>&quot;84686.52&quot;</td><td>&quot;0.84939&quot;</td><td>&quot;71941.05&quot;</td></tr><tr><td>1970-01-21 04:42:30.900</td><td>&quot;84700.34&quot;</td><td>&quot;84703.30&quot;</td><td>&quot;84676.10&quot;</td><td>&quot;84696.55&quot;</td><td>&quot;5.02064&quot;</td><td>&quot;425165.95&quot;</td></tr><tr><td>1970-01-21 04:42:31.200</td><td>&quot;84709.24&quot;</td><td>&quot;84709.24&quot;</td><td>&quot;84671.76&quot;</td><td>&quot;84678.55&quot;</td><td>&quot;2.20355&quot;</td><td>&quot;186618.27&quot;</td></tr><tr><td>&hellip;</td><td>&hellip;</td><td>&hellip;</td><td>&hellip;</td><td>&hellip;</td><td>&hellip;</td><td>&hellip;</td></tr><tr><td>1970-01-21 04:42:58.500</td><td>&quot;84606.60&quot;</td><td>&quot;84631.79&quot;</td><td>&quot;84566.16&quot;</td><td>&quot;84631.78&quot;</td><td>&quot;1.71372&quot;</td><td>&quot;144979.86&quot;</td></tr><tr><td>1970-01-21 04:42:58.800</td><td>&quot;84631.78&quot;</td><td>&quot;84653.99&quot;</td><td>&quot;84626.76&quot;</td><td>&quot;84626.77&quot;</td><td>&quot;2.22224&quot;</td><td>&quot;188077.09&quot;</td></tr><tr><td>1970-01-21 04:42:59.100</td><td>&quot;84626.78&quot;</td><td>&quot;84651.89&quot;</td><td>&quot;84599.99&quot;</td><td>&quot;84651.89&quot;</td><td>&quot;1.00896&quot;</td><td>&quot;85382.83&quot;</td></tr><tr><td>1970-01-21 04:42:59.400</td><td>&quot;84678.22&quot;</td><td>&quot;84739.13&quot;</td><td>&quot;84678.22&quot;</td><td>&quot;84702.35&quot;</td><td>&quot;5.51571&quot;</td><td>&quot;467191.89&quot;</td></tr><tr><td>1970-01-21 04:42:59.700</td><td>&quot;84696.95&quot;</td><td>&quot;84745.00&quot;</td><td>&quot;84690.45&quot;</td><td>&quot;84739.34&quot;</td><td>&quot;1.56413&quot;</td><td>&quot;132535.12&quot;</td></tr></tbody></table></div>"
      ],
      "text/plain": [
       "shape: (100, 7)\n",
       "┌─────────────────────────┬──────────┬──────────┬──────────┬──────────┬──────────┬──────────────┐\n",
       "│ datetime                ┆ open     ┆ high     ┆ low      ┆ close    ┆ volume   ┆ quote_volume │\n",
       "│ ---                     ┆ ---      ┆ ---      ┆ ---      ┆ ---      ┆ ---      ┆ ---          │\n",
       "│ datetime[ms]            ┆ str      ┆ str      ┆ str      ┆ str      ┆ str      ┆ str          │\n",
       "╞═════════════════════════╪══════════╪══════════╪══════════╪══════════╪══════════╪══════════════╡\n",
       "│ 1970-01-21 04:42:30     ┆ 84627.27 ┆ 84630.19 ┆ 84602.62 ┆ 84608.72 ┆ 11.23916 ┆ 950943.00    │\n",
       "│ 1970-01-21 04:42:30.300 ┆ 84608.72 ┆ 84692.60 ┆ 84604.99 ┆ 84692.59 ┆ 3.44112  ┆ 291292.30    │\n",
       "│ 1970-01-21 04:42:30.600 ┆ 84715.48 ┆ 84715.50 ┆ 84684.77 ┆ 84686.52 ┆ 0.84939  ┆ 71941.05     │\n",
       "│ 1970-01-21 04:42:30.900 ┆ 84700.34 ┆ 84703.30 ┆ 84676.10 ┆ 84696.55 ┆ 5.02064  ┆ 425165.95    │\n",
       "│ 1970-01-21 04:42:31.200 ┆ 84709.24 ┆ 84709.24 ┆ 84671.76 ┆ 84678.55 ┆ 2.20355  ┆ 186618.27    │\n",
       "│ …                       ┆ …        ┆ …        ┆ …        ┆ …        ┆ …        ┆ …            │\n",
       "│ 1970-01-21 04:42:58.500 ┆ 84606.60 ┆ 84631.79 ┆ 84566.16 ┆ 84631.78 ┆ 1.71372  ┆ 144979.86    │\n",
       "│ 1970-01-21 04:42:58.800 ┆ 84631.78 ┆ 84653.99 ┆ 84626.76 ┆ 84626.77 ┆ 2.22224  ┆ 188077.09    │\n",
       "│ 1970-01-21 04:42:59.100 ┆ 84626.78 ┆ 84651.89 ┆ 84599.99 ┆ 84651.89 ┆ 1.00896  ┆ 85382.83     │\n",
       "│ 1970-01-21 04:42:59.400 ┆ 84678.22 ┆ 84739.13 ┆ 84678.22 ┆ 84702.35 ┆ 5.51571  ┆ 467191.89    │\n",
       "│ 1970-01-21 04:42:59.700 ┆ 84696.95 ┆ 84745.00 ┆ 84690.45 ┆ 84739.34 ┆ 1.56413  ┆ 132535.12    │\n",
       "└─────────────────────────┴──────────┴──────────┴──────────┴──────────┴──────────┴──────────────┘"
      ]
     },
     "execution_count": 13,
     "metadata": {},
     "output_type": "execute_result"
    }
   ],
   "source": [
    "client.get_spot_kline(\"BTC-USDT-SPOT\", \"5m\")"
   ]
  },
  {
   "cell_type": "code",
   "execution_count": 3,
   "metadata": {},
   "outputs": [
    {
     "data": {
      "text/html": [
       "<div><style>\n",
       ".dataframe > thead > tr,\n",
       ".dataframe > tbody > tr {\n",
       "  text-align: right;\n",
       "  white-space: pre-wrap;\n",
       "}\n",
       "</style>\n",
       "<small>shape: (289, 6)</small><table border=\"1\" class=\"dataframe\"><thead><tr><th>low</th><th>high</th><th>open</th><th>close</th><th>volume</th><th>timestamp</th></tr><tr><td>str</td><td>str</td><td>str</td><td>str</td><td>str</td><td>i64</td></tr></thead><tbody><tr><td>&quot;84601.5&quot;</td><td>&quot;84629.2&quot;</td><td>&quot;84615.9&quot;</td><td>&quot;84608.6&quot;</td><td>&quot;26170&quot;</td><td>1744895100</td></tr><tr><td>&quot;84540.1&quot;</td><td>&quot;84664.5&quot;</td><td>&quot;84608.6&quot;</td><td>&quot;84585.7&quot;</td><td>&quot;188080&quot;</td><td>1744895400</td></tr><tr><td>&quot;84429.2&quot;</td><td>&quot;84599.9&quot;</td><td>&quot;84585.8&quot;</td><td>&quot;84539.1&quot;</td><td>&quot;537676&quot;</td><td>1744895700</td></tr><tr><td>&quot;84495&quot;</td><td>&quot;84618.1&quot;</td><td>&quot;84539.1&quot;</td><td>&quot;84604.8&quot;</td><td>&quot;228984&quot;</td><td>1744896000</td></tr><tr><td>&quot;84524.1&quot;</td><td>&quot;84613&quot;</td><td>&quot;84604.7&quot;</td><td>&quot;84610.9&quot;</td><td>&quot;168398&quot;</td><td>1744896300</td></tr><tr><td>&hellip;</td><td>&hellip;</td><td>&hellip;</td><td>&hellip;</td><td>&hellip;</td><td>&hellip;</td></tr><tr><td>&quot;84634.8&quot;</td><td>&quot;84671.5&quot;</td><td>&quot;84659.9&quot;</td><td>&quot;84636.3&quot;</td><td>&quot;53546&quot;</td><td>1744980300</td></tr><tr><td>&quot;84607.2&quot;</td><td>&quot;84644.2&quot;</td><td>&quot;84636.3&quot;</td><td>&quot;84607.3&quot;</td><td>&quot;84930&quot;</td><td>1744980600</td></tr><tr><td>&quot;84575.7&quot;</td><td>&quot;84624.1&quot;</td><td>&quot;84607.2&quot;</td><td>&quot;84610.1&quot;</td><td>&quot;127842&quot;</td><td>1744980900</td></tr><tr><td>&quot;84546.3&quot;</td><td>&quot;84610.1&quot;</td><td>&quot;84610.1&quot;</td><td>&quot;84560&quot;</td><td>&quot;107476&quot;</td><td>1744981200</td></tr><tr><td>&quot;84501.1&quot;</td><td>&quot;84560.1&quot;</td><td>&quot;84560&quot;</td><td>&quot;84511&quot;</td><td>&quot;183524&quot;</td><td>1744981500</td></tr></tbody></table></div>"
      ],
      "text/plain": [
       "shape: (289, 6)\n",
       "┌─────────┬─────────┬─────────┬─────────┬────────┬────────────┐\n",
       "│ low     ┆ high    ┆ open    ┆ close   ┆ volume ┆ timestamp  │\n",
       "│ ---     ┆ ---     ┆ ---     ┆ ---     ┆ ---    ┆ ---        │\n",
       "│ str     ┆ str     ┆ str     ┆ str     ┆ str    ┆ i64        │\n",
       "╞═════════╪═════════╪═════════╪═════════╪════════╪════════════╡\n",
       "│ 84601.5 ┆ 84629.2 ┆ 84615.9 ┆ 84608.6 ┆ 26170  ┆ 1744895100 │\n",
       "│ 84540.1 ┆ 84664.5 ┆ 84608.6 ┆ 84585.7 ┆ 188080 ┆ 1744895400 │\n",
       "│ 84429.2 ┆ 84599.9 ┆ 84585.8 ┆ 84539.1 ┆ 537676 ┆ 1744895700 │\n",
       "│ 84495   ┆ 84618.1 ┆ 84539.1 ┆ 84604.8 ┆ 228984 ┆ 1744896000 │\n",
       "│ 84524.1 ┆ 84613   ┆ 84604.7 ┆ 84610.9 ┆ 168398 ┆ 1744896300 │\n",
       "│ …       ┆ …       ┆ …       ┆ …       ┆ …      ┆ …          │\n",
       "│ 84634.8 ┆ 84671.5 ┆ 84659.9 ┆ 84636.3 ┆ 53546  ┆ 1744980300 │\n",
       "│ 84607.2 ┆ 84644.2 ┆ 84636.3 ┆ 84607.3 ┆ 84930  ┆ 1744980600 │\n",
       "│ 84575.7 ┆ 84624.1 ┆ 84607.2 ┆ 84610.1 ┆ 127842 ┆ 1744980900 │\n",
       "│ 84546.3 ┆ 84610.1 ┆ 84610.1 ┆ 84560   ┆ 107476 ┆ 1744981200 │\n",
       "│ 84501.1 ┆ 84560.1 ┆ 84560   ┆ 84511   ┆ 183524 ┆ 1744981500 │\n",
       "└─────────┴─────────┴─────────┴─────────┴────────┴────────────┘"
      ]
     },
     "execution_count": 3,
     "metadata": {},
     "output_type": "execute_result"
    }
   ],
   "source": [
    "client.get_contract_kline(\n",
    "    \"BTC-USDT-SWAP\", \"5m\", int((datetime.now() - timedelta(days=1)).timestamp()), int(datetime.now().timestamp())\n",
    ")"
   ]
  },
  {
   "cell_type": "code",
   "execution_count": 15,
   "metadata": {},
   "outputs": [
    {
     "data": {
      "text/html": [
       "<div><style>\n",
       ".dataframe > thead > tr,\n",
       ".dataframe > tbody > tr {\n",
       "  text-align: right;\n",
       "  white-space: pre-wrap;\n",
       "}\n",
       "</style>\n",
       "<small>shape: (1, 7)</small><table border=\"1\" class=\"dataframe\"><thead><tr><th>symbol</th><th>expected_rate</th><th>rate_value</th><th>funding_time</th><th>funding_upper_limit</th><th>funding_lower_limit</th><th>timestamp</th></tr><tr><td>str</td><td>str</td><td>str</td><td>i64</td><td>str</td><td>str</td><td>i64</td></tr></thead><tbody><tr><td>&quot;BTCUSDT&quot;</td><td>&quot;0.0000442&quot;</td><td>&quot;0.0000452&quot;</td><td>1744992000000</td><td>&quot;0.0375&quot;</td><td>&quot;-0.0375&quot;</td><td>1744979851817</td></tr></tbody></table></div>"
      ],
      "text/plain": [
       "shape: (1, 7)\n",
       "┌─────────┬───────────────┬────────────┬──────────────┬──────────────┬──────────────┬──────────────┐\n",
       "│ symbol  ┆ expected_rate ┆ rate_value ┆ funding_time ┆ funding_uppe ┆ funding_lowe ┆ timestamp    │\n",
       "│ ---     ┆ ---           ┆ ---        ┆ ---          ┆ r_limit      ┆ r_limit      ┆ ---          │\n",
       "│ str     ┆ str           ┆ str        ┆ i64          ┆ ---          ┆ ---          ┆ i64          │\n",
       "│         ┆               ┆            ┆              ┆ str          ┆ str          ┆              │\n",
       "╞═════════╪═══════════════╪════════════╪══════════════╪══════════════╪══════════════╪══════════════╡\n",
       "│ BTCUSDT ┆ 0.0000442     ┆ 0.0000452  ┆ 174499200000 ┆ 0.0375       ┆ -0.0375      ┆ 174497985181 │\n",
       "│         ┆               ┆            ┆ 0            ┆              ┆              ┆ 7            │\n",
       "└─────────┴───────────────┴────────────┴──────────────┴──────────────┴──────────────┴──────────────┘"
      ]
     },
     "execution_count": 15,
     "metadata": {},
     "output_type": "execute_result"
    }
   ],
   "source": [
    "client.get_current_funding_rate(\"BTC-USDT-SWAP\")"
   ]
  },
  {
   "cell_type": "code",
   "execution_count": 16,
   "metadata": {},
   "outputs": [
    {
     "data": {
      "text/html": [
       "<div><style>\n",
       ".dataframe > thead > tr,\n",
       ".dataframe > tbody > tr {\n",
       "  text-align: right;\n",
       "  white-space: pre-wrap;\n",
       "}\n",
       "</style>\n",
       "<small>shape: (1, 1)</small><table border=\"1\" class=\"dataframe\"><thead><tr><th>list</th></tr><tr><td>list[struct[3]]</td></tr></thead><tbody><tr><td>[{&quot;BTCUSDT&quot;,&quot;0.000048906&quot;,&quot;1744963200000&quot;}, {&quot;BTCUSDT&quot;,&quot;-0.000003636&quot;,&quot;1744934400000&quot;}, … {&quot;BTCUSDT&quot;,&quot;0.000005860329&quot;,&quot;1742083200000&quot;}]</td></tr></tbody></table></div>"
      ],
      "text/plain": [
       "shape: (1, 1)\n",
       "┌─────────────────────────────────┐\n",
       "│ list                            │\n",
       "│ ---                             │\n",
       "│ list[struct[3]]                 │\n",
       "╞═════════════════════════════════╡\n",
       "│ [{\"BTCUSDT\",\"0.000048906\",\"174… │\n",
       "└─────────────────────────────────┘"
      ]
     },
     "execution_count": 16,
     "metadata": {},
     "output_type": "execute_result"
    }
   ],
   "source": [
    "client.get_funding_rate_history(\n",
    "    \"BTC-USDT-SWAP\",\n",
    ")"
   ]
  },
  {
   "cell_type": "markdown",
   "metadata": {},
   "source": [
    "# Account\n"
   ]
  },
  {
   "cell_type": "code",
   "execution_count": 17,
   "metadata": {},
   "outputs": [
    {
     "data": {
      "text/html": [
       "<div><style>\n",
       ".dataframe > thead > tr,\n",
       ".dataframe > tbody > tr {\n",
       "  text-align: right;\n",
       "  white-space: pre-wrap;\n",
       "}\n",
       "</style>\n",
       "<small>shape: (1, 5)</small><table border=\"1\" class=\"dataframe\"><thead><tr><th>currency</th><th>name</th><th>available</th><th>frozen</th><th>available_usd_valuation</th></tr><tr><td>str</td><td>str</td><td>str</td><td>str</td><td>null</td></tr></thead><tbody><tr><td>&quot;USDT&quot;</td><td>&quot;Tether USD&quot;</td><td>&quot;14.75437490&quot;</td><td>&quot;0.00000000&quot;</td><td>null</td></tr></tbody></table></div>"
      ],
      "text/plain": [
       "shape: (1, 5)\n",
       "┌──────────┬────────────┬─────────────┬────────────┬─────────────────────────┐\n",
       "│ currency ┆ name       ┆ available   ┆ frozen     ┆ available_usd_valuation │\n",
       "│ ---      ┆ ---        ┆ ---         ┆ ---        ┆ ---                     │\n",
       "│ str      ┆ str        ┆ str         ┆ str        ┆ null                    │\n",
       "╞══════════╪════════════╪═════════════╪════════════╪═════════════════════════╡\n",
       "│ USDT     ┆ Tether USD ┆ 14.75437490 ┆ 0.00000000 ┆ null                    │\n",
       "└──────────┴────────────┴─────────────┴────────────┴─────────────────────────┘"
      ]
     },
     "execution_count": 17,
     "metadata": {},
     "output_type": "execute_result"
    }
   ],
   "source": [
    "client.get_account_balance()"
   ]
  },
  {
   "cell_type": "code",
   "execution_count": 18,
   "metadata": {},
   "outputs": [
    {
     "data": {
      "text/html": [
       "<div><style>\n",
       ".dataframe > thead > tr,\n",
       ".dataframe > tbody > tr {\n",
       "  text-align: right;\n",
       "  white-space: pre-wrap;\n",
       "}\n",
       "</style>\n",
       "<small>shape: (3_746, 11)</small><table border=\"1\" class=\"dataframe\"><thead><tr><th>currency</th><th>name</th><th>contract_address</th><th>network</th><th>withdraw_enabled</th><th>deposit_enabled</th><th>withdraw_minsize</th><th>recharge_minsize</th><th>withdraw_minfee</th><th>withdraw_fee_estimate</th><th>withdraw_fee</th></tr><tr><td>str</td><td>str</td><td>str</td><td>str</td><td>bool</td><td>bool</td><td>str</td><td>str</td><td>str</td><td>str</td><td>str</td></tr></thead><tbody><tr><td>&quot;BTC&quot;</td><td>&quot;Bitcoin&quot;</td><td>null</td><td>&quot;BTC&quot;</td><td>true</td><td>true</td><td>&quot;0.0003&quot;</td><td>&quot;0.00000001&quot;</td><td>&quot;8.46&quot;</td><td>&quot;8.46&quot;</td><td>&quot;0.0001&quot;</td></tr><tr><td>&quot;ETH&quot;</td><td>&quot;Ethereum&quot;</td><td>null</td><td>&quot;ETH&quot;</td><td>true</td><td>true</td><td>&quot;0.00943164&quot;</td><td>&quot;0.00000001&quot;</td><td>&quot;3.18&quot;</td><td>&quot;3.18&quot;</td><td>&quot;0.002&quot;</td></tr><tr><td>&quot;BMX&quot;</td><td>&quot;BitMart Token&quot;</td><td>&quot;0x986ee2b944c42d017f52af21c4c6…</td><td>&quot;ETH&quot;</td><td>true</td><td>true</td><td>&quot;55.67928731&quot;</td><td>&quot;0.00000001&quot;</td><td>&quot;3.23&quot;</td><td>&quot;3.23&quot;</td><td>&quot;12&quot;</td></tr><tr><td>&quot;XLM&quot;</td><td>&quot;Stellar&quot;</td><td>null</td><td>&quot;XLM&quot;</td><td>true</td><td>true</td><td>&quot;20&quot;</td><td>&quot;0.00000001&quot;</td><td>&quot;0&quot;</td><td>&quot;0&quot;</td><td>&quot;0.01&quot;</td></tr><tr><td>&quot;EOS&quot;</td><td>&quot;Vaulta&quot;</td><td>&quot;eosio.token&quot;</td><td>&quot;EOS&quot;</td><td>true</td><td>true</td><td>&quot;5&quot;</td><td>&quot;0.00000001&quot;</td><td>&quot;0.12&quot;</td><td>&quot;0.12&quot;</td><td>&quot;0.2&quot;</td></tr><tr><td>&hellip;</td><td>&hellip;</td><td>&hellip;</td><td>&hellip;</td><td>&hellip;</td><td>&hellip;</td><td>&hellip;</td><td>&hellip;</td><td>&hellip;</td><td>&hellip;</td><td>&hellip;</td></tr><tr><td>&quot;PAWS-SOL&quot;</td><td>&quot;PAWS-SOL&quot;</td><td>&quot;PAWSxhjTyNJELywYiYTxCN857utnYm…</td><td>&quot;SOL&quot;</td><td>true</td><td>true</td><td>&quot;173852.573018&quot;</td><td>&quot;0.00000001&quot;</td><td>&quot;1&quot;</td><td>&quot;1&quot;</td><td>&quot;6926&quot;</td></tr><tr><td>&quot;GM-BSC_BNB&quot;</td><td>&quot;GOMBLE-BSC_BNB&quot;</td><td>&quot;0xd8002d4bd1d50136A731c141e320…</td><td>&quot;BSC_BNB&quot;</td><td>true</td><td>true</td><td>&quot;330.5785124&quot;</td><td>&quot;0.00000001&quot;</td><td>&quot;0.42&quot;</td><td>&quot;0.42&quot;</td><td>&quot;14&quot;</td></tr><tr><td>&quot;BIG-ABSTRACT-ETH&quot;</td><td>&quot;Bigcoin-ABSTRACT-ETH&quot;</td><td>&quot;0xDf70075737E9F96B078ab4461EeE…</td><td>&quot;ABSTRACT-ETH&quot;</td><td>true</td><td>true</td><td>&quot;3.78400878&quot;</td><td>&quot;0.00000001&quot;</td><td>&quot;2.11&quot;</td><td>&quot;2.11&quot;</td><td>&quot;0.4&quot;</td></tr><tr><td>&quot;BANK-BSC_BNB&quot;</td><td>&quot;Lorenzo Protocol-BSC_BNB&quot;</td><td>&quot;0x3AeE7602b612de36088F3ffEd8c8…</td><td>&quot;BSC_BNB&quot;</td><td>false</td><td>true</td><td>&quot;322.68473701&quot;</td><td>&quot;0.00000001&quot;</td><td>&quot;0.43&quot;</td><td>&quot;0.43&quot;</td><td>&quot;14&quot;</td></tr><tr><td>&quot;NAI-NAI&quot;</td><td>&quot;NULS AI-NAI&quot;</td><td>null</td><td>&quot;NAI&quot;</td><td>false</td><td>false</td><td>&quot;&quot;</td><td>&quot;&quot;</td><td>&quot;&quot;</td><td>null</td><td>null</td></tr></tbody></table></div>"
      ],
      "text/plain": [
       "shape: (3_746, 11)\n",
       "┌───────────┬───────────┬───────────┬───────────┬───┬───────────┬───────────┬───────────┬──────────┐\n",
       "│ currency  ┆ name      ┆ contract_ ┆ network   ┆ … ┆ recharge_ ┆ withdraw_ ┆ withdraw_ ┆ withdraw │\n",
       "│ ---       ┆ ---       ┆ address   ┆ ---       ┆   ┆ minsize   ┆ minfee    ┆ fee_estim ┆ _fee     │\n",
       "│ str       ┆ str       ┆ ---       ┆ str       ┆   ┆ ---       ┆ ---       ┆ ate       ┆ ---      │\n",
       "│           ┆           ┆ str       ┆           ┆   ┆ str       ┆ str       ┆ ---       ┆ str      │\n",
       "│           ┆           ┆           ┆           ┆   ┆           ┆           ┆ str       ┆          │\n",
       "╞═══════════╪═══════════╪═══════════╪═══════════╪═══╪═══════════╪═══════════╪═══════════╪══════════╡\n",
       "│ BTC       ┆ Bitcoin   ┆ null      ┆ BTC       ┆ … ┆ 0.0000000 ┆ 8.46      ┆ 8.46      ┆ 0.0001   │\n",
       "│           ┆           ┆           ┆           ┆   ┆ 1         ┆           ┆           ┆          │\n",
       "│ ETH       ┆ Ethereum  ┆ null      ┆ ETH       ┆ … ┆ 0.0000000 ┆ 3.18      ┆ 3.18      ┆ 0.002    │\n",
       "│           ┆           ┆           ┆           ┆   ┆ 1         ┆           ┆           ┆          │\n",
       "│ BMX       ┆ BitMart   ┆ 0x986ee2b ┆ ETH       ┆ … ┆ 0.0000000 ┆ 3.23      ┆ 3.23      ┆ 12       │\n",
       "│           ┆ Token     ┆ 944c42d01 ┆           ┆   ┆ 1         ┆           ┆           ┆          │\n",
       "│           ┆           ┆ 7f52af21c ┆           ┆   ┆           ┆           ┆           ┆          │\n",
       "│           ┆           ┆ 4c6…      ┆           ┆   ┆           ┆           ┆           ┆          │\n",
       "│ XLM       ┆ Stellar   ┆ null      ┆ XLM       ┆ … ┆ 0.0000000 ┆ 0         ┆ 0         ┆ 0.01     │\n",
       "│           ┆           ┆           ┆           ┆   ┆ 1         ┆           ┆           ┆          │\n",
       "│ EOS       ┆ Vaulta    ┆ eosio.tok ┆ EOS       ┆ … ┆ 0.0000000 ┆ 0.12      ┆ 0.12      ┆ 0.2      │\n",
       "│           ┆           ┆ en        ┆           ┆   ┆ 1         ┆           ┆           ┆          │\n",
       "│ …         ┆ …         ┆ …         ┆ …         ┆ … ┆ …         ┆ …         ┆ …         ┆ …        │\n",
       "│ PAWS-SOL  ┆ PAWS-SOL  ┆ PAWSxhjTy ┆ SOL       ┆ … ┆ 0.0000000 ┆ 1         ┆ 1         ┆ 6926     │\n",
       "│           ┆           ┆ NJELywYiY ┆           ┆   ┆ 1         ┆           ┆           ┆          │\n",
       "│           ┆           ┆ TxCN857ut ┆           ┆   ┆           ┆           ┆           ┆          │\n",
       "│           ┆           ┆ nYm…      ┆           ┆   ┆           ┆           ┆           ┆          │\n",
       "│ GM-BSC_BN ┆ GOMBLE-BS ┆ 0xd8002d4 ┆ BSC_BNB   ┆ … ┆ 0.0000000 ┆ 0.42      ┆ 0.42      ┆ 14       │\n",
       "│ B         ┆ C_BNB     ┆ bd1d50136 ┆           ┆   ┆ 1         ┆           ┆           ┆          │\n",
       "│           ┆           ┆ A731c141e ┆           ┆   ┆           ┆           ┆           ┆          │\n",
       "│           ┆           ┆ 320…      ┆           ┆   ┆           ┆           ┆           ┆          │\n",
       "│ BIG-ABSTR ┆ Bigcoin-A ┆ 0xDf70075 ┆ ABSTRACT- ┆ … ┆ 0.0000000 ┆ 2.11      ┆ 2.11      ┆ 0.4      │\n",
       "│ ACT-ETH   ┆ BSTRACT-E ┆ 737E9F96B ┆ ETH       ┆   ┆ 1         ┆           ┆           ┆          │\n",
       "│           ┆ TH        ┆ 078ab4461 ┆           ┆   ┆           ┆           ┆           ┆          │\n",
       "│           ┆           ┆ EeE…      ┆           ┆   ┆           ┆           ┆           ┆          │\n",
       "│ BANK-BSC_ ┆ Lorenzo   ┆ 0x3AeE760 ┆ BSC_BNB   ┆ … ┆ 0.0000000 ┆ 0.43      ┆ 0.43      ┆ 14       │\n",
       "│ BNB       ┆ Protocol- ┆ 2b612de36 ┆           ┆   ┆ 1         ┆           ┆           ┆          │\n",
       "│           ┆ BSC_BNB   ┆ 088F3ffEd ┆           ┆   ┆           ┆           ┆           ┆          │\n",
       "│           ┆           ┆ 8c8…      ┆           ┆   ┆           ┆           ┆           ┆          │\n",
       "│ NAI-NAI   ┆ NULS      ┆ null      ┆ NAI       ┆ … ┆           ┆           ┆ null      ┆ null     │\n",
       "│           ┆ AI-NAI    ┆           ┆           ┆   ┆           ┆           ┆           ┆          │\n",
       "└───────────┴───────────┴───────────┴───────────┴───┴───────────┴───────────┴───────────┴──────────┘"
      ]
     },
     "execution_count": 18,
     "metadata": {},
     "output_type": "execute_result"
    }
   ],
   "source": [
    "client.get_account_currencies()"
   ]
  },
  {
   "cell_type": "code",
   "execution_count": 19,
   "metadata": {},
   "outputs": [
    {
     "data": {
      "text/html": [
       "<div><style>\n",
       ".dataframe > thead > tr,\n",
       ".dataframe > tbody > tr {\n",
       "  text-align: right;\n",
       "  white-space: pre-wrap;\n",
       "}\n",
       "</style>\n",
       "<small>shape: (1, 5)</small><table border=\"1\" class=\"dataframe\"><thead><tr><th>id</th><th>name</th><th>available</th><th>frozen</th><th>total</th></tr><tr><td>str</td><td>str</td><td>str</td><td>str</td><td>str</td></tr></thead><tbody><tr><td>&quot;USDT&quot;</td><td>&quot;Tether USD&quot;</td><td>&quot;14.75437490&quot;</td><td>&quot;0.00000000&quot;</td><td>&quot;14.75437490&quot;</td></tr></tbody></table></div>"
      ],
      "text/plain": [
       "shape: (1, 5)\n",
       "┌──────┬────────────┬─────────────┬────────────┬─────────────┐\n",
       "│ id   ┆ name       ┆ available   ┆ frozen     ┆ total       │\n",
       "│ ---  ┆ ---        ┆ ---         ┆ ---        ┆ ---         │\n",
       "│ str  ┆ str        ┆ str         ┆ str        ┆ str         │\n",
       "╞══════╪════════════╪═════════════╪════════════╪═════════════╡\n",
       "│ USDT ┆ Tether USD ┆ 14.75437490 ┆ 0.00000000 ┆ 14.75437490 │\n",
       "└──────┴────────────┴─────────────┴────────────┴─────────────┘"
      ]
     },
     "execution_count": 19,
     "metadata": {},
     "output_type": "execute_result"
    }
   ],
   "source": [
    "client.get_spot_wallet()"
   ]
  },
  {
   "cell_type": "code",
   "execution_count": 21,
   "metadata": {},
   "outputs": [
    {
     "data": {
      "text/html": [
       "<div><style>\n",
       ".dataframe > thead > tr,\n",
       ".dataframe > tbody > tr {\n",
       "  text-align: right;\n",
       "  white-space: pre-wrap;\n",
       "}\n",
       "</style>\n",
       "<small>shape: (1, 4)</small><table border=\"1\" class=\"dataframe\"><thead><tr><th>currency</th><th>chain</th><th>address</th><th>address_memo</th></tr><tr><td>str</td><td>str</td><td>str</td><td>str</td></tr></thead><tbody><tr><td>&quot;BTC&quot;</td><td>&quot;Bitcoin&quot;</td><td>&quot;bc1qvafndu6l6leu4qg76hqf67xmgr…</td><td>&quot;&quot;</td></tr></tbody></table></div>"
      ],
      "text/plain": [
       "shape: (1, 4)\n",
       "┌──────────┬─────────┬─────────────────────────────────┬──────────────┐\n",
       "│ currency ┆ chain   ┆ address                         ┆ address_memo │\n",
       "│ ---      ┆ ---     ┆ ---                             ┆ ---          │\n",
       "│ str      ┆ str     ┆ str                             ┆ str          │\n",
       "╞══════════╪═════════╪═════════════════════════════════╪══════════════╡\n",
       "│ BTC      ┆ Bitcoin ┆ bc1qvafndu6l6leu4qg76hqf67xmgr… ┆              │\n",
       "└──────────┴─────────┴─────────────────────────────────┴──────────────┘"
      ]
     },
     "execution_count": 21,
     "metadata": {},
     "output_type": "execute_result"
    }
   ],
   "source": [
    "client.get_deposit_address(currency=\"BTC\")"
   ]
  },
  {
   "cell_type": "code",
   "execution_count": null,
   "metadata": {},
   "outputs": [],
   "source": [
    "client.get_withdraw_charge(currency=\"USDT-TRC20\")  # wrong"
   ]
  },
  {
   "cell_type": "code",
   "execution_count": 22,
   "metadata": {},
   "outputs": [
    {
     "data": {
      "text/html": [
       "<div><style>\n",
       ".dataframe > thead > tr,\n",
       ".dataframe > tbody > tr {\n",
       "  text-align: right;\n",
       "  white-space: pre-wrap;\n",
       "}\n",
       "</style>\n",
       "<small>shape: (2, 11)</small><table border=\"1\" class=\"dataframe\"><thead><tr><th>withdraw_id</th><th>deposit_id</th><th>operation_type</th><th>currency</th><th>apply_time</th><th>arrival_amount</th><th>fee</th><th>status</th><th>address</th><th>address_memo</th><th>tx_id</th></tr><tr><td>str</td><td>str</td><td>str</td><td>str</td><td>i64</td><td>str</td><td>str</td><td>i64</td><td>str</td><td>str</td><td>str</td></tr></thead><tbody><tr><td>&quot;27114161&quot;</td><td>&quot;&quot;</td><td>&quot;withdraw&quot;</td><td>&quot;USDT-BSC_BNB&quot;</td><td>1743957744000</td><td>&quot;55.64452838&quot;</td><td>&quot;0&quot;</td><td>3</td><td>&quot;0x11c2e20c2749393b2e3e74ca30d0…</td><td>&quot;&quot;</td><td>&quot;0x6e962294543ee2771e19d00c8738…</td></tr><tr><td>&quot;26695771&quot;</td><td>&quot;&quot;</td><td>&quot;withdraw&quot;</td><td>&quot;USDT-BSC_BNB&quot;</td><td>1741305505000</td><td>&quot;27.48377545&quot;</td><td>&quot;0&quot;</td><td>3</td><td>&quot;0x50de72065b56df623c4c78612d83…</td><td>&quot;&quot;</td><td>&quot;0x6983e043060829e910f4205d877a…</td></tr></tbody></table></div>"
      ],
      "text/plain": [
       "shape: (2, 11)\n",
       "┌────────────┬────────────┬───────────┬───────────┬───┬────────┬───────────┬───────────┬───────────┐\n",
       "│ withdraw_i ┆ deposit_id ┆ operation ┆ currency  ┆ … ┆ status ┆ address   ┆ address_m ┆ tx_id     │\n",
       "│ d          ┆ ---        ┆ _type     ┆ ---       ┆   ┆ ---    ┆ ---       ┆ emo       ┆ ---       │\n",
       "│ ---        ┆ str        ┆ ---       ┆ str       ┆   ┆ i64    ┆ str       ┆ ---       ┆ str       │\n",
       "│ str        ┆            ┆ str       ┆           ┆   ┆        ┆           ┆ str       ┆           │\n",
       "╞════════════╪════════════╪═══════════╪═══════════╪═══╪════════╪═══════════╪═══════════╪═══════════╡\n",
       "│ 27114161   ┆            ┆ withdraw  ┆ USDT-BSC_ ┆ … ┆ 3      ┆ 0x11c2e20 ┆           ┆ 0x6e96229 │\n",
       "│            ┆            ┆           ┆ BNB       ┆   ┆        ┆ c2749393b ┆           ┆ 4543ee277 │\n",
       "│            ┆            ┆           ┆           ┆   ┆        ┆ 2e3e74ca3 ┆           ┆ 1e19d00c8 │\n",
       "│            ┆            ┆           ┆           ┆   ┆        ┆ 0d0…      ┆           ┆ 738…      │\n",
       "│ 26695771   ┆            ┆ withdraw  ┆ USDT-BSC_ ┆ … ┆ 3      ┆ 0x50de720 ┆           ┆ 0x6983e04 │\n",
       "│            ┆            ┆           ┆ BNB       ┆   ┆        ┆ 65b56df62 ┆           ┆ 3060829e9 │\n",
       "│            ┆            ┆           ┆           ┆   ┆        ┆ 3c4c78612 ┆           ┆ 10f4205d8 │\n",
       "│            ┆            ┆           ┆           ┆   ┆        ┆ d83…      ┆           ┆ 77a…      │\n",
       "└────────────┴────────────┴───────────┴───────────┴───┴────────┴───────────┴───────────┴───────────┘"
      ]
     },
     "execution_count": 22,
     "metadata": {},
     "output_type": "execute_result"
    }
   ],
   "source": [
    "client.get_deposit_withdraw_history(currency=\"USDT\")"
   ]
  },
  {
   "cell_type": "code",
   "execution_count": 23,
   "metadata": {},
   "outputs": [
    {
     "data": {
      "text/html": [
       "<div><style>\n",
       ".dataframe > thead > tr,\n",
       ".dataframe > tbody > tr {\n",
       "  text-align: right;\n",
       "  white-space: pre-wrap;\n",
       "}\n",
       "</style>\n",
       "<small>shape: (1, 11)</small><table border=\"1\" class=\"dataframe\"><thead><tr><th>withdraw_id</th><th>deposit_id</th><th>operation_type</th><th>currency</th><th>apply_time</th><th>arrival_amount</th><th>fee</th><th>status</th><th>address</th><th>address_memo</th><th>tx_id</th></tr><tr><td>str</td><td>str</td><td>str</td><td>str</td><td>i64</td><td>str</td><td>str</td><td>i64</td><td>str</td><td>str</td><td>str</td></tr></thead><tbody><tr><td>&quot;26695771&quot;</td><td>&quot;&quot;</td><td>&quot;withdraw&quot;</td><td>&quot;USDT-BSC_BNB&quot;</td><td>1741305505000</td><td>&quot;27.48377545&quot;</td><td>&quot;0&quot;</td><td>3</td><td>&quot;0x50de72065b56df623c4c78612d83…</td><td>&quot;&quot;</td><td>&quot;0x6983e043060829e910f4205d877a…</td></tr></tbody></table></div>"
      ],
      "text/plain": [
       "shape: (1, 11)\n",
       "┌────────────┬────────────┬───────────┬───────────┬───┬────────┬───────────┬───────────┬───────────┐\n",
       "│ withdraw_i ┆ deposit_id ┆ operation ┆ currency  ┆ … ┆ status ┆ address   ┆ address_m ┆ tx_id     │\n",
       "│ d          ┆ ---        ┆ _type     ┆ ---       ┆   ┆ ---    ┆ ---       ┆ emo       ┆ ---       │\n",
       "│ ---        ┆ str        ┆ ---       ┆ str       ┆   ┆ i64    ┆ str       ┆ ---       ┆ str       │\n",
       "│ str        ┆            ┆ str       ┆           ┆   ┆        ┆           ┆ str       ┆           │\n",
       "╞════════════╪════════════╪═══════════╪═══════════╪═══╪════════╪═══════════╪═══════════╪═══════════╡\n",
       "│ 26695771   ┆            ┆ withdraw  ┆ USDT-BSC_ ┆ … ┆ 3      ┆ 0x50de720 ┆           ┆ 0x6983e04 │\n",
       "│            ┆            ┆           ┆ BNB       ┆   ┆        ┆ 65b56df62 ┆           ┆ 3060829e9 │\n",
       "│            ┆            ┆           ┆           ┆   ┆        ┆ 3c4c78612 ┆           ┆ 10f4205d8 │\n",
       "│            ┆            ┆           ┆           ┆   ┆        ┆ d83…      ┆           ┆ 77a…      │\n",
       "└────────────┴────────────┴───────────┴───────────┴───┴────────┴───────────┴───────────┴───────────┘"
      ]
     },
     "execution_count": 23,
     "metadata": {},
     "output_type": "execute_result"
    }
   ],
   "source": [
    "client.get_deposit_withdraw_history_detail(id=\"26695771\")"
   ]
  },
  {
   "cell_type": "code",
   "execution_count": 24,
   "metadata": {},
   "outputs": [
    {
     "data": {
      "text/html": [
       "<div><style>\n",
       ".dataframe > thead > tr,\n",
       ".dataframe > tbody > tr {\n",
       "  text-align: right;\n",
       "  white-space: pre-wrap;\n",
       "}\n",
       "</style>\n",
       "<small>shape: (4, 6)</small><table border=\"1\" class=\"dataframe\"><thead><tr><th>currency</th><th>available_balance</th><th>frozen_balance</th><th>unrealized</th><th>equity</th><th>position_deposit</th></tr><tr><td>str</td><td>str</td><td>str</td><td>str</td><td>str</td><td>str</td></tr></thead><tbody><tr><td>&quot;USDT&quot;</td><td>&quot;10.004155730895610679&quot;</td><td>&quot;0&quot;</td><td>&quot;0&quot;</td><td>&quot;10.004155730895610679&quot;</td><td>&quot;0&quot;</td></tr><tr><td>&quot;BTC&quot;</td><td>&quot;0&quot;</td><td>&quot;0&quot;</td><td>&quot;0&quot;</td><td>&quot;0&quot;</td><td>&quot;0&quot;</td></tr><tr><td>&quot;ETH&quot;</td><td>&quot;0&quot;</td><td>&quot;0&quot;</td><td>&quot;0&quot;</td><td>&quot;0&quot;</td><td>&quot;0&quot;</td></tr><tr><td>&quot;USDC&quot;</td><td>&quot;0&quot;</td><td>&quot;0&quot;</td><td>&quot;0&quot;</td><td>&quot;0&quot;</td><td>&quot;0&quot;</td></tr></tbody></table></div>"
      ],
      "text/plain": [
       "shape: (4, 6)\n",
       "┌──────────┬───────────────────┬────────────────┬────────────┬──────────────────┬──────────────────┐\n",
       "│ currency ┆ available_balance ┆ frozen_balance ┆ unrealized ┆ equity           ┆ position_deposit │\n",
       "│ ---      ┆ ---               ┆ ---            ┆ ---        ┆ ---              ┆ ---              │\n",
       "│ str      ┆ str               ┆ str            ┆ str        ┆ str              ┆ str              │\n",
       "╞══════════╪═══════════════════╪════════════════╪════════════╪══════════════════╪══════════════════╡\n",
       "│ USDT     ┆ 10.00415573089561 ┆ 0              ┆ 0          ┆ 10.0041557308956 ┆ 0                │\n",
       "│          ┆ 0679              ┆                ┆            ┆ 10679            ┆                  │\n",
       "│ BTC      ┆ 0                 ┆ 0              ┆ 0          ┆ 0                ┆ 0                │\n",
       "│ ETH      ┆ 0                 ┆ 0              ┆ 0          ┆ 0                ┆ 0                │\n",
       "│ USDC     ┆ 0                 ┆ 0              ┆ 0          ┆ 0                ┆ 0                │\n",
       "└──────────┴───────────────────┴────────────────┴────────────┴──────────────────┴──────────────────┘"
      ]
     },
     "execution_count": 24,
     "metadata": {},
     "output_type": "execute_result"
    }
   ],
   "source": [
    "client.get_contract_assets()"
   ]
  },
  {
   "cell_type": "markdown",
   "metadata": {},
   "source": [
    "# Trade\n",
    "\n",
    "Same as async\n"
   ]
  }
 ],
 "metadata": {
  "kernelspec": {
   "display_name": ".venv",
   "language": "python",
   "name": "python3"
  },
  "language_info": {
   "codemirror_mode": {
    "name": "ipython",
    "version": 3
   },
   "file_extension": ".py",
   "mimetype": "text/x-python",
   "name": "python",
   "nbconvert_exporter": "python",
   "pygments_lexer": "ipython3",
   "version": "3.11.10"
  }
 },
 "nbformat": 4,
 "nbformat_minor": 2
}
