{
 "cells": [
  {
   "cell_type": "code",
   "execution_count": 1,
   "metadata": {},
   "outputs": [],
   "source": [
    "import sys\n",
    "sys.path.append(\"../../..\")\n",
    "import nest_asyncio\n",
    "from krex.async_support.bitmart.client import Client\n",
    "\n",
    "nest_asyncio.apply()"
   ]
  },
  {
   "cell_type": "code",
   "execution_count": 2,
   "metadata": {},
   "outputs": [],
   "source": [
    "BITMART_API_KEY = \"613c8332848ff6b83aa915ae6270f2e842901036\"\n",
    "BITMART_API_SECRET = \"66b82353bfee263185b36bdcaa244ee805c68aa87fd593addcd5124ff334ea3f\"\n",
    "MEMO = \"trade\""
   ]
  },
  {
   "cell_type": "code",
   "execution_count": 3,
   "metadata": {},
   "outputs": [],
   "source": [
    "client = await Client(\n",
    "    api_key=BITMART_API_KEY,\n",
    "    api_secret=BITMART_API_SECRET,\n",
    "    memo=MEMO,\n",
    ").__aenter__()"
   ]
  },
  {
   "cell_type": "markdown",
   "metadata": {},
   "source": [
    "# Market"
   ]
  },
  {
   "cell_type": "code",
   "execution_count": 9,
   "metadata": {},
   "outputs": [
    {
     "name": "stdout",
     "output_type": "stream",
     "text": [
      "         id           name  withdraw_enabled  deposit_enabled\n",
      "0       BTC        Bitcoin              True             True\n",
      "1       ETH       Ethereum              True             True\n",
      "2      USDT     Tether USD              True             True\n",
      "3       BMX  BitMart Token              True             True\n",
      "4       XLM        Stellar              True             True\n",
      "...     ...            ...               ...              ...\n",
      "3535   TPUP       TrendPup             False             True\n",
      "3536  $BERA     BERA Token             False            False\n",
      "3537  SUIAI    SUIAI CHAIN             False            False\n",
      "3538    FUR    Furfication             False             True\n",
      "3539    ECT      Eco trade             False             True\n",
      "\n",
      "[3540 rows x 4 columns]\n"
     ]
    }
   ],
   "source": [
    "res = await client.get_spot_currencies()\n",
    "print(res)"
   ]
  },
  {
   "cell_type": "code",
   "execution_count": 10,
   "metadata": {},
   "outputs": [
    {
     "name": "stdout",
     "output_type": "stream",
     "text": [
      "           symbols\n",
      "0        $NUT_USDT\n",
      "1        ORNJ_USDT\n",
      "2     TUBEUSD_USDT\n",
      "3         OGN_USDT\n",
      "4         QNT_USDT\n",
      "...            ...\n",
      "1366       ETH_BTC\n",
      "1367    AIXBT_USDT\n",
      "1368    HYPER_USDT\n",
      "1369  WAFFLES_USDT\n",
      "1370       ET_USDT\n",
      "\n",
      "[1371 rows x 1 columns]\n"
     ]
    }
   ],
   "source": [
    "res = await client.get_trading_pairs()\n",
    "print(res)"
   ]
  },
  {
   "cell_type": "code",
   "execution_count": 18,
   "metadata": {},
   "outputs": [
    {
     "name": "stdout",
     "output_type": "stream",
     "text": [
      "            symbol  symbol_id base_currency quote_currency quote_increment  \\\n",
      "0        $NUT_USDT       5443          $NUT           USDT               1   \n",
      "1        ORNJ_USDT       3967          ORNJ           USDT            0.01   \n",
      "2     TUBEUSD_USDT       4889       TUBEUSD           USDT            0.01   \n",
      "3         OGN_USDT       3229           OGN           USDT             0.1   \n",
      "4         HAM_USDT       3103           HAM           USDT               1   \n",
      "...            ...        ...           ...            ...             ...   \n",
      "1642    AIXBT_USDT       5067         AIXBT           USDT             0.1   \n",
      "1643    HYPER_USDT       2900         HYPER           USDT            0.01   \n",
      "1644  WAFFLES_USDT       4659       WAFFLES           USDT            0.01   \n",
      "1645      WIN_USDT       2768           WIN           USDT               1   \n",
      "1646       ET_USDT       5497            ET           USDT           0.001   \n",
      "\n",
      "     base_min_size  price_min_precision  price_max_precision expiration  \\\n",
      "0                1                    1                    4         NA   \n",
      "1             0.01                    2                    5         NA   \n",
      "2             0.01                    2                    5         NA   \n",
      "3              0.1                    1                    4         NA   \n",
      "4                1                    9                   12         NA   \n",
      "...            ...                  ...                  ...        ...   \n",
      "1642           0.1                    1                    4         NA   \n",
      "1643          0.01                    4                    7         NA   \n",
      "1644          0.01                    2                    5         NA   \n",
      "1645             1                    5                    8         NA   \n",
      "1646         0.001                    3                    6         NA   \n",
      "\n",
      "                        min_buy_amount                   min_sell_amount  \\\n",
      "0     5.000000000000000000000000000000  5.000000000000000000000000000000   \n",
      "1     5.000000000000000000000000000000  5.000000000000000000000000000000   \n",
      "2     5.000000000000000000000000000000  5.000000000000000000000000000000   \n",
      "3     5.000000000000000000000000000000  5.000000000000000000000000000000   \n",
      "4     5.000000000000000000000000000000  5.000000000000000000000000000000   \n",
      "...                                ...                               ...   \n",
      "1642  5.000000000000000000000000000000  5.000000000000000000000000000000   \n",
      "1643  5.000000000000000000000000000000  5.000000000000000000000000000000   \n",
      "1644  5.000000000000000000000000000000  5.000000000000000000000000000000   \n",
      "1645  5.000000000000000000000000000000  5.000000000000000000000000000000   \n",
      "1646  5.000000000000000000000000000000  5.000000000000000000000000000000   \n",
      "\n",
      "     trade_status  \n",
      "0         trading  \n",
      "1         trading  \n",
      "2         trading  \n",
      "3         trading  \n",
      "4         trading  \n",
      "...           ...  \n",
      "1642      trading  \n",
      "1643      trading  \n",
      "1644      trading  \n",
      "1645      trading  \n",
      "1646      trading  \n",
      "\n",
      "[1647 rows x 12 columns]\n"
     ]
    }
   ],
   "source": [
    "res = await client.get_trading_pairs_details()\n",
    "print(res)"
   ]
  },
  {
   "cell_type": "code",
   "execution_count": 11,
   "metadata": {},
   "outputs": [
    {
     "name": "stdout",
     "output_type": "stream",
     "text": [
      "               0           1            2               3           4   \\\n",
      "0        AGC_USDT       0.004   66816550.0      267728.267       0.004   \n",
      "1       AEVO_USDT       0.084     450894.6       39520.552       0.089   \n",
      "2     SEIYAN_USDT     0.00191   2447525.78      4692.59720     0.00201   \n",
      "3       WREC_USDT    0.714188      53198.4    38356.063114    0.723094   \n",
      "4       CTXC_USDT      0.0606    9466714.6     585549.8306      0.0623   \n",
      "...           ...         ...          ...             ...         ...   \n",
      "1244     NFT_USDT  0.00000042  42712866852  18206.46077250  0.00000042   \n",
      "1245    BTCF_USDT      0.0979    108673.64      10841.4974      0.1002   \n",
      "1246    VOYA_USDT       0.020    4162686.0       80840.052       0.019   \n",
      "1247     DBD_USDT    0.000953     15886106    14981.673884    0.000955   \n",
      "1248   BRETT_USDT     0.03284    7519765.6    252585.61798     0.03674   \n",
      "\n",
      "              5           6         7           8            9           10  \\\n",
      "0          0.005       0.004   0.00000       0.003      18403.8       0.004   \n",
      "1          0.089       0.084  -0.05618       0.083     167008.3       0.084   \n",
      "2        0.00202     0.00185  -0.04975     0.00191     12462.55     0.00192   \n",
      "3       0.727463    0.711798  -0.01232    0.711797         32.2    0.719563   \n",
      "4         0.0734      0.0591  -0.02729      0.0592        101.4      0.0611   \n",
      "...          ...         ...       ...         ...          ...         ...   \n",
      "1244  0.00000044  0.00000042   0.00000  0.00000042  15112444406  0.00000043   \n",
      "1245      0.1041      0.0957  -0.02295      0.0949        90.55      0.1042   \n",
      "1246       0.020       0.019   0.05263       0.019      25825.7        0.02   \n",
      "1247    0.000958    0.000932  -0.00209    0.000945         6884    0.000959   \n",
      "1248     0.03707     0.03134  -0.10615     0.03283          293     0.03297   \n",
      "\n",
      "              11             12  \n",
      "0           1989  1744821535823  \n",
      "1        64668.9  1744821535551  \n",
      "2       23398.44  1744821534308  \n",
      "3           18.9  1744821508501  \n",
      "4        13838.8  1744821535699  \n",
      "...          ...            ...  \n",
      "1244  1707200233  1744821529504  \n",
      "1245      283.25  1744821533050  \n",
      "1246      6430.7  1744821535590  \n",
      "1247        5227  1744821517828  \n",
      "1248         844  1744821535738  \n",
      "\n",
      "[1249 rows x 13 columns]\n"
     ]
    }
   ],
   "source": [
    "res = await client.get_ticker_of_all_pairs()\n",
    "print(res)"
   ]
  },
  {
   "cell_type": "code",
   "execution_count": 12,
   "metadata": {},
   "outputs": [
    {
     "name": "stdout",
     "output_type": "stream",
     "text": [
      "     symbol      last       v_24h        qv_24h  open_24h  high_24h   low_24h  \\\n",
      "0  BTC_USDT  84767.36  5591.61482  469405225.69  84914.29  85265.90  83111.64   \n",
      "\n",
      "  fluctuation   bid_px   bid_sz    ask_px   ask_sz             ts  \n",
      "0    -0.00173  84756.3  0.00164  84756.31  0.01107  1744821542653  \n"
     ]
    }
   ],
   "source": [
    "res = await client.get_ticker_of_a_pair(product_symbol=\"BTC-USDT-SPOT\")\n",
    "print(res)"
   ]
  },
  {
   "cell_type": "code",
   "execution_count": 13,
   "metadata": {},
   "outputs": [
    {
     "name": "stdout",
     "output_type": "stream",
     "text": [
      "   side    price  amount  cum_amount\n",
      "0   ask  84706.0   420.0       420.0\n",
      "1   ask  84706.1   144.0       564.0\n",
      "2   ask  84706.2   173.0       737.0\n",
      "3   ask  84706.3   156.0       893.0\n",
      "4   ask  84706.4   153.0      1046.0\n",
      "..  ...      ...     ...         ...\n",
      "95  bid  84384.0  5271.0     94255.0\n",
      "96  bid  84377.0  4215.0     98470.0\n",
      "97  bid  84368.0  5928.0    104398.0\n",
      "98  bid  84356.5  5928.0    110326.0\n",
      "99  bid  84317.5  5913.0    116239.0\n",
      "\n",
      "[100 rows x 4 columns]\n"
     ]
    }
   ],
   "source": [
    "res = await client.get_depth(product_symbol=\"BTC-USDT-SWAP\")\n",
    "print(res)"
   ]
  },
  {
   "cell_type": "code",
   "execution_count": 14,
   "metadata": {},
   "outputs": [
    {
     "name": "stdout",
     "output_type": "stream",
     "text": [
      "                         open      high       low     close    volume  \\\n",
      "datetime                                                                \n",
      "2025-04-16 08:20:00  83233.90  83320.06  83212.95  83297.97  10.96115   \n",
      "2025-04-16 08:25:00  83297.96  83739.13  83297.96  83587.51  19.45618   \n",
      "2025-04-16 08:30:00  83662.00  83899.96  83662.00  83814.31  19.07160   \n",
      "2025-04-16 08:35:00  83798.46  83867.61  83743.29  83851.76   9.79899   \n",
      "2025-04-16 08:40:00  83851.76  84096.83  83798.16  83894.00  26.38169   \n",
      "...                       ...       ...       ...       ...       ...   \n",
      "2025-04-16 16:15:00  84996.46  85085.00  84891.88  84910.01  15.03613   \n",
      "2025-04-16 16:20:00  84910.02  84923.98  84717.44  84825.62  13.51260   \n",
      "2025-04-16 16:25:00  84825.63  84949.84  84825.63  84848.71   4.92469   \n",
      "2025-04-16 16:30:00  84848.72  84942.55  84848.71  84942.55  11.44535   \n",
      "2025-04-16 16:35:00  84909.01  84939.61  84723.01  84767.36  10.11847   \n",
      "\n",
      "                    quote_volume  \n",
      "datetime                          \n",
      "2025-04-16 08:20:00    912856.69  \n",
      "2025-04-16 08:25:00   1626605.73  \n",
      "2025-04-16 08:30:00   1596675.45  \n",
      "2025-04-16 08:35:00    821293.55  \n",
      "2025-04-16 08:40:00   2215452.03  \n",
      "...                          ...  \n",
      "2025-04-16 16:15:00   1277080.54  \n",
      "2025-04-16 16:20:00   1146038.47  \n",
      "2025-04-16 16:25:00    417983.82  \n",
      "2025-04-16 16:30:00    971719.39  \n",
      "2025-04-16 16:35:00    857950.30  \n",
      "\n",
      "[100 rows x 6 columns]\n"
     ]
    }
   ],
   "source": [
    "res = await client.get_spot_kline(\"BTC-USDT-SPOT\", \"5m\")\n",
    "print(res)"
   ]
  },
  {
   "cell_type": "code",
   "execution_count": 23,
   "metadata": {},
   "outputs": [
    {
     "name": "stdout",
     "output_type": "stream",
     "text": [
      "                         low     high     open    close   volume\n",
      "datetime                                                        \n",
      "2025-04-14 13:35:00    84480  84729.3  84675.7    84601   803842\n",
      "2025-04-14 13:40:00  84250.1  84642.5  84600.4  84376.1  1290586\n",
      "2025-04-14 13:45:00  84029.4  84496.6    84376    84345  1549558\n",
      "2025-04-14 13:50:00  84286.4  84629.8  84345.2  84602.9  1019416\n",
      "2025-04-14 13:55:00  84331.9  84602.6  84602.6  84345.2   442378\n",
      "...                      ...      ...      ...      ...      ...\n",
      "2025-04-15 13:10:00  85687.1  85789.9  85687.1  85754.9   204168\n",
      "2025-04-15 13:15:00  85649.9  85777.2  85754.9  85666.9   141206\n",
      "2025-04-15 13:20:00  85565.7  85714.2  85666.9  85569.2   153200\n",
      "2025-04-15 13:25:00  85563.2  85813.3  85569.2  85809.5   224284\n",
      "2025-04-15 13:30:00  85563.4  85865.4  85809.6    85758   562630\n",
      "\n",
      "[288 rows x 5 columns]\n"
     ]
    }
   ],
   "source": [
    "from datetime import datetime, timedelta\n",
    "\n",
    "\n",
    "res = await client.get_contract_kline(\n",
    "    \"BTC-USDT-SWAP\", \"5m\", int((datetime.now() - timedelta(days=1)).timestamp()), int(datetime.now().timestamp())\n",
    ")\n",
    "print(res)"
   ]
  },
  {
   "cell_type": "code",
   "execution_count": 24,
   "metadata": {},
   "outputs": [
    {
     "name": "stdout",
     "output_type": "stream",
     "text": [
      "    symbol expected_rate rate_value   funding_time funding_upper_limit  \\\n",
      "0  BTCUSDT     0.0000844  0.0000843  1744732800000              0.0375   \n",
      "\n",
      "  funding_lower_limit      timestamp  \n",
      "0             -0.0375  1744724062950  \n"
     ]
    }
   ],
   "source": [
    "res = await client.get_current_funding_rate(\"BTC-USDT-SWAP\")\n",
    "print(res)"
   ]
  },
  {
   "cell_type": "code",
   "execution_count": 25,
   "metadata": {},
   "outputs": [
    {
     "name": "stdout",
     "output_type": "stream",
     "text": [
      "                                                 list\n",
      "0   {'symbol': 'BTCUSDT', 'funding_rate': '0.00011...\n",
      "1   {'symbol': 'BTCUSDT', 'funding_rate': '0.00002...\n",
      "2   {'symbol': 'BTCUSDT', 'funding_rate': '0.00007...\n",
      "3   {'symbol': 'BTCUSDT', 'funding_rate': '0.00010...\n",
      "4   {'symbol': 'BTCUSDT', 'funding_rate': '0.00012...\n",
      "..                                                ...\n",
      "95  {'symbol': 'BTCUSDT', 'funding_rate': '0.00007...\n",
      "96  {'symbol': 'BTCUSDT', 'funding_rate': '0.00007...\n",
      "97  {'symbol': 'BTCUSDT', 'funding_rate': '0.00003...\n",
      "98  {'symbol': 'BTCUSDT', 'funding_rate': '0.00001...\n",
      "99  {'symbol': 'BTCUSDT', 'funding_rate': '-0.0000...\n",
      "\n",
      "[100 rows x 1 columns]\n"
     ]
    }
   ],
   "source": [
    "res = await client.get_funding_rate_history(\n",
    "    \"BTC-USDT-SWAP\",\n",
    ")\n",
    "print(res)"
   ]
  },
  {
   "cell_type": "markdown",
   "metadata": {},
   "source": [
    "# Account"
   ]
  },
  {
   "cell_type": "code",
   "execution_count": 8,
   "metadata": {},
   "outputs": [
    {
     "name": "stdout",
     "output_type": "stream",
     "text": [
      "Empty DataFrame\n",
      "Columns: []\n",
      "Index: []\n"
     ]
    }
   ],
   "source": [
    "res = await client.get_account_balance()\n",
    "print(res)"
   ]
  },
  {
   "cell_type": "code",
   "execution_count": 9,
   "metadata": {},
   "outputs": [
    {
     "name": "stdout",
     "output_type": "stream",
     "text": [
      "            currency                     name  \\\n",
      "0                BTC                  Bitcoin   \n",
      "1                ETH                 Ethereum   \n",
      "2                BMX            BitMart Token   \n",
      "3                XLM                  Stellar   \n",
      "4                EOS                   Vaulta   \n",
      "...              ...                      ...   \n",
      "3731      KERNEL-ETH            KernelDAO-ETH   \n",
      "3732    WCT-OPTIMISM  WallectConnect-OPTIMISM   \n",
      "3733  $$MEMECOIN-SOL             Memecoin-SOL   \n",
      "3734    MAK-BASE-ETH          Masked-BASE-ETH   \n",
      "3735   TPUP-BASE-ETH        TrendPup-BASE-ETH   \n",
      "\n",
      "                                  contract_address   network  \\\n",
      "0                                             None       BTC   \n",
      "1                                             None       ETH   \n",
      "2       0x986ee2b944c42d017f52af21c4c69b84dbea35d8       ETH   \n",
      "3                                             None       XLM   \n",
      "4                                      eosio.token       EOS   \n",
      "...                                            ...       ...   \n",
      "3731    0x3f80B1c54Ae920Be41a77f8B902259D48cf24cCf       ETH   \n",
      "3732    0xeF4461891DfB3AC8572cCf7C794664A8DD927945  OPTIMISM   \n",
      "3733  5HV956n7UQT1XdJzv43fHPocest5YAmi9ipsuiJx7zt7       SOL   \n",
      "3734    0xDB627d81Ab31A5924ea7B19D91cCdcC9ed243319  BASE-ETH   \n",
      "3735    0xAb7Bf87Aa2EabBD31b5cF50930006d90124Ca4C0  BASE-ETH   \n",
      "\n",
      "      withdraw_enabled  deposit_enabled withdraw_minsize recharge_minsize  \\\n",
      "0                 True             True           0.0003       0.00000001   \n",
      "1                 True             True       0.00915973       0.00000001   \n",
      "2                 True             True      66.60746004       0.00000001   \n",
      "3                 True             True               20       0.00000001   \n",
      "4                 True             True                5       0.00000001   \n",
      "...                ...              ...              ...              ...   \n",
      "3731              True             True      53.07855626       0.00000001   \n",
      "3732             False             True       59.9880024       0.00000001   \n",
      "3733             False             True      2753.910553          0.00001   \n",
      "3734             False             True                2       0.00000001   \n",
      "3735             False             True                2       0.00000001   \n",
      "\n",
      "     withdraw_minfee withdraw_fee_estimate withdraw_fee  \n",
      "0               8.57                  8.57       0.0001  \n",
      "1               3.28                  3.28        0.002  \n",
      "2               3.15                  3.15           14  \n",
      "3                  0                     0         0.01  \n",
      "4               0.12                  0.12          0.2  \n",
      "...              ...                   ...          ...  \n",
      "3731             3.1                   3.1           11  \n",
      "3732            2.01                  2.01          6.1  \n",
      "3733               1                     1          115  \n",
      "3734               2                     2          0.2  \n",
      "3735               2                     2          0.2  \n",
      "\n",
      "[3736 rows x 11 columns]\n"
     ]
    }
   ],
   "source": [
    "res = await client.get_account_currencies()\n",
    "print(res)"
   ]
  },
  {
   "cell_type": "code",
   "execution_count": 10,
   "metadata": {},
   "outputs": [
    {
     "name": "stdout",
     "output_type": "stream",
     "text": [
      "     id        name   available      frozen       total\n",
      "0  USDT  Tether USD  0.00000000  0.00000000  0.00000000\n"
     ]
    }
   ],
   "source": [
    "res = await client.get_spot_wallet()\n",
    "print(res)"
   ]
  },
  {
   "cell_type": "code",
   "execution_count": 12,
   "metadata": {},
   "outputs": [
    {
     "name": "stdout",
     "output_type": "stream",
     "text": [
      "  currency    chain                                     address address_memo\n",
      "0      BTC  Bitcoin  bc1qvafndu6l6leu4qg76hqf67xmgrzxst2pc86caq             \n"
     ]
    }
   ],
   "source": [
    "res = await client.get_deposit_address(currency=\"BTC\")\n",
    "print(res)"
   ]
  },
  {
   "cell_type": "code",
   "execution_count": null,
   "metadata": {},
   "outputs": [],
   "source": [
    "res = await client.get_withdraw_charge(currency=\"USDT-TRC20\")  # wrong\n",
    "print(res)"
   ]
  },
  {
   "cell_type": "code",
   "execution_count": 13,
   "metadata": {},
   "outputs": [
    {
     "name": "stdout",
     "output_type": "stream",
     "text": [
      "  withdraw_id deposit_id operation_type      currency     apply_time  \\\n",
      "0    27114161                  withdraw  USDT-BSC_BNB  1743957744000   \n",
      "1    26695771                  withdraw  USDT-BSC_BNB  1741305505000   \n",
      "\n",
      "  arrival_amount fee  status                                     address  \\\n",
      "0    55.64452838   0       3  0x11c2e20c2749393b2e3e74ca30d083ced53b1c70   \n",
      "1    27.48377545   0       3  0x50de72065b56df623c4c78612d835d4e881556c3   \n",
      "\n",
      "  address_memo                                              tx_id  \n",
      "0               0x6e962294543ee2771e19d00c87387a054e0a29b8457c...  \n",
      "1               0x6983e043060829e910f4205d877a51fe71fd78a19660...  \n"
     ]
    }
   ],
   "source": [
    "res = await client.get_deposit_withdraw_history(currency=\"USDT\")\n",
    "print(res)"
   ]
  },
  {
   "cell_type": "code",
   "execution_count": 14,
   "metadata": {},
   "outputs": [
    {
     "name": "stdout",
     "output_type": "stream",
     "text": [
      "  withdraw_id deposit_id operation_type      currency     apply_time  \\\n",
      "0    26695771                  withdraw  USDT-BSC_BNB  1741305505000   \n",
      "\n",
      "  arrival_amount fee  status                                     address  \\\n",
      "0    27.48377545   0       3  0x50de72065b56df623c4c78612d835d4e881556c3   \n",
      "\n",
      "  address_memo                                              tx_id  \n",
      "0               0x6983e043060829e910f4205d877a51fe71fd78a19660...  \n"
     ]
    }
   ],
   "source": [
    "res = await client.get_deposit_withdraw_history_detail(id=\"26695771\")\n",
    "print(res)"
   ]
  },
  {
   "cell_type": "code",
   "execution_count": 15,
   "metadata": {},
   "outputs": [
    {
     "name": "stdout",
     "output_type": "stream",
     "text": [
      "  currency     available_balance frozen_balance unrealized  \\\n",
      "0     USDT  0.006812670895610679              0          0   \n",
      "1      BTC                     0              0          0   \n",
      "2      ETH                     0              0          0   \n",
      "3     USDC                     0              0          0   \n",
      "\n",
      "                 equity position_deposit  \n",
      "0  0.006812670895610679                0  \n",
      "1                     0                0  \n",
      "2                     0                0  \n",
      "3                     0                0  \n"
     ]
    }
   ],
   "source": [
    "res = await client.get_contract_assets()\n",
    "print(res)"
   ]
  },
  {
   "cell_type": "markdown",
   "metadata": {},
   "source": [
    "# Trade"
   ]
  },
  {
   "cell_type": "code",
   "execution_count": 4,
   "metadata": {},
   "outputs": [
    {
     "ename": "FailedRequestError",
     "evalue": "BitMart API Error: [30005] Header X-BM-SIGN is wrong (ErrCode: 401) (ErrTime: 1744821935055).\nRequest → POST https://api-cloud.bitmart.com/spot/v2/submit_order | Body: {'symbol': 'APT_USDT', 'side': 'buy', 'type': 'market', 'notional': '27.71966'}.",
     "output_type": "error",
     "traceback": [
      "\u001b[31m---------------------------------------------------------------------------\u001b[39m",
      "\u001b[31mFailedRequestError\u001b[39m                        Traceback (most recent call last)",
      "\u001b[36mCell\u001b[39m\u001b[36m \u001b[39m\u001b[32mIn[4]\u001b[39m\u001b[32m, line 1\u001b[39m\n\u001b[32m----> \u001b[39m\u001b[32m1\u001b[39m res = \u001b[38;5;28;01mawait\u001b[39;00m client.place_spot_market_buy_order(\u001b[33m\"\u001b[39m\u001b[33mAPT-USDT-SPOT\u001b[39m\u001b[33m\"\u001b[39m, \u001b[33m\"\u001b[39m\u001b[33m27.71966\u001b[39m\u001b[33m\"\u001b[39m)\n",
      "\u001b[36mFile \u001b[39m\u001b[32m~/kairos-research/krex/example/async_support/bitmart/../../../krex/async_support/bitmart/_trade_http.py:70\u001b[39m, in \u001b[36mTradeHTTP.place_spot_market_buy_order\u001b[39m\u001b[34m(self, product_symbol, notional, client_order_id)\u001b[39m\n\u001b[32m     64\u001b[39m \u001b[38;5;28;01masync\u001b[39;00m \u001b[38;5;28;01mdef\u001b[39;00m\u001b[38;5;250m \u001b[39m\u001b[34mplace_spot_market_buy_order\u001b[39m(\n\u001b[32m     65\u001b[39m     \u001b[38;5;28mself\u001b[39m,\n\u001b[32m     66\u001b[39m     product_symbol: \u001b[38;5;28mstr\u001b[39m,\n\u001b[32m     67\u001b[39m     notional: \u001b[38;5;28mbool\u001b[39m,\n\u001b[32m     68\u001b[39m     client_order_id: \u001b[38;5;28mstr\u001b[39m = \u001b[38;5;28;01mNone\u001b[39;00m,\n\u001b[32m     69\u001b[39m ):\n\u001b[32m---> \u001b[39m\u001b[32m70\u001b[39m     \u001b[38;5;28;01mreturn\u001b[39;00m \u001b[38;5;28;01mawait\u001b[39;00m \u001b[38;5;28mself\u001b[39m.place_spot_market_order(\n\u001b[32m     71\u001b[39m         product_symbol=product_symbol,\n\u001b[32m     72\u001b[39m         side=\u001b[33m\"\u001b[39m\u001b[33mbuy\u001b[39m\u001b[33m\"\u001b[39m,\n\u001b[32m     73\u001b[39m         notional=notional,\n\u001b[32m     74\u001b[39m         client_order_id=client_order_id,\n\u001b[32m     75\u001b[39m     )\n",
      "\u001b[36mFile \u001b[39m\u001b[32m~/kairos-research/krex/example/async_support/bitmart/../../../krex/async_support/bitmart/_trade_http.py:55\u001b[39m, in \u001b[36mTradeHTTP.place_spot_market_order\u001b[39m\u001b[34m(self, product_symbol, side, size, notional, client_order_id)\u001b[39m\n\u001b[32m     47\u001b[39m \u001b[38;5;28;01masync\u001b[39;00m \u001b[38;5;28;01mdef\u001b[39;00m\u001b[38;5;250m \u001b[39m\u001b[34mplace_spot_market_order\u001b[39m(\n\u001b[32m     48\u001b[39m     \u001b[38;5;28mself\u001b[39m,\n\u001b[32m     49\u001b[39m     product_symbol: \u001b[38;5;28mstr\u001b[39m,\n\u001b[32m   (...)\u001b[39m\u001b[32m     53\u001b[39m     client_order_id: \u001b[38;5;28mstr\u001b[39m = \u001b[38;5;28;01mNone\u001b[39;00m,\n\u001b[32m     54\u001b[39m ):\n\u001b[32m---> \u001b[39m\u001b[32m55\u001b[39m     \u001b[38;5;28;01mreturn\u001b[39;00m \u001b[38;5;28;01mawait\u001b[39;00m \u001b[38;5;28mself\u001b[39m.place_spot_order(\n\u001b[32m     56\u001b[39m         product_symbol=product_symbol,\n\u001b[32m     57\u001b[39m         side=side,\n\u001b[32m     58\u001b[39m         \u001b[38;5;28mtype\u001b[39m=\u001b[33m\"\u001b[39m\u001b[33mmarket\u001b[39m\u001b[33m\"\u001b[39m,\n\u001b[32m     59\u001b[39m         size=size,\n\u001b[32m     60\u001b[39m         notional=notional,\n\u001b[32m     61\u001b[39m         client_order_id=client_order_id,\n\u001b[32m     62\u001b[39m     )\n",
      "\u001b[36mFile \u001b[39m\u001b[32m~/kairos-research/krex/example/async_support/bitmart/../../../krex/async_support/bitmart/_trade_http.py:41\u001b[39m, in \u001b[36mTradeHTTP.place_spot_order\u001b[39m\u001b[34m(self, product_symbol, side, type, size, price, notional, client_order_id)\u001b[39m\n\u001b[32m     38\u001b[39m \u001b[38;5;28;01mif\u001b[39;00m client_order_id \u001b[38;5;129;01mis\u001b[39;00m \u001b[38;5;129;01mnot\u001b[39;00m \u001b[38;5;28;01mNone\u001b[39;00m:\n\u001b[32m     39\u001b[39m     payload[\u001b[33m\"\u001b[39m\u001b[33mclient_order_id\u001b[39m\u001b[33m\"\u001b[39m] = client_order_id\n\u001b[32m---> \u001b[39m\u001b[32m41\u001b[39m \u001b[38;5;28;01mreturn\u001b[39;00m \u001b[38;5;28;01mawait\u001b[39;00m \u001b[38;5;28mself\u001b[39m._request(\n\u001b[32m     42\u001b[39m     method=\u001b[33m\"\u001b[39m\u001b[33mPOST\u001b[39m\u001b[33m\"\u001b[39m,\n\u001b[32m     43\u001b[39m     path=SpotTrade.SUBMIT_ORDER,\n\u001b[32m     44\u001b[39m     query=payload,\n\u001b[32m     45\u001b[39m )\n",
      "\u001b[36mFile \u001b[39m\u001b[32m~/kairos-research/krex/example/async_support/bitmart/../../../krex/async_support/bitmart/_http_manager.py:113\u001b[39m, in \u001b[36mHTTPManager._request\u001b[39m\u001b[34m(self, method, path, query)\u001b[39m\n\u001b[32m    111\u001b[39m     code = data.get(\u001b[33m\"\u001b[39m\u001b[33mcode\u001b[39m\u001b[33m\"\u001b[39m, \u001b[33m\"\u001b[39m\u001b[33mUnknown\u001b[39m\u001b[33m\"\u001b[39m)\n\u001b[32m    112\u001b[39m     error_msg = get_bitmart_error_message(code)\n\u001b[32m--> \u001b[39m\u001b[32m113\u001b[39m     \u001b[38;5;28;01mraise\u001b[39;00m FailedRequestError(\n\u001b[32m    114\u001b[39m         request=\u001b[33mf\u001b[39m\u001b[33m\"\u001b[39m\u001b[38;5;132;01m{\u001b[39;00mmethod.upper()\u001b[38;5;132;01m}\u001b[39;00m\u001b[33m \u001b[39m\u001b[38;5;132;01m{\u001b[39;00murl\u001b[38;5;132;01m}\u001b[39;00m\u001b[33m | Body: \u001b[39m\u001b[38;5;132;01m{\u001b[39;00mquery\u001b[38;5;132;01m}\u001b[39;00m\u001b[33m\"\u001b[39m,\n\u001b[32m    115\u001b[39m         message=\u001b[33mf\u001b[39m\u001b[33m\"\u001b[39m\u001b[33mBitMart API Error: [\u001b[39m\u001b[38;5;132;01m{\u001b[39;00mcode\u001b[38;5;132;01m}\u001b[39;00m\u001b[33m] \u001b[39m\u001b[38;5;132;01m{\u001b[39;00merror_msg\u001b[38;5;132;01m}\u001b[39;00m\u001b[33m\"\u001b[39m,\n\u001b[32m    116\u001b[39m         status_code=response.status_code,\n\u001b[32m    117\u001b[39m         time=timestamp,\n\u001b[32m    118\u001b[39m         resp_headers=response.headers,\n\u001b[32m    119\u001b[39m     )\n\u001b[32m    121\u001b[39m \u001b[38;5;66;03m# If http status is not 2xx (like 403, 404)\u001b[39;00m\n\u001b[32m    122\u001b[39m \u001b[38;5;28;01mif\u001b[39;00m \u001b[38;5;129;01mnot\u001b[39;00m response.status_code // \u001b[32m100\u001b[39m == \u001b[32m2\u001b[39m:\n",
      "\u001b[31mFailedRequestError\u001b[39m: BitMart API Error: [30005] Header X-BM-SIGN is wrong (ErrCode: 401) (ErrTime: 1744821935055).\nRequest → POST https://api-cloud.bitmart.com/spot/v2/submit_order | Body: {'symbol': 'APT_USDT', 'side': 'buy', 'type': 'market', 'notional': '27.71966'}."
     ]
    }
   ],
   "source": [
    "res = await client.place_spot_market_buy_order(\"APT-USDT-SPOT\", \"27.71966\")"
   ]
  },
  {
   "cell_type": "code",
   "execution_count": 4,
   "metadata": {},
   "outputs": [
    {
     "ename": "KeyError",
     "evalue": "'data'",
     "output_type": "error",
     "traceback": [
      "\u001b[31m---------------------------------------------------------------------------\u001b[39m",
      "\u001b[31mKeyError\u001b[39m                                  Traceback (most recent call last)",
      "\u001b[36mCell\u001b[39m\u001b[36m \u001b[39m\u001b[32mIn[4]\u001b[39m\u001b[32m, line 1\u001b[39m\n\u001b[32m----> \u001b[39m\u001b[32m1\u001b[39m res = \u001b[38;5;28;01mawait\u001b[39;00m client.place_contract_market_buy_order(\n\u001b[32m      2\u001b[39m     \u001b[33m\"\u001b[39m\u001b[33mETH-USDT-SWAP\u001b[39m\u001b[33m\"\u001b[39m,\n\u001b[32m      3\u001b[39m     \u001b[32m1\u001b[39m,\n\u001b[32m      4\u001b[39m )\n",
      "\u001b[36mFile \u001b[39m\u001b[32m~/kairos-research/krex/example/async_support/bitmart/../../../krex/async_support/bitmart/_trade_http.py:516\u001b[39m, in \u001b[36mTradeHTTP.place_contract_market_buy_order\u001b[39m\u001b[34m(self, product_symbol, size, client_order_id)\u001b[39m\n\u001b[32m    509\u001b[39m \u001b[38;5;28;01masync\u001b[39;00m \u001b[38;5;28;01mdef\u001b[39;00m\u001b[38;5;250m \u001b[39m\u001b[34mplace_contract_market_buy_order\u001b[39m(\n\u001b[32m    510\u001b[39m     \u001b[38;5;28mself\u001b[39m,\n\u001b[32m    511\u001b[39m     product_symbol: \u001b[38;5;28mstr\u001b[39m,\n\u001b[32m    512\u001b[39m     size: \u001b[38;5;28mint\u001b[39m,\n\u001b[32m    513\u001b[39m     client_order_id: \u001b[38;5;28mstr\u001b[39m = \u001b[38;5;28;01mNone\u001b[39;00m,\n\u001b[32m    514\u001b[39m ):\n\u001b[32m    515\u001b[39m     positions = \u001b[38;5;28;01mawait\u001b[39;00m \u001b[38;5;28mself\u001b[39m.get_contract_position(product_symbol)\n\u001b[32m--> \u001b[39m\u001b[32m516\u001b[39m     positions = \u001b[43mpositions\u001b[49m\u001b[43m[\u001b[49m\u001b[33;43m\"\u001b[39;49m\u001b[33;43mdata\u001b[39;49m\u001b[33;43m\"\u001b[39;49m\u001b[43m]\u001b[49m\n\u001b[32m    517\u001b[39m     short_size = \u001b[38;5;28msum\u001b[39m(\u001b[38;5;28mint\u001b[39m(p[\u001b[33m\"\u001b[39m\u001b[33mcurrent_amount\u001b[39m\u001b[33m\"\u001b[39m]) \u001b[38;5;28;01mfor\u001b[39;00m p \u001b[38;5;129;01min\u001b[39;00m positions \u001b[38;5;28;01mif\u001b[39;00m p[\u001b[33m\"\u001b[39m\u001b[33mposition_type\u001b[39m\u001b[33m\"\u001b[39m] == \u001b[32m2\u001b[39m)\n\u001b[32m    519\u001b[39m     \u001b[38;5;28;01mif\u001b[39;00m short_size != \u001b[32m0\u001b[39m:\n",
      "\u001b[36mFile \u001b[39m\u001b[32m~/kairos-research/krex/.venv/lib/python3.11/site-packages/pandas/core/frame.py:4102\u001b[39m, in \u001b[36mDataFrame.__getitem__\u001b[39m\u001b[34m(self, key)\u001b[39m\n\u001b[32m   4100\u001b[39m \u001b[38;5;28;01mif\u001b[39;00m \u001b[38;5;28mself\u001b[39m.columns.nlevels > \u001b[32m1\u001b[39m:\n\u001b[32m   4101\u001b[39m     \u001b[38;5;28;01mreturn\u001b[39;00m \u001b[38;5;28mself\u001b[39m._getitem_multilevel(key)\n\u001b[32m-> \u001b[39m\u001b[32m4102\u001b[39m indexer = \u001b[38;5;28;43mself\u001b[39;49m\u001b[43m.\u001b[49m\u001b[43mcolumns\u001b[49m\u001b[43m.\u001b[49m\u001b[43mget_loc\u001b[49m\u001b[43m(\u001b[49m\u001b[43mkey\u001b[49m\u001b[43m)\u001b[49m\n\u001b[32m   4103\u001b[39m \u001b[38;5;28;01mif\u001b[39;00m is_integer(indexer):\n\u001b[32m   4104\u001b[39m     indexer = [indexer]\n",
      "\u001b[36mFile \u001b[39m\u001b[32m~/kairos-research/krex/.venv/lib/python3.11/site-packages/pandas/core/indexes/range.py:417\u001b[39m, in \u001b[36mRangeIndex.get_loc\u001b[39m\u001b[34m(self, key)\u001b[39m\n\u001b[32m    415\u001b[39m         \u001b[38;5;28;01mraise\u001b[39;00m \u001b[38;5;167;01mKeyError\u001b[39;00m(key) \u001b[38;5;28;01mfrom\u001b[39;00m\u001b[38;5;250m \u001b[39m\u001b[34;01merr\u001b[39;00m\n\u001b[32m    416\u001b[39m \u001b[38;5;28;01mif\u001b[39;00m \u001b[38;5;28misinstance\u001b[39m(key, Hashable):\n\u001b[32m--> \u001b[39m\u001b[32m417\u001b[39m     \u001b[38;5;28;01mraise\u001b[39;00m \u001b[38;5;167;01mKeyError\u001b[39;00m(key)\n\u001b[32m    418\u001b[39m \u001b[38;5;28mself\u001b[39m._check_indexing_error(key)\n\u001b[32m    419\u001b[39m \u001b[38;5;28;01mraise\u001b[39;00m \u001b[38;5;167;01mKeyError\u001b[39;00m(key)\n",
      "\u001b[31mKeyError\u001b[39m: 'data'"
     ]
    }
   ],
   "source": [
    "res = await client.place_contract_market_buy_order(\n",
    "    \"ETH-USDT-SWAP\",\n",
    "    1,\n",
    ")"
   ]
  },
  {
   "cell_type": "code",
   "execution_count": 5,
   "metadata": {},
   "outputs": [
    {
     "name": "stdout",
     "output_type": "stream",
     "text": [
      "Empty DataFrame\n",
      "Columns: []\n",
      "Index: []\n"
     ]
    },
    {
     "ename": "KeyError",
     "evalue": "'data'",
     "output_type": "error",
     "traceback": [
      "\u001b[31m---------------------------------------------------------------------------\u001b[39m",
      "\u001b[31mKeyError\u001b[39m                                  Traceback (most recent call last)",
      "\u001b[36mCell\u001b[39m\u001b[36m \u001b[39m\u001b[32mIn[5]\u001b[39m\u001b[32m, line 1\u001b[39m\n\u001b[32m----> \u001b[39m\u001b[32m1\u001b[39m \u001b[38;5;28;01mawait\u001b[39;00m client.place_contract_market_sell_order(\n\u001b[32m      2\u001b[39m     \u001b[33m\"\u001b[39m\u001b[33mETH-USDT-SWAP\u001b[39m\u001b[33m\"\u001b[39m,\n\u001b[32m      3\u001b[39m     \u001b[32m2\u001b[39m,\n\u001b[32m      4\u001b[39m )\n",
      "\u001b[36mFile \u001b[39m\u001b[32m~/kairos-research/krex/example/async_support/bitmart/../../../krex/async_support/bitmart/_trade_http.py:559\u001b[39m, in \u001b[36mTradeHTTP.place_contract_market_sell_order\u001b[39m\u001b[34m(self, product_symbol, size, client_order_id)\u001b[39m\n\u001b[32m    557\u001b[39m positions = \u001b[38;5;28;01mawait\u001b[39;00m \u001b[38;5;28mself\u001b[39m.get_contract_position(product_symbol)\n\u001b[32m    558\u001b[39m \u001b[38;5;28mprint\u001b[39m(positions)\n\u001b[32m--> \u001b[39m\u001b[32m559\u001b[39m positions = \u001b[43mpositions\u001b[49m\u001b[43m[\u001b[49m\u001b[33;43m\"\u001b[39;49m\u001b[33;43mdata\u001b[39;49m\u001b[33;43m\"\u001b[39;49m\u001b[43m]\u001b[49m\n\u001b[32m    560\u001b[39m long_size = \u001b[38;5;28msum\u001b[39m(\u001b[38;5;28mint\u001b[39m(p[\u001b[33m\"\u001b[39m\u001b[33mcurrent_amount\u001b[39m\u001b[33m\"\u001b[39m]) \u001b[38;5;28;01mfor\u001b[39;00m p \u001b[38;5;129;01min\u001b[39;00m positions \u001b[38;5;28;01mif\u001b[39;00m p[\u001b[33m\"\u001b[39m\u001b[33mposition_type\u001b[39m\u001b[33m\"\u001b[39m] == \u001b[32m1\u001b[39m)\n\u001b[32m    562\u001b[39m \u001b[38;5;28;01mif\u001b[39;00m long_size != \u001b[32m0\u001b[39m:\n",
      "\u001b[36mFile \u001b[39m\u001b[32m~/kairos-research/krex/.venv/lib/python3.11/site-packages/pandas/core/frame.py:4102\u001b[39m, in \u001b[36mDataFrame.__getitem__\u001b[39m\u001b[34m(self, key)\u001b[39m\n\u001b[32m   4100\u001b[39m \u001b[38;5;28;01mif\u001b[39;00m \u001b[38;5;28mself\u001b[39m.columns.nlevels > \u001b[32m1\u001b[39m:\n\u001b[32m   4101\u001b[39m     \u001b[38;5;28;01mreturn\u001b[39;00m \u001b[38;5;28mself\u001b[39m._getitem_multilevel(key)\n\u001b[32m-> \u001b[39m\u001b[32m4102\u001b[39m indexer = \u001b[38;5;28;43mself\u001b[39;49m\u001b[43m.\u001b[49m\u001b[43mcolumns\u001b[49m\u001b[43m.\u001b[49m\u001b[43mget_loc\u001b[49m\u001b[43m(\u001b[49m\u001b[43mkey\u001b[49m\u001b[43m)\u001b[49m\n\u001b[32m   4103\u001b[39m \u001b[38;5;28;01mif\u001b[39;00m is_integer(indexer):\n\u001b[32m   4104\u001b[39m     indexer = [indexer]\n",
      "\u001b[36mFile \u001b[39m\u001b[32m~/kairos-research/krex/.venv/lib/python3.11/site-packages/pandas/core/indexes/range.py:417\u001b[39m, in \u001b[36mRangeIndex.get_loc\u001b[39m\u001b[34m(self, key)\u001b[39m\n\u001b[32m    415\u001b[39m         \u001b[38;5;28;01mraise\u001b[39;00m \u001b[38;5;167;01mKeyError\u001b[39;00m(key) \u001b[38;5;28;01mfrom\u001b[39;00m\u001b[38;5;250m \u001b[39m\u001b[34;01merr\u001b[39;00m\n\u001b[32m    416\u001b[39m \u001b[38;5;28;01mif\u001b[39;00m \u001b[38;5;28misinstance\u001b[39m(key, Hashable):\n\u001b[32m--> \u001b[39m\u001b[32m417\u001b[39m     \u001b[38;5;28;01mraise\u001b[39;00m \u001b[38;5;167;01mKeyError\u001b[39;00m(key)\n\u001b[32m    418\u001b[39m \u001b[38;5;28mself\u001b[39m._check_indexing_error(key)\n\u001b[32m    419\u001b[39m \u001b[38;5;28;01mraise\u001b[39;00m \u001b[38;5;167;01mKeyError\u001b[39;00m(key)\n",
      "\u001b[31mKeyError\u001b[39m: 'data'"
     ]
    }
   ],
   "source": [
    "await client.place_contract_market_sell_order(\n",
    "    \"ETH-USDT-SWAP\",\n",
    "    2,\n",
    ")"
   ]
  }
 ],
 "metadata": {
  "kernelspec": {
   "display_name": ".venv",
   "language": "python",
   "name": "python3"
  },
  "language_info": {
   "codemirror_mode": {
    "name": "ipython",
    "version": 3
   },
   "file_extension": ".py",
   "mimetype": "text/x-python",
   "name": "python",
   "nbconvert_exporter": "python",
   "pygments_lexer": "ipython3",
   "version": "3.11.11"
  }
 },
 "nbformat": 4,
 "nbformat_minor": 2
}
