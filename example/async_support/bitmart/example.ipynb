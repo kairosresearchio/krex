{
 "cells": [
  {
   "cell_type": "code",
   "execution_count": 1,
   "metadata": {},
   "outputs": [],
   "source": [
    "import sys\n",
    "\n",
    "sys.path.append(\"../../..\")\n",
    "import nest_asyncio\n",
    "from krex.async_support.bitmart.client import Client\n",
    "\n",
    "nest_asyncio.apply()"
   ]
  },
  {
   "cell_type": "code",
   "execution_count": 2,
   "metadata": {},
   "outputs": [],
   "source": [
    "BITMART_API_KEY = \"613c8332848ff6b83aa915ae6270f2e842901036\"\n",
    "BITMART_API_SECRET = \"66b82353bfee263185b36bdcaa244ee805c68aa87fd593addcd5124ff334ea3f\"\n",
    "MEMO = \"trade\""
   ]
  },
  {
   "cell_type": "code",
   "execution_count": 3,
   "metadata": {},
   "outputs": [],
   "source": [
    "client = await Client(\n",
    "    api_key=BITMART_API_KEY,\n",
    "    api_secret=BITMART_API_SECRET,\n",
    "    memo=MEMO,\n",
    ").__aenter__()"
   ]
  },
  {
   "cell_type": "markdown",
   "metadata": {},
   "source": [
    "# Market"
   ]
  },
  {
   "cell_type": "code",
   "execution_count": 4,
   "metadata": {},
   "outputs": [
    {
     "data": {
      "text/html": [
       "<div><style>\n",
       ".dataframe > thead > tr,\n",
       ".dataframe > tbody > tr {\n",
       "  text-align: right;\n",
       "  white-space: pre-wrap;\n",
       "}\n",
       "</style>\n",
       "<small>shape: (3_543, 4)</small><table border=\"1\" class=\"dataframe\"><thead><tr><th>id</th><th>name</th><th>withdraw_enabled</th><th>deposit_enabled</th></tr><tr><td>str</td><td>str</td><td>bool</td><td>bool</td></tr></thead><tbody><tr><td>&quot;BTC&quot;</td><td>&quot;Bitcoin&quot;</td><td>true</td><td>true</td></tr><tr><td>&quot;ETH&quot;</td><td>&quot;Ethereum&quot;</td><td>true</td><td>true</td></tr><tr><td>&quot;USDT&quot;</td><td>&quot;Tether USD&quot;</td><td>true</td><td>true</td></tr><tr><td>&quot;BMX&quot;</td><td>&quot;BitMart Token&quot;</td><td>true</td><td>true</td></tr><tr><td>&quot;XLM&quot;</td><td>&quot;Stellar&quot;</td><td>true</td><td>true</td></tr><tr><td>&hellip;</td><td>&hellip;</td><td>&hellip;</td><td>&hellip;</td></tr><tr><td>&quot;FUR&quot;</td><td>&quot;Furfication&quot;</td><td>false</td><td>true</td></tr><tr><td>&quot;ECT&quot;</td><td>&quot;Eco trade&quot;</td><td>false</td><td>true</td></tr><tr><td>&quot;BIFE&quot;</td><td>&quot;Base is for everyone&quot;</td><td>true</td><td>true</td></tr><tr><td>&quot;TIME&quot;</td><td>&quot;Manipulated Time&quot;</td><td>true</td><td>true</td></tr><tr><td>&quot;PAWS&quot;</td><td>&quot;PAWS&quot;</td><td>true</td><td>true</td></tr></tbody></table></div>"
      ],
      "text/plain": [
       "shape: (3_543, 4)\n",
       "┌──────┬──────────────────────┬──────────────────┬─────────────────┐\n",
       "│ id   ┆ name                 ┆ withdraw_enabled ┆ deposit_enabled │\n",
       "│ ---  ┆ ---                  ┆ ---              ┆ ---             │\n",
       "│ str  ┆ str                  ┆ bool             ┆ bool            │\n",
       "╞══════╪══════════════════════╪══════════════════╪═════════════════╡\n",
       "│ BTC  ┆ Bitcoin              ┆ true             ┆ true            │\n",
       "│ ETH  ┆ Ethereum             ┆ true             ┆ true            │\n",
       "│ USDT ┆ Tether USD           ┆ true             ┆ true            │\n",
       "│ BMX  ┆ BitMart Token        ┆ true             ┆ true            │\n",
       "│ XLM  ┆ Stellar              ┆ true             ┆ true            │\n",
       "│ …    ┆ …                    ┆ …                ┆ …               │\n",
       "│ FUR  ┆ Furfication          ┆ false            ┆ true            │\n",
       "│ ECT  ┆ Eco trade            ┆ false            ┆ true            │\n",
       "│ BIFE ┆ Base is for everyone ┆ true             ┆ true            │\n",
       "│ TIME ┆ Manipulated Time     ┆ true             ┆ true            │\n",
       "│ PAWS ┆ PAWS                 ┆ true             ┆ true            │\n",
       "└──────┴──────────────────────┴──────────────────┴─────────────────┘"
      ]
     },
     "execution_count": 4,
     "metadata": {},
     "output_type": "execute_result"
    }
   ],
   "source": [
    "res = await client.get_spot_currencies()\n",
    "res"
   ]
  },
  {
   "cell_type": "code",
   "execution_count": 5,
   "metadata": {},
   "outputs": [
    {
     "data": {
      "text/html": [
       "<div><style>\n",
       ".dataframe > thead > tr,\n",
       ".dataframe > tbody > tr {\n",
       "  text-align: right;\n",
       "  white-space: pre-wrap;\n",
       "}\n",
       "</style>\n",
       "<small>shape: (1, 1)</small><table border=\"1\" class=\"dataframe\"><thead><tr><th>symbols</th></tr><tr><td>list[str]</td></tr></thead><tbody><tr><td>[&quot;$NUT_USDT&quot;, &quot;ORNJ_USDT&quot;, … &quot;ET_USDT&quot;]</td></tr></tbody></table></div>"
      ],
      "text/plain": [
       "shape: (1, 1)\n",
       "┌─────────────────────────────────┐\n",
       "│ symbols                         │\n",
       "│ ---                             │\n",
       "│ list[str]                       │\n",
       "╞═════════════════════════════════╡\n",
       "│ [\"$NUT_USDT\", \"ORNJ_USDT\", … \"… │\n",
       "└─────────────────────────────────┘"
      ]
     },
     "execution_count": 5,
     "metadata": {},
     "output_type": "execute_result"
    }
   ],
   "source": [
    "res = await client.get_trading_pairs()\n",
    "res"
   ]
  },
  {
   "cell_type": "code",
   "execution_count": 6,
   "metadata": {},
   "outputs": [
    {
     "data": {
      "text/html": [
       "<div><style>\n",
       ".dataframe > thead > tr,\n",
       ".dataframe > tbody > tr {\n",
       "  text-align: right;\n",
       "  white-space: pre-wrap;\n",
       "}\n",
       "</style>\n",
       "<small>shape: (1_654, 12)</small><table border=\"1\" class=\"dataframe\"><thead><tr><th>symbol</th><th>symbol_id</th><th>base_currency</th><th>quote_currency</th><th>quote_increment</th><th>base_min_size</th><th>price_min_precision</th><th>price_max_precision</th><th>expiration</th><th>min_buy_amount</th><th>min_sell_amount</th><th>trade_status</th></tr><tr><td>str</td><td>i64</td><td>str</td><td>str</td><td>str</td><td>str</td><td>i64</td><td>i64</td><td>str</td><td>str</td><td>str</td><td>str</td></tr></thead><tbody><tr><td>&quot;$NUT_USDT&quot;</td><td>5443</td><td>&quot;$NUT&quot;</td><td>&quot;USDT&quot;</td><td>&quot;1&quot;</td><td>&quot;1&quot;</td><td>1</td><td>4</td><td>&quot;NA&quot;</td><td>&quot;5.0000000000000000000000000000…</td><td>&quot;5.0000000000000000000000000000…</td><td>&quot;trading&quot;</td></tr><tr><td>&quot;ORNJ_USDT&quot;</td><td>3967</td><td>&quot;ORNJ&quot;</td><td>&quot;USDT&quot;</td><td>&quot;0.01&quot;</td><td>&quot;0.01&quot;</td><td>2</td><td>5</td><td>&quot;NA&quot;</td><td>&quot;5.0000000000000000000000000000…</td><td>&quot;5.0000000000000000000000000000…</td><td>&quot;trading&quot;</td></tr><tr><td>&quot;TUBEUSD_USDT&quot;</td><td>4889</td><td>&quot;TUBEUSD&quot;</td><td>&quot;USDT&quot;</td><td>&quot;0.01&quot;</td><td>&quot;0.01&quot;</td><td>2</td><td>5</td><td>&quot;NA&quot;</td><td>&quot;5.0000000000000000000000000000…</td><td>&quot;5.0000000000000000000000000000…</td><td>&quot;trading&quot;</td></tr><tr><td>&quot;OGN_USDT&quot;</td><td>3229</td><td>&quot;OGN&quot;</td><td>&quot;USDT&quot;</td><td>&quot;0.1&quot;</td><td>&quot;0.1&quot;</td><td>1</td><td>4</td><td>&quot;NA&quot;</td><td>&quot;5.0000000000000000000000000000…</td><td>&quot;5.0000000000000000000000000000…</td><td>&quot;trading&quot;</td></tr><tr><td>&quot;HAM_USDT&quot;</td><td>3103</td><td>&quot;HAM&quot;</td><td>&quot;USDT&quot;</td><td>&quot;1&quot;</td><td>&quot;1&quot;</td><td>9</td><td>12</td><td>&quot;NA&quot;</td><td>&quot;5.0000000000000000000000000000…</td><td>&quot;5.0000000000000000000000000000…</td><td>&quot;trading&quot;</td></tr><tr><td>&hellip;</td><td>&hellip;</td><td>&hellip;</td><td>&hellip;</td><td>&hellip;</td><td>&hellip;</td><td>&hellip;</td><td>&hellip;</td><td>&hellip;</td><td>&hellip;</td><td>&hellip;</td><td>&hellip;</td></tr><tr><td>&quot;AIXBT_USDT&quot;</td><td>5067</td><td>&quot;AIXBT&quot;</td><td>&quot;USDT&quot;</td><td>&quot;0.1&quot;</td><td>&quot;0.1&quot;</td><td>1</td><td>4</td><td>&quot;NA&quot;</td><td>&quot;5.0000000000000000000000000000…</td><td>&quot;5.0000000000000000000000000000…</td><td>&quot;trading&quot;</td></tr><tr><td>&quot;HYPER_USDT&quot;</td><td>2900</td><td>&quot;HYPER&quot;</td><td>&quot;USDT&quot;</td><td>&quot;0.01&quot;</td><td>&quot;0.01&quot;</td><td>4</td><td>7</td><td>&quot;NA&quot;</td><td>&quot;5.0000000000000000000000000000…</td><td>&quot;5.0000000000000000000000000000…</td><td>&quot;trading&quot;</td></tr><tr><td>&quot;WAFFLES_USDT&quot;</td><td>4659</td><td>&quot;WAFFLES&quot;</td><td>&quot;USDT&quot;</td><td>&quot;0.01&quot;</td><td>&quot;0.01&quot;</td><td>2</td><td>5</td><td>&quot;NA&quot;</td><td>&quot;5.0000000000000000000000000000…</td><td>&quot;5.0000000000000000000000000000…</td><td>&quot;trading&quot;</td></tr><tr><td>&quot;WIN_USDT&quot;</td><td>2768</td><td>&quot;WIN&quot;</td><td>&quot;USDT&quot;</td><td>&quot;1&quot;</td><td>&quot;1&quot;</td><td>5</td><td>8</td><td>&quot;NA&quot;</td><td>&quot;5.0000000000000000000000000000…</td><td>&quot;5.0000000000000000000000000000…</td><td>&quot;trading&quot;</td></tr><tr><td>&quot;ET_USDT&quot;</td><td>5497</td><td>&quot;ET&quot;</td><td>&quot;USDT&quot;</td><td>&quot;0.001&quot;</td><td>&quot;0.001&quot;</td><td>3</td><td>6</td><td>&quot;NA&quot;</td><td>&quot;5.0000000000000000000000000000…</td><td>&quot;5.0000000000000000000000000000…</td><td>&quot;trading&quot;</td></tr></tbody></table></div>"
      ],
      "text/plain": [
       "shape: (1_654, 12)\n",
       "┌───────────┬───────────┬───────────┬───────────┬───┬───────────┬───────────┬───────────┬──────────┐\n",
       "│ symbol    ┆ symbol_id ┆ base_curr ┆ quote_cur ┆ … ┆ expiratio ┆ min_buy_a ┆ min_sell_ ┆ trade_st │\n",
       "│ ---       ┆ ---       ┆ ency      ┆ rency     ┆   ┆ n         ┆ mount     ┆ amount    ┆ atus     │\n",
       "│ str       ┆ i64       ┆ ---       ┆ ---       ┆   ┆ ---       ┆ ---       ┆ ---       ┆ ---      │\n",
       "│           ┆           ┆ str       ┆ str       ┆   ┆ str       ┆ str       ┆ str       ┆ str      │\n",
       "╞═══════════╪═══════════╪═══════════╪═══════════╪═══╪═══════════╪═══════════╪═══════════╪══════════╡\n",
       "│ $NUT_USDT ┆ 5443      ┆ $NUT      ┆ USDT      ┆ … ┆ NA        ┆ 5.0000000 ┆ 5.0000000 ┆ trading  │\n",
       "│           ┆           ┆           ┆           ┆   ┆           ┆ 000000000 ┆ 000000000 ┆          │\n",
       "│           ┆           ┆           ┆           ┆   ┆           ┆ 000000000 ┆ 000000000 ┆          │\n",
       "│           ┆           ┆           ┆           ┆   ┆           ┆ 000…      ┆ 000…      ┆          │\n",
       "│ ORNJ_USDT ┆ 3967      ┆ ORNJ      ┆ USDT      ┆ … ┆ NA        ┆ 5.0000000 ┆ 5.0000000 ┆ trading  │\n",
       "│           ┆           ┆           ┆           ┆   ┆           ┆ 000000000 ┆ 000000000 ┆          │\n",
       "│           ┆           ┆           ┆           ┆   ┆           ┆ 000000000 ┆ 000000000 ┆          │\n",
       "│           ┆           ┆           ┆           ┆   ┆           ┆ 000…      ┆ 000…      ┆          │\n",
       "│ TUBEUSD_U ┆ 4889      ┆ TUBEUSD   ┆ USDT      ┆ … ┆ NA        ┆ 5.0000000 ┆ 5.0000000 ┆ trading  │\n",
       "│ SDT       ┆           ┆           ┆           ┆   ┆           ┆ 000000000 ┆ 000000000 ┆          │\n",
       "│           ┆           ┆           ┆           ┆   ┆           ┆ 000000000 ┆ 000000000 ┆          │\n",
       "│           ┆           ┆           ┆           ┆   ┆           ┆ 000…      ┆ 000…      ┆          │\n",
       "│ OGN_USDT  ┆ 3229      ┆ OGN       ┆ USDT      ┆ … ┆ NA        ┆ 5.0000000 ┆ 5.0000000 ┆ trading  │\n",
       "│           ┆           ┆           ┆           ┆   ┆           ┆ 000000000 ┆ 000000000 ┆          │\n",
       "│           ┆           ┆           ┆           ┆   ┆           ┆ 000000000 ┆ 000000000 ┆          │\n",
       "│           ┆           ┆           ┆           ┆   ┆           ┆ 000…      ┆ 000…      ┆          │\n",
       "│ HAM_USDT  ┆ 3103      ┆ HAM       ┆ USDT      ┆ … ┆ NA        ┆ 5.0000000 ┆ 5.0000000 ┆ trading  │\n",
       "│           ┆           ┆           ┆           ┆   ┆           ┆ 000000000 ┆ 000000000 ┆          │\n",
       "│           ┆           ┆           ┆           ┆   ┆           ┆ 000000000 ┆ 000000000 ┆          │\n",
       "│           ┆           ┆           ┆           ┆   ┆           ┆ 000…      ┆ 000…      ┆          │\n",
       "│ …         ┆ …         ┆ …         ┆ …         ┆ … ┆ …         ┆ …         ┆ …         ┆ …        │\n",
       "│ AIXBT_USD ┆ 5067      ┆ AIXBT     ┆ USDT      ┆ … ┆ NA        ┆ 5.0000000 ┆ 5.0000000 ┆ trading  │\n",
       "│ T         ┆           ┆           ┆           ┆   ┆           ┆ 000000000 ┆ 000000000 ┆          │\n",
       "│           ┆           ┆           ┆           ┆   ┆           ┆ 000000000 ┆ 000000000 ┆          │\n",
       "│           ┆           ┆           ┆           ┆   ┆           ┆ 000…      ┆ 000…      ┆          │\n",
       "│ HYPER_USD ┆ 2900      ┆ HYPER     ┆ USDT      ┆ … ┆ NA        ┆ 5.0000000 ┆ 5.0000000 ┆ trading  │\n",
       "│ T         ┆           ┆           ┆           ┆   ┆           ┆ 000000000 ┆ 000000000 ┆          │\n",
       "│           ┆           ┆           ┆           ┆   ┆           ┆ 000000000 ┆ 000000000 ┆          │\n",
       "│           ┆           ┆           ┆           ┆   ┆           ┆ 000…      ┆ 000…      ┆          │\n",
       "│ WAFFLES_U ┆ 4659      ┆ WAFFLES   ┆ USDT      ┆ … ┆ NA        ┆ 5.0000000 ┆ 5.0000000 ┆ trading  │\n",
       "│ SDT       ┆           ┆           ┆           ┆   ┆           ┆ 000000000 ┆ 000000000 ┆          │\n",
       "│           ┆           ┆           ┆           ┆   ┆           ┆ 000000000 ┆ 000000000 ┆          │\n",
       "│           ┆           ┆           ┆           ┆   ┆           ┆ 000…      ┆ 000…      ┆          │\n",
       "│ WIN_USDT  ┆ 2768      ┆ WIN       ┆ USDT      ┆ … ┆ NA        ┆ 5.0000000 ┆ 5.0000000 ┆ trading  │\n",
       "│           ┆           ┆           ┆           ┆   ┆           ┆ 000000000 ┆ 000000000 ┆          │\n",
       "│           ┆           ┆           ┆           ┆   ┆           ┆ 000000000 ┆ 000000000 ┆          │\n",
       "│           ┆           ┆           ┆           ┆   ┆           ┆ 000…      ┆ 000…      ┆          │\n",
       "│ ET_USDT   ┆ 5497      ┆ ET        ┆ USDT      ┆ … ┆ NA        ┆ 5.0000000 ┆ 5.0000000 ┆ trading  │\n",
       "│           ┆           ┆           ┆           ┆   ┆           ┆ 000000000 ┆ 000000000 ┆          │\n",
       "│           ┆           ┆           ┆           ┆   ┆           ┆ 000000000 ┆ 000000000 ┆          │\n",
       "│           ┆           ┆           ┆           ┆   ┆           ┆ 000…      ┆ 000…      ┆          │\n",
       "└───────────┴───────────┴───────────┴───────────┴───┴───────────┴───────────┴───────────┴──────────┘"
      ]
     },
     "execution_count": 6,
     "metadata": {},
     "output_type": "execute_result"
    }
   ],
   "source": [
    "res = await client.get_trading_pairs_details()\n",
    "res"
   ]
  },
  {
   "cell_type": "code",
   "execution_count": 7,
   "metadata": {},
   "outputs": [
    {
     "data": {
      "text/html": [
       "<div><style>\n",
       ".dataframe > thead > tr,\n",
       ".dataframe > tbody > tr {\n",
       "  text-align: right;\n",
       "  white-space: pre-wrap;\n",
       "}\n",
       "</style>\n",
       "<small>shape: (1_248, 13)</small><table border=\"1\" class=\"dataframe\"><thead><tr><th>symbol</th><th>last_price</th><th>volume</th><th>quote_volume</th><th>open_price</th><th>high_price</th><th>low_price</th><th>price_change_percent</th><th>bid_price</th><th>bid_size</th><th>ask_price</th><th>ask_size</th><th>timestamp</th></tr><tr><td>str</td><td>str</td><td>str</td><td>str</td><td>str</td><td>str</td><td>str</td><td>str</td><td>str</td><td>str</td><td>str</td><td>str</td><td>str</td></tr></thead><tbody><tr><td>&quot;AGC_USDT&quot;</td><td>&quot;0.004&quot;</td><td>&quot;78162392.0&quot;</td><td>&quot;313111.670&quot;</td><td>&quot;0.004&quot;</td><td>&quot;0.005&quot;</td><td>&quot;0.004&quot;</td><td>&quot;0.00000&quot;</td><td>&quot;0.004&quot;</td><td>&quot;5044.3&quot;</td><td>&quot;0.005&quot;</td><td>&quot;3491.5&quot;</td><td>&quot;1744892008315&quot;</td></tr><tr><td>&quot;AEVO_USDT&quot;</td><td>&quot;0.086&quot;</td><td>&quot;245916.6&quot;</td><td>&quot;21124.426&quot;</td><td>&quot;0.087&quot;</td><td>&quot;0.088&quot;</td><td>&quot;0.083&quot;</td><td>&quot;-0.01149&quot;</td><td>&quot;0.085&quot;</td><td>&quot;337458.4&quot;</td><td>&quot;0.086&quot;</td><td>&quot;34643.2&quot;</td><td>&quot;1744892008206&quot;</td></tr><tr><td>&quot;SEIYAN_USDT&quot;</td><td>&quot;0.00191&quot;</td><td>&quot;2140375.86&quot;</td><td>&quot;4097.97369&quot;</td><td>&quot;0.00188&quot;</td><td>&quot;0.00195&quot;</td><td>&quot;0.00187&quot;</td><td>&quot;0.01596&quot;</td><td>&quot;0.00189&quot;</td><td>&quot;12211.99&quot;</td><td>&quot;0.00191&quot;</td><td>&quot;22837.93&quot;</td><td>&quot;1744892008292&quot;</td></tr><tr><td>&quot;WREC_USDT&quot;</td><td>&quot;0.714238&quot;</td><td>&quot;48029.0&quot;</td><td>&quot;34366.125126&quot;</td><td>&quot;0.716095&quot;</td><td>&quot;0.719562&quot;</td><td>&quot;0.711798&quot;</td><td>&quot;-0.00259&quot;</td><td>&quot;0.711797&quot;</td><td>&quot;32.2&quot;</td><td>&quot;0.719563&quot;</td><td>&quot;18.9&quot;</td><td>&quot;1744891980503&quot;</td></tr><tr><td>&quot;CTXC_USDT&quot;</td><td>&quot;0.0590&quot;</td><td>&quot;9726556.6&quot;</td><td>&quot;570890.3614&quot;</td><td>&quot;0.0609&quot;</td><td>&quot;0.0611&quot;</td><td>&quot;0.0551&quot;</td><td>&quot;-0.03120&quot;</td><td>&quot;0.058&quot;</td><td>&quot;290.9&quot;</td><td>&quot;0.0591&quot;</td><td>&quot;3987.7&quot;</td><td>&quot;1744892008280&quot;</td></tr><tr><td>&hellip;</td><td>&hellip;</td><td>&hellip;</td><td>&hellip;</td><td>&hellip;</td><td>&hellip;</td><td>&hellip;</td><td>&hellip;</td><td>&hellip;</td><td>&hellip;</td><td>&hellip;</td><td>&hellip;</td><td>&hellip;</td></tr><tr><td>&quot;WELT_USDT&quot;</td><td>&quot;0.000775&quot;</td><td>&quot;26277556&quot;</td><td>&quot;14787.717572&quot;</td><td>&quot;0.000851&quot;</td><td>&quot;0.000863&quot;</td><td>&quot;0.000053&quot;</td><td>&quot;-0.08931&quot;</td><td>&quot;0.00076&quot;</td><td>&quot;10000&quot;</td><td>&quot;0.00078&quot;</td><td>&quot;13999&quot;</td><td>&quot;1744892008380&quot;</td></tr><tr><td>&quot;NFT_USDT&quot;</td><td>&quot;0.00000042&quot;</td><td>&quot;67605692782&quot;</td><td>&quot;28630.35402606&quot;</td><td>&quot;0.00000042&quot;</td><td>&quot;0.00000044&quot;</td><td>&quot;0.00000041&quot;</td><td>&quot;0.00000&quot;</td><td>&quot;0.00000042&quot;</td><td>&quot;6764843143&quot;</td><td>&quot;0.00000043&quot;</td><td>&quot;6409982557&quot;</td><td>&quot;1744891985503&quot;</td></tr><tr><td>&quot;BTCF_USDT&quot;</td><td>&quot;0.0990&quot;</td><td>&quot;115783.52&quot;</td><td>&quot;11497.6417&quot;</td><td>&quot;0.1000&quot;</td><td>&quot;0.1041&quot;</td><td>&quot;0.0951&quot;</td><td>&quot;-0.01000&quot;</td><td>&quot;0.0982&quot;</td><td>&quot;203.66&quot;</td><td>&quot;0.1135&quot;</td><td>&quot;124.14&quot;</td><td>&quot;1744892003793&quot;</td></tr><tr><td>&quot;DBD_USDT&quot;</td><td>&quot;0.000948&quot;</td><td>&quot;23597866&quot;</td><td>&quot;22323.706414&quot;</td><td>&quot;0.000945&quot;</td><td>&quot;0.000959&quot;</td><td>&quot;0.000935&quot;</td><td>&quot;0.00317&quot;</td><td>&quot;0.000941&quot;</td><td>&quot;6853&quot;</td><td>&quot;0.000953&quot;</td><td>&quot;39106&quot;</td><td>&quot;1744892006936&quot;</td></tr><tr><td>&quot;BRETT_USDT&quot;</td><td>&quot;0.03352&quot;</td><td>&quot;7294374.8&quot;</td><td>&quot;240696.18150&quot;</td><td>&quot;0.03314&quot;</td><td>&quot;0.03499&quot;</td><td>&quot;0.03160&quot;</td><td>&quot;0.01147&quot;</td><td>&quot;0.03334&quot;</td><td>&quot;14515.7&quot;</td><td>&quot;0.03368&quot;</td><td>&quot;5300&quot;</td><td>&quot;1744892008312&quot;</td></tr></tbody></table></div>"
      ],
      "text/plain": [
       "shape: (1_248, 13)\n",
       "┌───────────┬───────────┬───────────┬───────────┬───┬───────────┬───────────┬───────────┬──────────┐\n",
       "│ symbol    ┆ last_pric ┆ volume    ┆ quote_vol ┆ … ┆ bid_size  ┆ ask_price ┆ ask_size  ┆ timestam │\n",
       "│ ---       ┆ e         ┆ ---       ┆ ume       ┆   ┆ ---       ┆ ---       ┆ ---       ┆ p        │\n",
       "│ str       ┆ ---       ┆ str       ┆ ---       ┆   ┆ str       ┆ str       ┆ str       ┆ ---      │\n",
       "│           ┆ str       ┆           ┆ str       ┆   ┆           ┆           ┆           ┆ str      │\n",
       "╞═══════════╪═══════════╪═══════════╪═══════════╪═══╪═══════════╪═══════════╪═══════════╪══════════╡\n",
       "│ AGC_USDT  ┆ 0.004     ┆ 78162392. ┆ 313111.67 ┆ … ┆ 5044.3    ┆ 0.005     ┆ 3491.5    ┆ 17448920 │\n",
       "│           ┆           ┆ 0         ┆ 0         ┆   ┆           ┆           ┆           ┆ 08315    │\n",
       "│ AEVO_USDT ┆ 0.086     ┆ 245916.6  ┆ 21124.426 ┆ … ┆ 337458.4  ┆ 0.086     ┆ 34643.2   ┆ 17448920 │\n",
       "│           ┆           ┆           ┆           ┆   ┆           ┆           ┆           ┆ 08206    │\n",
       "│ SEIYAN_US ┆ 0.00191   ┆ 2140375.8 ┆ 4097.9736 ┆ … ┆ 12211.99  ┆ 0.00191   ┆ 22837.93  ┆ 17448920 │\n",
       "│ DT        ┆           ┆ 6         ┆ 9         ┆   ┆           ┆           ┆           ┆ 08292    │\n",
       "│ WREC_USDT ┆ 0.714238  ┆ 48029.0   ┆ 34366.125 ┆ … ┆ 32.2      ┆ 0.719563  ┆ 18.9      ┆ 17448919 │\n",
       "│           ┆           ┆           ┆ 126       ┆   ┆           ┆           ┆           ┆ 80503    │\n",
       "│ CTXC_USDT ┆ 0.0590    ┆ 9726556.6 ┆ 570890.36 ┆ … ┆ 290.9     ┆ 0.0591    ┆ 3987.7    ┆ 17448920 │\n",
       "│           ┆           ┆           ┆ 14        ┆   ┆           ┆           ┆           ┆ 08280    │\n",
       "│ …         ┆ …         ┆ …         ┆ …         ┆ … ┆ …         ┆ …         ┆ …         ┆ …        │\n",
       "│ WELT_USDT ┆ 0.000775  ┆ 26277556  ┆ 14787.717 ┆ … ┆ 10000     ┆ 0.00078   ┆ 13999     ┆ 17448920 │\n",
       "│           ┆           ┆           ┆ 572       ┆   ┆           ┆           ┆           ┆ 08380    │\n",
       "│ NFT_USDT  ┆ 0.0000004 ┆ 676056927 ┆ 28630.354 ┆ … ┆ 676484314 ┆ 0.0000004 ┆ 640998255 ┆ 17448919 │\n",
       "│           ┆ 2         ┆ 82        ┆ 02606     ┆   ┆ 3         ┆ 3         ┆ 7         ┆ 85503    │\n",
       "│ BTCF_USDT ┆ 0.0990    ┆ 115783.52 ┆ 11497.641 ┆ … ┆ 203.66    ┆ 0.1135    ┆ 124.14    ┆ 17448920 │\n",
       "│           ┆           ┆           ┆ 7         ┆   ┆           ┆           ┆           ┆ 03793    │\n",
       "│ DBD_USDT  ┆ 0.000948  ┆ 23597866  ┆ 22323.706 ┆ … ┆ 6853      ┆ 0.000953  ┆ 39106     ┆ 17448920 │\n",
       "│           ┆           ┆           ┆ 414       ┆   ┆           ┆           ┆           ┆ 06936    │\n",
       "│ BRETT_USD ┆ 0.03352   ┆ 7294374.8 ┆ 240696.18 ┆ … ┆ 14515.7   ┆ 0.03368   ┆ 5300      ┆ 17448920 │\n",
       "│ T         ┆           ┆           ┆ 150       ┆   ┆           ┆           ┆           ┆ 08312    │\n",
       "└───────────┴───────────┴───────────┴───────────┴───┴───────────┴───────────┴───────────┴──────────┘"
      ]
     },
     "execution_count": 7,
     "metadata": {},
     "output_type": "execute_result"
    }
   ],
   "source": [
    "res = await client.get_ticker_of_all_pairs()\n",
    "res"
   ]
  },
  {
   "cell_type": "code",
   "execution_count": 8,
   "metadata": {},
   "outputs": [
    {
     "data": {
      "text/html": [
       "<div><style>\n",
       ".dataframe > thead > tr,\n",
       ".dataframe > tbody > tr {\n",
       "  text-align: right;\n",
       "  white-space: pre-wrap;\n",
       "}\n",
       "</style>\n",
       "<small>shape: (1, 13)</small><table border=\"1\" class=\"dataframe\"><thead><tr><th>v_24h</th><th>qv_24h</th><th>open_24h</th><th>high_24h</th><th>low_24h</th><th>fluctuation</th><th>bid_px</th><th>bid_sz</th><th>last</th><th>ask_sz</th><th>symbol</th><th>ts</th><th>ask_px</th></tr><tr><td>str</td><td>str</td><td>str</td><td>str</td><td>str</td><td>str</td><td>str</td><td>str</td><td>str</td><td>str</td><td>str</td><td>str</td><td>str</td></tr></thead><tbody><tr><td>&quot;5597.69300&quot;</td><td>&quot;472211936.06&quot;</td><td>&quot;84091.62&quot;</td><td>&quot;85478.88&quot;</td><td>&quot;83276.00&quot;</td><td>&quot;0.00717&quot;</td><td>&quot;84694.72&quot;</td><td>&quot;0.00048&quot;</td><td>&quot;84694.73&quot;</td><td>&quot;0.01546&quot;</td><td>&quot;BTC_USDT&quot;</td><td>&quot;1744892016064&quot;</td><td>&quot;84694.74&quot;</td></tr></tbody></table></div>"
      ],
      "text/plain": [
       "shape: (1, 13)\n",
       "┌────────────┬─────────────┬──────────┬──────────┬───┬─────────┬──────────┬─────────────┬──────────┐\n",
       "│ v_24h      ┆ qv_24h      ┆ open_24h ┆ high_24h ┆ … ┆ ask_sz  ┆ symbol   ┆ ts          ┆ ask_px   │\n",
       "│ ---        ┆ ---         ┆ ---      ┆ ---      ┆   ┆ ---     ┆ ---      ┆ ---         ┆ ---      │\n",
       "│ str        ┆ str         ┆ str      ┆ str      ┆   ┆ str     ┆ str      ┆ str         ┆ str      │\n",
       "╞════════════╪═════════════╪══════════╪══════════╪═══╪═════════╪══════════╪═════════════╪══════════╡\n",
       "│ 5597.69300 ┆ 472211936.0 ┆ 84091.62 ┆ 85478.88 ┆ … ┆ 0.01546 ┆ BTC_USDT ┆ 17448920160 ┆ 84694.74 │\n",
       "│            ┆ 6           ┆          ┆          ┆   ┆         ┆          ┆ 64          ┆          │\n",
       "└────────────┴─────────────┴──────────┴──────────┴───┴─────────┴──────────┴─────────────┴──────────┘"
      ]
     },
     "execution_count": 8,
     "metadata": {},
     "output_type": "execute_result"
    }
   ],
   "source": [
    "res = await client.get_ticker_of_a_pair(product_symbol=\"BTC-USDT-SPOT\")\n",
    "res"
   ]
  },
  {
   "cell_type": "code",
   "execution_count": 9,
   "metadata": {},
   "outputs": [
    {
     "data": {
      "text/html": [
       "<div><style>\n",
       ".dataframe > thead > tr,\n",
       ".dataframe > tbody > tr {\n",
       "  text-align: right;\n",
       "  white-space: pre-wrap;\n",
       "}\n",
       "</style>\n",
       "<small>shape: (100, 4)</small><table border=\"1\" class=\"dataframe\"><thead><tr><th>side</th><th>price</th><th>amount</th><th>cum_amount</th></tr><tr><td>str</td><td>f64</td><td>f64</td><td>f64</td></tr></thead><tbody><tr><td>&quot;ask&quot;</td><td>84642.1</td><td>158.0</td><td>158.0</td></tr><tr><td>&quot;ask&quot;</td><td>84642.2</td><td>322.0</td><td>480.0</td></tr><tr><td>&quot;ask&quot;</td><td>84642.3</td><td>323.0</td><td>803.0</td></tr><tr><td>&quot;ask&quot;</td><td>84642.4</td><td>344.0</td><td>1147.0</td></tr><tr><td>&quot;ask&quot;</td><td>84642.5</td><td>349.0</td><td>1496.0</td></tr><tr><td>&hellip;</td><td>&hellip;</td><td>&hellip;</td><td>&hellip;</td></tr><tr><td>&quot;bid&quot;</td><td>84392.6</td><td>5486.0</td><td>79598.0</td></tr><tr><td>&quot;bid&quot;</td><td>84376.2</td><td>3328.0</td><td>82926.0</td></tr><tr><td>&quot;bid&quot;</td><td>84361.6</td><td>5927.0</td><td>88853.0</td></tr><tr><td>&quot;bid&quot;</td><td>84354.0</td><td>3990.0</td><td>92843.0</td></tr><tr><td>&quot;bid&quot;</td><td>84332.4</td><td>5930.0</td><td>98773.0</td></tr></tbody></table></div>"
      ],
      "text/plain": [
       "shape: (100, 4)\n",
       "┌──────┬─────────┬────────┬────────────┐\n",
       "│ side ┆ price   ┆ amount ┆ cum_amount │\n",
       "│ ---  ┆ ---     ┆ ---    ┆ ---        │\n",
       "│ str  ┆ f64     ┆ f64    ┆ f64        │\n",
       "╞══════╪═════════╪════════╪════════════╡\n",
       "│ ask  ┆ 84642.1 ┆ 158.0  ┆ 158.0      │\n",
       "│ ask  ┆ 84642.2 ┆ 322.0  ┆ 480.0      │\n",
       "│ ask  ┆ 84642.3 ┆ 323.0  ┆ 803.0      │\n",
       "│ ask  ┆ 84642.4 ┆ 344.0  ┆ 1147.0     │\n",
       "│ ask  ┆ 84642.5 ┆ 349.0  ┆ 1496.0     │\n",
       "│ …    ┆ …       ┆ …      ┆ …          │\n",
       "│ bid  ┆ 84392.6 ┆ 5486.0 ┆ 79598.0    │\n",
       "│ bid  ┆ 84376.2 ┆ 3328.0 ┆ 82926.0    │\n",
       "│ bid  ┆ 84361.6 ┆ 5927.0 ┆ 88853.0    │\n",
       "│ bid  ┆ 84354.0 ┆ 3990.0 ┆ 92843.0    │\n",
       "│ bid  ┆ 84332.4 ┆ 5930.0 ┆ 98773.0    │\n",
       "└──────┴─────────┴────────┴────────────┘"
      ]
     },
     "execution_count": 9,
     "metadata": {},
     "output_type": "execute_result"
    }
   ],
   "source": [
    "res = await client.get_depth(product_symbol=\"BTC-USDT-SWAP\")\n",
    "res"
   ]
  },
  {
   "cell_type": "code",
   "execution_count": 10,
   "metadata": {},
   "outputs": [
    {
     "data": {
      "text/html": [
       "<div><style>\n",
       ".dataframe > thead > tr,\n",
       ".dataframe > tbody > tr {\n",
       "  text-align: right;\n",
       "  white-space: pre-wrap;\n",
       "}\n",
       "</style>\n",
       "<small>shape: (100, 7)</small><table border=\"1\" class=\"dataframe\"><thead><tr><th>datetime</th><th>open</th><th>high</th><th>low</th><th>close</th><th>volume</th><th>quote_volume</th></tr><tr><td>datetime[ms]</td><td>str</td><td>str</td><td>str</td><td>str</td><td>str</td><td>str</td></tr></thead><tbody><tr><td>1970-01-21 04:41:02.100</td><td>&quot;84018.56&quot;</td><td>&quot;84030.54&quot;</td><td>&quot;83988.00&quot;</td><td>&quot;83995.04&quot;</td><td>&quot;1.41099&quot;</td><td>&quot;118545.87&quot;</td></tr><tr><td>1970-01-21 04:41:02.400</td><td>&quot;83995.05&quot;</td><td>&quot;84000.81&quot;</td><td>&quot;83938.11&quot;</td><td>&quot;84000.01&quot;</td><td>&quot;2.35916&quot;</td><td>&quot;198135.68&quot;</td></tr><tr><td>1970-01-21 04:41:02.700</td><td>&quot;84000.00&quot;</td><td>&quot;84000.01&quot;</td><td>&quot;83918.09&quot;</td><td>&quot;83939.53&quot;</td><td>&quot;7.37449&quot;</td><td>&quot;619006.40&quot;</td></tr><tr><td>1970-01-21 04:41:03</td><td>&quot;83931.74&quot;</td><td>&quot;83937.45&quot;</td><td>&quot;83911.29&quot;</td><td>&quot;83911.29&quot;</td><td>&quot;1.59405&quot;</td><td>&quot;133767.14&quot;</td></tr><tr><td>1970-01-21 04:41:03.300</td><td>&quot;83905.67&quot;</td><td>&quot;83932.88&quot;</td><td>&quot;83905.19&quot;</td><td>&quot;83932.88&quot;</td><td>&quot;6.75726&quot;</td><td>&quot;567005.02&quot;</td></tr><tr><td>&hellip;</td><td>&hellip;</td><td>&hellip;</td><td>&hellip;</td><td>&hellip;</td><td>&hellip;</td><td>&hellip;</td></tr><tr><td>1970-01-21 04:41:30.600</td><td>&quot;84737.07&quot;</td><td>&quot;84763.19&quot;</td><td>&quot;84615.02&quot;</td><td>&quot;84657.86&quot;</td><td>&quot;4.46972&quot;</td><td>&quot;378435.01&quot;</td></tr><tr><td>1970-01-21 04:41:30.900</td><td>&quot;84657.85&quot;</td><td>&quot;84675.69&quot;</td><td>&quot;84553.08&quot;</td><td>&quot;84556.93&quot;</td><td>&quot;20.62632&quot;</td><td>&quot;1744520.31&quot;</td></tr><tr><td>1970-01-21 04:41:31.200</td><td>&quot;84556.94&quot;</td><td>&quot;84823.80&quot;</td><td>&quot;84556.93&quot;</td><td>&quot;84729.30&quot;</td><td>&quot;61.83404&quot;</td><td>&quot;5241122.20&quot;</td></tr><tr><td>1970-01-21 04:41:31.500</td><td>&quot;84710.18&quot;</td><td>&quot;84744.72&quot;</td><td>&quot;84682.00&quot;</td><td>&quot;84743.40&quot;</td><td>&quot;6.27242&quot;</td><td>&quot;531323.99&quot;</td></tr><tr><td>1970-01-21 04:41:31.800</td><td>&quot;84726.97&quot;</td><td>&quot;84726.98&quot;</td><td>&quot;84616.82&quot;</td><td>&quot;84689.98&quot;</td><td>&quot;8.18045&quot;</td><td>&quot;692530.09&quot;</td></tr></tbody></table></div>"
      ],
      "text/plain": [
       "shape: (100, 7)\n",
       "┌─────────────────────────┬──────────┬──────────┬──────────┬──────────┬──────────┬──────────────┐\n",
       "│ datetime                ┆ open     ┆ high     ┆ low      ┆ close    ┆ volume   ┆ quote_volume │\n",
       "│ ---                     ┆ ---      ┆ ---      ┆ ---      ┆ ---      ┆ ---      ┆ ---          │\n",
       "│ datetime[ms]            ┆ str      ┆ str      ┆ str      ┆ str      ┆ str      ┆ str          │\n",
       "╞═════════════════════════╪══════════╪══════════╪══════════╪══════════╪══════════╪══════════════╡\n",
       "│ 1970-01-21 04:41:02.100 ┆ 84018.56 ┆ 84030.54 ┆ 83988.00 ┆ 83995.04 ┆ 1.41099  ┆ 118545.87    │\n",
       "│ 1970-01-21 04:41:02.400 ┆ 83995.05 ┆ 84000.81 ┆ 83938.11 ┆ 84000.01 ┆ 2.35916  ┆ 198135.68    │\n",
       "│ 1970-01-21 04:41:02.700 ┆ 84000.00 ┆ 84000.01 ┆ 83918.09 ┆ 83939.53 ┆ 7.37449  ┆ 619006.40    │\n",
       "│ 1970-01-21 04:41:03     ┆ 83931.74 ┆ 83937.45 ┆ 83911.29 ┆ 83911.29 ┆ 1.59405  ┆ 133767.14    │\n",
       "│ 1970-01-21 04:41:03.300 ┆ 83905.67 ┆ 83932.88 ┆ 83905.19 ┆ 83932.88 ┆ 6.75726  ┆ 567005.02    │\n",
       "│ …                       ┆ …        ┆ …        ┆ …        ┆ …        ┆ …        ┆ …            │\n",
       "│ 1970-01-21 04:41:30.600 ┆ 84737.07 ┆ 84763.19 ┆ 84615.02 ┆ 84657.86 ┆ 4.46972  ┆ 378435.01    │\n",
       "│ 1970-01-21 04:41:30.900 ┆ 84657.85 ┆ 84675.69 ┆ 84553.08 ┆ 84556.93 ┆ 20.62632 ┆ 1744520.31   │\n",
       "│ 1970-01-21 04:41:31.200 ┆ 84556.94 ┆ 84823.80 ┆ 84556.93 ┆ 84729.30 ┆ 61.83404 ┆ 5241122.20   │\n",
       "│ 1970-01-21 04:41:31.500 ┆ 84710.18 ┆ 84744.72 ┆ 84682.00 ┆ 84743.40 ┆ 6.27242  ┆ 531323.99    │\n",
       "│ 1970-01-21 04:41:31.800 ┆ 84726.97 ┆ 84726.98 ┆ 84616.82 ┆ 84689.98 ┆ 8.18045  ┆ 692530.09    │\n",
       "└─────────────────────────┴──────────┴──────────┴──────────┴──────────┴──────────┴──────────────┘"
      ]
     },
     "execution_count": 10,
     "metadata": {},
     "output_type": "execute_result"
    }
   ],
   "source": [
    "res = await client.get_spot_kline(\"BTC-USDT-SPOT\", \"5m\")\n",
    "res"
   ]
  },
  {
   "cell_type": "code",
   "execution_count": 11,
   "metadata": {},
   "outputs": [
    {
     "data": {
      "text/html": [
       "<div><style>\n",
       ".dataframe > thead > tr,\n",
       ".dataframe > tbody > tr {\n",
       "  text-align: right;\n",
       "  white-space: pre-wrap;\n",
       "}\n",
       "</style>\n",
       "<small>shape: (288, 6)</small><table border=\"1\" class=\"dataframe\"><thead><tr><th>low</th><th>high</th><th>open</th><th>close</th><th>volume</th><th>datetime</th></tr><tr><td>str</td><td>str</td><td>str</td><td>str</td><td>str</td><td>datetime[ms]</td></tr></thead><tbody><tr><td>&quot;83951.5&quot;</td><td>&quot;84056.5&quot;</td><td>&quot;83951.6&quot;</td><td>&quot;84042.5&quot;</td><td>&quot;151064&quot;</td><td>1970-01-21 04:40:05.700</td></tr><tr><td>&quot;84021.1&quot;</td><td>&quot;84148.2&quot;</td><td>&quot;84042.5&quot;</td><td>&quot;84144.5&quot;</td><td>&quot;484942&quot;</td><td>1970-01-21 04:40:06</td></tr><tr><td>&quot;84120.6&quot;</td><td>&quot;84226.1&quot;</td><td>&quot;84148.1&quot;</td><td>&quot;84136.3&quot;</td><td>&quot;493648&quot;</td><td>1970-01-21 04:40:06.300</td></tr><tr><td>&quot;84018.6&quot;</td><td>&quot;84168.7&quot;</td><td>&quot;84136.3&quot;</td><td>&quot;84019.2&quot;</td><td>&quot;316320&quot;</td><td>1970-01-21 04:40:06.600</td></tr><tr><td>&quot;83904.5&quot;</td><td>&quot;84076.7&quot;</td><td>&quot;84019.4&quot;</td><td>&quot;83908.5&quot;</td><td>&quot;294628&quot;</td><td>1970-01-21 04:40:06.900</td></tr><tr><td>&hellip;</td><td>&hellip;</td><td>&hellip;</td><td>&hellip;</td><td>&hellip;</td><td>&hellip;</td></tr><tr><td>&quot;84565.5&quot;</td><td>&quot;84722.4&quot;</td><td>&quot;84694.2&quot;</td><td>&quot;84624.4&quot;</td><td>&quot;326670&quot;</td><td>1970-01-21 04:41:30.600</td></tr><tr><td>&quot;84516.8&quot;</td><td>&quot;84635.7&quot;</td><td>&quot;84624.4&quot;</td><td>&quot;84531.5&quot;</td><td>&quot;236616&quot;</td><td>1970-01-21 04:41:30.900</td></tr><tr><td>&quot;84531.5&quot;</td><td>&quot;84799.9&quot;</td><td>&quot;84531.6&quot;</td><td>&quot;84665.9&quot;</td><td>&quot;889054&quot;</td><td>1970-01-21 04:41:31.200</td></tr><tr><td>&quot;84637.8&quot;</td><td>&quot;84712.9&quot;</td><td>&quot;84663.2&quot;</td><td>&quot;84698&quot;</td><td>&quot;205286&quot;</td><td>1970-01-21 04:41:31.500</td></tr><tr><td>&quot;84573.1&quot;</td><td>&quot;84699.7&quot;</td><td>&quot;84692.2&quot;</td><td>&quot;84658&quot;</td><td>&quot;280724&quot;</td><td>1970-01-21 04:41:31.800</td></tr></tbody></table></div>"
      ],
      "text/plain": [
       "shape: (288, 6)\n",
       "┌─────────┬─────────┬─────────┬─────────┬────────┬─────────────────────────┐\n",
       "│ low     ┆ high    ┆ open    ┆ close   ┆ volume ┆ datetime                │\n",
       "│ ---     ┆ ---     ┆ ---     ┆ ---     ┆ ---    ┆ ---                     │\n",
       "│ str     ┆ str     ┆ str     ┆ str     ┆ str    ┆ datetime[ms]            │\n",
       "╞═════════╪═════════╪═════════╪═════════╪════════╪═════════════════════════╡\n",
       "│ 83951.5 ┆ 84056.5 ┆ 83951.6 ┆ 84042.5 ┆ 151064 ┆ 1970-01-21 04:40:05.700 │\n",
       "│ 84021.1 ┆ 84148.2 ┆ 84042.5 ┆ 84144.5 ┆ 484942 ┆ 1970-01-21 04:40:06     │\n",
       "│ 84120.6 ┆ 84226.1 ┆ 84148.1 ┆ 84136.3 ┆ 493648 ┆ 1970-01-21 04:40:06.300 │\n",
       "│ 84018.6 ┆ 84168.7 ┆ 84136.3 ┆ 84019.2 ┆ 316320 ┆ 1970-01-21 04:40:06.600 │\n",
       "│ 83904.5 ┆ 84076.7 ┆ 84019.4 ┆ 83908.5 ┆ 294628 ┆ 1970-01-21 04:40:06.900 │\n",
       "│ …       ┆ …       ┆ …       ┆ …       ┆ …      ┆ …                       │\n",
       "│ 84565.5 ┆ 84722.4 ┆ 84694.2 ┆ 84624.4 ┆ 326670 ┆ 1970-01-21 04:41:30.600 │\n",
       "│ 84516.8 ┆ 84635.7 ┆ 84624.4 ┆ 84531.5 ┆ 236616 ┆ 1970-01-21 04:41:30.900 │\n",
       "│ 84531.5 ┆ 84799.9 ┆ 84531.6 ┆ 84665.9 ┆ 889054 ┆ 1970-01-21 04:41:31.200 │\n",
       "│ 84637.8 ┆ 84712.9 ┆ 84663.2 ┆ 84698   ┆ 205286 ┆ 1970-01-21 04:41:31.500 │\n",
       "│ 84573.1 ┆ 84699.7 ┆ 84692.2 ┆ 84658   ┆ 280724 ┆ 1970-01-21 04:41:31.800 │\n",
       "└─────────┴─────────┴─────────┴─────────┴────────┴─────────────────────────┘"
      ]
     },
     "execution_count": 11,
     "metadata": {},
     "output_type": "execute_result"
    }
   ],
   "source": [
    "from datetime import datetime, timedelta\n",
    "\n",
    "\n",
    "res = await client.get_contract_kline(\n",
    "    \"BTC-USDT-SWAP\", \"5m\", int((datetime.now() - timedelta(days=1)).timestamp()), int(datetime.now().timestamp())\n",
    ")\n",
    "res"
   ]
  },
  {
   "cell_type": "code",
   "execution_count": 12,
   "metadata": {},
   "outputs": [
    {
     "data": {
      "text/html": [
       "<div><style>\n",
       ".dataframe > thead > tr,\n",
       ".dataframe > tbody > tr {\n",
       "  text-align: right;\n",
       "  white-space: pre-wrap;\n",
       "}\n",
       "</style>\n",
       "<small>shape: (1, 7)</small><table border=\"1\" class=\"dataframe\"><thead><tr><th>symbol</th><th>expected_rate</th><th>rate_value</th><th>funding_time</th><th>funding_upper_limit</th><th>funding_lower_limit</th><th>timestamp</th></tr><tr><td>str</td><td>str</td><td>str</td><td>i64</td><td>str</td><td>str</td><td>i64</td></tr></thead><tbody><tr><td>&quot;BTCUSDT&quot;</td><td>&quot;0.0000212&quot;</td><td>&quot;0.000021836&quot;</td><td>1744905600000</td><td>&quot;0.0375&quot;</td><td>&quot;-0.0375&quot;</td><td>1744892082846</td></tr></tbody></table></div>"
      ],
      "text/plain": [
       "shape: (1, 7)\n",
       "┌─────────┬──────────────┬─────────────┬──────────────┬──────────────┬──────────────┬──────────────┐\n",
       "│ symbol  ┆ expected_rat ┆ rate_value  ┆ funding_time ┆ funding_uppe ┆ funding_lowe ┆ timestamp    │\n",
       "│ ---     ┆ e            ┆ ---         ┆ ---          ┆ r_limit      ┆ r_limit      ┆ ---          │\n",
       "│ str     ┆ ---          ┆ str         ┆ i64          ┆ ---          ┆ ---          ┆ i64          │\n",
       "│         ┆ str          ┆             ┆              ┆ str          ┆ str          ┆              │\n",
       "╞═════════╪══════════════╪═════════════╪══════════════╪══════════════╪══════════════╪══════════════╡\n",
       "│ BTCUSDT ┆ 0.0000212    ┆ 0.000021836 ┆ 174490560000 ┆ 0.0375       ┆ -0.0375      ┆ 174489208284 │\n",
       "│         ┆              ┆             ┆ 0            ┆              ┆              ┆ 6            │\n",
       "└─────────┴──────────────┴─────────────┴──────────────┴──────────────┴──────────────┴──────────────┘"
      ]
     },
     "execution_count": 12,
     "metadata": {},
     "output_type": "execute_result"
    }
   ],
   "source": [
    "res = await client.get_current_funding_rate(\"BTC-USDT-SWAP\")\n",
    "res"
   ]
  },
  {
   "cell_type": "code",
   "execution_count": 13,
   "metadata": {},
   "outputs": [
    {
     "data": {
      "text/html": [
       "<div><style>\n",
       ".dataframe > thead > tr,\n",
       ".dataframe > tbody > tr {\n",
       "  text-align: right;\n",
       "  white-space: pre-wrap;\n",
       "}\n",
       "</style>\n",
       "<small>shape: (1, 1)</small><table border=\"1\" class=\"dataframe\"><thead><tr><th>list</th></tr><tr><td>list[struct[3]]</td></tr></thead><tbody><tr><td>[{&quot;BTCUSDT&quot;,&quot;0.0000446&quot;,&quot;1744876800000&quot;}, {&quot;BTCUSDT&quot;,&quot;-0.000001843&quot;,&quot;1744848000000&quot;}, … {&quot;BTCUSDT&quot;,&quot;-0.0000804&quot;,&quot;1741996800000&quot;}]</td></tr></tbody></table></div>"
      ],
      "text/plain": [
       "shape: (1, 1)\n",
       "┌─────────────────────────────────┐\n",
       "│ list                            │\n",
       "│ ---                             │\n",
       "│ list[struct[3]]                 │\n",
       "╞═════════════════════════════════╡\n",
       "│ [{\"BTCUSDT\",\"0.0000446\",\"17448… │\n",
       "└─────────────────────────────────┘"
      ]
     },
     "execution_count": 13,
     "metadata": {},
     "output_type": "execute_result"
    }
   ],
   "source": [
    "res = await client.get_funding_rate_history(\n",
    "    \"BTC-USDT-SWAP\",\n",
    ")\n",
    "res"
   ]
  },
  {
   "cell_type": "markdown",
   "metadata": {},
   "source": [
    "# Account"
   ]
  },
  {
   "cell_type": "code",
   "execution_count": 14,
   "metadata": {},
   "outputs": [
    {
     "data": {
      "text/html": [
       "<div><style>\n",
       ".dataframe > thead > tr,\n",
       ".dataframe > tbody > tr {\n",
       "  text-align: right;\n",
       "  white-space: pre-wrap;\n",
       "}\n",
       "</style>\n",
       "<small>shape: (1, 5)</small><table border=\"1\" class=\"dataframe\"><thead><tr><th>currency</th><th>name</th><th>available</th><th>frozen</th><th>available_usd_valuation</th></tr><tr><td>str</td><td>str</td><td>str</td><td>str</td><td>null</td></tr></thead><tbody><tr><td>&quot;USDT&quot;</td><td>&quot;Tether USD&quot;</td><td>&quot;15.00000000&quot;</td><td>&quot;0.00000000&quot;</td><td>null</td></tr></tbody></table></div>"
      ],
      "text/plain": [
       "shape: (1, 5)\n",
       "┌──────────┬────────────┬─────────────┬────────────┬─────────────────────────┐\n",
       "│ currency ┆ name       ┆ available   ┆ frozen     ┆ available_usd_valuation │\n",
       "│ ---      ┆ ---        ┆ ---         ┆ ---        ┆ ---                     │\n",
       "│ str      ┆ str        ┆ str         ┆ str        ┆ null                    │\n",
       "╞══════════╪════════════╪═════════════╪════════════╪═════════════════════════╡\n",
       "│ USDT     ┆ Tether USD ┆ 15.00000000 ┆ 0.00000000 ┆ null                    │\n",
       "└──────────┴────────────┴─────────────┴────────────┴─────────────────────────┘"
      ]
     },
     "execution_count": 14,
     "metadata": {},
     "output_type": "execute_result"
    }
   ],
   "source": [
    "res = await client.get_account_balance()\n",
    "res"
   ]
  },
  {
   "cell_type": "code",
   "execution_count": 15,
   "metadata": {},
   "outputs": [
    {
     "data": {
      "text/html": [
       "<div><style>\n",
       ".dataframe > thead > tr,\n",
       ".dataframe > tbody > tr {\n",
       "  text-align: right;\n",
       "  white-space: pre-wrap;\n",
       "}\n",
       "</style>\n",
       "<small>shape: (3_741, 11)</small><table border=\"1\" class=\"dataframe\"><thead><tr><th>currency</th><th>name</th><th>contract_address</th><th>network</th><th>withdraw_enabled</th><th>deposit_enabled</th><th>withdraw_minsize</th><th>recharge_minsize</th><th>withdraw_minfee</th><th>withdraw_fee_estimate</th><th>withdraw_fee</th></tr><tr><td>str</td><td>str</td><td>str</td><td>str</td><td>bool</td><td>bool</td><td>str</td><td>str</td><td>str</td><td>str</td><td>str</td></tr></thead><tbody><tr><td>&quot;BTC&quot;</td><td>&quot;Bitcoin&quot;</td><td>null</td><td>&quot;BTC&quot;</td><td>true</td><td>true</td><td>&quot;0.0003&quot;</td><td>&quot;0.00000001&quot;</td><td>&quot;8.46&quot;</td><td>&quot;8.46&quot;</td><td>&quot;0.0001&quot;</td></tr><tr><td>&quot;ETH&quot;</td><td>&quot;Ethereum&quot;</td><td>null</td><td>&quot;ETH&quot;</td><td>true</td><td>true</td><td>&quot;0.00939808&quot;</td><td>&quot;0.00000001&quot;</td><td>&quot;3.19&quot;</td><td>&quot;3.19&quot;</td><td>&quot;0.002&quot;</td></tr><tr><td>&quot;BMX&quot;</td><td>&quot;BitMart Token&quot;</td><td>&quot;0x986ee2b944c42d017f52af21c4c6…</td><td>&quot;ETH&quot;</td><td>true</td><td>true</td><td>&quot;60.14434643&quot;</td><td>&quot;0.00000001&quot;</td><td>&quot;3.24&quot;</td><td>&quot;3.24&quot;</td><td>&quot;13&quot;</td></tr><tr><td>&quot;XLM&quot;</td><td>&quot;Stellar&quot;</td><td>null</td><td>&quot;XLM&quot;</td><td>true</td><td>true</td><td>&quot;20&quot;</td><td>&quot;0.00000001&quot;</td><td>&quot;0&quot;</td><td>&quot;0&quot;</td><td>&quot;0.01&quot;</td></tr><tr><td>&quot;EOS&quot;</td><td>&quot;Vaulta&quot;</td><td>&quot;eosio.token&quot;</td><td>&quot;EOS&quot;</td><td>true</td><td>true</td><td>&quot;5&quot;</td><td>&quot;0.00000001&quot;</td><td>&quot;0.12&quot;</td><td>&quot;0.12&quot;</td><td>&quot;0.2&quot;</td></tr><tr><td>&hellip;</td><td>&hellip;</td><td>&hellip;</td><td>&hellip;</td><td>&hellip;</td><td>&hellip;</td><td>&hellip;</td><td>&hellip;</td><td>&hellip;</td><td>&hellip;</td><td>&hellip;</td></tr><tr><td>&quot;FUR-SOL&quot;</td><td>&quot;Furfication-SOL&quot;</td><td>&quot;Eqpvgps4py3nDkgvRnVGv7JsSwBF3o…</td><td>&quot;SOL&quot;</td><td>false</td><td>true</td><td>&quot;26321.330806&quot;</td><td>&quot;0.00000001&quot;</td><td>&quot;1&quot;</td><td>&quot;1&quot;</td><td>&quot;1053&quot;</td></tr><tr><td>&quot;ECT-ARBI&quot;</td><td>&quot;Eco trade-ARBI&quot;</td><td>&quot;0x461c38A607644703D0663D48786c…</td><td>&quot;ARBI&quot;</td><td>false</td><td>true</td><td>&quot;2&quot;</td><td>&quot;0.00000001&quot;</td><td>&quot;2&quot;</td><td>&quot;2&quot;</td><td>&quot;0.2&quot;</td></tr><tr><td>&quot;BIFE-BASE-ETH&quot;</td><td>&quot;Base is for everyone-BASE-ETH&quot;</td><td>&quot;0xD769d56f479E9E72a77bB1523e86…</td><td>&quot;BASE-ETH&quot;</td><td>true</td><td>true</td><td>&quot;1423.48754448&quot;</td><td>&quot;0.00000001&quot;</td><td>&quot;2&quot;</td><td>&quot;2&quot;</td><td>&quot;142&quot;</td></tr><tr><td>&quot;TIME-SOL&quot;</td><td>&quot;Manipulated Time-SOL&quot;</td><td>&quot;13TVvChoA7S2qdB7GhP8sDret3aPBe…</td><td>&quot;SOL&quot;</td><td>true</td><td>true</td><td>&quot;5915.759584&quot;</td><td>&quot;0.00000001&quot;</td><td>&quot;1&quot;</td><td>&quot;1&quot;</td><td>&quot;236&quot;</td></tr><tr><td>&quot;PAWS-SOL&quot;</td><td>&quot;PAWS-SOL&quot;</td><td>&quot;PAWSxhjTyNJELywYiYTxCN857utnYm…</td><td>&quot;SOL&quot;</td><td>true</td><td>true</td><td>&quot;123823.675087&quot;</td><td>&quot;0.00000001&quot;</td><td>&quot;1&quot;</td><td>&quot;1&quot;</td><td>&quot;4951&quot;</td></tr></tbody></table></div>"
      ],
      "text/plain": [
       "shape: (3_741, 11)\n",
       "┌───────────┬───────────┬───────────┬──────────┬───┬───────────┬───────────┬───────────┬───────────┐\n",
       "│ currency  ┆ name      ┆ contract_ ┆ network  ┆ … ┆ recharge_ ┆ withdraw_ ┆ withdraw_ ┆ withdraw_ │\n",
       "│ ---       ┆ ---       ┆ address   ┆ ---      ┆   ┆ minsize   ┆ minfee    ┆ fee_estim ┆ fee       │\n",
       "│ str       ┆ str       ┆ ---       ┆ str      ┆   ┆ ---       ┆ ---       ┆ ate       ┆ ---       │\n",
       "│           ┆           ┆ str       ┆          ┆   ┆ str       ┆ str       ┆ ---       ┆ str       │\n",
       "│           ┆           ┆           ┆          ┆   ┆           ┆           ┆ str       ┆           │\n",
       "╞═══════════╪═══════════╪═══════════╪══════════╪═══╪═══════════╪═══════════╪═══════════╪═══════════╡\n",
       "│ BTC       ┆ Bitcoin   ┆ null      ┆ BTC      ┆ … ┆ 0.0000000 ┆ 8.46      ┆ 8.46      ┆ 0.0001    │\n",
       "│           ┆           ┆           ┆          ┆   ┆ 1         ┆           ┆           ┆           │\n",
       "│ ETH       ┆ Ethereum  ┆ null      ┆ ETH      ┆ … ┆ 0.0000000 ┆ 3.19      ┆ 3.19      ┆ 0.002     │\n",
       "│           ┆           ┆           ┆          ┆   ┆ 1         ┆           ┆           ┆           │\n",
       "│ BMX       ┆ BitMart   ┆ 0x986ee2b ┆ ETH      ┆ … ┆ 0.0000000 ┆ 3.24      ┆ 3.24      ┆ 13        │\n",
       "│           ┆ Token     ┆ 944c42d01 ┆          ┆   ┆ 1         ┆           ┆           ┆           │\n",
       "│           ┆           ┆ 7f52af21c ┆          ┆   ┆           ┆           ┆           ┆           │\n",
       "│           ┆           ┆ 4c6…      ┆          ┆   ┆           ┆           ┆           ┆           │\n",
       "│ XLM       ┆ Stellar   ┆ null      ┆ XLM      ┆ … ┆ 0.0000000 ┆ 0         ┆ 0         ┆ 0.01      │\n",
       "│           ┆           ┆           ┆          ┆   ┆ 1         ┆           ┆           ┆           │\n",
       "│ EOS       ┆ Vaulta    ┆ eosio.tok ┆ EOS      ┆ … ┆ 0.0000000 ┆ 0.12      ┆ 0.12      ┆ 0.2       │\n",
       "│           ┆           ┆ en        ┆          ┆   ┆ 1         ┆           ┆           ┆           │\n",
       "│ …         ┆ …         ┆ …         ┆ …        ┆ … ┆ …         ┆ …         ┆ …         ┆ …         │\n",
       "│ FUR-SOL   ┆ Furficati ┆ Eqpvgps4p ┆ SOL      ┆ … ┆ 0.0000000 ┆ 1         ┆ 1         ┆ 1053      │\n",
       "│           ┆ on-SOL    ┆ y3nDkgvRn ┆          ┆   ┆ 1         ┆           ┆           ┆           │\n",
       "│           ┆           ┆ VGv7JsSwB ┆          ┆   ┆           ┆           ┆           ┆           │\n",
       "│           ┆           ┆ F3o…      ┆          ┆   ┆           ┆           ┆           ┆           │\n",
       "│ ECT-ARBI  ┆ Eco trade ┆ 0x461c38A ┆ ARBI     ┆ … ┆ 0.0000000 ┆ 2         ┆ 2         ┆ 0.2       │\n",
       "│           ┆ -ARBI     ┆ 607644703 ┆          ┆   ┆ 1         ┆           ┆           ┆           │\n",
       "│           ┆           ┆ D0663D487 ┆          ┆   ┆           ┆           ┆           ┆           │\n",
       "│           ┆           ┆ 86c…      ┆          ┆   ┆           ┆           ┆           ┆           │\n",
       "│ BIFE-BASE ┆ Base is   ┆ 0xD769d56 ┆ BASE-ETH ┆ … ┆ 0.0000000 ┆ 2         ┆ 2         ┆ 142       │\n",
       "│ -ETH      ┆ for every ┆ f479E9E72 ┆          ┆   ┆ 1         ┆           ┆           ┆           │\n",
       "│           ┆ one-BASE- ┆ a77bB1523 ┆          ┆   ┆           ┆           ┆           ┆           │\n",
       "│           ┆ ETH       ┆ e86…      ┆          ┆   ┆           ┆           ┆           ┆           │\n",
       "│ TIME-SOL  ┆ Manipulat ┆ 13TVvChoA ┆ SOL      ┆ … ┆ 0.0000000 ┆ 1         ┆ 1         ┆ 236       │\n",
       "│           ┆ ed        ┆ 7S2qdB7Gh ┆          ┆   ┆ 1         ┆           ┆           ┆           │\n",
       "│           ┆ Time-SOL  ┆ P8sDret3a ┆          ┆   ┆           ┆           ┆           ┆           │\n",
       "│           ┆           ┆ PBe…      ┆          ┆   ┆           ┆           ┆           ┆           │\n",
       "│ PAWS-SOL  ┆ PAWS-SOL  ┆ PAWSxhjTy ┆ SOL      ┆ … ┆ 0.0000000 ┆ 1         ┆ 1         ┆ 4951      │\n",
       "│           ┆           ┆ NJELywYiY ┆          ┆   ┆ 1         ┆           ┆           ┆           │\n",
       "│           ┆           ┆ TxCN857ut ┆          ┆   ┆           ┆           ┆           ┆           │\n",
       "│           ┆           ┆ nYm…      ┆          ┆   ┆           ┆           ┆           ┆           │\n",
       "└───────────┴───────────┴───────────┴──────────┴───┴───────────┴───────────┴───────────┴───────────┘"
      ]
     },
     "execution_count": 15,
     "metadata": {},
     "output_type": "execute_result"
    }
   ],
   "source": [
    "res = await client.get_account_currencies()\n",
    "res"
   ]
  },
  {
   "cell_type": "code",
   "execution_count": 16,
   "metadata": {},
   "outputs": [
    {
     "data": {
      "text/html": [
       "<div><style>\n",
       ".dataframe > thead > tr,\n",
       ".dataframe > tbody > tr {\n",
       "  text-align: right;\n",
       "  white-space: pre-wrap;\n",
       "}\n",
       "</style>\n",
       "<small>shape: (1, 5)</small><table border=\"1\" class=\"dataframe\"><thead><tr><th>id</th><th>name</th><th>available</th><th>frozen</th><th>total</th></tr><tr><td>str</td><td>str</td><td>str</td><td>str</td><td>str</td></tr></thead><tbody><tr><td>&quot;USDT&quot;</td><td>&quot;Tether USD&quot;</td><td>&quot;15.00000000&quot;</td><td>&quot;0.00000000&quot;</td><td>&quot;15.00000000&quot;</td></tr></tbody></table></div>"
      ],
      "text/plain": [
       "shape: (1, 5)\n",
       "┌──────┬────────────┬─────────────┬────────────┬─────────────┐\n",
       "│ id   ┆ name       ┆ available   ┆ frozen     ┆ total       │\n",
       "│ ---  ┆ ---        ┆ ---         ┆ ---        ┆ ---         │\n",
       "│ str  ┆ str        ┆ str         ┆ str        ┆ str         │\n",
       "╞══════╪════════════╪═════════════╪════════════╪═════════════╡\n",
       "│ USDT ┆ Tether USD ┆ 15.00000000 ┆ 0.00000000 ┆ 15.00000000 │\n",
       "└──────┴────────────┴─────────────┴────────────┴─────────────┘"
      ]
     },
     "execution_count": 16,
     "metadata": {},
     "output_type": "execute_result"
    }
   ],
   "source": [
    "res = await client.get_spot_wallet()\n",
    "res"
   ]
  },
  {
   "cell_type": "code",
   "execution_count": 17,
   "metadata": {},
   "outputs": [
    {
     "data": {
      "text/html": [
       "<div><style>\n",
       ".dataframe > thead > tr,\n",
       ".dataframe > tbody > tr {\n",
       "  text-align: right;\n",
       "  white-space: pre-wrap;\n",
       "}\n",
       "</style>\n",
       "<small>shape: (1, 4)</small><table border=\"1\" class=\"dataframe\"><thead><tr><th>currency</th><th>chain</th><th>address</th><th>address_memo</th></tr><tr><td>str</td><td>str</td><td>str</td><td>str</td></tr></thead><tbody><tr><td>&quot;BTC&quot;</td><td>&quot;Bitcoin&quot;</td><td>&quot;bc1qvafndu6l6leu4qg76hqf67xmgr…</td><td>&quot;&quot;</td></tr></tbody></table></div>"
      ],
      "text/plain": [
       "shape: (1, 4)\n",
       "┌──────────┬─────────┬─────────────────────────────────┬──────────────┐\n",
       "│ currency ┆ chain   ┆ address                         ┆ address_memo │\n",
       "│ ---      ┆ ---     ┆ ---                             ┆ ---          │\n",
       "│ str      ┆ str     ┆ str                             ┆ str          │\n",
       "╞══════════╪═════════╪═════════════════════════════════╪══════════════╡\n",
       "│ BTC      ┆ Bitcoin ┆ bc1qvafndu6l6leu4qg76hqf67xmgr… ┆              │\n",
       "└──────────┴─────────┴─────────────────────────────────┴──────────────┘"
      ]
     },
     "execution_count": 17,
     "metadata": {},
     "output_type": "execute_result"
    }
   ],
   "source": [
    "res = await client.get_deposit_address(currency=\"BTC\")\n",
    "res"
   ]
  },
  {
   "cell_type": "code",
   "execution_count": 18,
   "metadata": {},
   "outputs": [
    {
     "ename": "FailedRequestError",
     "evalue": "BitMart API Error: [30012] Header X-BM-KEY is forbidden to request it (ErrCode: 403) (ErrTime: 1744892101843).\nRequest → GET https://api-cloud.bitmart.com/account/v1/withdraw/charge?currency=USDT-TRC20 | Body: {'currency': 'USDT-TRC20'}.",
     "output_type": "error",
     "traceback": [
      "\u001b[31m---------------------------------------------------------------------------\u001b[39m",
      "\u001b[31mFailedRequestError\u001b[39m                        Traceback (most recent call last)",
      "\u001b[36mCell\u001b[39m\u001b[36m \u001b[39m\u001b[32mIn[18]\u001b[39m\u001b[32m, line 1\u001b[39m\n\u001b[32m----> \u001b[39m\u001b[32m1\u001b[39m res = \u001b[38;5;28;01mawait\u001b[39;00m client.get_withdraw_charge(currency=\u001b[33m\"\u001b[39m\u001b[33mUSDT-TRC20\u001b[39m\u001b[33m\"\u001b[39m)  \u001b[38;5;66;03m# wrong\u001b[39;00m\n\u001b[32m      2\u001b[39m res\n",
      "\u001b[36mFile \u001b[39m\u001b[32mc:\\Users\\user\\Desktop\\project\\krex\\example\\async_support\\bitmart\\../../..\\krex\\async_support\\bitmart\\_account_http.py:105\u001b[39m, in \u001b[36mAccountHTTP.get_withdraw_charge\u001b[39m\u001b[34m(self, currency)\u001b[39m\n\u001b[32m     98\u001b[39m \u001b[38;5;250m\u001b[39m\u001b[33;03m\"\"\"\u001b[39;00m\n\u001b[32m     99\u001b[39m \u001b[33;03m:param currency: str\u001b[39;00m\n\u001b[32m    100\u001b[39m \u001b[33;03m\"\"\"\u001b[39;00m\n\u001b[32m    101\u001b[39m payload = {\n\u001b[32m    102\u001b[39m     \u001b[33m\"\u001b[39m\u001b[33mcurrency\u001b[39m\u001b[33m\"\u001b[39m: currency,\n\u001b[32m    103\u001b[39m }\n\u001b[32m--> \u001b[39m\u001b[32m105\u001b[39m res = \u001b[38;5;28;01mawait\u001b[39;00m \u001b[38;5;28mself\u001b[39m._request(\n\u001b[32m    106\u001b[39m     method=\u001b[33m\"\u001b[39m\u001b[33mGET\u001b[39m\u001b[33m\"\u001b[39m,\n\u001b[32m    107\u001b[39m     path=FundingAccount.WITHDRAW_QUOTA,\n\u001b[32m    108\u001b[39m     query=payload,\n\u001b[32m    109\u001b[39m )\n\u001b[32m    110\u001b[39m \u001b[38;5;28;01mreturn\u001b[39;00m \u001b[38;5;28mself\u001b[39m._to_dataframe(res[\u001b[33m\"\u001b[39m\u001b[33mdata\u001b[39m\u001b[33m\"\u001b[39m]) \u001b[38;5;28;01mif\u001b[39;00m \u001b[33m\"\u001b[39m\u001b[33mdata\u001b[39m\u001b[33m\"\u001b[39m \u001b[38;5;129;01min\u001b[39;00m res \u001b[38;5;28;01melse\u001b[39;00m pl.DataFrame()\n",
      "\u001b[36mFile \u001b[39m\u001b[32mc:\\Users\\user\\Desktop\\project\\krex\\example\\async_support\\bitmart\\../../..\\krex\\async_support\\bitmart\\_http_manager.py:114\u001b[39m, in \u001b[36mHTTPManager._request\u001b[39m\u001b[34m(self, method, path, query)\u001b[39m\n\u001b[32m    112\u001b[39m     code = data.get(\u001b[33m\"\u001b[39m\u001b[33mcode\u001b[39m\u001b[33m\"\u001b[39m, \u001b[33m\"\u001b[39m\u001b[33mUnknown\u001b[39m\u001b[33m\"\u001b[39m)\n\u001b[32m    113\u001b[39m     error_msg = get_bitmart_error_message(code)\n\u001b[32m--> \u001b[39m\u001b[32m114\u001b[39m     \u001b[38;5;28;01mraise\u001b[39;00m FailedRequestError(\n\u001b[32m    115\u001b[39m         request=\u001b[33mf\u001b[39m\u001b[33m\"\u001b[39m\u001b[38;5;132;01m{\u001b[39;00mmethod.upper()\u001b[38;5;132;01m}\u001b[39;00m\u001b[33m \u001b[39m\u001b[38;5;132;01m{\u001b[39;00murl\u001b[38;5;132;01m}\u001b[39;00m\u001b[33m | Body: \u001b[39m\u001b[38;5;132;01m{\u001b[39;00mquery\u001b[38;5;132;01m}\u001b[39;00m\u001b[33m\"\u001b[39m,\n\u001b[32m    116\u001b[39m         message=\u001b[33mf\u001b[39m\u001b[33m\"\u001b[39m\u001b[33mBitMart API Error: [\u001b[39m\u001b[38;5;132;01m{\u001b[39;00mcode\u001b[38;5;132;01m}\u001b[39;00m\u001b[33m] \u001b[39m\u001b[38;5;132;01m{\u001b[39;00merror_msg\u001b[38;5;132;01m}\u001b[39;00m\u001b[33m\"\u001b[39m,\n\u001b[32m    117\u001b[39m         status_code=response.status_code,\n\u001b[32m    118\u001b[39m         time=timestamp,\n\u001b[32m    119\u001b[39m         resp_headers=response.headers,\n\u001b[32m    120\u001b[39m     )\n\u001b[32m    122\u001b[39m \u001b[38;5;66;03m# If http status is not 2xx (like 403, 404)\u001b[39;00m\n\u001b[32m    123\u001b[39m \u001b[38;5;28;01mif\u001b[39;00m \u001b[38;5;129;01mnot\u001b[39;00m response.status_code // \u001b[32m100\u001b[39m == \u001b[32m2\u001b[39m:\n",
      "\u001b[31mFailedRequestError\u001b[39m: BitMart API Error: [30012] Header X-BM-KEY is forbidden to request it (ErrCode: 403) (ErrTime: 1744892101843).\nRequest → GET https://api-cloud.bitmart.com/account/v1/withdraw/charge?currency=USDT-TRC20 | Body: {'currency': 'USDT-TRC20'}."
     ]
    }
   ],
   "source": [
    "res = await client.get_withdraw_charge(currency=\"USDT-TRC20\")  # wrong\n",
    "res"
   ]
  },
  {
   "cell_type": "code",
   "execution_count": null,
   "metadata": {},
   "outputs": [],
   "source": [
    "res = await client.post_withdraw_apply()  # need test\n",
    "res"
   ]
  },
  {
   "cell_type": "code",
   "execution_count": 19,
   "metadata": {},
   "outputs": [
    {
     "data": {
      "text/html": [
       "<div><style>\n",
       ".dataframe > thead > tr,\n",
       ".dataframe > tbody > tr {\n",
       "  text-align: right;\n",
       "  white-space: pre-wrap;\n",
       "}\n",
       "</style>\n",
       "<small>shape: (2, 11)</small><table border=\"1\" class=\"dataframe\"><thead><tr><th>withdraw_id</th><th>deposit_id</th><th>operation_type</th><th>currency</th><th>apply_time</th><th>arrival_amount</th><th>fee</th><th>status</th><th>address</th><th>address_memo</th><th>tx_id</th></tr><tr><td>str</td><td>str</td><td>str</td><td>str</td><td>i64</td><td>str</td><td>str</td><td>i64</td><td>str</td><td>str</td><td>str</td></tr></thead><tbody><tr><td>&quot;27114161&quot;</td><td>&quot;&quot;</td><td>&quot;withdraw&quot;</td><td>&quot;USDT-BSC_BNB&quot;</td><td>1743957744000</td><td>&quot;55.64452838&quot;</td><td>&quot;0&quot;</td><td>3</td><td>&quot;0x11c2e20c2749393b2e3e74ca30d0…</td><td>&quot;&quot;</td><td>&quot;0x6e962294543ee2771e19d00c8738…</td></tr><tr><td>&quot;26695771&quot;</td><td>&quot;&quot;</td><td>&quot;withdraw&quot;</td><td>&quot;USDT-BSC_BNB&quot;</td><td>1741305505000</td><td>&quot;27.48377545&quot;</td><td>&quot;0&quot;</td><td>3</td><td>&quot;0x50de72065b56df623c4c78612d83…</td><td>&quot;&quot;</td><td>&quot;0x6983e043060829e910f4205d877a…</td></tr></tbody></table></div>"
      ],
      "text/plain": [
       "shape: (2, 11)\n",
       "┌────────────┬────────────┬───────────┬───────────┬───┬────────┬───────────┬───────────┬───────────┐\n",
       "│ withdraw_i ┆ deposit_id ┆ operation ┆ currency  ┆ … ┆ status ┆ address   ┆ address_m ┆ tx_id     │\n",
       "│ d          ┆ ---        ┆ _type     ┆ ---       ┆   ┆ ---    ┆ ---       ┆ emo       ┆ ---       │\n",
       "│ ---        ┆ str        ┆ ---       ┆ str       ┆   ┆ i64    ┆ str       ┆ ---       ┆ str       │\n",
       "│ str        ┆            ┆ str       ┆           ┆   ┆        ┆           ┆ str       ┆           │\n",
       "╞════════════╪════════════╪═══════════╪═══════════╪═══╪════════╪═══════════╪═══════════╪═══════════╡\n",
       "│ 27114161   ┆            ┆ withdraw  ┆ USDT-BSC_ ┆ … ┆ 3      ┆ 0x11c2e20 ┆           ┆ 0x6e96229 │\n",
       "│            ┆            ┆           ┆ BNB       ┆   ┆        ┆ c2749393b ┆           ┆ 4543ee277 │\n",
       "│            ┆            ┆           ┆           ┆   ┆        ┆ 2e3e74ca3 ┆           ┆ 1e19d00c8 │\n",
       "│            ┆            ┆           ┆           ┆   ┆        ┆ 0d0…      ┆           ┆ 738…      │\n",
       "│ 26695771   ┆            ┆ withdraw  ┆ USDT-BSC_ ┆ … ┆ 3      ┆ 0x50de720 ┆           ┆ 0x6983e04 │\n",
       "│            ┆            ┆           ┆ BNB       ┆   ┆        ┆ 65b56df62 ┆           ┆ 3060829e9 │\n",
       "│            ┆            ┆           ┆           ┆   ┆        ┆ 3c4c78612 ┆           ┆ 10f4205d8 │\n",
       "│            ┆            ┆           ┆           ┆   ┆        ┆ d83…      ┆           ┆ 77a…      │\n",
       "└────────────┴────────────┴───────────┴───────────┴───┴────────┴───────────┴───────────┴───────────┘"
      ]
     },
     "execution_count": 19,
     "metadata": {},
     "output_type": "execute_result"
    }
   ],
   "source": [
    "res = await client.get_deposit_withdraw_history(currency=\"USDT\")\n",
    "res"
   ]
  },
  {
   "cell_type": "code",
   "execution_count": 20,
   "metadata": {},
   "outputs": [
    {
     "data": {
      "text/html": [
       "<div><style>\n",
       ".dataframe > thead > tr,\n",
       ".dataframe > tbody > tr {\n",
       "  text-align: right;\n",
       "  white-space: pre-wrap;\n",
       "}\n",
       "</style>\n",
       "<small>shape: (1, 11)</small><table border=\"1\" class=\"dataframe\"><thead><tr><th>withdraw_id</th><th>deposit_id</th><th>operation_type</th><th>currency</th><th>apply_time</th><th>arrival_amount</th><th>fee</th><th>status</th><th>address</th><th>address_memo</th><th>tx_id</th></tr><tr><td>str</td><td>str</td><td>str</td><td>str</td><td>i64</td><td>str</td><td>str</td><td>i64</td><td>str</td><td>str</td><td>str</td></tr></thead><tbody><tr><td>&quot;26695771&quot;</td><td>&quot;&quot;</td><td>&quot;withdraw&quot;</td><td>&quot;USDT-BSC_BNB&quot;</td><td>1741305505000</td><td>&quot;27.48377545&quot;</td><td>&quot;0&quot;</td><td>3</td><td>&quot;0x50de72065b56df623c4c78612d83…</td><td>&quot;&quot;</td><td>&quot;0x6983e043060829e910f4205d877a…</td></tr></tbody></table></div>"
      ],
      "text/plain": [
       "shape: (1, 11)\n",
       "┌────────────┬────────────┬───────────┬───────────┬───┬────────┬───────────┬───────────┬───────────┐\n",
       "│ withdraw_i ┆ deposit_id ┆ operation ┆ currency  ┆ … ┆ status ┆ address   ┆ address_m ┆ tx_id     │\n",
       "│ d          ┆ ---        ┆ _type     ┆ ---       ┆   ┆ ---    ┆ ---       ┆ emo       ┆ ---       │\n",
       "│ ---        ┆ str        ┆ ---       ┆ str       ┆   ┆ i64    ┆ str       ┆ ---       ┆ str       │\n",
       "│ str        ┆            ┆ str       ┆           ┆   ┆        ┆           ┆ str       ┆           │\n",
       "╞════════════╪════════════╪═══════════╪═══════════╪═══╪════════╪═══════════╪═══════════╪═══════════╡\n",
       "│ 26695771   ┆            ┆ withdraw  ┆ USDT-BSC_ ┆ … ┆ 3      ┆ 0x50de720 ┆           ┆ 0x6983e04 │\n",
       "│            ┆            ┆           ┆ BNB       ┆   ┆        ┆ 65b56df62 ┆           ┆ 3060829e9 │\n",
       "│            ┆            ┆           ┆           ┆   ┆        ┆ 3c4c78612 ┆           ┆ 10f4205d8 │\n",
       "│            ┆            ┆           ┆           ┆   ┆        ┆ d83…      ┆           ┆ 77a…      │\n",
       "└────────────┴────────────┴───────────┴───────────┴───┴────────┴───────────┴───────────┴───────────┘"
      ]
     },
     "execution_count": 20,
     "metadata": {},
     "output_type": "execute_result"
    }
   ],
   "source": [
    "res = await client.get_deposit_withdraw_history_detail(id=\"26695771\")\n",
    "res"
   ]
  },
  {
   "cell_type": "code",
   "execution_count": 21,
   "metadata": {},
   "outputs": [
    {
     "data": {
      "text/html": [
       "<div><style>\n",
       ".dataframe > thead > tr,\n",
       ".dataframe > tbody > tr {\n",
       "  text-align: right;\n",
       "  white-space: pre-wrap;\n",
       "}\n",
       "</style>\n",
       "<small>shape: (4, 6)</small><table border=\"1\" class=\"dataframe\"><thead><tr><th>currency</th><th>available_balance</th><th>frozen_balance</th><th>unrealized</th><th>equity</th><th>position_deposit</th></tr><tr><td>str</td><td>str</td><td>str</td><td>str</td><td>str</td><td>str</td></tr></thead><tbody><tr><td>&quot;USDT&quot;</td><td>&quot;10.006812670895610679&quot;</td><td>&quot;0&quot;</td><td>&quot;0&quot;</td><td>&quot;10.006812670895610679&quot;</td><td>&quot;0&quot;</td></tr><tr><td>&quot;BTC&quot;</td><td>&quot;0&quot;</td><td>&quot;0&quot;</td><td>&quot;0&quot;</td><td>&quot;0&quot;</td><td>&quot;0&quot;</td></tr><tr><td>&quot;ETH&quot;</td><td>&quot;0&quot;</td><td>&quot;0&quot;</td><td>&quot;0&quot;</td><td>&quot;0&quot;</td><td>&quot;0&quot;</td></tr><tr><td>&quot;USDC&quot;</td><td>&quot;0&quot;</td><td>&quot;0&quot;</td><td>&quot;0&quot;</td><td>&quot;0&quot;</td><td>&quot;0&quot;</td></tr></tbody></table></div>"
      ],
      "text/plain": [
       "shape: (4, 6)\n",
       "┌──────────┬───────────────────┬────────────────┬────────────┬──────────────────┬──────────────────┐\n",
       "│ currency ┆ available_balance ┆ frozen_balance ┆ unrealized ┆ equity           ┆ position_deposit │\n",
       "│ ---      ┆ ---               ┆ ---            ┆ ---        ┆ ---              ┆ ---              │\n",
       "│ str      ┆ str               ┆ str            ┆ str        ┆ str              ┆ str              │\n",
       "╞══════════╪═══════════════════╪════════════════╪════════════╪══════════════════╪══════════════════╡\n",
       "│ USDT     ┆ 10.00681267089561 ┆ 0              ┆ 0          ┆ 10.0068126708956 ┆ 0                │\n",
       "│          ┆ 0679              ┆                ┆            ┆ 10679            ┆                  │\n",
       "│ BTC      ┆ 0                 ┆ 0              ┆ 0          ┆ 0                ┆ 0                │\n",
       "│ ETH      ┆ 0                 ┆ 0              ┆ 0          ┆ 0                ┆ 0                │\n",
       "│ USDC     ┆ 0                 ┆ 0              ┆ 0          ┆ 0                ┆ 0                │\n",
       "└──────────┴───────────────────┴────────────────┴────────────┴──────────────────┴──────────────────┘"
      ]
     },
     "execution_count": 21,
     "metadata": {},
     "output_type": "execute_result"
    }
   ],
   "source": [
    "res = await client.get_contract_assets()\n",
    "res"
   ]
  },
  {
   "cell_type": "markdown",
   "metadata": {},
   "source": [
    "# Trade"
   ]
  },
  {
   "cell_type": "code",
   "execution_count": 5,
   "metadata": {},
   "outputs": [
    {
     "data": {
      "text/plain": [
       "{'message': 'OK',\n",
       " 'code': 1000,\n",
       " 'trace': '5a306035ed5f4581b4f332666f5e2b65.79.17449587686924370',\n",
       " 'data': {'order_id': '1039495645524356096'}}"
      ]
     },
     "execution_count": 5,
     "metadata": {},
     "output_type": "execute_result"
    }
   ],
   "source": [
    "await client.place_spot_market_buy_order(product_symbol=\"APT-USDT-SPOT\", notional=\"10\")"
   ]
  },
  {
   "cell_type": "code",
   "execution_count": 7,
   "metadata": {},
   "outputs": [
    {
     "data": {
      "text/plain": [
       "{'message': 'OK',\n",
       " 'code': 1000,\n",
       " 'trace': '99ca547ee6d34080ae7929871c1fa3f5.89.17448929868067202',\n",
       " 'data': {'order_id': '1038392008647601152'}}"
      ]
     },
     "execution_count": 7,
     "metadata": {},
     "output_type": "execute_result"
    }
   ],
   "source": [
    "await client.place_spot_market_sell_order(product_symbol=\"APT-USDT-SPOT\", size=\"2.1\")"
   ]
  },
  {
   "cell_type": "code",
   "execution_count": 17,
   "metadata": {},
   "outputs": [
    {
     "data": {
      "text/plain": [
       "{'message': 'OK',\n",
       " 'code': 1000,\n",
       " 'trace': '0b464100035b4b99881f911e2944fba3.71.17448944009615948',\n",
       " 'data': {'order_id': '1038415734181161984'}}"
      ]
     },
     "execution_count": 17,
     "metadata": {},
     "output_type": "execute_result"
    }
   ],
   "source": [
    "await client.place_spot_limit_buy_order(\n",
    "    product_symbol=\"BTC-USDT-SPOT\",\n",
    "    size=\"0.0001\",\n",
    "    price=\"80000\",\n",
    "    client_order_id=\"test\",\n",
    ")"
   ]
  },
  {
   "cell_type": "code",
   "execution_count": null,
   "metadata": {},
   "outputs": [
    {
     "data": {
      "text/plain": [
       "{'message': 'OK',\n",
       " 'code': 1000,\n",
       " 'trace': '0b464100035b4b99881f911e2944fba3.68.17448941545378875',\n",
       " 'data': {'order_id': '1038411600073812992'}}"
      ]
     },
     "execution_count": 5,
     "metadata": {},
     "output_type": "execute_result"
    }
   ],
   "source": [
    "await client.place_post_only_limit_buy_order(\n",
    "    product_symbol=\"BTC-USDT-SPOT\",\n",
    "    size=\"0.0001\",\n",
    "    price=\"80000\",\n",
    "    client_order_id=\"test\",\n",
    ")"
   ]
  },
  {
   "cell_type": "code",
   "execution_count": 21,
   "metadata": {},
   "outputs": [
    {
     "data": {
      "text/plain": [
       "{'message': 'OK',\n",
       " 'code': 1000,\n",
       " 'trace': 'c40200fe4fbb449182c538bdd48759ba.69.17448944971574811',\n",
       " 'data': True}"
      ]
     },
     "execution_count": 21,
     "metadata": {},
     "output_type": "execute_result"
    }
   ],
   "source": [
    "await client.cancel_spot_all_order()"
   ]
  },
  {
   "cell_type": "code",
   "execution_count": null,
   "metadata": {},
   "outputs": [
    {
     "data": {
      "text/plain": [
       "{'code': 1000,\n",
       " 'message': 'Ok',\n",
       " 'data': {'order_id': 3000115472045174, 'price': 'market price'},\n",
       " 'trace': 'b15f261868b540889e57f826e0420621.93.17448929885553227'}"
      ]
     },
     "execution_count": 8,
     "metadata": {},
     "output_type": "execute_result"
    }
   ],
   "source": [
    "await client.place_contract_market_buy_order(\n",
    "    \"ETH-USDT-SWAP\",\n",
    "    1,\n",
    ")"
   ]
  },
  {
   "cell_type": "code",
   "execution_count": null,
   "metadata": {},
   "outputs": [
    {
     "data": {
      "text/plain": [
       "{'code': 1000,\n",
       " 'message': 'Ok',\n",
       " 'data': {'order_id': 3000115472045185, 'price': 'market price'},\n",
       " 'trace': '1e17720eff0f4ff9b15278e1f42685b4.98.17448929906981121'}"
      ]
     },
     "execution_count": 9,
     "metadata": {},
     "output_type": "execute_result"
    }
   ],
   "source": [
    "await client.place_contract_market_sell_order(\n",
    "    \"ETH-USDT-SWAP\",\n",
    "    1,\n",
    ")"
   ]
  },
  {
   "cell_type": "code",
   "execution_count": 14,
   "metadata": {},
   "outputs": [
    {
     "data": {
      "text/plain": [
       "{'code': 1000,\n",
       " 'message': 'Ok',\n",
       " 'data': {'order_id': 3000115472065417, 'price': '84590'},\n",
       " 'trace': '1e17720eff0f4ff9b15278e1f42685b4.98.17448964543265609'}"
      ]
     },
     "execution_count": 14,
     "metadata": {},
     "output_type": "execute_result"
    }
   ],
   "source": [
    "await client.place_contract_post_only_buy_order(\n",
    "    product_symbol=\"BTC-USDT-SWAP\",\n",
    "    price=\"84590\",\n",
    "    size=1,\n",
    ")"
   ]
  },
  {
   "cell_type": "code",
   "execution_count": 15,
   "metadata": {},
   "outputs": [
    {
     "data": {
      "text/plain": [
       "{'code': 1000,\n",
       " 'message': 'Ok',\n",
       " 'data': {'order_id': 3000115480064510, 'price': '84595'},\n",
       " 'trace': '1e17720eff0f4ff9b15278e1f42685b4.80.17448964778269058'}"
      ]
     },
     "execution_count": 15,
     "metadata": {},
     "output_type": "execute_result"
    }
   ],
   "source": [
    "await client.place_contract_post_only_sell_order(\n",
    "    product_symbol=\"BTC-USDT-SWAP\",\n",
    "    price=\"84595\",\n",
    "    size=1,\n",
    ")"
   ]
  },
  {
   "cell_type": "code",
   "execution_count": 4,
   "metadata": {},
   "outputs": [
    {
     "data": {
      "text/plain": [
       "{'code': 1000,\n",
       " 'message': 'Ok',\n",
       " 'data': {},\n",
       " 'trace': '1e17720eff0f4ff9b15278e1f42685b4.97.17449587454968093'}"
      ]
     },
     "execution_count": 4,
     "metadata": {},
     "output_type": "execute_result"
    }
   ],
   "source": [
    "await client.cancel_all_contract_order(product_symbol=\"BTC-USDT-SWAP\")"
   ]
  },
  {
   "cell_type": "code",
   "execution_count": 9,
   "metadata": {},
   "outputs": [
    {
     "data": {
      "text/plain": [
       "{'message': 'OK',\n",
       " 'code': 1000,\n",
       " 'trace': '14f94e9bc7d1477089d74500c1273ba3.77.17449591057665377',\n",
       " 'data': {'order_id': 1039501300989651968}}"
      ]
     },
     "execution_count": 9,
     "metadata": {},
     "output_type": "execute_result"
    }
   ],
   "source": [
    "await client.place_margin_order(\n",
    "    product_symbol=\"BTC-USDT-SPOT\",\n",
    "    price=\"80000\",\n",
    "    side=\"buy\",\n",
    "    type=\"limit\",\n",
    "    size=\"0.0001\",\n",
    ")"
   ]
  },
  {
   "cell_type": "code",
   "execution_count": 12,
   "metadata": {},
   "outputs": [
    {
     "data": {
      "text/html": [
       "<div><style>\n",
       ".dataframe > thead > tr,\n",
       ".dataframe > tbody > tr {\n",
       "  text-align: right;\n",
       "  white-space: pre-wrap;\n",
       "}\n",
       "</style>\n",
       "<small>shape: (1, 16)</small><table border=\"1\" class=\"dataframe\"><thead><tr><th>orderId</th><th>clientOrderId</th><th>symbol</th><th>side</th><th>orderMode</th><th>type</th><th>state</th><th>price</th><th>priceAvg</th><th>size</th><th>filledSize</th><th>notional</th><th>filledNotional</th><th>createTime</th><th>updateTime</th><th>cancelSource</th></tr><tr><td>str</td><td>str</td><td>str</td><td>str</td><td>str</td><td>str</td><td>str</td><td>str</td><td>str</td><td>str</td><td>str</td><td>str</td><td>str</td><td>i64</td><td>i64</td><td>str</td></tr></thead><tbody><tr><td>&quot;1038391972626918401&quot;</td><td>&quot;&quot;</td><td>&quot;APT_USDT&quot;</td><td>&quot;buy&quot;</td><td>&quot;spot&quot;</td><td>&quot;market&quot;</td><td>&quot;partially_canceled&quot;</td><td>&quot;0.0000&quot;</td><td>&quot;4.6401&quot;</td><td>&quot;0.0&quot;</td><td>&quot;2.1&quot;</td><td>&quot;9.99000000&quot;</td><td>&quot;9.74425000&quot;</td><td>1744892984666</td><td>1744892984689</td><td>&quot;system&quot;</td></tr></tbody></table></div>"
      ],
      "text/plain": [
       "shape: (1, 16)\n",
       "┌────────────┬────────────┬──────────┬──────┬───┬────────────┬────────────┬────────────┬───────────┐\n",
       "│ orderId    ┆ clientOrde ┆ symbol   ┆ side ┆ … ┆ filledNoti ┆ createTime ┆ updateTime ┆ cancelSou │\n",
       "│ ---        ┆ rId        ┆ ---      ┆ ---  ┆   ┆ onal       ┆ ---        ┆ ---        ┆ rce       │\n",
       "│ str        ┆ ---        ┆ str      ┆ str  ┆   ┆ ---        ┆ i64        ┆ i64        ┆ ---       │\n",
       "│            ┆ str        ┆          ┆      ┆   ┆ str        ┆            ┆            ┆ str       │\n",
       "╞════════════╪════════════╪══════════╪══════╪═══╪════════════╪════════════╪════════════╪═══════════╡\n",
       "│ 1038391972 ┆            ┆ APT_USDT ┆ buy  ┆ … ┆ 9.74425000 ┆ 1744892984 ┆ 1744892984 ┆ system    │\n",
       "│ 626918401  ┆            ┆          ┆      ┆   ┆            ┆ 666        ┆ 689        ┆           │\n",
       "└────────────┴────────────┴──────────┴──────┴───┴────────────┴────────────┴────────────┴───────────┘"
      ]
     },
     "execution_count": 12,
     "metadata": {},
     "output_type": "execute_result"
    }
   ],
   "source": [
    "await client.get_spot_order_by_order_id(orderId=\"1038391972626918401\")"
   ]
  },
  {
   "cell_type": "code",
   "execution_count": null,
   "metadata": {},
   "outputs": [
    {
     "data": {
      "text/html": [
       "<div><style>\n",
       ".dataframe > thead > tr,\n",
       ".dataframe > tbody > tr {\n",
       "  text-align: right;\n",
       "  white-space: pre-wrap;\n",
       "}\n",
       "</style>\n",
       "<small>shape: (0, 0)</small><table border=\"1\" class=\"dataframe\"><thead><tr></tr><tr></tr></thead><tbody></tbody></table></div>"
      ],
      "text/plain": [
       "shape: (0, 0)\n",
       "┌┐\n",
       "╞╡\n",
       "└┘"
      ]
     },
     "execution_count": 13,
     "metadata": {},
     "output_type": "execute_result"
    }
   ],
   "source": [
    "await client.get_spot_open_orders()"
   ]
  },
  {
   "cell_type": "code",
   "execution_count": null,
   "metadata": {},
   "outputs": [
    {
     "data": {
      "text/html": [
       "<div><style>\n",
       ".dataframe > thead > tr,\n",
       ".dataframe > tbody > tr {\n",
       "  text-align: right;\n",
       "  white-space: pre-wrap;\n",
       "}\n",
       "</style>\n",
       "<small>shape: (4, 16)</small><table border=\"1\" class=\"dataframe\"><thead><tr><th>orderId</th><th>clientOrderId</th><th>symbol</th><th>side</th><th>orderMode</th><th>type</th><th>state</th><th>price</th><th>priceAvg</th><th>size</th><th>filledSize</th><th>notional</th><th>filledNotional</th><th>createTime</th><th>updateTime</th><th>cancelSource</th></tr><tr><td>str</td><td>str</td><td>str</td><td>str</td><td>str</td><td>str</td><td>str</td><td>str</td><td>str</td><td>str</td><td>str</td><td>str</td><td>str</td><td>i64</td><td>i64</td><td>str</td></tr></thead><tbody><tr><td>&quot;1038392008647601152&quot;</td><td>&quot;&quot;</td><td>&quot;APT_USDT&quot;</td><td>&quot;sell&quot;</td><td>&quot;spot&quot;</td><td>&quot;market&quot;</td><td>&quot;filled&quot;</td><td>&quot;0.0000&quot;</td><td>&quot;4.6109&quot;</td><td>&quot;2.1&quot;</td><td>&quot;2.1&quot;</td><td>&quot;0.00000000&quot;</td><td>&quot;9.68289000&quot;</td><td>1744892986813</td><td>1744892986828</td><td>&quot;&quot;</td></tr><tr><td>&quot;1038391972626918401&quot;</td><td>&quot;&quot;</td><td>&quot;APT_USDT&quot;</td><td>&quot;buy&quot;</td><td>&quot;spot&quot;</td><td>&quot;market&quot;</td><td>&quot;partially_canceled&quot;</td><td>&quot;0.0000&quot;</td><td>&quot;4.6401&quot;</td><td>&quot;0.0&quot;</td><td>&quot;2.1&quot;</td><td>&quot;9.99000000&quot;</td><td>&quot;9.74425000&quot;</td><td>1744892984666</td><td>1744892984689</td><td>&quot;system&quot;</td></tr><tr><td>&quot;1038386625442966529&quot;</td><td>&quot;&quot;</td><td>&quot;APT_USDT&quot;</td><td>&quot;sell&quot;</td><td>&quot;spot&quot;</td><td>&quot;market&quot;</td><td>&quot;filled&quot;</td><td>&quot;0.0000&quot;</td><td>&quot;4.6060&quot;</td><td>&quot;2.1&quot;</td><td>&quot;2.1&quot;</td><td>&quot;0.00000000&quot;</td><td>&quot;9.67260000&quot;</td><td>1744892665949</td><td>1744892665972</td><td>&quot;&quot;</td></tr><tr><td>&quot;1038383635139095552&quot;</td><td>&quot;&quot;</td><td>&quot;APT_USDT&quot;</td><td>&quot;buy&quot;</td><td>&quot;spot&quot;</td><td>&quot;market&quot;</td><td>&quot;partially_canceled&quot;</td><td>&quot;0.0000&quot;</td><td>&quot;4.6298&quot;</td><td>&quot;0.0&quot;</td><td>&quot;2.1&quot;</td><td>&quot;9.99000000&quot;</td><td>&quot;9.72258000&quot;</td><td>1744892487713</td><td>1744892487735</td><td>&quot;system&quot;</td></tr></tbody></table></div>"
      ],
      "text/plain": [
       "shape: (4, 16)\n",
       "┌────────────┬────────────┬──────────┬──────┬───┬────────────┬────────────┬────────────┬───────────┐\n",
       "│ orderId    ┆ clientOrde ┆ symbol   ┆ side ┆ … ┆ filledNoti ┆ createTime ┆ updateTime ┆ cancelSou │\n",
       "│ ---        ┆ rId        ┆ ---      ┆ ---  ┆   ┆ onal       ┆ ---        ┆ ---        ┆ rce       │\n",
       "│ str        ┆ ---        ┆ str      ┆ str  ┆   ┆ ---        ┆ i64        ┆ i64        ┆ ---       │\n",
       "│            ┆ str        ┆          ┆      ┆   ┆ str        ┆            ┆            ┆ str       │\n",
       "╞════════════╪════════════╪══════════╪══════╪═══╪════════════╪════════════╪════════════╪═══════════╡\n",
       "│ 1038392008 ┆            ┆ APT_USDT ┆ sell ┆ … ┆ 9.68289000 ┆ 1744892986 ┆ 1744892986 ┆           │\n",
       "│ 647601152  ┆            ┆          ┆      ┆   ┆            ┆ 813        ┆ 828        ┆           │\n",
       "│ 1038391972 ┆            ┆ APT_USDT ┆ buy  ┆ … ┆ 9.74425000 ┆ 1744892984 ┆ 1744892984 ┆ system    │\n",
       "│ 626918401  ┆            ┆          ┆      ┆   ┆            ┆ 666        ┆ 689        ┆           │\n",
       "│ 1038386625 ┆            ┆ APT_USDT ┆ sell ┆ … ┆ 9.67260000 ┆ 1744892665 ┆ 1744892665 ┆           │\n",
       "│ 442966529  ┆            ┆          ┆      ┆   ┆            ┆ 949        ┆ 972        ┆           │\n",
       "│ 1038383635 ┆            ┆ APT_USDT ┆ buy  ┆ … ┆ 9.72258000 ┆ 1744892487 ┆ 1744892487 ┆ system    │\n",
       "│ 139095552  ┆            ┆          ┆      ┆   ┆            ┆ 713        ┆ 735        ┆           │\n",
       "└────────────┴────────────┴──────────┴──────┴───┴────────────┴────────────┴────────────┴───────────┘"
      ]
     },
     "execution_count": 14,
     "metadata": {},
     "output_type": "execute_result"
    }
   ],
   "source": [
    "await client.get_spot_account_orders()"
   ]
  },
  {
   "cell_type": "code",
   "execution_count": 15,
   "metadata": {},
   "outputs": [
    {
     "data": {
      "text/html": [
       "<div><style>\n",
       ".dataframe > thead > tr,\n",
       ".dataframe > tbody > tr {\n",
       "  text-align: right;\n",
       "  white-space: pre-wrap;\n",
       "}\n",
       "</style>\n",
       "<small>shape: (5, 15)</small><table border=\"1\" class=\"dataframe\"><thead><tr><th>type</th><th>feeCoinName</th><th>tradeRole</th><th>orderId</th><th>symbol</th><th>price</th><th>side</th><th>tradeId</th><th>orderMode</th><th>size</th><th>updateTime</th><th>notional</th><th>createTime</th><th>clientOrderId</th><th>fee</th></tr><tr><td>str</td><td>str</td><td>str</td><td>str</td><td>str</td><td>str</td><td>str</td><td>str</td><td>str</td><td>str</td><td>i64</td><td>str</td><td>i64</td><td>str</td><td>str</td></tr></thead><tbody><tr><td>&quot;market&quot;</td><td>&quot;USDT&quot;</td><td>&quot;taker&quot;</td><td>&quot;1038392008647601152&quot;</td><td>&quot;APT_USDT&quot;</td><td>&quot;4.6109&quot;</td><td>&quot;sell&quot;</td><td>&quot;1038392008864968968&quot;</td><td>&quot;spot&quot;</td><td>&quot;2.1&quot;</td><td>1744892986828</td><td>&quot;9.68289000&quot;</td><td>1744892986828</td><td>&quot;&quot;</td><td>&quot;0.00968289&quot;</td></tr><tr><td>&quot;market&quot;</td><td>&quot;USDT&quot;</td><td>&quot;taker&quot;</td><td>&quot;1038391972626918401&quot;</td><td>&quot;APT_USDT&quot;</td><td>&quot;4.6402&quot;</td><td>&quot;buy&quot;</td><td>&quot;1038391972944949518&quot;</td><td>&quot;spot&quot;</td><td>&quot;0.4&quot;</td><td>1744892984688</td><td>&quot;1.85608000&quot;</td><td>1744892984688</td><td>&quot;&quot;</td><td>&quot;0.00185608&quot;</td></tr><tr><td>&quot;market&quot;</td><td>&quot;USDT&quot;</td><td>&quot;taker&quot;</td><td>&quot;1038391972626918401&quot;</td><td>&quot;APT_USDT&quot;</td><td>&quot;4.6401&quot;</td><td>&quot;buy&quot;</td><td>&quot;1038391972944949515&quot;</td><td>&quot;spot&quot;</td><td>&quot;1.7&quot;</td><td>1744892984687</td><td>&quot;7.88817000&quot;</td><td>1744892984687</td><td>&quot;&quot;</td><td>&quot;0.00788817&quot;</td></tr><tr><td>&quot;market&quot;</td><td>&quot;USDT&quot;</td><td>&quot;taker&quot;</td><td>&quot;1038386625442966529&quot;</td><td>&quot;APT_USDT&quot;</td><td>&quot;4.6060&quot;</td><td>&quot;sell&quot;</td><td>&quot;1038386625794552065&quot;</td><td>&quot;spot&quot;</td><td>&quot;2.1&quot;</td><td>1744892665972</td><td>&quot;9.67260000&quot;</td><td>1744892665972</td><td>&quot;&quot;</td><td>&quot;0.00967260&quot;</td></tr><tr><td>&quot;market&quot;</td><td>&quot;USDT&quot;</td><td>&quot;taker&quot;</td><td>&quot;1038383635139095552&quot;</td><td>&quot;APT_USDT&quot;</td><td>&quot;4.6298&quot;</td><td>&quot;buy&quot;</td><td>&quot;1038383635457126658&quot;</td><td>&quot;spot&quot;</td><td>&quot;2.1&quot;</td><td>1744892487734</td><td>&quot;9.72258000&quot;</td><td>1744892487734</td><td>&quot;&quot;</td><td>&quot;0.00972258&quot;</td></tr></tbody></table></div>"
      ],
      "text/plain": [
       "shape: (5, 15)\n",
       "┌────────┬────────────┬───────────┬────────────┬───┬───────────┬───────────┬───────────┬───────────┐\n",
       "│ type   ┆ feeCoinNam ┆ tradeRole ┆ orderId    ┆ … ┆ notional  ┆ createTim ┆ clientOrd ┆ fee       │\n",
       "│ ---    ┆ e          ┆ ---       ┆ ---        ┆   ┆ ---       ┆ e         ┆ erId      ┆ ---       │\n",
       "│ str    ┆ ---        ┆ str       ┆ str        ┆   ┆ str       ┆ ---       ┆ ---       ┆ str       │\n",
       "│        ┆ str        ┆           ┆            ┆   ┆           ┆ i64       ┆ str       ┆           │\n",
       "╞════════╪════════════╪═══════════╪════════════╪═══╪═══════════╪═══════════╪═══════════╪═══════════╡\n",
       "│ market ┆ USDT       ┆ taker     ┆ 1038392008 ┆ … ┆ 9.6828900 ┆ 174489298 ┆           ┆ 0.0096828 │\n",
       "│        ┆            ┆           ┆ 647601152  ┆   ┆ 0         ┆ 6828      ┆           ┆ 9         │\n",
       "│ market ┆ USDT       ┆ taker     ┆ 1038391972 ┆ … ┆ 1.8560800 ┆ 174489298 ┆           ┆ 0.0018560 │\n",
       "│        ┆            ┆           ┆ 626918401  ┆   ┆ 0         ┆ 4688      ┆           ┆ 8         │\n",
       "│ market ┆ USDT       ┆ taker     ┆ 1038391972 ┆ … ┆ 7.8881700 ┆ 174489298 ┆           ┆ 0.0078881 │\n",
       "│        ┆            ┆           ┆ 626918401  ┆   ┆ 0         ┆ 4687      ┆           ┆ 7         │\n",
       "│ market ┆ USDT       ┆ taker     ┆ 1038386625 ┆ … ┆ 9.6726000 ┆ 174489266 ┆           ┆ 0.0096726 │\n",
       "│        ┆            ┆           ┆ 442966529  ┆   ┆ 0         ┆ 5972      ┆           ┆ 0         │\n",
       "│ market ┆ USDT       ┆ taker     ┆ 1038383635 ┆ … ┆ 9.7225800 ┆ 174489248 ┆           ┆ 0.0097225 │\n",
       "│        ┆            ┆           ┆ 139095552  ┆   ┆ 0         ┆ 7734      ┆           ┆ 8         │\n",
       "└────────┴────────────┴───────────┴────────────┴───┴───────────┴───────────┴───────────┴───────────┘"
      ]
     },
     "execution_count": 15,
     "metadata": {},
     "output_type": "execute_result"
    }
   ],
   "source": [
    "await client.get_spot_account_trade_list()"
   ]
  },
  {
   "cell_type": "code",
   "execution_count": 17,
   "metadata": {},
   "outputs": [
    {
     "data": {
      "text/html": [
       "<div><style>\n",
       ".dataframe > thead > tr,\n",
       ".dataframe > tbody > tr {\n",
       "  text-align: right;\n",
       "  white-space: pre-wrap;\n",
       "}\n",
       "</style>\n",
       "<small>shape: (2, 15)</small><table border=\"1\" class=\"dataframe\"><thead><tr><th>tradeId</th><th>orderId</th><th>clientOrderId</th><th>symbol</th><th>side</th><th>orderMode</th><th>type</th><th>price</th><th>size</th><th>notional</th><th>fee</th><th>feeCoinName</th><th>tradeRole</th><th>createTime</th><th>updateTime</th></tr><tr><td>str</td><td>str</td><td>str</td><td>str</td><td>str</td><td>str</td><td>str</td><td>str</td><td>str</td><td>str</td><td>str</td><td>str</td><td>str</td><td>i64</td><td>i64</td></tr></thead><tbody><tr><td>&quot;1038391972944949518&quot;</td><td>&quot;1038391972626918401&quot;</td><td>&quot;&quot;</td><td>&quot;APT_USDT&quot;</td><td>&quot;buy&quot;</td><td>&quot;spot&quot;</td><td>&quot;market&quot;</td><td>&quot;4.6402&quot;</td><td>&quot;0.4&quot;</td><td>&quot;1.85608000&quot;</td><td>&quot;0.00185608&quot;</td><td>&quot;USDT&quot;</td><td>&quot;taker&quot;</td><td>1744892984688</td><td>1744892984688</td></tr><tr><td>&quot;1038391972944949515&quot;</td><td>&quot;1038391972626918401&quot;</td><td>&quot;&quot;</td><td>&quot;APT_USDT&quot;</td><td>&quot;buy&quot;</td><td>&quot;spot&quot;</td><td>&quot;market&quot;</td><td>&quot;4.6401&quot;</td><td>&quot;1.7&quot;</td><td>&quot;7.88817000&quot;</td><td>&quot;0.00788817&quot;</td><td>&quot;USDT&quot;</td><td>&quot;taker&quot;</td><td>1744892984687</td><td>1744892984687</td></tr></tbody></table></div>"
      ],
      "text/plain": [
       "shape: (2, 15)\n",
       "┌───────────┬───────────┬───────────┬──────────┬───┬───────────┬───────────┬───────────┬───────────┐\n",
       "│ tradeId   ┆ orderId   ┆ clientOrd ┆ symbol   ┆ … ┆ feeCoinNa ┆ tradeRole ┆ createTim ┆ updateTim │\n",
       "│ ---       ┆ ---       ┆ erId      ┆ ---      ┆   ┆ me        ┆ ---       ┆ e         ┆ e         │\n",
       "│ str       ┆ str       ┆ ---       ┆ str      ┆   ┆ ---       ┆ str       ┆ ---       ┆ ---       │\n",
       "│           ┆           ┆ str       ┆          ┆   ┆ str       ┆           ┆ i64       ┆ i64       │\n",
       "╞═══════════╪═══════════╪═══════════╪══════════╪═══╪═══════════╪═══════════╪═══════════╪═══════════╡\n",
       "│ 103839197 ┆ 103839197 ┆           ┆ APT_USDT ┆ … ┆ USDT      ┆ taker     ┆ 174489298 ┆ 174489298 │\n",
       "│ 294494951 ┆ 262691840 ┆           ┆          ┆   ┆           ┆           ┆ 4688      ┆ 4688      │\n",
       "│ 8         ┆ 1         ┆           ┆          ┆   ┆           ┆           ┆           ┆           │\n",
       "│ 103839197 ┆ 103839197 ┆           ┆ APT_USDT ┆ … ┆ USDT      ┆ taker     ┆ 174489298 ┆ 174489298 │\n",
       "│ 294494951 ┆ 262691840 ┆           ┆          ┆   ┆           ┆           ┆ 4687      ┆ 4687      │\n",
       "│ 5         ┆ 1         ┆           ┆          ┆   ┆           ┆           ┆           ┆           │\n",
       "└───────────┴───────────┴───────────┴──────────┴───┴───────────┴───────────┴───────────┴───────────┘"
      ]
     },
     "execution_count": 17,
     "metadata": {},
     "output_type": "execute_result"
    }
   ],
   "source": [
    "await client.get_spot_order_trade_list(orderId=\"1038391972626918401\")"
   ]
  },
  {
   "cell_type": "code",
   "execution_count": null,
   "metadata": {},
   "outputs": [
    {
     "data": {
      "text/html": [
       "<div><style>\n",
       ".dataframe > thead > tr,\n",
       ".dataframe > tbody > tr {\n",
       "  text-align: right;\n",
       "  white-space: pre-wrap;\n",
       "}\n",
       "</style>\n",
       "<small>shape: (1, 24)</small><table border=\"1\" class=\"dataframe\"><thead><tr><th>symbol</th><th>order_id</th><th>client_order_id</th><th>side</th><th>type</th><th>leverage</th><th>open_type</th><th>deal_avg_price</th><th>deal_size</th><th>price</th><th>size</th><th>state</th><th>activation_price</th><th>callback_rate</th><th>activation_price_type</th><th>executive_order_id</th><th>preset_take_profit_price_type</th><th>preset_stop_loss_price_type</th><th>preset_take_profit_price</th><th>preset_stop_loss_price</th><th>create_time</th><th>update_time</th><th>account</th><th>position_mode</th></tr><tr><td>str</td><td>str</td><td>str</td><td>i64</td><td>str</td><td>str</td><td>str</td><td>str</td><td>str</td><td>str</td><td>str</td><td>i64</td><td>str</td><td>str</td><td>i64</td><td>str</td><td>i64</td><td>i64</td><td>str</td><td>str</td><td>i64</td><td>i64</td><td>str</td><td>str</td></tr></thead><tbody><tr><td>&quot;ETHUSDT&quot;</td><td>&quot;3000115472045174&quot;</td><td>&quot;&quot;</td><td>2</td><td>&quot;market&quot;</td><td>&quot;50&quot;</td><td>&quot;cross&quot;</td><td>&quot;1600.02&quot;</td><td>&quot;1&quot;</td><td>&quot;0&quot;</td><td>&quot;1&quot;</td><td>4</td><td>&quot;&quot;</td><td>&quot;&quot;</td><td>0</td><td>&quot;&quot;</td><td>0</td><td>0</td><td>&quot;&quot;</td><td>&quot;&quot;</td><td>1744892988603</td><td>1744892988723</td><td>&quot;futures&quot;</td><td>&quot;hedge_mode&quot;</td></tr></tbody></table></div>"
      ],
      "text/plain": [
       "shape: (1, 24)\n",
       "┌─────────┬─────────────┬─────────────┬──────┬───┬─────────────┬────────────┬─────────┬────────────┐\n",
       "│ symbol  ┆ order_id    ┆ client_orde ┆ side ┆ … ┆ create_time ┆ update_tim ┆ account ┆ position_m │\n",
       "│ ---     ┆ ---         ┆ r_id        ┆ ---  ┆   ┆ ---         ┆ e          ┆ ---     ┆ ode        │\n",
       "│ str     ┆ str         ┆ ---         ┆ i64  ┆   ┆ i64         ┆ ---        ┆ str     ┆ ---        │\n",
       "│         ┆             ┆ str         ┆      ┆   ┆             ┆ i64        ┆         ┆ str        │\n",
       "╞═════════╪═════════════╪═════════════╪══════╪═══╪═════════════╪════════════╪═════════╪════════════╡\n",
       "│ ETHUSDT ┆ 30001154720 ┆             ┆ 2    ┆ … ┆ 17448929886 ┆ 1744892988 ┆ futures ┆ hedge_mode │\n",
       "│         ┆ 45174       ┆             ┆      ┆   ┆ 03          ┆ 723        ┆         ┆            │\n",
       "└─────────┴─────────────┴─────────────┴──────┴───┴─────────────┴────────────┴─────────┴────────────┘"
      ]
     },
     "execution_count": 21,
     "metadata": {},
     "output_type": "execute_result"
    }
   ],
   "source": [
    "await client.get_contract_order_detail(product_symbol=\"ETH-USDT-SWAP\", order_id=\"3000115472045174\")"
   ]
  },
  {
   "cell_type": "code",
   "execution_count": null,
   "metadata": {},
   "outputs": [
    {
     "data": {
      "text/html": [
       "<div><style>\n",
       ".dataframe > thead > tr,\n",
       ".dataframe > tbody > tr {\n",
       "  text-align: right;\n",
       "  white-space: pre-wrap;\n",
       "}\n",
       "</style>\n",
       "<small>shape: (100, 23)</small><table border=\"1\" class=\"dataframe\"><thead><tr><th>order_id</th><th>client_order_id</th><th>price</th><th>size</th><th>symbol</th><th>state</th><th>side</th><th>type</th><th>leverage</th><th>open_type</th><th>deal_avg_price</th><th>deal_size</th><th>create_time</th><th>update_time</th><th>activation_price_type</th><th>activation_price</th><th>callback_rate</th><th>preset_take_profit_price_type</th><th>preset_stop_loss_price_type</th><th>preset_take_profit_price</th><th>preset_stop_loss_price</th><th>account</th><th>position_mode</th></tr><tr><td>str</td><td>str</td><td>str</td><td>str</td><td>str</td><td>i64</td><td>i64</td><td>str</td><td>str</td><td>str</td><td>str</td><td>str</td><td>i64</td><td>i64</td><td>i64</td><td>str</td><td>str</td><td>i64</td><td>i64</td><td>str</td><td>str</td><td>str</td><td>str</td></tr></thead><tbody><tr><td>&quot;3000115472045185&quot;</td><td>&quot;&quot;</td><td>&quot;1604.7&quot;</td><td>&quot;1&quot;</td><td>&quot;ETHUSDT&quot;</td><td>4</td><td>4</td><td>&quot;market&quot;</td><td>&quot;50&quot;</td><td>&quot;cross&quot;</td><td>&quot;1599.9&quot;</td><td>&quot;1&quot;</td><td>1744892990773</td><td>1744892990873</td><td>1</td><td>&quot;0&quot;</td><td>&quot;0&quot;</td><td>0</td><td>0</td><td>&quot;&quot;</td><td>&quot;&quot;</td><td>&quot;futures&quot;</td><td>&quot;hedge_mode&quot;</td></tr><tr><td>&quot;3000115472045174&quot;</td><td>&quot;&quot;</td><td>&quot;0&quot;</td><td>&quot;1&quot;</td><td>&quot;ETHUSDT&quot;</td><td>4</td><td>2</td><td>&quot;market&quot;</td><td>&quot;50&quot;</td><td>&quot;cross&quot;</td><td>&quot;1600.02&quot;</td><td>&quot;1&quot;</td><td>1744892988603</td><td>1744892988723</td><td>1</td><td>&quot;0&quot;</td><td>&quot;0&quot;</td><td>0</td><td>0</td><td>&quot;&quot;</td><td>&quot;&quot;</td><td>&quot;futures&quot;</td><td>&quot;hedge_mode&quot;</td></tr><tr><td>&quot;3000115472045106&quot;</td><td>&quot;&quot;</td><td>&quot;1604.62&quot;</td><td>&quot;1&quot;</td><td>&quot;ETHUSDT&quot;</td><td>4</td><td>4</td><td>&quot;market&quot;</td><td>&quot;50&quot;</td><td>&quot;cross&quot;</td><td>&quot;1599.82&quot;</td><td>&quot;1&quot;</td><td>1744892970490</td><td>1744892970529</td><td>1</td><td>&quot;0&quot;</td><td>&quot;0&quot;</td><td>0</td><td>0</td><td>&quot;&quot;</td><td>&quot;&quot;</td><td>&quot;futures&quot;</td><td>&quot;hedge_mode&quot;</td></tr><tr><td>&quot;3000115480044163&quot;</td><td>&quot;&quot;</td><td>&quot;1604.68&quot;</td><td>&quot;1&quot;</td><td>&quot;ETHUSDT&quot;</td><td>4</td><td>1</td><td>&quot;market&quot;</td><td>&quot;50&quot;</td><td>&quot;cross&quot;</td><td>&quot;1599.84&quot;</td><td>&quot;1&quot;</td><td>1744892962937</td><td>1744892963029</td><td>1</td><td>&quot;0&quot;</td><td>&quot;0&quot;</td><td>0</td><td>0</td><td>&quot;&quot;</td><td>&quot;&quot;</td><td>&quot;futures&quot;</td><td>&quot;hedge_mode&quot;</td></tr><tr><td>&quot;3000107388631237&quot;</td><td>&quot;&quot;</td><td>&quot;0&quot;</td><td>&quot;6&quot;</td><td>&quot;ETHUSDT&quot;</td><td>4</td><td>2</td><td>&quot;market&quot;</td><td>&quot;50&quot;</td><td>&quot;cross&quot;</td><td>&quot;1810.75&quot;</td><td>&quot;6&quot;</td><td>1743905584400</td><td>1743905584497</td><td>1</td><td>&quot;0&quot;</td><td>&quot;0&quot;</td><td>0</td><td>0</td><td>&quot;&quot;</td><td>&quot;&quot;</td><td>&quot;futures&quot;</td><td>&quot;hedge_mode&quot;</td></tr><tr><td>&hellip;</td><td>&hellip;</td><td>&hellip;</td><td>&hellip;</td><td>&hellip;</td><td>&hellip;</td><td>&hellip;</td><td>&hellip;</td><td>&hellip;</td><td>&hellip;</td><td>&hellip;</td><td>&hellip;</td><td>&hellip;</td><td>&hellip;</td><td>&hellip;</td><td>&hellip;</td><td>&hellip;</td><td>&hellip;</td><td>&hellip;</td><td>&hellip;</td><td>&hellip;</td><td>&hellip;</td><td>&hellip;</td></tr><tr><td>&quot;3000107388630523&quot;</td><td>&quot;&quot;</td><td>&quot;1811.48&quot;</td><td>&quot;2&quot;</td><td>&quot;ETHUSDT&quot;</td><td>4</td><td>4</td><td>&quot;limit&quot;</td><td>&quot;50&quot;</td><td>&quot;cross&quot;</td><td>&quot;0&quot;</td><td>&quot;0&quot;</td><td>1743905524680</td><td>1743905524802</td><td>1</td><td>&quot;0&quot;</td><td>&quot;0&quot;</td><td>0</td><td>0</td><td>&quot;&quot;</td><td>&quot;&quot;</td><td>&quot;futures&quot;</td><td>&quot;hedge_mode&quot;</td></tr><tr><td>&quot;3000107388630521&quot;</td><td>&quot;&quot;</td><td>&quot;1810.39&quot;</td><td>&quot;5&quot;</td><td>&quot;ETHUSDT&quot;</td><td>4</td><td>1</td><td>&quot;limit&quot;</td><td>&quot;50&quot;</td><td>&quot;cross&quot;</td><td>&quot;0&quot;</td><td>&quot;0&quot;</td><td>1743905524531</td><td>1743905524589</td><td>1</td><td>&quot;0&quot;</td><td>&quot;0&quot;</td><td>0</td><td>0</td><td>&quot;&quot;</td><td>&quot;&quot;</td><td>&quot;futures&quot;</td><td>&quot;hedge_mode&quot;</td></tr><tr><td>&quot;3000107391626937&quot;</td><td>&quot;&quot;</td><td>&quot;1811.3&quot;</td><td>&quot;2&quot;</td><td>&quot;ETHUSDT&quot;</td><td>4</td><td>4</td><td>&quot;limit&quot;</td><td>&quot;50&quot;</td><td>&quot;cross&quot;</td><td>&quot;0&quot;</td><td>&quot;0&quot;</td><td>1743905524231</td><td>1743905526358</td><td>1</td><td>&quot;0&quot;</td><td>&quot;0&quot;</td><td>0</td><td>0</td><td>&quot;&quot;</td><td>&quot;&quot;</td><td>&quot;futures&quot;</td><td>&quot;hedge_mode&quot;</td></tr><tr><td>&quot;3000107391626932&quot;</td><td>&quot;&quot;</td><td>&quot;1810.57&quot;</td><td>&quot;1&quot;</td><td>&quot;ETHUSDT&quot;</td><td>4</td><td>2</td><td>&quot;limit&quot;</td><td>&quot;50&quot;</td><td>&quot;cross&quot;</td><td>&quot;0&quot;</td><td>&quot;0&quot;</td><td>1743905524011</td><td>1743905526345</td><td>1</td><td>&quot;0&quot;</td><td>&quot;0&quot;</td><td>0</td><td>0</td><td>&quot;&quot;</td><td>&quot;&quot;</td><td>&quot;futures&quot;</td><td>&quot;hedge_mode&quot;</td></tr><tr><td>&quot;3000107388630507&quot;</td><td>&quot;&quot;</td><td>&quot;1811.12&quot;</td><td>&quot;2&quot;</td><td>&quot;ETHUSDT&quot;</td><td>4</td><td>4</td><td>&quot;limit&quot;</td><td>&quot;50&quot;</td><td>&quot;cross&quot;</td><td>&quot;0&quot;</td><td>&quot;0&quot;</td><td>1743905523802</td><td>1743905526319</td><td>1</td><td>&quot;0&quot;</td><td>&quot;0&quot;</td><td>0</td><td>0</td><td>&quot;&quot;</td><td>&quot;&quot;</td><td>&quot;futures&quot;</td><td>&quot;hedge_mode&quot;</td></tr></tbody></table></div>"
      ],
      "text/plain": [
       "shape: (100, 23)\n",
       "┌─────────────┬─────────────┬─────────┬──────┬───┬─────────────┬────────────┬─────────┬────────────┐\n",
       "│ order_id    ┆ client_orde ┆ price   ┆ size ┆ … ┆ preset_take ┆ preset_sto ┆ account ┆ position_m │\n",
       "│ ---         ┆ r_id        ┆ ---     ┆ ---  ┆   ┆ _profit_pri ┆ p_loss_pri ┆ ---     ┆ ode        │\n",
       "│ str         ┆ ---         ┆ str     ┆ str  ┆   ┆ ce          ┆ ce         ┆ str     ┆ ---        │\n",
       "│             ┆ str         ┆         ┆      ┆   ┆ ---         ┆ ---        ┆         ┆ str        │\n",
       "│             ┆             ┆         ┆      ┆   ┆ str         ┆ str        ┆         ┆            │\n",
       "╞═════════════╪═════════════╪═════════╪══════╪═══╪═════════════╪════════════╪═════════╪════════════╡\n",
       "│ 30001154720 ┆             ┆ 1604.7  ┆ 1    ┆ … ┆             ┆            ┆ futures ┆ hedge_mode │\n",
       "│ 45185       ┆             ┆         ┆      ┆   ┆             ┆            ┆         ┆            │\n",
       "│ 30001154720 ┆             ┆ 0       ┆ 1    ┆ … ┆             ┆            ┆ futures ┆ hedge_mode │\n",
       "│ 45174       ┆             ┆         ┆      ┆   ┆             ┆            ┆         ┆            │\n",
       "│ 30001154720 ┆             ┆ 1604.62 ┆ 1    ┆ … ┆             ┆            ┆ futures ┆ hedge_mode │\n",
       "│ 45106       ┆             ┆         ┆      ┆   ┆             ┆            ┆         ┆            │\n",
       "│ 30001154800 ┆             ┆ 1604.68 ┆ 1    ┆ … ┆             ┆            ┆ futures ┆ hedge_mode │\n",
       "│ 44163       ┆             ┆         ┆      ┆   ┆             ┆            ┆         ┆            │\n",
       "│ 30001073886 ┆             ┆ 0       ┆ 6    ┆ … ┆             ┆            ┆ futures ┆ hedge_mode │\n",
       "│ 31237       ┆             ┆         ┆      ┆   ┆             ┆            ┆         ┆            │\n",
       "│ …           ┆ …           ┆ …       ┆ …    ┆ … ┆ …           ┆ …          ┆ …       ┆ …          │\n",
       "│ 30001073886 ┆             ┆ 1811.48 ┆ 2    ┆ … ┆             ┆            ┆ futures ┆ hedge_mode │\n",
       "│ 30523       ┆             ┆         ┆      ┆   ┆             ┆            ┆         ┆            │\n",
       "│ 30001073886 ┆             ┆ 1810.39 ┆ 5    ┆ … ┆             ┆            ┆ futures ┆ hedge_mode │\n",
       "│ 30521       ┆             ┆         ┆      ┆   ┆             ┆            ┆         ┆            │\n",
       "│ 30001073916 ┆             ┆ 1811.3  ┆ 2    ┆ … ┆             ┆            ┆ futures ┆ hedge_mode │\n",
       "│ 26937       ┆             ┆         ┆      ┆   ┆             ┆            ┆         ┆            │\n",
       "│ 30001073916 ┆             ┆ 1810.57 ┆ 1    ┆ … ┆             ┆            ┆ futures ┆ hedge_mode │\n",
       "│ 26932       ┆             ┆         ┆      ┆   ┆             ┆            ┆         ┆            │\n",
       "│ 30001073886 ┆             ┆ 1811.12 ┆ 2    ┆ … ┆             ┆            ┆ futures ┆ hedge_mode │\n",
       "│ 30507       ┆             ┆         ┆      ┆   ┆             ┆            ┆         ┆            │\n",
       "└─────────────┴─────────────┴─────────┴──────┴───┴─────────────┴────────────┴─────────┴────────────┘"
      ]
     },
     "execution_count": 23,
     "metadata": {},
     "output_type": "execute_result"
    }
   ],
   "source": [
    "await client.get_contract_order_history(product_symbol=\"ETH-USDT-SWAP\")"
   ]
  },
  {
   "cell_type": "code",
   "execution_count": null,
   "metadata": {},
   "outputs": [
    {
     "data": {
      "text/html": [
       "<div><style>\n",
       ".dataframe > thead > tr,\n",
       ".dataframe > tbody > tr {\n",
       "  text-align: right;\n",
       "  white-space: pre-wrap;\n",
       "}\n",
       "</style>\n",
       "<small>shape: (0, 0)</small><table border=\"1\" class=\"dataframe\"><thead><tr></tr><tr></tr></thead><tbody></tbody></table></div>"
      ],
      "text/plain": [
       "shape: (0, 0)\n",
       "┌┐\n",
       "╞╡\n",
       "└┘"
      ]
     },
     "execution_count": 24,
     "metadata": {},
     "output_type": "execute_result"
    }
   ],
   "source": [
    "await client.get_contract_open_order(product_symbol=\"ETH-USDT-SWAP\")"
   ]
  },
  {
   "cell_type": "code",
   "execution_count": null,
   "metadata": {},
   "outputs": [
    {
     "data": {
      "text/html": [
       "<div><style>\n",
       ".dataframe > thead > tr,\n",
       ".dataframe > tbody > tr {\n",
       "  text-align: right;\n",
       "  white-space: pre-wrap;\n",
       "}\n",
       "</style>\n",
       "<small>shape: (2, 22)</small><table border=\"1\" class=\"dataframe\"><thead><tr><th>symbol</th><th>leverage</th><th>timestamp</th><th>current_fee</th><th>open_timestamp</th><th>current_value</th><th>mark_value</th><th>mark_price</th><th>position_value</th><th>position_cross</th><th>maintenance_margin</th><th>margin_type</th><th>position_mode</th><th>close_vol</th><th>close_avg_price</th><th>open_avg_price</th><th>entry_price</th><th>current_amount</th><th>unrealized_value</th><th>realized_value</th><th>position_type</th><th>account</th></tr><tr><td>str</td><td>str</td><td>i64</td><td>str</td><td>i64</td><td>str</td><td>str</td><td>str</td><td>str</td><td>str</td><td>str</td><td>str</td><td>str</td><td>str</td><td>str</td><td>str</td><td>str</td><td>str</td><td>str</td><td>str</td><td>i64</td><td>str</td></tr></thead><tbody><tr><td>&quot;ETHUSDT&quot;</td><td>&quot;50&quot;</td><td>1744893819059</td><td>&quot;0.0000091&quot;</td><td>1744892990869</td><td>&quot;1.59754&quot;</td><td>&quot;1.59761254762&quot;</td><td>&quot;1597.61254762&quot;</td><td>&quot;1.5999&quot;</td><td>&quot;0.0324059745&quot;</td><td>&quot;0.0079880627381&quot;</td><td>&quot;Cross&quot;</td><td>&quot;hedge_mode&quot;</td><td>&quot;0&quot;</td><td>&quot;0&quot;</td><td>&quot;1599.9&quot;</td><td>&quot;1599.9&quot;</td><td>&quot;1&quot;</td><td>&quot;0.00236&quot;</td><td>&quot;-0.000399975&quot;</td><td>2</td><td>&quot;futures&quot;</td></tr><tr><td>&quot;ETHUSDT&quot;</td><td>&quot;50&quot;</td><td>1744893819059</td><td>&quot;0.0000091&quot;</td><td>1744892963028</td><td>&quot;1.59754&quot;</td><td>&quot;1.59761254762&quot;</td><td>&quot;1597.61254762&quot;</td><td>&quot;1.59984&quot;</td><td>&quot;0.03239676&quot;</td><td>&quot;0.0079880627381&quot;</td><td>&quot;Cross&quot;</td><td>&quot;hedge_mode&quot;</td><td>&quot;0&quot;</td><td>&quot;0&quot;</td><td>&quot;1599.84&quot;</td><td>&quot;1599.84&quot;</td><td>&quot;1&quot;</td><td>&quot;-0.0023&quot;</td><td>&quot;-0.00039996&quot;</td><td>1</td><td>&quot;futures&quot;</td></tr></tbody></table></div>"
      ],
      "text/plain": [
       "shape: (2, 22)\n",
       "┌─────────┬──────────┬────────────┬────────────┬───┬────────────┬────────────┬───────────┬─────────┐\n",
       "│ symbol  ┆ leverage ┆ timestamp  ┆ current_fe ┆ … ┆ unrealized ┆ realized_v ┆ position_ ┆ account │\n",
       "│ ---     ┆ ---      ┆ ---        ┆ e          ┆   ┆ _value     ┆ alue       ┆ type      ┆ ---     │\n",
       "│ str     ┆ str      ┆ i64        ┆ ---        ┆   ┆ ---        ┆ ---        ┆ ---       ┆ str     │\n",
       "│         ┆          ┆            ┆ str        ┆   ┆ str        ┆ str        ┆ i64       ┆         │\n",
       "╞═════════╪══════════╪════════════╪════════════╪═══╪════════════╪════════════╪═══════════╪═════════╡\n",
       "│ ETHUSDT ┆ 50       ┆ 1744893819 ┆ 0.0000091  ┆ … ┆ 0.00236    ┆ -0.0003999 ┆ 2         ┆ futures │\n",
       "│         ┆          ┆ 059        ┆            ┆   ┆            ┆ 75         ┆           ┆         │\n",
       "│ ETHUSDT ┆ 50       ┆ 1744893819 ┆ 0.0000091  ┆ … ┆ -0.0023    ┆ -0.0003999 ┆ 1         ┆ futures │\n",
       "│         ┆          ┆ 059        ┆            ┆   ┆            ┆ 6          ┆           ┆         │\n",
       "└─────────┴──────────┴────────────┴────────────┴───┴────────────┴────────────┴───────────┴─────────┘"
      ]
     },
     "execution_count": 25,
     "metadata": {},
     "output_type": "execute_result"
    }
   ],
   "source": [
    "await client.get_contract_position(product_symbol=\"ETH-USDT-SWAP\")"
   ]
  },
  {
   "cell_type": "code",
   "execution_count": null,
   "metadata": {},
   "outputs": [
    {
     "data": {
      "text/html": [
       "<div><style>\n",
       ".dataframe > thead > tr,\n",
       ".dataframe > tbody > tr {\n",
       "  text-align: right;\n",
       "  white-space: pre-wrap;\n",
       "}\n",
       "</style>\n",
       "<small>shape: (4, 12)</small><table border=\"1\" class=\"dataframe\"><thead><tr><th>order_id</th><th>trade_id</th><th>symbol</th><th>side</th><th>price</th><th>vol</th><th>exec_type</th><th>profit</th><th>create_time</th><th>realised_profit</th><th>paid_fees</th><th>account</th></tr><tr><td>str</td><td>str</td><td>str</td><td>i64</td><td>str</td><td>str</td><td>str</td><td>bool</td><td>i64</td><td>str</td><td>str</td><td>str</td></tr></thead><tbody><tr><td>&quot;3000115472045185&quot;</td><td>&quot;3000000322954274&quot;</td><td>&quot;ETHUSDT&quot;</td><td>4</td><td>&quot;1599.9&quot;</td><td>&quot;1&quot;</td><td>&quot;Taker&quot;</td><td>false</td><td>1744892990788</td><td>&quot;0&quot;</td><td>&quot;0.000399975&quot;</td><td>&quot;futures&quot;</td></tr><tr><td>&quot;3000115472045174&quot;</td><td>&quot;3000000322954241&quot;</td><td>&quot;ETHUSDT&quot;</td><td>2</td><td>&quot;1600.02&quot;</td><td>&quot;1&quot;</td><td>&quot;Taker&quot;</td><td>false</td><td>1744892988616</td><td>&quot;-0.0002&quot;</td><td>&quot;0.000400005&quot;</td><td>&quot;futures&quot;</td></tr><tr><td>&quot;3000115472045106&quot;</td><td>&quot;3000000322953962&quot;</td><td>&quot;ETHUSDT&quot;</td><td>4</td><td>&quot;1599.82&quot;</td><td>&quot;1&quot;</td><td>&quot;Taker&quot;</td><td>false</td><td>1744892970498</td><td>&quot;0&quot;</td><td>&quot;0.000399955&quot;</td><td>&quot;futures&quot;</td></tr><tr><td>&quot;3000115480044163&quot;</td><td>&quot;3000000322953845&quot;</td><td>&quot;ETHUSDT&quot;</td><td>1</td><td>&quot;1599.84&quot;</td><td>&quot;1&quot;</td><td>&quot;Taker&quot;</td><td>false</td><td>1744892962946</td><td>&quot;0&quot;</td><td>&quot;0.00039996&quot;</td><td>&quot;futures&quot;</td></tr></tbody></table></div>"
      ],
      "text/plain": [
       "shape: (4, 12)\n",
       "┌─────────────┬─────────────┬─────────┬──────┬───┬─────────────┬────────────┬────────────┬─────────┐\n",
       "│ order_id    ┆ trade_id    ┆ symbol  ┆ side ┆ … ┆ create_time ┆ realised_p ┆ paid_fees  ┆ account │\n",
       "│ ---         ┆ ---         ┆ ---     ┆ ---  ┆   ┆ ---         ┆ rofit      ┆ ---        ┆ ---     │\n",
       "│ str         ┆ str         ┆ str     ┆ i64  ┆   ┆ i64         ┆ ---        ┆ str        ┆ str     │\n",
       "│             ┆             ┆         ┆      ┆   ┆             ┆ str        ┆            ┆         │\n",
       "╞═════════════╪═════════════╪═════════╪══════╪═══╪═════════════╪════════════╪════════════╪═════════╡\n",
       "│ 30001154720 ┆ 30000003229 ┆ ETHUSDT ┆ 4    ┆ … ┆ 17448929907 ┆ 0          ┆ 0.00039997 ┆ futures │\n",
       "│ 45185       ┆ 54274       ┆         ┆      ┆   ┆ 88          ┆            ┆ 5          ┆         │\n",
       "│ 30001154720 ┆ 30000003229 ┆ ETHUSDT ┆ 2    ┆ … ┆ 17448929886 ┆ -0.0002    ┆ 0.00040000 ┆ futures │\n",
       "│ 45174       ┆ 54241       ┆         ┆      ┆   ┆ 16          ┆            ┆ 5          ┆         │\n",
       "│ 30001154720 ┆ 30000003229 ┆ ETHUSDT ┆ 4    ┆ … ┆ 17448929704 ┆ 0          ┆ 0.00039995 ┆ futures │\n",
       "│ 45106       ┆ 53962       ┆         ┆      ┆   ┆ 98          ┆            ┆ 5          ┆         │\n",
       "│ 30001154800 ┆ 30000003229 ┆ ETHUSDT ┆ 1    ┆ … ┆ 17448929629 ┆ 0          ┆ 0.00039996 ┆ futures │\n",
       "│ 44163       ┆ 53845       ┆         ┆      ┆   ┆ 46          ┆            ┆            ┆         │\n",
       "└─────────────┴─────────────┴─────────┴──────┴───┴─────────────┴────────────┴────────────┴─────────┘"
      ]
     },
     "execution_count": 26,
     "metadata": {},
     "output_type": "execute_result"
    }
   ],
   "source": [
    "await client.get_contract_trade(product_symbol=\"ETH-USDT-SWAP\")"
   ]
  },
  {
   "cell_type": "code",
   "execution_count": null,
   "metadata": {},
   "outputs": [
    {
     "data": {
      "text/html": [
       "<div><style>\n",
       ".dataframe > thead > tr,\n",
       ".dataframe > tbody > tr {\n",
       "  text-align: right;\n",
       "  white-space: pre-wrap;\n",
       "}\n",
       "</style>\n",
       "<small>shape: (6, 8)</small><table border=\"1\" class=\"dataframe\"><thead><tr><th>time</th><th>type</th><th>amount</th><th>asset</th><th>symbol</th><th>tran_id</th><th>flow_type</th><th>account</th></tr><tr><td>str</td><td>str</td><td>str</td><td>str</td><td>str</td><td>str</td><td>i64</td><td>str</td></tr></thead><tbody><tr><td>&quot;1744892990788&quot;</td><td>&quot;Commission Fee&quot;</td><td>&quot;-0.00039997&quot;</td><td>&quot;USDT&quot;</td><td>&quot;ETHUSDT&quot;</td><td>&quot;1039460&quot;</td><td>4</td><td>&quot;futures&quot;</td></tr><tr><td>&quot;1744892988616&quot;</td><td>&quot;Realized PNL&quot;</td><td>&quot;-0.0002&quot;</td><td>&quot;USDT&quot;</td><td>&quot;ETHUSDT&quot;</td><td>&quot;1039459&quot;</td><td>2</td><td>&quot;futures&quot;</td></tr><tr><td>&quot;1744892988616&quot;</td><td>&quot;Commission Fee&quot;</td><td>&quot;-0.0004&quot;</td><td>&quot;USDT&quot;</td><td>&quot;ETHUSDT&quot;</td><td>&quot;1039459&quot;</td><td>4</td><td>&quot;futures&quot;</td></tr><tr><td>&quot;1744892970498&quot;</td><td>&quot;Commission Fee&quot;</td><td>&quot;-0.00039995&quot;</td><td>&quot;USDT&quot;</td><td>&quot;ETHUSDT&quot;</td><td>&quot;1039458&quot;</td><td>4</td><td>&quot;futures&quot;</td></tr><tr><td>&quot;1744892962946&quot;</td><td>&quot;Commission Fee&quot;</td><td>&quot;-0.00039996&quot;</td><td>&quot;USDT&quot;</td><td>&quot;ETHUSDT&quot;</td><td>&quot;1039457&quot;</td><td>4</td><td>&quot;futures&quot;</td></tr><tr><td>&quot;1744823922895&quot;</td><td>&quot;Transfer&quot;</td><td>&quot;10&quot;</td><td>&quot;USDT&quot;</td><td>&quot;&quot;</td><td>&quot;948029&quot;</td><td>1</td><td>&quot;futures&quot;</td></tr></tbody></table></div>"
      ],
      "text/plain": [
       "shape: (6, 8)\n",
       "┌───────────────┬────────────────┬─────────────┬───────┬─────────┬─────────┬───────────┬─────────┐\n",
       "│ time          ┆ type           ┆ amount      ┆ asset ┆ symbol  ┆ tran_id ┆ flow_type ┆ account │\n",
       "│ ---           ┆ ---            ┆ ---         ┆ ---   ┆ ---     ┆ ---     ┆ ---       ┆ ---     │\n",
       "│ str           ┆ str            ┆ str         ┆ str   ┆ str     ┆ str     ┆ i64       ┆ str     │\n",
       "╞═══════════════╪════════════════╪═════════════╪═══════╪═════════╪═════════╪═══════════╪═════════╡\n",
       "│ 1744892990788 ┆ Commission Fee ┆ -0.00039997 ┆ USDT  ┆ ETHUSDT ┆ 1039460 ┆ 4         ┆ futures │\n",
       "│ 1744892988616 ┆ Realized PNL   ┆ -0.0002     ┆ USDT  ┆ ETHUSDT ┆ 1039459 ┆ 2         ┆ futures │\n",
       "│ 1744892988616 ┆ Commission Fee ┆ -0.0004     ┆ USDT  ┆ ETHUSDT ┆ 1039459 ┆ 4         ┆ futures │\n",
       "│ 1744892970498 ┆ Commission Fee ┆ -0.00039995 ┆ USDT  ┆ ETHUSDT ┆ 1039458 ┆ 4         ┆ futures │\n",
       "│ 1744892962946 ┆ Commission Fee ┆ -0.00039996 ┆ USDT  ┆ ETHUSDT ┆ 1039457 ┆ 4         ┆ futures │\n",
       "│ 1744823922895 ┆ Transfer       ┆ 10          ┆ USDT  ┆         ┆ 948029  ┆ 1         ┆ futures │\n",
       "└───────────────┴────────────────┴─────────────┴───────┴─────────┴─────────┴───────────┴─────────┘"
      ]
     },
     "execution_count": 27,
     "metadata": {},
     "output_type": "execute_result"
    }
   ],
   "source": [
    "await client.get_contract_transaction_history(product_symbol=\"ETH-USDT-SWAP\")"
   ]
  },
  {
   "cell_type": "code",
   "execution_count": 4,
   "metadata": {},
   "outputs": [
    {
     "data": {
      "text/html": [
       "<div><style>\n",
       ".dataframe > thead > tr,\n",
       ".dataframe > tbody > tr {\n",
       "  text-align: right;\n",
       "  white-space: pre-wrap;\n",
       "}\n",
       "</style>\n",
       "<small>shape: (10, 6)</small><table border=\"1\" class=\"dataframe\"><thead><tr><th>transfer_id</th><th>currency</th><th>amount</th><th>type</th><th>state</th><th>timestamp</th></tr><tr><td>str</td><td>str</td><td>str</td><td>str</td><td>str</td><td>i64</td></tr></thead><tbody><tr><td>&quot;1110053831120220160&quot;</td><td>&quot;USDT&quot;</td><td>&quot;10&quot;</td><td>&quot;spot_to_contract&quot;</td><td>&quot;FINISHED&quot;</td><td>1744823922772</td></tr><tr><td>&quot;1106420578823925760&quot;</td><td>&quot;USDT&quot;</td><td>&quot;55.64&quot;</td><td>&quot;contract_to_spot&quot;</td><td>&quot;FINISHED&quot;</td><td>1743957687922</td></tr><tr><td>&quot;1102755032903413760&quot;</td><td>&quot;USDT&quot;</td><td>&quot;36.37&quot;</td><td>&quot;spot_to_contract&quot;</td><td>&quot;FINISHED&quot;</td><td>1743083753672</td></tr><tr><td>&quot;1102431185264144384&quot;</td><td>&quot;USDT&quot;</td><td>&quot;40&quot;</td><td>&quot;spot_to_contract&quot;</td><td>&quot;FINISHED&quot;</td><td>1743006542378</td></tr><tr><td>&quot;1102427213405057024&quot;</td><td>&quot;USDT&quot;</td><td>&quot;31.8&quot;</td><td>&quot;contract_to_spot&quot;</td><td>&quot;FINISHED&quot;</td><td>1743005595413</td></tr><tr><td>&quot;1100497346342121472&quot;</td><td>&quot;USDT&quot;</td><td>&quot;41.38&quot;</td><td>&quot;spot_to_contract&quot;</td><td>&quot;FINISHED&quot;</td><td>1742545479250</td></tr><tr><td>&quot;1095295712402042880&quot;</td><td>&quot;USDT&quot;</td><td>&quot;27.48&quot;</td><td>&quot;contract_to_spot&quot;</td><td>&quot;FINISHED&quot;</td><td>1741305313077</td></tr><tr><td>&quot;1095295574476550144&quot;</td><td>&quot;USDT&quot;</td><td>&quot;7.31&quot;</td><td>&quot;spot_to_contract&quot;</td><td>&quot;FINISHED&quot;</td><td>1741305280193</td></tr><tr><td>&quot;1091900523218169856&quot;</td><td>&quot;USDT&quot;</td><td>&quot;2.11&quot;</td><td>&quot;contract_to_spot&quot;</td><td>&quot;FINISHED&quot;</td><td>1740495836896</td></tr><tr><td>&quot;1091900341483171840&quot;</td><td>&quot;USDT&quot;</td><td>&quot;5&quot;</td><td>&quot;contract_to_spot&quot;</td><td>&quot;FINISHED&quot;</td><td>1740495793567</td></tr></tbody></table></div>"
      ],
      "text/plain": [
       "shape: (10, 6)\n",
       "┌─────────────────────┬──────────┬────────┬──────────────────┬──────────┬───────────────┐\n",
       "│ transfer_id         ┆ currency ┆ amount ┆ type             ┆ state    ┆ timestamp     │\n",
       "│ ---                 ┆ ---      ┆ ---    ┆ ---              ┆ ---      ┆ ---           │\n",
       "│ str                 ┆ str      ┆ str    ┆ str              ┆ str      ┆ i64           │\n",
       "╞═════════════════════╪══════════╪════════╪══════════════════╪══════════╪═══════════════╡\n",
       "│ 1110053831120220160 ┆ USDT     ┆ 10     ┆ spot_to_contract ┆ FINISHED ┆ 1744823922772 │\n",
       "│ 1106420578823925760 ┆ USDT     ┆ 55.64  ┆ contract_to_spot ┆ FINISHED ┆ 1743957687922 │\n",
       "│ 1102755032903413760 ┆ USDT     ┆ 36.37  ┆ spot_to_contract ┆ FINISHED ┆ 1743083753672 │\n",
       "│ 1102431185264144384 ┆ USDT     ┆ 40     ┆ spot_to_contract ┆ FINISHED ┆ 1743006542378 │\n",
       "│ 1102427213405057024 ┆ USDT     ┆ 31.8   ┆ contract_to_spot ┆ FINISHED ┆ 1743005595413 │\n",
       "│ 1100497346342121472 ┆ USDT     ┆ 41.38  ┆ spot_to_contract ┆ FINISHED ┆ 1742545479250 │\n",
       "│ 1095295712402042880 ┆ USDT     ┆ 27.48  ┆ contract_to_spot ┆ FINISHED ┆ 1741305313077 │\n",
       "│ 1095295574476550144 ┆ USDT     ┆ 7.31   ┆ spot_to_contract ┆ FINISHED ┆ 1741305280193 │\n",
       "│ 1091900523218169856 ┆ USDT     ┆ 2.11   ┆ contract_to_spot ┆ FINISHED ┆ 1740495836896 │\n",
       "│ 1091900341483171840 ┆ USDT     ┆ 5      ┆ contract_to_spot ┆ FINISHED ┆ 1740495793567 │\n",
       "└─────────────────────┴──────────┴────────┴──────────────────┴──────────┴───────────────┘"
      ]
     },
     "execution_count": 4,
     "metadata": {},
     "output_type": "execute_result"
    }
   ],
   "source": [
    "await client.get_contract_transfer_list(page=1, limit=10)"
   ]
  }
 ],
 "metadata": {
  "kernelspec": {
   "display_name": ".venv",
   "language": "python",
   "name": "python3"
  },
  "language_info": {
   "codemirror_mode": {
    "name": "ipython",
    "version": 3
   },
   "file_extension": ".py",
   "mimetype": "text/x-python",
   "name": "python",
   "nbconvert_exporter": "python",
   "pygments_lexer": "ipython3",
   "version": "3.11.11"
  }
 },
 "nbformat": 4,
 "nbformat_minor": 2
}
