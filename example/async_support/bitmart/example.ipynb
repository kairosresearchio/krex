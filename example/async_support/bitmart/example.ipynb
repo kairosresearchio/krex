{
 "cells": [
  {
   "cell_type": "code",
   "execution_count": null,
   "metadata": {},
   "outputs": [],
   "source": [
    "import nest_asyncio\n",
    "from krex.async_support.bitmart.client import Client\n",
    "\n",
    "nest_asyncio.apply()"
   ]
  },
  {
   "cell_type": "code",
   "execution_count": 3,
   "metadata": {},
   "outputs": [],
   "source": [
    "BITMART_API_KEY = \"613c8332848ff6b83aa915ae6270f2e842901036\"\n",
    "BITMART_API_SECRET = \"66b82353bfee263185b36bdcaa244ee805c68aa87fd593addcd5124ff334ea3f\"\n",
    "MEMO = \"trade\""
   ]
  },
  {
   "cell_type": "code",
   "execution_count": 4,
   "metadata": {},
   "outputs": [],
   "source": [
    "client = await Client(\n",
    "    api_key=BITMART_API_KEY,\n",
    "    api_secret=BITMART_API_SECRET,\n",
    "    memo=MEMO,\n",
    ").__aenter__()"
   ]
  },
  {
   "cell_type": "markdown",
   "metadata": {},
   "source": [
    "# Market"
   ]
  },
  {
   "cell_type": "code",
   "execution_count": 16,
   "metadata": {},
   "outputs": [
    {
     "name": "stdout",
     "output_type": "stream",
     "text": [
      "              id            name  withdraw_enabled  deposit_enabled\n",
      "0            BTC         Bitcoin              True             True\n",
      "1            ETH        Ethereum              True             True\n",
      "2           USDT      Tether USD              True             True\n",
      "3            BMX   BitMart Token              True             True\n",
      "4            XLM         Stellar              True             True\n",
      "...          ...             ...               ...              ...\n",
      "3533      KERNEL       KernelDAO              True             True\n",
      "3534         WCT  WallectConnect             False             True\n",
      "3535  $$MEMECOIN        Memecoin             False             True\n",
      "3536         MAK          Masked             False             True\n",
      "3537        TPUP        TrendPup             False             True\n",
      "\n",
      "[3538 rows x 4 columns]\n"
     ]
    }
   ],
   "source": [
    "res = await client.get_spot_currencies()\n",
    "print(res)"
   ]
  },
  {
   "cell_type": "code",
   "execution_count": 17,
   "metadata": {},
   "outputs": [
    {
     "name": "stdout",
     "output_type": "stream",
     "text": [
      "           symbols\n",
      "0        $NUT_USDT\n",
      "1        ORNJ_USDT\n",
      "2     TUBEUSD_USDT\n",
      "3         OGN_USDT\n",
      "4         QNT_USDT\n",
      "...            ...\n",
      "1364       ETH_BTC\n",
      "1365    AIXBT_USDT\n",
      "1366    HYPER_USDT\n",
      "1367  WAFFLES_USDT\n",
      "1368       ET_USDT\n",
      "\n",
      "[1369 rows x 1 columns]\n"
     ]
    }
   ],
   "source": [
    "res = await client.get_trading_pairs()\n",
    "print(res)"
   ]
  },
  {
   "cell_type": "code",
   "execution_count": 18,
   "metadata": {},
   "outputs": [
    {
     "name": "stdout",
     "output_type": "stream",
     "text": [
      "            symbol  symbol_id base_currency quote_currency quote_increment  \\\n",
      "0        $NUT_USDT       5443          $NUT           USDT               1   \n",
      "1        ORNJ_USDT       3967          ORNJ           USDT            0.01   \n",
      "2     TUBEUSD_USDT       4889       TUBEUSD           USDT            0.01   \n",
      "3         OGN_USDT       3229           OGN           USDT             0.1   \n",
      "4         HAM_USDT       3103           HAM           USDT               1   \n",
      "...            ...        ...           ...            ...             ...   \n",
      "1642    AIXBT_USDT       5067         AIXBT           USDT             0.1   \n",
      "1643    HYPER_USDT       2900         HYPER           USDT            0.01   \n",
      "1644  WAFFLES_USDT       4659       WAFFLES           USDT            0.01   \n",
      "1645      WIN_USDT       2768           WIN           USDT               1   \n",
      "1646       ET_USDT       5497            ET           USDT           0.001   \n",
      "\n",
      "     base_min_size  price_min_precision  price_max_precision expiration  \\\n",
      "0                1                    1                    4         NA   \n",
      "1             0.01                    2                    5         NA   \n",
      "2             0.01                    2                    5         NA   \n",
      "3              0.1                    1                    4         NA   \n",
      "4                1                    9                   12         NA   \n",
      "...            ...                  ...                  ...        ...   \n",
      "1642           0.1                    1                    4         NA   \n",
      "1643          0.01                    4                    7         NA   \n",
      "1644          0.01                    2                    5         NA   \n",
      "1645             1                    5                    8         NA   \n",
      "1646         0.001                    3                    6         NA   \n",
      "\n",
      "                        min_buy_amount                   min_sell_amount  \\\n",
      "0     5.000000000000000000000000000000  5.000000000000000000000000000000   \n",
      "1     5.000000000000000000000000000000  5.000000000000000000000000000000   \n",
      "2     5.000000000000000000000000000000  5.000000000000000000000000000000   \n",
      "3     5.000000000000000000000000000000  5.000000000000000000000000000000   \n",
      "4     5.000000000000000000000000000000  5.000000000000000000000000000000   \n",
      "...                                ...                               ...   \n",
      "1642  5.000000000000000000000000000000  5.000000000000000000000000000000   \n",
      "1643  5.000000000000000000000000000000  5.000000000000000000000000000000   \n",
      "1644  5.000000000000000000000000000000  5.000000000000000000000000000000   \n",
      "1645  5.000000000000000000000000000000  5.000000000000000000000000000000   \n",
      "1646  5.000000000000000000000000000000  5.000000000000000000000000000000   \n",
      "\n",
      "     trade_status  \n",
      "0         trading  \n",
      "1         trading  \n",
      "2         trading  \n",
      "3         trading  \n",
      "4         trading  \n",
      "...           ...  \n",
      "1642      trading  \n",
      "1643      trading  \n",
      "1644      trading  \n",
      "1645      trading  \n",
      "1646      trading  \n",
      "\n",
      "[1647 rows x 12 columns]\n"
     ]
    }
   ],
   "source": [
    "res = await client.get_trading_pairs_details()\n",
    "print(res)"
   ]
  },
  {
   "cell_type": "code",
   "execution_count": 19,
   "metadata": {},
   "outputs": [
    {
     "name": "stdout",
     "output_type": "stream",
     "text": [
      "               0         1           2             3         4         5   \\\n",
      "0        AGC_USDT     0.005   3650183.8     14674.368     0.004     0.005   \n",
      "1       AEVO_USDT     0.090    468175.0     41841.118     0.091     0.093   \n",
      "2     SEIYAN_USDT   0.00193  1246388.90    2432.66614   0.00196   0.00201   \n",
      "3       WREC_USDT  0.722803     51186.4  37016.784990  0.720905  0.727463   \n",
      "4       CTXC_USDT    0.0612  10122799.8   630645.4324    0.0676    0.0678   \n",
      "...           ...       ...         ...           ...       ...       ...   \n",
      "1240    NUUM_USDT    0.0053     4169.80       22.1000    0.0100    0.0100   \n",
      "1241    BTCF_USDT    0.0998   118982.00    11898.8992    0.1006    0.1007   \n",
      "1242    VOYA_USDT     0.019   3223305.8     62573.542     0.020     0.020   \n",
      "1243     DBD_USDT  0.000964    18747156  17860.766328  0.000958  0.000966   \n",
      "1244   BRETT_USDT   0.03791   8214734.4  297987.03835   0.03491   0.03901   \n",
      "\n",
      "            6         7         8         9         10        11  \\\n",
      "0        0.004   0.25000     0.003   10059.7     0.006    4139.9   \n",
      "1        0.088  -0.01099      0.09  122295.8     0.091   54287.7   \n",
      "2      0.00191  -0.01531   0.00193  11786.26   0.00194  23004.06   \n",
      "3     0.720013   0.00263  0.720012      12.1  0.727464      30.2   \n",
      "4       0.0563  -0.09467    0.0606     808.5    0.0627     105.9   \n",
      "...        ...       ...       ...       ...       ...       ...   \n",
      "1240    0.0053  -0.47000    0.0049   1042.45    0.0052   3664.11   \n",
      "1241    0.0947  -0.00795    0.0947     28.92     0.101    352.11   \n",
      "1242     0.019  -0.05000     0.019     989.8     0.021     279.4   \n",
      "1243  0.000940   0.00626  0.000959      5215  0.000967      9030   \n",
      "1244   0.03372   0.08594   0.03778   16095.2   0.03808   15680.1   \n",
      "\n",
      "                 12  \n",
      "0     1744723982823  \n",
      "1     1744724005756  \n",
      "2     1744724003824  \n",
      "3     1744723990501  \n",
      "4     1744724005824  \n",
      "...             ...  \n",
      "1240  1744723977502  \n",
      "1241  1744724000496  \n",
      "1242  1744723975935  \n",
      "1243  1744724005497  \n",
      "1244  1744724005733  \n",
      "\n",
      "[1245 rows x 13 columns]\n"
     ]
    }
   ],
   "source": [
    "res = await client.get_ticker_of_all_pairs()\n",
    "print(res)"
   ]
  },
  {
   "cell_type": "code",
   "execution_count": 20,
   "metadata": {},
   "outputs": [
    {
     "name": "stdout",
     "output_type": "stream",
     "text": [
      "     symbol      last       v_24h        qv_24h  open_24h  high_24h   low_24h  \\\n",
      "0  BTC_USDT  85875.11  6508.03792  553853764.06  84488.00  85999.99  83726.05   \n",
      "\n",
      "  fluctuation    bid_px   bid_sz    ask_px   ask_sz             ts  \n",
      "0     0.01642  85883.32  0.02497  85883.34  0.03484  1744724020035  \n"
     ]
    }
   ],
   "source": [
    "res = await client.get_ticker_of_a_pair(product_symbol=\"BTC-USDT-SPOT\")\n",
    "print(res)"
   ]
  },
  {
   "cell_type": "code",
   "execution_count": 21,
   "metadata": {},
   "outputs": [
    {
     "name": "stdout",
     "output_type": "stream",
     "text": [
      "   side    price  amount  cum_amount\n",
      "0   ask  85834.2    82.0        82.0\n",
      "1   ask  85835.8    79.0       161.0\n",
      "2   ask  85835.9    73.0       234.0\n",
      "3   ask  85836.0   182.0       416.0\n",
      "4   ask  85836.1    97.0       513.0\n",
      "..  ...      ...     ...         ...\n",
      "95  bid  85517.7  5812.0     89272.0\n",
      "96  bid  85514.8  5847.0     95119.0\n",
      "97  bid  85509.5  3962.0     99081.0\n",
      "98  bid  85489.5  4231.0    103312.0\n",
      "99  bid  85488.8  5660.0    108972.0\n",
      "\n",
      "[100 rows x 4 columns]\n"
     ]
    }
   ],
   "source": [
    "res = await client.get_depth(product_symbol=\"BTC-USDT-SWAP\")\n",
    "print(res)"
   ]
  },
  {
   "cell_type": "code",
   "execution_count": 22,
   "metadata": {},
   "outputs": [
    {
     "name": "stdout",
     "output_type": "stream",
     "text": [
      "                         open      high       low     close    volume  \\\n",
      "datetime                                                                \n",
      "2025-04-15 05:15:00  85664.86  85697.55  85659.49  85694.43   2.70313   \n",
      "2025-04-15 05:20:00  85694.43  85739.05  85638.11  85709.89  14.84018   \n",
      "2025-04-15 05:25:00  85701.08  85701.09  85560.74  85560.74  22.15630   \n",
      "2025-04-15 05:30:00  85560.74  85600.32  85529.41  85582.15  22.14091   \n",
      "2025-04-15 05:35:00  85574.06  85879.09  85574.06  85811.63  14.66098   \n",
      "...                       ...       ...       ...       ...       ...   \n",
      "2025-04-15 13:10:00  85718.48  85825.91  85718.48  85794.34   5.75646   \n",
      "2025-04-15 13:15:00  85794.34  85799.80  85695.65  85705.99   3.19944   \n",
      "2025-04-15 13:20:00  85710.74  85745.28  85608.20  85608.20   3.96054   \n",
      "2025-04-15 13:25:00  85608.21  85839.62  85605.19  85839.62   2.74985   \n",
      "2025-04-15 13:30:00  85852.48  85891.75  85595.52  85880.47  17.25400   \n",
      "\n",
      "                    quote_volume  \n",
      "datetime                          \n",
      "2025-04-15 05:15:00    231616.08  \n",
      "2025-04-15 05:20:00   1272026.56  \n",
      "2025-04-15 05:25:00   1897373.13  \n",
      "2025-04-15 05:30:00   1894597.29  \n",
      "2025-04-15 05:35:00   1257537.99  \n",
      "...                          ...  \n",
      "2025-04-15 13:10:00    493941.18  \n",
      "2025-04-15 13:15:00    274310.61  \n",
      "2025-04-15 13:20:00    339298.83  \n",
      "2025-04-15 13:25:00    235683.52  \n",
      "2025-04-15 13:30:00   1480421.37  \n",
      "\n",
      "[100 rows x 6 columns]\n"
     ]
    }
   ],
   "source": [
    "res = await client.get_spot_kline(\"BTC-USDT-SPOT\", \"5m\")\n",
    "print(res)"
   ]
  },
  {
   "cell_type": "code",
   "execution_count": 23,
   "metadata": {},
   "outputs": [
    {
     "name": "stdout",
     "output_type": "stream",
     "text": [
      "                         low     high     open    close   volume\n",
      "datetime                                                        \n",
      "2025-04-14 13:35:00    84480  84729.3  84675.7    84601   803842\n",
      "2025-04-14 13:40:00  84250.1  84642.5  84600.4  84376.1  1290586\n",
      "2025-04-14 13:45:00  84029.4  84496.6    84376    84345  1549558\n",
      "2025-04-14 13:50:00  84286.4  84629.8  84345.2  84602.9  1019416\n",
      "2025-04-14 13:55:00  84331.9  84602.6  84602.6  84345.2   442378\n",
      "...                      ...      ...      ...      ...      ...\n",
      "2025-04-15 13:10:00  85687.1  85789.9  85687.1  85754.9   204168\n",
      "2025-04-15 13:15:00  85649.9  85777.2  85754.9  85666.9   141206\n",
      "2025-04-15 13:20:00  85565.7  85714.2  85666.9  85569.2   153200\n",
      "2025-04-15 13:25:00  85563.2  85813.3  85569.2  85809.5   224284\n",
      "2025-04-15 13:30:00  85563.4  85865.4  85809.6    85758   562630\n",
      "\n",
      "[288 rows x 5 columns]\n"
     ]
    }
   ],
   "source": [
    "from datetime import datetime, timedelta\n",
    "\n",
    "\n",
    "res = await client.get_contract_kline(\n",
    "    \"BTC-USDT-SWAP\", \"5m\", int((datetime.now() - timedelta(days=1)).timestamp()), int(datetime.now().timestamp())\n",
    ")\n",
    "print(res)"
   ]
  },
  {
   "cell_type": "code",
   "execution_count": 24,
   "metadata": {},
   "outputs": [
    {
     "name": "stdout",
     "output_type": "stream",
     "text": [
      "    symbol expected_rate rate_value   funding_time funding_upper_limit  \\\n",
      "0  BTCUSDT     0.0000844  0.0000843  1744732800000              0.0375   \n",
      "\n",
      "  funding_lower_limit      timestamp  \n",
      "0             -0.0375  1744724062950  \n"
     ]
    }
   ],
   "source": [
    "res = await client.get_current_funding_rate(\"BTC-USDT-SWAP\")\n",
    "print(res)"
   ]
  },
  {
   "cell_type": "code",
   "execution_count": 25,
   "metadata": {},
   "outputs": [
    {
     "name": "stdout",
     "output_type": "stream",
     "text": [
      "                                                 list\n",
      "0   {'symbol': 'BTCUSDT', 'funding_rate': '0.00011...\n",
      "1   {'symbol': 'BTCUSDT', 'funding_rate': '0.00002...\n",
      "2   {'symbol': 'BTCUSDT', 'funding_rate': '0.00007...\n",
      "3   {'symbol': 'BTCUSDT', 'funding_rate': '0.00010...\n",
      "4   {'symbol': 'BTCUSDT', 'funding_rate': '0.00012...\n",
      "..                                                ...\n",
      "95  {'symbol': 'BTCUSDT', 'funding_rate': '0.00007...\n",
      "96  {'symbol': 'BTCUSDT', 'funding_rate': '0.00007...\n",
      "97  {'symbol': 'BTCUSDT', 'funding_rate': '0.00003...\n",
      "98  {'symbol': 'BTCUSDT', 'funding_rate': '0.00001...\n",
      "99  {'symbol': 'BTCUSDT', 'funding_rate': '-0.0000...\n",
      "\n",
      "[100 rows x 1 columns]\n"
     ]
    }
   ],
   "source": [
    "res = await client.get_funding_rate_history(\n",
    "    \"BTC-USDT-SWAP\",\n",
    ")\n",
    "print(res)"
   ]
  },
  {
   "cell_type": "markdown",
   "metadata": {},
   "source": [
    "# Account"
   ]
  },
  {
   "cell_type": "code",
   "execution_count": 8,
   "metadata": {},
   "outputs": [
    {
     "name": "stdout",
     "output_type": "stream",
     "text": [
      "Empty DataFrame\n",
      "Columns: []\n",
      "Index: []\n"
     ]
    }
   ],
   "source": [
    "res = await client.get_account_balance()\n",
    "print(res)"
   ]
  },
  {
   "cell_type": "code",
   "execution_count": 9,
   "metadata": {},
   "outputs": [
    {
     "name": "stdout",
     "output_type": "stream",
     "text": [
      "            currency                     name  \\\n",
      "0                BTC                  Bitcoin   \n",
      "1                ETH                 Ethereum   \n",
      "2                BMX            BitMart Token   \n",
      "3                XLM                  Stellar   \n",
      "4                EOS                   Vaulta   \n",
      "...              ...                      ...   \n",
      "3731      KERNEL-ETH            KernelDAO-ETH   \n",
      "3732    WCT-OPTIMISM  WallectConnect-OPTIMISM   \n",
      "3733  $$MEMECOIN-SOL             Memecoin-SOL   \n",
      "3734    MAK-BASE-ETH          Masked-BASE-ETH   \n",
      "3735   TPUP-BASE-ETH        TrendPup-BASE-ETH   \n",
      "\n",
      "                                  contract_address   network  \\\n",
      "0                                             None       BTC   \n",
      "1                                             None       ETH   \n",
      "2       0x986ee2b944c42d017f52af21c4c69b84dbea35d8       ETH   \n",
      "3                                             None       XLM   \n",
      "4                                      eosio.token       EOS   \n",
      "...                                            ...       ...   \n",
      "3731    0x3f80B1c54Ae920Be41a77f8B902259D48cf24cCf       ETH   \n",
      "3732    0xeF4461891DfB3AC8572cCf7C794664A8DD927945  OPTIMISM   \n",
      "3733  5HV956n7UQT1XdJzv43fHPocest5YAmi9ipsuiJx7zt7       SOL   \n",
      "3734    0xDB627d81Ab31A5924ea7B19D91cCdcC9ed243319  BASE-ETH   \n",
      "3735    0xAb7Bf87Aa2EabBD31b5cF50930006d90124Ca4C0  BASE-ETH   \n",
      "\n",
      "      withdraw_enabled  deposit_enabled withdraw_minsize recharge_minsize  \\\n",
      "0                 True             True           0.0003       0.00000001   \n",
      "1                 True             True       0.00915973       0.00000001   \n",
      "2                 True             True      66.60746004       0.00000001   \n",
      "3                 True             True               20       0.00000001   \n",
      "4                 True             True                5       0.00000001   \n",
      "...                ...              ...              ...              ...   \n",
      "3731              True             True      53.07855626       0.00000001   \n",
      "3732             False             True       59.9880024       0.00000001   \n",
      "3733             False             True      2753.910553          0.00001   \n",
      "3734             False             True                2       0.00000001   \n",
      "3735             False             True                2       0.00000001   \n",
      "\n",
      "     withdraw_minfee withdraw_fee_estimate withdraw_fee  \n",
      "0               8.57                  8.57       0.0001  \n",
      "1               3.28                  3.28        0.002  \n",
      "2               3.15                  3.15           14  \n",
      "3                  0                     0         0.01  \n",
      "4               0.12                  0.12          0.2  \n",
      "...              ...                   ...          ...  \n",
      "3731             3.1                   3.1           11  \n",
      "3732            2.01                  2.01          6.1  \n",
      "3733               1                     1          115  \n",
      "3734               2                     2          0.2  \n",
      "3735               2                     2          0.2  \n",
      "\n",
      "[3736 rows x 11 columns]\n"
     ]
    }
   ],
   "source": [
    "res = await client.get_account_currencies()\n",
    "print(res)"
   ]
  },
  {
   "cell_type": "code",
   "execution_count": 10,
   "metadata": {},
   "outputs": [
    {
     "name": "stdout",
     "output_type": "stream",
     "text": [
      "     id        name   available      frozen       total\n",
      "0  USDT  Tether USD  0.00000000  0.00000000  0.00000000\n"
     ]
    }
   ],
   "source": [
    "res = await client.get_spot_wallet()\n",
    "print(res)"
   ]
  },
  {
   "cell_type": "code",
   "execution_count": 12,
   "metadata": {},
   "outputs": [
    {
     "name": "stdout",
     "output_type": "stream",
     "text": [
      "  currency    chain                                     address address_memo\n",
      "0      BTC  Bitcoin  bc1qvafndu6l6leu4qg76hqf67xmgrzxst2pc86caq             \n"
     ]
    }
   ],
   "source": [
    "res = await client.get_deposit_address(currency=\"BTC\")\n",
    "print(res)"
   ]
  },
  {
   "cell_type": "code",
   "execution_count": null,
   "metadata": {},
   "outputs": [],
   "source": [
    "res = await client.get_withdraw_charge(currency=\"USDT-TRC20\")  # wrong\n",
    "print(res)"
   ]
  },
  {
   "cell_type": "code",
   "execution_count": 13,
   "metadata": {},
   "outputs": [
    {
     "name": "stdout",
     "output_type": "stream",
     "text": [
      "  withdraw_id deposit_id operation_type      currency     apply_time  \\\n",
      "0    27114161                  withdraw  USDT-BSC_BNB  1743957744000   \n",
      "1    26695771                  withdraw  USDT-BSC_BNB  1741305505000   \n",
      "\n",
      "  arrival_amount fee  status                                     address  \\\n",
      "0    55.64452838   0       3  0x11c2e20c2749393b2e3e74ca30d083ced53b1c70   \n",
      "1    27.48377545   0       3  0x50de72065b56df623c4c78612d835d4e881556c3   \n",
      "\n",
      "  address_memo                                              tx_id  \n",
      "0               0x6e962294543ee2771e19d00c87387a054e0a29b8457c...  \n",
      "1               0x6983e043060829e910f4205d877a51fe71fd78a19660...  \n"
     ]
    }
   ],
   "source": [
    "res = await client.get_deposit_withdraw_history(currency=\"USDT\")\n",
    "print(res)"
   ]
  },
  {
   "cell_type": "code",
   "execution_count": 14,
   "metadata": {},
   "outputs": [
    {
     "name": "stdout",
     "output_type": "stream",
     "text": [
      "  withdraw_id deposit_id operation_type      currency     apply_time  \\\n",
      "0    26695771                  withdraw  USDT-BSC_BNB  1741305505000   \n",
      "\n",
      "  arrival_amount fee  status                                     address  \\\n",
      "0    27.48377545   0       3  0x50de72065b56df623c4c78612d835d4e881556c3   \n",
      "\n",
      "  address_memo                                              tx_id  \n",
      "0               0x6983e043060829e910f4205d877a51fe71fd78a19660...  \n"
     ]
    }
   ],
   "source": [
    "res = await client.get_deposit_withdraw_history_detail(id=\"26695771\")\n",
    "print(res)"
   ]
  },
  {
   "cell_type": "code",
   "execution_count": 15,
   "metadata": {},
   "outputs": [
    {
     "name": "stdout",
     "output_type": "stream",
     "text": [
      "  currency     available_balance frozen_balance unrealized  \\\n",
      "0     USDT  0.006812670895610679              0          0   \n",
      "1      BTC                     0              0          0   \n",
      "2      ETH                     0              0          0   \n",
      "3     USDC                     0              0          0   \n",
      "\n",
      "                 equity position_deposit  \n",
      "0  0.006812670895610679                0  \n",
      "1                     0                0  \n",
      "2                     0                0  \n",
      "3                     0                0  \n"
     ]
    }
   ],
   "source": [
    "res = await client.get_contract_assets()\n",
    "print(res)"
   ]
  },
  {
   "cell_type": "markdown",
   "metadata": {},
   "source": [
    "# Trade"
   ]
  },
  {
   "cell_type": "code",
   "execution_count": 3,
   "metadata": {},
   "outputs": [
    {
     "data": {
      "text/plain": [
       "{'message': 'OK',\n",
       " 'code': 1000,\n",
       " 'trace': '34517101c3244ca581a69b8d0eb23134.62.17430082860253249',\n",
       " 'data': {'order_id': '1006771976834606592'}}"
      ]
     },
     "execution_count": 3,
     "metadata": {},
     "output_type": "execute_result"
    }
   ],
   "source": [
    "client.place_spot_market_buy_order(\"APT-USDT-SPOT\", \"27.71966\")"
   ]
  },
  {
   "cell_type": "code",
   "execution_count": 3,
   "metadata": {},
   "outputs": [
    {
     "name": "stdout",
     "output_type": "stream",
     "text": [
      "0\n"
     ]
    },
    {
     "data": {
      "text/plain": [
       "{'code': 1000,\n",
       " 'message': 'Ok',\n",
       " 'data': {'order_id': 3000099641384381, 'price': 'market price'},\n",
       " 'trace': '1e17720eff0f4ff9b15278e1f42685b4.81.17429253094614952'}"
      ]
     },
     "execution_count": 3,
     "metadata": {},
     "output_type": "execute_result"
    }
   ],
   "source": [
    "client.place_contract_market_buy_order(\n",
    "    \"ETH-USDT-SWAP\",\n",
    "    1,\n",
    ")"
   ]
  },
  {
   "cell_type": "code",
   "execution_count": 4,
   "metadata": {},
   "outputs": [
    {
     "data": {
      "text/plain": [
       "({'code': 1000,\n",
       "  'message': 'Ok',\n",
       "  'data': {'order_id': 3000099637389735, 'price': 'market price'},\n",
       "  'trace': 'b15f261868b540889e57f826e0420621.94.17429253142705155'},\n",
       " {'code': 1000,\n",
       "  'message': 'Ok',\n",
       "  'data': {'order_id': 3000099641384466, 'price': 'market price'},\n",
       "  'trace': '1e17720eff0f4ff9b15278e1f42685b4.91.17429253145187125'})"
      ]
     },
     "execution_count": 4,
     "metadata": {},
     "output_type": "execute_result"
    }
   ],
   "source": [
    "client.place_contract_market_sell_order(\n",
    "    \"ETH-USDT-SWAP\",\n",
    "    2,\n",
    ")"
   ]
  }
 ],
 "metadata": {
  "kernelspec": {
   "display_name": ".venv",
   "language": "python",
   "name": "python3"
  },
  "language_info": {
   "codemirror_mode": {
    "name": "ipython",
    "version": 3
   },
   "file_extension": ".py",
   "mimetype": "text/x-python",
   "name": "python",
   "nbconvert_exporter": "python",
   "pygments_lexer": "ipython3",
   "version": "3.11.10"
  }
 },
 "nbformat": 4,
 "nbformat_minor": 2
}
